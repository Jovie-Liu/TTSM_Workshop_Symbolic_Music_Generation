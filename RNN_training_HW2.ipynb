{
 "cells": [
  {
   "cell_type": "markdown",
   "metadata": {},
   "source": [
    "***\n",
    "*Workshop:* [TTSM (Technology & Thought in Sonic Media) summer school 2023](https://ttsm.link/) - Symbolic Music Data Processing and Generation\n",
    "\n",
    "*Instructor:* Jingwei Liu (Music department, UC San Diego)\n",
    "***\n",
    "\n",
    "# <span style=\"background-color:darkorange; color:white; padding:2px 6px\">Assignment</span> \n",
    "\n",
    "\n",
    "# Symbolic Music Generation by RNN"
   ]
  },
  {
   "cell_type": "markdown",
   "metadata": {},
   "source": [
    "Based on the data processing techniques we developed in the first workshop, in our second workshop, we will use the processed data to train a neural network for music generation. As our input is processed as sequential monophonic pieces, the most suitable neural network model would be autoregressive model, such as RNN.\n",
    "\n",
    "In this assignment you will build your own RNN model by writing the formulas and functions from scratch, instead of applying a pre-built library. This exercise will give you a deeper understanding of the mechanism of neural networks, and also demonstrate how to flexibly design and train neural networks rather than being constrained by the settings of other programmers. Comparing to Assignment 1, the coding tasks are getting difficult, which requires higher skills of programming. This workshop is more engineering oriented, so just have fun and make most out of it. Good luck!"
   ]
  },
  {
   "cell_type": "code",
   "execution_count": 1,
   "metadata": {},
   "outputs": [],
   "source": [
    "import numpy as np\n",
    "import pandas as pd\n",
    "from music21 import *\n",
    "import py_midicsv as pm\n",
    "import random\n",
    "import csv\n",
    "from pathlib import Path\n",
    "import os"
   ]
  },
  {
   "cell_type": "markdown",
   "metadata": {},
   "source": [
    "We use `PyTorch` as our machine learning platform."
   ]
  },
  {
   "cell_type": "code",
   "execution_count": 2,
   "metadata": {},
   "outputs": [
    {
     "data": {
      "text/plain": [
       "True"
      ]
     },
     "execution_count": 2,
     "metadata": {},
     "output_type": "execute_result"
    }
   ],
   "source": [
    "import torch\n",
    "torch.cuda.is_available()"
   ]
  },
  {
   "cell_type": "markdown",
   "metadata": {},
   "source": [
    "*Package introduction*\n",
    "- [PyTorch](https://pytorch.org/docs/stable/index.html) is an optimized tensor library for deep learning using GPUs and CPUs."
   ]
  },
  {
   "cell_type": "code",
   "execution_count": 3,
   "metadata": {},
   "outputs": [],
   "source": [
    "dev = torch.device(\"cuda\") # operate on GPU \"cuda\""
   ]
  },
  {
   "cell_type": "markdown",
   "metadata": {},
   "source": [
    "## Part 1: Statistics of Dataset\n",
    "\n",
    "We pre-processed 10 selected files with uniform key signature (4/4) and BPM (80). The data is encoded as \"Note, Duration, Structure level\". The notes are concatenated sequentially without rest, and the pieces are monophonic, which means there are no chords or simultaneous notes."
   ]
  },
  {
   "cell_type": "code",
   "execution_count": 4,
   "metadata": {},
   "outputs": [
    {
     "name": "stdout",
     "output_type": "stream",
     "text": [
      "cs1-1pre.csv\n",
      "cs1-2all.csv\n",
      "cs2-2all.csv\n",
      "cs3-2all.csv\n",
      "cs3-5bou.csv\n",
      "cs4-1pre_part1.csv\n",
      "cs4-1pre_part2.csv\n",
      "cs4-2all.csv\n",
      "cs4-5bou.csv\n",
      "cs5-2all.csv\n"
     ]
    }
   ],
   "source": [
    "folder = Path('Selected_files/Processed').rglob('*.csv')\n",
    "file_list = []\n",
    "for x in folder:\n",
    "    file = x\n",
    "    dirname = os.path.dirname(x)\n",
    "    basename = os.path.basename(x)\n",
    "    name = os.path.splitext(basename)[0]\n",
    "    filename = os.path.join(dirname, basename)\n",
    "    file_list.append(basename)\n",
    "    print(basename)"
   ]
  },
  {
   "cell_type": "code",
   "execution_count": 5,
   "metadata": {},
   "outputs": [
    {
     "data": {
      "text/plain": [
       "['cs1-1pre.csv',\n",
       " 'cs1-2all.csv',\n",
       " 'cs2-2all.csv',\n",
       " 'cs3-2all.csv',\n",
       " 'cs3-5bou.csv',\n",
       " 'cs4-1pre_part1.csv',\n",
       " 'cs4-1pre_part2.csv',\n",
       " 'cs4-2all.csv',\n",
       " 'cs4-5bou.csv',\n",
       " 'cs5-2all.csv']"
      ]
     },
     "execution_count": 5,
     "metadata": {},
     "output_type": "execute_result"
    }
   ],
   "source": [
    "file_list"
   ]
  },
  {
   "cell_type": "markdown",
   "metadata": {},
   "source": [
    "We have 10 files in the dataset."
   ]
  },
  {
   "cell_type": "code",
   "execution_count": 7,
   "metadata": {},
   "outputs": [
    {
     "data": {
      "text/html": [
       "<div>\n",
       "<style scoped>\n",
       "    .dataframe tbody tr th:only-of-type {\n",
       "        vertical-align: middle;\n",
       "    }\n",
       "\n",
       "    .dataframe tbody tr th {\n",
       "        vertical-align: top;\n",
       "    }\n",
       "\n",
       "    .dataframe thead th {\n",
       "        text-align: right;\n",
       "    }\n",
       "</style>\n",
       "<table border=\"1\" class=\"dataframe\">\n",
       "  <thead>\n",
       "    <tr style=\"text-align: right;\">\n",
       "      <th></th>\n",
       "      <th>Note</th>\n",
       "      <th>Duration_32th</th>\n",
       "      <th>Structure_level</th>\n",
       "    </tr>\n",
       "  </thead>\n",
       "  <tbody>\n",
       "    <tr>\n",
       "      <th>0</th>\n",
       "      <td>43</td>\n",
       "      <td>2</td>\n",
       "      <td>0</td>\n",
       "    </tr>\n",
       "    <tr>\n",
       "      <th>1</th>\n",
       "      <td>50</td>\n",
       "      <td>2</td>\n",
       "      <td>3</td>\n",
       "    </tr>\n",
       "    <tr>\n",
       "      <th>2</th>\n",
       "      <td>59</td>\n",
       "      <td>2</td>\n",
       "      <td>2</td>\n",
       "    </tr>\n",
       "    <tr>\n",
       "      <th>3</th>\n",
       "      <td>57</td>\n",
       "      <td>2</td>\n",
       "      <td>3</td>\n",
       "    </tr>\n",
       "    <tr>\n",
       "      <th>4</th>\n",
       "      <td>59</td>\n",
       "      <td>2</td>\n",
       "      <td>1</td>\n",
       "    </tr>\n",
       "    <tr>\n",
       "      <th>...</th>\n",
       "      <td>...</td>\n",
       "      <td>...</td>\n",
       "      <td>...</td>\n",
       "    </tr>\n",
       "    <tr>\n",
       "      <th>7925</th>\n",
       "      <td>60</td>\n",
       "      <td>6</td>\n",
       "      <td>0</td>\n",
       "    </tr>\n",
       "    <tr>\n",
       "      <th>7926</th>\n",
       "      <td>55</td>\n",
       "      <td>2</td>\n",
       "      <td>3</td>\n",
       "    </tr>\n",
       "    <tr>\n",
       "      <th>7927</th>\n",
       "      <td>51</td>\n",
       "      <td>6</td>\n",
       "      <td>1</td>\n",
       "    </tr>\n",
       "    <tr>\n",
       "      <th>7928</th>\n",
       "      <td>48</td>\n",
       "      <td>2</td>\n",
       "      <td>3</td>\n",
       "    </tr>\n",
       "    <tr>\n",
       "      <th>7929</th>\n",
       "      <td>60</td>\n",
       "      <td>12</td>\n",
       "      <td>1</td>\n",
       "    </tr>\n",
       "  </tbody>\n",
       "</table>\n",
       "<p>7930 rows × 3 columns</p>\n",
       "</div>"
      ],
      "text/plain": [
       "      Note  Duration_32th  Structure_level\n",
       "0       43              2                0\n",
       "1       50              2                3\n",
       "2       59              2                2\n",
       "3       57              2                3\n",
       "4       59              2                1\n",
       "...    ...            ...              ...\n",
       "7925    60              6                0\n",
       "7926    55              2                3\n",
       "7927    51              6                1\n",
       "7928    48              2                3\n",
       "7929    60             12                1\n",
       "\n",
       "[7930 rows x 3 columns]"
      ]
     },
     "execution_count": 7,
     "metadata": {},
     "output_type": "execute_result"
    }
   ],
   "source": [
    "ALL = pd.DataFrame(columns=['Note','Duration_32th','Structure_level'])\n",
    "folder = Path('Selected_files/Processed').rglob('*.csv')\n",
    "for x in folder:\n",
    "    Single = pd.read_csv(x, sep=\",\",names = [\"Note\", \"Duration_32th\", \"Structure_level\"])\n",
    "    ALL = pd.concat([ALL, Single])\n",
    "\n",
    "ALL = ALL.reset_index(drop=True)\n",
    "ALL = ALL.astype({\n",
    "    'Note': np.int64,\n",
    "    'Duration_32th': np.int64,\n",
    "    'Structure_level': np.int64\n",
    "})\n",
    "ALL"
   ]
  },
  {
   "cell_type": "markdown",
   "metadata": {},
   "source": [
    "There are 7930 notes in the dataset in total."
   ]
  },
  {
   "cell_type": "code",
   "execution_count": 8,
   "metadata": {},
   "outputs": [
    {
     "data": {
      "text/plain": [
       "array([36, 37, 38, 39, 40, 41, 42, 43, 44, 45, 46, 47, 48, 49, 50, 51, 52,\n",
       "       53, 54, 55, 56, 57, 58, 59, 60, 61, 62, 63, 64, 65, 66, 67],\n",
       "      dtype=int64)"
      ]
     },
     "execution_count": 8,
     "metadata": {},
     "output_type": "execute_result"
    }
   ],
   "source": [
    "np.unique(ALL['Note'])"
   ]
  },
  {
   "cell_type": "code",
   "execution_count": 9,
   "metadata": {},
   "outputs": [
    {
     "data": {
      "text/plain": [
       "32"
      ]
     },
     "execution_count": 9,
     "metadata": {},
     "output_type": "execute_result"
    }
   ],
   "source": [
    "len(np.unique(ALL['Note']))"
   ]
  },
  {
   "cell_type": "markdown",
   "metadata": {},
   "source": [
    "The note's range is $[36, 67]$, 32 notes in total. We encode the notes as 32-dimensional vectors:"
   ]
  },
  {
   "cell_type": "code",
   "execution_count": 10,
   "metadata": {},
   "outputs": [],
   "source": [
    "def note_one_hot(note, dev):\n",
    "    \"\"\"\n",
    "    Arguments:\n",
    "    note -- numpy array of shape (n, )\n",
    "    \n",
    "    Returns:\n",
    "    note_vt -- torch tensor of shape (32, n)\n",
    "    \"\"\"\n",
    "    l = len(note)\n",
    "    note_vt = torch.zeros([32,l], device = dev)\n",
    "    note_vt[note - 36,np.arange(l)] = 1\n",
    "    \n",
    "    return note_vt"
   ]
  },
  {
   "cell_type": "code",
   "execution_count": 11,
   "metadata": {},
   "outputs": [
    {
     "data": {
      "text/plain": [
       "array([43, 50, 59, 57, 59], dtype=int64)"
      ]
     },
     "execution_count": 11,
     "metadata": {},
     "output_type": "execute_result"
    }
   ],
   "source": [
    "notes = np.array(ALL['Note'][0:5])\n",
    "notes"
   ]
  },
  {
   "cell_type": "code",
   "execution_count": 12,
   "metadata": {},
   "outputs": [
    {
     "data": {
      "text/plain": [
       "tensor([[0., 0., 0., 0., 0.],\n",
       "        [0., 0., 0., 0., 0.],\n",
       "        [0., 0., 0., 0., 0.],\n",
       "        [0., 0., 0., 0., 0.],\n",
       "        [0., 0., 0., 0., 0.],\n",
       "        [0., 0., 0., 0., 0.],\n",
       "        [0., 0., 0., 0., 0.],\n",
       "        [1., 0., 0., 0., 0.],\n",
       "        [0., 0., 0., 0., 0.],\n",
       "        [0., 0., 0., 0., 0.],\n",
       "        [0., 0., 0., 0., 0.],\n",
       "        [0., 0., 0., 0., 0.],\n",
       "        [0., 0., 0., 0., 0.],\n",
       "        [0., 0., 0., 0., 0.],\n",
       "        [0., 1., 0., 0., 0.],\n",
       "        [0., 0., 0., 0., 0.],\n",
       "        [0., 0., 0., 0., 0.],\n",
       "        [0., 0., 0., 0., 0.],\n",
       "        [0., 0., 0., 0., 0.],\n",
       "        [0., 0., 0., 0., 0.],\n",
       "        [0., 0., 0., 0., 0.],\n",
       "        [0., 0., 0., 1., 0.],\n",
       "        [0., 0., 0., 0., 0.],\n",
       "        [0., 0., 1., 0., 1.],\n",
       "        [0., 0., 0., 0., 0.],\n",
       "        [0., 0., 0., 0., 0.],\n",
       "        [0., 0., 0., 0., 0.],\n",
       "        [0., 0., 0., 0., 0.],\n",
       "        [0., 0., 0., 0., 0.],\n",
       "        [0., 0., 0., 0., 0.],\n",
       "        [0., 0., 0., 0., 0.],\n",
       "        [0., 0., 0., 0., 0.]], device='cuda:0')"
      ]
     },
     "execution_count": 12,
     "metadata": {},
     "output_type": "execute_result"
    }
   ],
   "source": [
    "note_one_hot(notes, dev)"
   ]
  },
  {
   "cell_type": "code",
   "execution_count": 13,
   "metadata": {},
   "outputs": [
    {
     "data": {
      "text/plain": [
       "array([ 1,  2,  4,  5,  6,  8, 10, 12, 14, 20], dtype=int64)"
      ]
     },
     "execution_count": 13,
     "metadata": {},
     "output_type": "execute_result"
    }
   ],
   "source": [
    "np.unique(ALL['Duration_32th'])"
   ]
  },
  {
   "cell_type": "code",
   "execution_count": 14,
   "metadata": {},
   "outputs": [
    {
     "data": {
      "text/plain": [
       "10"
      ]
     },
     "execution_count": 14,
     "metadata": {},
     "output_type": "execute_result"
    }
   ],
   "source": [
    "len(np.unique(ALL['Duration_32th']))"
   ]
  },
  {
   "cell_type": "markdown",
   "metadata": {},
   "source": [
    "There are 10 types of durations. Similarly, we encode the duration as one hot vectors of dimension 10."
   ]
  },
  {
   "cell_type": "code",
   "execution_count": 15,
   "metadata": {},
   "outputs": [
    {
     "data": {
      "text/plain": [
       "array([ 1,  2,  4,  5,  6,  8, 10, 12, 14, 20], dtype=int64)"
      ]
     },
     "execution_count": 15,
     "metadata": {},
     "output_type": "execute_result"
    }
   ],
   "source": [
    "dur_list = np.unique(ALL['Duration_32th'])\n",
    "dur_list"
   ]
  },
  {
   "cell_type": "code",
   "execution_count": 16,
   "metadata": {},
   "outputs": [
    {
     "data": {
      "text/plain": [
       "{1: 0, 2: 1, 4: 2, 5: 3, 6: 4, 8: 5, 10: 6, 12: 7, 14: 8, 20: 9}"
      ]
     },
     "execution_count": 16,
     "metadata": {},
     "output_type": "execute_result"
    }
   ],
   "source": [
    "dur_dict = dict(zip(dur_list, np.arange(len(dur_list))))\n",
    "dur_dict"
   ]
  },
  {
   "cell_type": "code",
   "execution_count": 17,
   "metadata": {},
   "outputs": [
    {
     "data": {
      "text/plain": [
       "[3, 5, 4, 3]"
      ]
     },
     "execution_count": 17,
     "metadata": {},
     "output_type": "execute_result"
    }
   ],
   "source": [
    "list(map(dur_dict.get,[5,8,6,5]))"
   ]
  },
  {
   "cell_type": "code",
   "execution_count": 353,
   "metadata": {},
   "outputs": [],
   "source": [
    "def dur_one_hot(dur,dur_list,dev):\n",
    "    \"\"\"\n",
    "    Arguments:\n",
    "    dur -- numpy array of shape (n, )\n",
    "    \n",
    "    Returns:\n",
    "    dur_vt -- torch tensor of shape (10, n)\n",
    "    \"\"\"\n",
    "    l = len(dur)\n",
    "    dur_vt = torch.zeros([10,l], device = dev)\n",
    "    ### START CODE HERE ### (≈ 2 lines of code)\n",
    "    \n",
    "    \n",
    "    ### END CODE HERE ###\n",
    "    \n",
    "    return dur_vt"
   ]
  },
  {
   "cell_type": "code",
   "execution_count": 354,
   "metadata": {},
   "outputs": [
    {
     "data": {
      "text/plain": [
       "array([ 6,  2,  6,  2, 12], dtype=int64)"
      ]
     },
     "execution_count": 354,
     "metadata": {},
     "output_type": "execute_result"
    }
   ],
   "source": [
    "dur = np.array(ALL['Duration_32th'][-5:])\n",
    "dur"
   ]
  },
  {
   "cell_type": "code",
   "execution_count": 355,
   "metadata": {},
   "outputs": [
    {
     "data": {
      "text/plain": [
       "tensor([[0., 0., 0., 0., 0.],\n",
       "        [0., 1., 0., 1., 0.],\n",
       "        [0., 0., 0., 0., 0.],\n",
       "        [0., 0., 0., 0., 0.],\n",
       "        [1., 0., 1., 0., 0.],\n",
       "        [0., 0., 0., 0., 0.],\n",
       "        [0., 0., 0., 0., 0.],\n",
       "        [0., 0., 0., 0., 1.],\n",
       "        [0., 0., 0., 0., 0.],\n",
       "        [0., 0., 0., 0., 0.]], device='cuda:0')"
      ]
     },
     "execution_count": 355,
     "metadata": {},
     "output_type": "execute_result"
    }
   ],
   "source": [
    "dur_one_hot(dur,dur_list,dev)"
   ]
  },
  {
   "cell_type": "markdown",
   "metadata": {},
   "source": [
    "*Expected output (ignore the irregular spaces)*:\n",
    "\n",
    "tensor(\\[\n",
    "\n",
    "        [0., 0., 0., 0., 0.],\n",
    "        [0., 1., 0., 1., 0.],\n",
    "        [0., 0., 0., 0., 0.],\n",
    "        [0., 0., 0., 0., 0.],\n",
    "        [1., 0., 1., 0., 0.],\n",
    "        [0., 0., 0., 0., 0.],\n",
    "        [0., 0., 0., 0., 0.],\n",
    "        [0., 0., 0., 0., 1.],\n",
    "        [0., 0., 0., 0., 0.],\n",
    "        [0., 0., 0., 0., 0.]], device='cuda:0')"
   ]
  },
  {
   "cell_type": "code",
   "execution_count": 356,
   "metadata": {},
   "outputs": [
    {
     "data": {
      "text/plain": [
       "array([0, 1, 2, 3, 4], dtype=int64)"
      ]
     },
     "execution_count": 356,
     "metadata": {},
     "output_type": "execute_result"
    }
   ],
   "source": [
    "np.unique(ALL['Structure_level'])"
   ]
  },
  {
   "cell_type": "code",
   "execution_count": 357,
   "metadata": {},
   "outputs": [
    {
     "data": {
      "text/plain": [
       "5"
      ]
     },
     "execution_count": 357,
     "metadata": {},
     "output_type": "execute_result"
    }
   ],
   "source": [
    "len(np.unique(ALL['Structure_level']))"
   ]
  },
  {
   "cell_type": "markdown",
   "metadata": {},
   "source": [
    "There are 5 types of structure levels. Since the structure level only indicates the relative position of the notes in time, which is determined by the duration, it works as additional information rather than a predictive term in our design."
   ]
  },
  {
   "cell_type": "code",
   "execution_count": 358,
   "metadata": {},
   "outputs": [],
   "source": [
    "def lev_one_hot(lev, dev):\n",
    "    \"\"\"\n",
    "    Arguments:\n",
    "    lev -- numpy array of shape (n, )\n",
    "    \n",
    "    Returns:\n",
    "    lev_vt -- torch tensor of shape (5, n)\n",
    "    \"\"\"\n",
    "    l = len(lev)\n",
    "    lev_vt = torch.zeros([5,l], device = dev)\n",
    "    ### START CODE HERE ### (≈ 1 line of code)\n",
    "    \n",
    "    ### END CODE HERE ###\n",
    "    \n",
    "    return lev_vt"
   ]
  },
  {
   "cell_type": "code",
   "execution_count": 63,
   "metadata": {},
   "outputs": [
    {
     "data": {
      "text/plain": [
       "array([0, 3, 1, 3, 1], dtype=int64)"
      ]
     },
     "execution_count": 63,
     "metadata": {},
     "output_type": "execute_result"
    }
   ],
   "source": [
    "lev = np.array(ALL['Structure_level'][-5:])\n",
    "lev"
   ]
  },
  {
   "cell_type": "code",
   "execution_count": 360,
   "metadata": {},
   "outputs": [
    {
     "data": {
      "text/plain": [
       "tensor([[1., 0., 0., 0., 0.],\n",
       "        [0., 0., 1., 0., 1.],\n",
       "        [0., 0., 0., 0., 0.],\n",
       "        [0., 1., 0., 1., 0.],\n",
       "        [0., 0., 0., 0., 0.]], device='cuda:0')"
      ]
     },
     "execution_count": 360,
     "metadata": {},
     "output_type": "execute_result"
    }
   ],
   "source": [
    "lev_one_hot(lev, dev)"
   ]
  },
  {
   "cell_type": "markdown",
   "metadata": {},
   "source": [
    "*Expected output (ignore the irregular spaces)*:\n",
    "\n",
    "tensor(\\[\n",
    "\n",
    "        [1., 0., 0., 0., 0.],\n",
    "        [0., 0., 1., 0., 1.],\n",
    "        [0., 0., 0., 0., 0.],\n",
    "        [0., 1., 0., 1., 0.],\n",
    "        [0., 0., 0., 0., 0.]], device='cuda:0')"
   ]
  },
  {
   "cell_type": "markdown",
   "metadata": {},
   "source": [
    "There could possibly be 32 x 10 x 5 = 1600 combinations if the three factors are considered indepent. However,"
   ]
  },
  {
   "cell_type": "code",
   "execution_count": 18,
   "metadata": {},
   "outputs": [
    {
     "data": {
      "text/plain": [
       "array([[36,  1,  2],\n",
       "       [36,  2,  0],\n",
       "       [36,  2,  1],\n",
       "       ...,\n",
       "       [67,  4,  0],\n",
       "       [67,  4,  1],\n",
       "       [67,  4,  2]], dtype=int64)"
      ]
     },
     "execution_count": 18,
     "metadata": {},
     "output_type": "execute_result"
    }
   ],
   "source": [
    "np.unique(np.array(ALL),axis = 0)"
   ]
  },
  {
   "cell_type": "code",
   "execution_count": 19,
   "metadata": {},
   "outputs": [
    {
     "data": {
      "text/plain": [
       "357"
      ]
     },
     "execution_count": 19,
     "metadata": {},
     "output_type": "execute_result"
    }
   ],
   "source": [
    "len(np.unique(np.array(ALL),axis = 0))"
   ]
  },
  {
   "cell_type": "markdown",
   "metadata": {},
   "source": [
    "There are far less combinations in the dataset. Even if we only take the note and duration, it would be"
   ]
  },
  {
   "cell_type": "code",
   "execution_count": 20,
   "metadata": {},
   "outputs": [
    {
     "data": {
      "text/plain": [
       "array([[36,  1],\n",
       "       [36,  2],\n",
       "       [36,  4],\n",
       "       [36,  6],\n",
       "       [36,  8],\n",
       "       [36, 20],\n",
       "       [37,  2],\n",
       "       [37,  5],\n",
       "       [37,  8],\n",
       "       [38,  1],\n",
       "       [38,  2],\n",
       "       [38,  4],\n",
       "       [38,  6],\n",
       "       [39,  1],\n",
       "       [39,  2],\n",
       "       [39,  4],\n",
       "       [39,  8],\n",
       "       [40,  2],\n",
       "       [40,  4],\n",
       "       [40,  6],\n",
       "       [40, 12],\n",
       "       [41,  1],\n",
       "       [41,  2],\n",
       "       [41,  4],\n",
       "       [42,  2],\n",
       "       [42,  4],\n",
       "       [42, 12],\n",
       "       [43,  1],\n",
       "       [43,  2],\n",
       "       [43,  4],\n",
       "       [43,  6],\n",
       "       [43, 14],\n",
       "       [44,  1],\n",
       "       [44,  2],\n",
       "       [44,  4],\n",
       "       [44,  6],\n",
       "       [44, 10],\n",
       "       [45,  1],\n",
       "       [45,  2],\n",
       "       [45,  4],\n",
       "       [45,  6],\n",
       "       [46,  1],\n",
       "       [46,  2],\n",
       "       [46,  4],\n",
       "       [46,  6],\n",
       "       [46,  8],\n",
       "       [46, 10],\n",
       "       [46, 12],\n",
       "       [47,  1],\n",
       "       [47,  2],\n",
       "       [47,  4],\n",
       "       [47,  6],\n",
       "       [47,  8],\n",
       "       [48,  1],\n",
       "       [48,  2],\n",
       "       [48,  4],\n",
       "       [48,  6],\n",
       "       [48,  8],\n",
       "       [48, 10],\n",
       "       [48, 12],\n",
       "       [49,  2],\n",
       "       [49,  4],\n",
       "       [50,  1],\n",
       "       [50,  2],\n",
       "       [50,  4],\n",
       "       [50,  6],\n",
       "       [50, 10],\n",
       "       [50, 12],\n",
       "       [51,  1],\n",
       "       [51,  2],\n",
       "       [51,  4],\n",
       "       [51,  5],\n",
       "       [51,  6],\n",
       "       [51, 10],\n",
       "       [51, 12],\n",
       "       [52,  1],\n",
       "       [52,  2],\n",
       "       [52,  4],\n",
       "       [52,  6],\n",
       "       [52, 10],\n",
       "       [53,  1],\n",
       "       [53,  2],\n",
       "       [53,  4],\n",
       "       [53,  6],\n",
       "       [53, 10],\n",
       "       [54,  1],\n",
       "       [54,  2],\n",
       "       [54,  4],\n",
       "       [54,  6],\n",
       "       [54, 12],\n",
       "       [55,  1],\n",
       "       [55,  2],\n",
       "       [55,  4],\n",
       "       [55,  5],\n",
       "       [55,  6],\n",
       "       [55,  8],\n",
       "       [55, 10],\n",
       "       [55, 12],\n",
       "       [55, 20],\n",
       "       [56,  1],\n",
       "       [56,  2],\n",
       "       [56,  4],\n",
       "       [56,  6],\n",
       "       [56, 10],\n",
       "       [56, 12],\n",
       "       [57,  1],\n",
       "       [57,  2],\n",
       "       [57,  4],\n",
       "       [57,  6],\n",
       "       [57,  8],\n",
       "       [57, 10],\n",
       "       [57, 12],\n",
       "       [58,  1],\n",
       "       [58,  2],\n",
       "       [58,  4],\n",
       "       [58,  6],\n",
       "       [58,  8],\n",
       "       [58, 10],\n",
       "       [59,  1],\n",
       "       [59,  2],\n",
       "       [59,  4],\n",
       "       [59,  6],\n",
       "       [59, 10],\n",
       "       [59, 12],\n",
       "       [60,  1],\n",
       "       [60,  2],\n",
       "       [60,  4],\n",
       "       [60,  6],\n",
       "       [60,  8],\n",
       "       [60, 10],\n",
       "       [60, 12],\n",
       "       [60, 14],\n",
       "       [61,  1],\n",
       "       [61,  2],\n",
       "       [61,  4],\n",
       "       [61,  6],\n",
       "       [62,  1],\n",
       "       [62,  2],\n",
       "       [62,  4],\n",
       "       [62,  6],\n",
       "       [62, 10],\n",
       "       [63,  1],\n",
       "       [63,  2],\n",
       "       [63,  4],\n",
       "       [63,  6],\n",
       "       [63,  8],\n",
       "       [63, 10],\n",
       "       [63, 12],\n",
       "       [64,  2],\n",
       "       [64,  4],\n",
       "       [65,  1],\n",
       "       [65,  2],\n",
       "       [65,  4],\n",
       "       [65, 10],\n",
       "       [66,  2],\n",
       "       [66,  4],\n",
       "       [67,  1],\n",
       "       [67,  2],\n",
       "       [67,  4]], dtype=int64)"
      ]
     },
     "execution_count": 20,
     "metadata": {},
     "output_type": "execute_result"
    }
   ],
   "source": [
    "np.unique(np.array(ALL[['Note','Duration_32th']]),axis = 0)"
   ]
  },
  {
   "cell_type": "code",
   "execution_count": 21,
   "metadata": {},
   "outputs": [
    {
     "data": {
      "text/plain": [
       "159"
      ]
     },
     "execution_count": 21,
     "metadata": {},
     "output_type": "execute_result"
    }
   ],
   "source": [
    "len(np.unique(np.array(ALL[['Note','Duration_32th']]),axis = 0))"
   ]
  },
  {
   "cell_type": "markdown",
   "metadata": {},
   "source": [
    "The exaustive possibilities are 320.\n",
    "\n",
    "The problem is, if we compress [Note, Duration_32th, Structure_level] (or just [Note, Duration_32th] in the simplest case) into one token and encode it with one hot vector, we can come up with a 357-dimension vector based on the dataset. This representation is compact and clean but it lacks the ability of generalization. Such representation can only generate D2(38) with short durations but not any quarter-note D2 or half-note D2. If we expand the vector dimension to comprise all possibilities, 1600-dimension, then many of the entries won't be covered in training. Then in generating, any generation out of the dataset would possibly be treated as an error that is not trained by the neural network.\n",
    "\n",
    "One way is to augment the data to cover all keys so the dataset could cover more out of the 1600 combinations. This method also has its limitation. Obviously, translating a corpus up or down would possibly introduce notes out of the range [36,67]. If we limit ourselves inside this range, the data won't be augmented much so the previously stated problem still exists. Therefore, we may resort to new ways for the music generation."
   ]
  },
  {
   "cell_type": "markdown",
   "metadata": {},
   "source": [
    "## Part 2: Data Augmentation by Key Translation\n",
    "\n",
    "Now let's take a look at a single file."
   ]
  },
  {
   "cell_type": "code",
   "execution_count": 22,
   "metadata": {},
   "outputs": [
    {
     "data": {
      "text/plain": [
       "['cs1-1pre.csv',\n",
       " 'cs1-2all.csv',\n",
       " 'cs2-2all.csv',\n",
       " 'cs3-2all.csv',\n",
       " 'cs3-5bou.csv',\n",
       " 'cs4-1pre_part1.csv',\n",
       " 'cs4-1pre_part2.csv',\n",
       " 'cs4-2all.csv',\n",
       " 'cs4-5bou.csv',\n",
       " 'cs5-2all.csv']"
      ]
     },
     "execution_count": 22,
     "metadata": {},
     "output_type": "execute_result"
    }
   ],
   "source": [
    "file_list"
   ]
  },
  {
   "cell_type": "code",
   "execution_count": 23,
   "metadata": {},
   "outputs": [
    {
     "name": "stdout",
     "output_type": "stream",
     "text": [
      "     Note  Duration_32th  Structure_level\n",
      "0      39              4                0\n",
      "1      63              4                2\n",
      "2      58              4                1\n",
      "3      55              4                2\n",
      "4      58              4                1\n",
      "..    ...            ...              ...\n",
      "380    55              4                1\n",
      "381    46              4                2\n",
      "382    50              4                1\n",
      "383    43              4                2\n",
      "384    37              8                0\n",
      "\n",
      "[385 rows x 3 columns]\n"
     ]
    }
   ],
   "source": [
    "Single = pd.read_csv('Selected_files/Processed/'+file_list[5], sep=\",\",names = [\"Note\", \"Duration_32th\", \"Structure_level\"])\n",
    "print(Single)"
   ]
  },
  {
   "cell_type": "code",
   "execution_count": 24,
   "metadata": {},
   "outputs": [
    {
     "data": {
      "text/plain": [
       "385"
      ]
     },
     "execution_count": 24,
     "metadata": {},
     "output_type": "execute_result"
    }
   ],
   "source": [
    "n = len(Single)\n",
    "n"
   ]
  },
  {
   "cell_type": "markdown",
   "metadata": {},
   "source": [
    "In this tutorial we won't use batch and vectorization, the methods that are developed to scaling the training to large dataset and speed up computation. As we have a rather small dataset at hand and our purpose is to understand and explore the methods of machine learning, instead of industrial application, we will make the training as flexible as we can."
   ]
  },
  {
   "cell_type": "code",
   "execution_count": 25,
   "metadata": {},
   "outputs": [
    {
     "data": {
      "text/plain": [
       "array([36, 37, 38, 39, 40, 41, 42, 43, 44, 45, 46, 47, 48, 49, 50, 51, 52,\n",
       "       53, 54, 55, 56, 57, 58, 59, 60, 61, 62, 63, 64, 65], dtype=int64)"
      ]
     },
     "execution_count": 25,
     "metadata": {},
     "output_type": "execute_result"
    }
   ],
   "source": [
    "np.unique(Single['Note'])"
   ]
  },
  {
   "cell_type": "markdown",
   "metadata": {},
   "source": [
    "**Problem 1： Perform data augmentation by key translation.**\n",
    "\n",
    "For each file in the dataset, perform key translation to augment the file but to keep the note range within [36,67]."
   ]
  },
  {
   "cell_type": "code",
   "execution_count": 218,
   "metadata": {},
   "outputs": [],
   "source": [
    "folder = Path('Selected_files/Processed').rglob('*.csv')\n",
    "for x in folder:\n",
    "    basename = os.path.basename(x)\n",
    "    name = os.path.splitext(basename)[0]\n",
    "    \n",
    "    Single = pd.read_csv(x, sep=\",\",names = [\"Note\", \"Duration_32th\", \"Structure_level\"])\n",
    "    ### START CODE HERE ### (≈ 10 lines of code)\n",
    "    \n",
    "    \n",
    "    \n",
    "    \n",
    "    \n",
    "    \n",
    "    \n",
    "    \n",
    "    \n",
    "    \n",
    "    ### END CODE HERE ###"
   ]
  },
  {
   "cell_type": "markdown",
   "metadata": {},
   "source": [
    "We augmented 23 files. The dataset consists 33 files in total.\n",
    "\n",
    "The next step is segmentation. Remember that RNN is not in fixed length. People usually use fixed-window segmentation to apply RNN to large-scale ML tasks to save computational time. However, it's not inherent for autoregressive neural networks and it's not required. We use flexible windows in our model to avoid this rigidity.\n",
    "\n",
    "We generate a window of arbitrary length within range [3,10), so that the window length is different every time."
   ]
  },
  {
   "cell_type": "code",
   "execution_count": 27,
   "metadata": {},
   "outputs": [
    {
     "data": {
      "text/plain": [
       "6"
      ]
     },
     "execution_count": 27,
     "metadata": {},
     "output_type": "execute_result"
    }
   ],
   "source": [
    "np.random.randint(3,10)"
   ]
  },
  {
   "cell_type": "markdown",
   "metadata": {},
   "source": [
    "## Part 3: Recurrent Neural Network\n",
    "\n",
    "A recurrent neural network can be seen as the repeated use of a single cell. You are first going to implement the computations for a single time-step. The following figure describes the operations for a single time-step of an RNN cell. \n",
    "\n",
    "<img src=\"Figure/rnn_step_forward.png\" style=\"width:700px;height:300px;\">\n",
    "<caption><center> Figure 1: Basic RNN cell. Takes as input $x^{\\langle t \\rangle}$ (current input) and $a^{\\langle t - 1\\rangle}$ (previous hidden state containing information from the past), and outputs $a^{\\langle t \\rangle}$ which is given to the next RNN cell and also used to predict $\\hat{y}^{\\langle t \\rangle}$ </center></caption>\n",
    "\n",
    "<img src=\"Figure/rnn.png\" style=\"width:450;height:300px;\">\n",
    "<caption><center> Figure 2: Recurrent Neural Network  </center></caption>\n",
    "\n",
    "At each time-step, the RNN tries to predict what is the index of the next (note, duration, structure) tuple given the index of the previous tuple. The dataset $X = (x^{\\langle 1 \\rangle}, x^{\\langle 2 \\rangle}, ..., x^{\\langle T_x \\rangle})$ is a list of indices in the training set, while $Y = (y^{\\langle 1 \\rangle}, y^{\\langle 2 \\rangle}, ..., y^{\\langle T_x \\rangle})$ is such that at every time-step $t$, we have $y^{\\langle t \\rangle} = x^{\\langle t+1 \\rangle}$. "
   ]
  },
  {
   "cell_type": "markdown",
   "metadata": {},
   "source": [
    "In our case, we have three inputs, note $x_n^{<t>}$, duration $x_d^{<t>}$ and additional information structural level $x_l^{<t>}$; two outputs, $y_n^{<t>}$ and duration $y_d^{<t>}$, which align with the next inputs $x_n^{<t+1>}$ and $x_d^{<t+1>}$. We modify the neural network as follows:\n",
    "\n",
    "$$ \\begin{align}\n",
    "a^{<t>} &= tanh(W_{ax} x^{<t>} + W_{aa} a^{<t-1>} + b_a) \\quad \\text{where} \\ x = [x_n, x_d, x_l]^T \\\\\n",
    "y_d^{<t>} &= softmax(W_{y_da}a^{<t>} + b_{y_d}) \\\\\n",
    "y_n^{<t>} &= softmax(W_{y_n,a + y_d}[a^{<t>}, y_d^{<t>}]^T + b_{y_n})\n",
    "\\end{align}$$\n",
    "\n",
    "The nonlinear functions are [tanh](https://mathworld.wolfram.com/HyperbolicTangent.html) and [softmax](https://pytorch.org/docs/stable/generated/torch.nn.Softmax.html)."
   ]
  },
  {
   "cell_type": "markdown",
   "metadata": {},
   "source": [
    "### 1) Parameter Initialization\n",
    "\n",
    "Random initialize parameters in range [-0.5,0.5)"
   ]
  },
  {
   "cell_type": "code",
   "execution_count": 39,
   "metadata": {},
   "outputs": [],
   "source": [
    "def random_init(d_a,d_xn,d_xd,d_xl, dev):\n",
    "    \"\"\"\n",
    "    Arguments:\n",
    "    d_a -- dimension of tensor a (default: 20)\n",
    "    d_xn -- dimension of note input x_n (default: 32)\n",
    "    d_xd -- dimension of duration input x_d (default: 10)\n",
    "    d_xl -- dimension of structural level input x_l (default: 5)\n",
    "    dev -- torch.device(\"cuda\")  # operate on GPU\n",
    "    \n",
    "    Returns:\n",
    "    Parameter matrices W's and bias b's\n",
    "    \"\"\"\n",
    "    \n",
    "    W_ax = torch.rand(d_a, d_xn + d_xd + d_xl, device = dev)-0.5\n",
    "    W_ax.requires_grad_(True)\n",
    "    W_aa = torch.rand(d_a, d_a, device = dev)-0.5\n",
    "    W_aa.requires_grad_(True)\n",
    "    b_a = torch.rand(d_a, 1, device = dev)-0.5\n",
    "    b_a.requires_grad_(True)\n",
    "    W_yd = torch.rand(d_xd, d_a, device = dev)-0.5\n",
    "    W_yd.requires_grad_(True)\n",
    "    b_yd = torch.rand(d_xd, 1, device = dev)-0.5\n",
    "    b_yd.requires_grad_(True)\n",
    "    W_yn = torch.rand(d_xn, d_a+d_xd, device = dev)-0.5\n",
    "    W_yn.requires_grad_(True)\n",
    "    b_yn = torch.rand(d_xn, 1, device = dev)-0.5\n",
    "    b_yn.requires_grad_(True)\n",
    "    \n",
    "    return W_ax, W_aa, b_a, W_yd, b_yd, W_yn, b_yn"
   ]
  },
  {
   "cell_type": "code",
   "execution_count": 46,
   "metadata": {},
   "outputs": [
    {
     "name": "stdout",
     "output_type": "stream",
     "text": [
      "W_ax: torch.Size([20, 47])\n",
      "W_aa: torch.Size([20, 20])\n",
      "b_a: torch.Size([20, 1])\n",
      "W_yd: torch.Size([10, 20])\n",
      "b_yd: torch.Size([10, 1])\n",
      "W_yn: torch.Size([32, 30])\n",
      "b_yn: torch.Size([32, 1])\n",
      "b_yd: tensor([[ 0.4345],\n",
      "        [ 0.3207],\n",
      "        [-0.4836],\n",
      "        [-0.3111],\n",
      "        [ 0.4616],\n",
      "        [-0.4564],\n",
      "        [-0.0151],\n",
      "        [ 0.2817],\n",
      "        [-0.0327],\n",
      "        [-0.1629]], device='cuda:0', requires_grad=True)\n"
     ]
    }
   ],
   "source": [
    "d_a = 20\n",
    "d_xn = 32\n",
    "d_xd = 10\n",
    "d_xl = 5\n",
    "\n",
    "torch.random.manual_seed(0)  \n",
    "# the seed is set for the assignment only, to get corresponding expeced results; you don't need to seed the random number in implementation\n",
    "[W_ax, W_aa, b_a, W_yd, b_yd, W_yn, b_yn] = random_init(d_a,d_xn,d_xd,d_xl, dev)\n",
    "print('W_ax:', W_ax.shape)\n",
    "print('W_aa:', W_aa.shape)\n",
    "print('b_a:', b_a.shape)\n",
    "print('W_yd:', W_yd.shape)\n",
    "print('b_yd:', b_yd.shape)\n",
    "print('W_yn:', W_yn.shape)\n",
    "print('b_yn:', b_yn.shape)\n",
    "print('b_yd:', b_yd)"
   ]
  },
  {
   "cell_type": "markdown",
   "metadata": {},
   "source": [
    "### 2) Basic Functions\n",
    "\n",
    "We will design our own RNN from scratch and write our own formulas instead of using a standard package. `PyTorch` is used for its `autograd` function, which means once we write down the forward pass, the loss derivatives are automatically computed, which saves the labor for manual backpropagation."
   ]
  },
  {
   "cell_type": "code",
   "execution_count": 49,
   "metadata": {},
   "outputs": [],
   "source": [
    "def softmax(x):\n",
    "    e_x = torch.exp(x - torch.max(x))\n",
    "    return e_x / torch.sum(e_x)"
   ]
  },
  {
   "cell_type": "code",
   "execution_count": 50,
   "metadata": {},
   "outputs": [],
   "source": [
    "def forward_step(x_n, x_d, x_l, a_prev, W_ax, W_aa, b_a, W_yd, b_yd, W_yn, b_yn):\n",
    "    \"\"\"\n",
    "    One step prediction in Figure 1\n",
    "    \n",
    "    Arguments:\n",
    "    x_n -- note input one-hot torch tensor of shape (32,1)\n",
    "    x_d -- duration input one-hot torch tensor of shape (10,1)\n",
    "    x_l -- structure level input one-hot torch tensor of shape (5,1)\n",
    "    a_prev -- previous memory a, torch tensor of shape (20,1)\n",
    "    Parameters -- W_ax: torch.Size([20, 47])\n",
    "                W_aa: torch.Size([20, 20])\n",
    "                b_a: torch.Size([20, 1])\n",
    "                W_yd: torch.Size([10, 20])\n",
    "                b_yd: torch.Size([10, 1])\n",
    "                W_yn: torch.Size([32, 30])\n",
    "                b_yn: torch.Size([32, 1])\n",
    "    \n",
    "    Returns:\n",
    "    a_next -- next memory a, torch tensor of shape (20,1)\n",
    "    y_d -- duration output one-hot torch tensor of shape (10,1)\n",
    "    y_n -- note output one-hot torch tensor of shape (32,1)\n",
    "    \"\"\"\n",
    "    x = torch.cat((x_n, x_d, x_l),0)\n",
    "    x = x.type(torch.float32)\n",
    "    ### START CODE HERE ### (≈ 4 lines of code)\n",
    "    \n",
    "    \n",
    "    \n",
    "    \n",
    "    ### END CODE HERE ###\n",
    "    \n",
    "    return a_next, y_d, y_n"
   ]
  },
  {
   "cell_type": "code",
   "execution_count": 52,
   "metadata": {},
   "outputs": [
    {
     "name": "stdout",
     "output_type": "stream",
     "text": [
      "y_d: tensor([[0.0868],\n",
      "        [0.1498],\n",
      "        [0.1475],\n",
      "        [0.0678],\n",
      "        [0.0583],\n",
      "        [0.0188],\n",
      "        [0.1033],\n",
      "        [0.1495],\n",
      "        [0.0484],\n",
      "        [0.1697]], device='cuda:0', grad_fn=<DivBackward0>)\n"
     ]
    }
   ],
   "source": [
    "x_n = torch.zeros(32,1, device = dev)\n",
    "x_n[3] = 1\n",
    "x_d = torch.zeros(10,1, device = dev)\n",
    "x_n[3] = 1\n",
    "x_l = torch.zeros(5,1, device = dev)\n",
    "x_l[3] = 1\n",
    "a_prev = torch.zeros(20,1, device = dev)\n",
    "[a_next, y_d, y_n] = forward_step(x_n, x_d, x_l, a_prev, W_ax, W_aa, b_a, W_yd, b_yd, W_yn, b_yn)\n",
    "#print(\"a_next\", a_next)\n",
    "print(\"y_d:\", y_d)"
   ]
  },
  {
   "cell_type": "markdown",
   "metadata": {},
   "source": [
    "*Expected output (ignore the irregular spaces)*:\n",
    "\n",
    "y_d: tensor([\n",
    "\n",
    "        [0.0868],\n",
    "        [0.1498],\n",
    "        [0.1475],\n",
    "        [0.0678],\n",
    "        [0.0583],\n",
    "        [0.0188],\n",
    "        [0.1033],\n",
    "        [0.1495],\n",
    "        [0.0484],\n",
    "        [0.1697]], device='cuda:0', grad_fn=<DivBackward0>)"
   ]
  },
  {
   "cell_type": "markdown",
   "metadata": {},
   "source": [
    "We use cross-entropy loss,\n",
    "\n",
    "$$\n",
    "L = -\\sum_i p_i log(\\hat{p}_i)\n",
    "$$\n",
    "\n",
    "The target distribution $p_i$ is a one-hot vector, let's say it equals to 1 at position $k$, then\n",
    "$$ L = -log(\\hat{p}_k)$$\n",
    "\n",
    "Since we have two predictions $y_d$ and $y_n$, we assign propotion $w$ to the two cross-entropy losses $L_d$ and $L_n$ to weight them in the final expression\n",
    "\n",
    "$$\n",
    "L = wL_d + (1-w)L_n\n",
    "$$"
   ]
  },
  {
   "cell_type": "code",
   "execution_count": 225,
   "metadata": {},
   "outputs": [],
   "source": [
    "def forward_pass(X_n, X_d, X_l, a0, W_ax, W_aa, b_a, W_yd, b_yd, W_yn, b_yn, window_size,w):\n",
    "    \"\"\"\n",
    "    Arguments:\n",
    "    X_n -- note input one-hot torch tensor of shape (32, window_size)\n",
    "    X_d -- duration input one-hot torch tensor of shape (10, window_size)\n",
    "    X_l -- structure level input one-hot torch tensor of shape (5, window_size)\n",
    "    a0 -- initial memory a, torch tensor of shape (20,1)\n",
    "    Parameters -- W_ax: torch.Size([20, 47])\n",
    "                W_aa: torch.Size([20, 20])\n",
    "                b_a: torch.Size([20, 1])\n",
    "                W_yd: torch.Size([10, 20])\n",
    "                b_yd: torch.Size([10, 1])\n",
    "                W_yn: torch.Size([32, 30])\n",
    "                b_yn: torch.Size([32, 1])\n",
    "    window_size -- the size of the input chunk\n",
    "    w -- weight of duration loss in the sum of duration loss and note loss\n",
    "    \n",
    "    Returns:\n",
    "    L -- total loss\n",
    "    \"\"\"\n",
    "    a_prev = a0\n",
    "    \n",
    "    # initialize losses to 0\n",
    "    l_d = 0 # duration loss\n",
    "    l_n = 0 # note value loss\n",
    "    \n",
    "    for i in range(window_size-1):\n",
    "        x_n = X_n[:,i:i+1]  # note input one-hot torch tensor of shape (32,1)\n",
    "        x_d = X_d[:,i:i+1]  # duration input one-hot torch tensor of shape (10,1)\n",
    "        x_l = X_l[:,i:i+1]  # structure level input one-hot torch tensor of shape (5,1)\n",
    "        [a_next, y_d, y_n] = forward_step(x_n, x_d, x_l, a_prev, W_ax, W_aa, b_a, W_yd, b_yd, W_yn, b_yn)\n",
    "        a_prev = a_next\n",
    "        \n",
    "        # Compute the cross-entropy loss for l_d and l_n respectively\n",
    "        ### START CODE HERE ### (≈ 6 lines of code)\n",
    "        \n",
    "        \n",
    "        \n",
    "        \n",
    "        \n",
    "        \n",
    "        ### END CODE HERE ###\n",
    "        \n",
    "    L = (w*l_d + (1-w)*l_n)/window_size\n",
    "    \n",
    "    return L,a_next"
   ]
  },
  {
   "cell_type": "code",
   "execution_count": 54,
   "metadata": {},
   "outputs": [],
   "source": [
    "def parameter_update(loss,lr, W_ax, W_aa, b_a, W_yd, b_yd, W_yn, b_yn):\n",
    "    \"\"\"\n",
    "    Arguments:\n",
    "    loss -- torch tensor of shape [1]\n",
    "    lr -- learning rate\n",
    "    Parameters -- W_ax: torch.Size([20, 47])\n",
    "                W_aa: torch.Size([20, 20])\n",
    "                b_a: torch.Size([20, 1])\n",
    "                W_yd: torch.Size([10, 20])\n",
    "                b_yd: torch.Size([10, 1])\n",
    "                W_yn: torch.Size([32, 30])\n",
    "                b_yn: torch.Size([32, 1])\n",
    "    window_size -- the size of the input chunk\n",
    "    w -- weight of duration loss in the sum of duration loss and note loss\n",
    "    \n",
    "    Returns:\n",
    "    \n",
    "    \"\"\"\n",
    "    loss.backward()\n",
    "    with torch.no_grad():\n",
    "        W_ax -= lr * W_ax.grad\n",
    "        W_ax.grad.zero_()\n",
    "        W_aa -= lr * W_aa.grad\n",
    "        W_aa.grad.zero_()\n",
    "        b_a -= lr * b_a.grad\n",
    "        b_a.grad.zero_()\n",
    "        W_yd -= lr * W_yd.grad\n",
    "        W_yd.grad.zero_()\n",
    "        b_yd -= lr * b_yd.grad\n",
    "        b_yd.grad.zero_()\n",
    "        W_yn -= lr * W_yn.grad\n",
    "        W_yn.grad.zero_()\n",
    "        b_yn -= lr * b_yn.grad\n",
    "        b_yn.grad.zero_()\n",
    "        \n",
    "            \n",
    "    return W_ax, W_aa, b_a, W_yd, b_yd, W_yn, b_yn"
   ]
  },
  {
   "cell_type": "markdown",
   "metadata": {},
   "source": [
    "### 3) Function Test\n",
    "\n",
    "Let's test the funtions:"
   ]
  },
  {
   "cell_type": "code",
   "execution_count": 55,
   "metadata": {},
   "outputs": [
    {
     "name": "stdout",
     "output_type": "stream",
     "text": [
      "     Note  Duration_32th  Structure_level\n",
      "0      60              2                3\n",
      "1      60             10                0\n",
      "2      58              2                3\n",
      "3      56              2                2\n",
      "4      55              2                3\n",
      "..    ...            ...              ...\n",
      "681    60              6                0\n",
      "682    55              2                3\n",
      "683    51              6                1\n",
      "684    48              2                3\n",
      "685    60             12                1\n",
      "\n",
      "[686 rows x 3 columns]\n"
     ]
    }
   ],
   "source": [
    "Single = pd.read_csv('Selected_files/Processed/'+file_list[9], sep=\",\",names = [\"Note\", \"Duration_32th\", \"Structure_level\"])\n",
    "print(Single)"
   ]
  },
  {
   "cell_type": "code",
   "execution_count": 56,
   "metadata": {},
   "outputs": [
    {
     "data": {
      "text/plain": [
       "6"
      ]
     },
     "execution_count": 56,
     "metadata": {},
     "output_type": "execute_result"
    }
   ],
   "source": [
    "window_size = np.random.randint(3,10)\n",
    "window_size"
   ]
  },
  {
   "cell_type": "code",
   "execution_count": 57,
   "metadata": {},
   "outputs": [
    {
     "data": {
      "text/plain": [
       "array([60, 60, 58, 56, 55, 56], dtype=int64)"
      ]
     },
     "execution_count": 57,
     "metadata": {},
     "output_type": "execute_result"
    }
   ],
   "source": [
    "notes = np.array(Single['Note'][0:window_size])\n",
    "notes"
   ]
  },
  {
   "cell_type": "code",
   "execution_count": 58,
   "metadata": {},
   "outputs": [
    {
     "data": {
      "text/plain": [
       "tensor([[0., 0., 0., 0., 0., 0.],\n",
       "        [0., 0., 0., 0., 0., 0.],\n",
       "        [0., 0., 0., 0., 0., 0.],\n",
       "        [0., 0., 0., 0., 0., 0.],\n",
       "        [0., 0., 0., 0., 0., 0.],\n",
       "        [0., 0., 0., 0., 0., 0.],\n",
       "        [0., 0., 0., 0., 0., 0.],\n",
       "        [0., 0., 0., 0., 0., 0.],\n",
       "        [0., 0., 0., 0., 0., 0.],\n",
       "        [0., 0., 0., 0., 0., 0.],\n",
       "        [0., 0., 0., 0., 0., 0.],\n",
       "        [0., 0., 0., 0., 0., 0.],\n",
       "        [0., 0., 0., 0., 0., 0.],\n",
       "        [0., 0., 0., 0., 0., 0.],\n",
       "        [0., 0., 0., 0., 0., 0.],\n",
       "        [0., 0., 0., 0., 0., 0.],\n",
       "        [0., 0., 0., 0., 0., 0.],\n",
       "        [0., 0., 0., 0., 0., 0.],\n",
       "        [0., 0., 0., 0., 0., 0.],\n",
       "        [0., 0., 0., 0., 1., 0.],\n",
       "        [0., 0., 0., 1., 0., 1.],\n",
       "        [0., 0., 0., 0., 0., 0.],\n",
       "        [0., 0., 1., 0., 0., 0.],\n",
       "        [0., 0., 0., 0., 0., 0.],\n",
       "        [1., 1., 0., 0., 0., 0.],\n",
       "        [0., 0., 0., 0., 0., 0.],\n",
       "        [0., 0., 0., 0., 0., 0.],\n",
       "        [0., 0., 0., 0., 0., 0.],\n",
       "        [0., 0., 0., 0., 0., 0.],\n",
       "        [0., 0., 0., 0., 0., 0.],\n",
       "        [0., 0., 0., 0., 0., 0.],\n",
       "        [0., 0., 0., 0., 0., 0.]], device='cuda:0')"
      ]
     },
     "execution_count": 58,
     "metadata": {},
     "output_type": "execute_result"
    }
   ],
   "source": [
    "X_n = note_one_hot(notes, dev)\n",
    "X_n"
   ]
  },
  {
   "cell_type": "code",
   "execution_count": 59,
   "metadata": {},
   "outputs": [
    {
     "data": {
      "text/plain": [
       "array([ 2, 10,  2,  2,  2,  6], dtype=int64)"
      ]
     },
     "execution_count": 59,
     "metadata": {},
     "output_type": "execute_result"
    }
   ],
   "source": [
    "dur = np.array(Single['Duration_32th'][0:window_size])\n",
    "dur"
   ]
  },
  {
   "cell_type": "code",
   "execution_count": 64,
   "metadata": {},
   "outputs": [
    {
     "data": {
      "text/plain": [
       "tensor([[0., 0., 0., 0., 0., 0.],\n",
       "        [1., 0., 1., 1., 1., 0.],\n",
       "        [0., 0., 0., 0., 0., 0.],\n",
       "        [0., 0., 0., 0., 0., 0.],\n",
       "        [0., 0., 0., 0., 0., 1.],\n",
       "        [0., 0., 0., 0., 0., 0.],\n",
       "        [0., 1., 0., 0., 0., 0.],\n",
       "        [0., 0., 0., 0., 0., 0.],\n",
       "        [0., 0., 0., 0., 0., 0.],\n",
       "        [0., 0., 0., 0., 0., 0.]], device='cuda:0')"
      ]
     },
     "execution_count": 64,
     "metadata": {},
     "output_type": "execute_result"
    }
   ],
   "source": [
    "X_d = dur_one_hot(dur,dur_list,dev)\n",
    "X_d"
   ]
  },
  {
   "cell_type": "code",
   "execution_count": 65,
   "metadata": {},
   "outputs": [
    {
     "data": {
      "text/plain": [
       "array([3, 0, 3, 2, 3, 1], dtype=int64)"
      ]
     },
     "execution_count": 65,
     "metadata": {},
     "output_type": "execute_result"
    }
   ],
   "source": [
    "lev = np.array(Single['Structure_level'][0:window_size])\n",
    "lev"
   ]
  },
  {
   "cell_type": "code",
   "execution_count": 66,
   "metadata": {},
   "outputs": [
    {
     "data": {
      "text/plain": [
       "tensor([[0., 1., 0., 0., 0., 0.],\n",
       "        [0., 0., 0., 0., 0., 1.],\n",
       "        [0., 0., 0., 1., 0., 0.],\n",
       "        [1., 0., 1., 0., 1., 0.],\n",
       "        [0., 0., 0., 0., 0., 0.]], device='cuda:0')"
      ]
     },
     "execution_count": 66,
     "metadata": {},
     "output_type": "execute_result"
    }
   ],
   "source": [
    "X_l = lev_one_hot(lev, dev)\n",
    "X_l"
   ]
  },
  {
   "cell_type": "code",
   "execution_count": 67,
   "metadata": {},
   "outputs": [],
   "source": [
    "a = torch.zeros([20,1], device = dev)\n",
    "w = 0.3"
   ]
  },
  {
   "cell_type": "code",
   "execution_count": 68,
   "metadata": {},
   "outputs": [
    {
     "name": "stdout",
     "output_type": "stream",
     "text": [
      "X_n: torch.float32\n",
      "X_d: torch.float32\n",
      "X_l: torch.float32\n",
      "a: torch.float32\n",
      "W_ax: torch.float32\n",
      "W_aa: torch.float32\n",
      "b_a: torch.float32\n",
      "W_yd: torch.float32\n",
      "b_yd: torch.float32\n",
      "W_yn: torch.float32\n",
      "b_yn: torch.float32\n"
     ]
    }
   ],
   "source": [
    "print('X_n:', X_n.dtype)\n",
    "print('X_d:', X_d.dtype)\n",
    "print('X_l:', X_l.dtype)\n",
    "print('a:', a.dtype)\n",
    "\n",
    "print('W_ax:', W_ax.dtype)\n",
    "print('W_aa:', W_aa.dtype)\n",
    "print('b_a:', b_a.dtype)\n",
    "print('W_yd:', W_yd.dtype)\n",
    "print('b_yd:', b_yd.dtype)\n",
    "print('W_yn:', W_yn.dtype)\n",
    "print('b_yn:', b_yn.dtype)"
   ]
  },
  {
   "cell_type": "code",
   "execution_count": 69,
   "metadata": {},
   "outputs": [
    {
     "name": "stdout",
     "output_type": "stream",
     "text": [
      "loss: tensor([2.4752], device='cuda:0', grad_fn=<DivBackward0>)\n",
      "a: tensor([[-0.3441],\n",
      "        [ 0.9837],\n",
      "        [ 0.7509],\n",
      "        [-0.1064],\n",
      "        [ 0.8168],\n",
      "        [ 0.9641],\n",
      "        [-0.2327],\n",
      "        [-0.5799],\n",
      "        [ 0.2957],\n",
      "        [ 0.8394],\n",
      "        [ 0.2604],\n",
      "        [ 0.8304],\n",
      "        [ 0.1909],\n",
      "        [ 0.2147],\n",
      "        [-0.9762],\n",
      "        [-0.0619],\n",
      "        [-0.3396],\n",
      "        [ 0.3215],\n",
      "        [-0.5679],\n",
      "        [ 0.9125]], device='cuda:0', grad_fn=<TanhBackward0>)\n"
     ]
    }
   ],
   "source": [
    "loss,a = forward_pass(X_n, X_d, X_l, a, W_ax, W_aa, b_a, W_yd, b_yd, W_yn, b_yn, window_size,w)\n",
    "print('loss:',loss)\n",
    "print('a:',a)"
   ]
  },
  {
   "cell_type": "markdown",
   "metadata": {},
   "source": [
    "*Expected output (ignore the irregular spaces)*:\n",
    "\n",
    "loss: tensor([2.4752], device='cuda:0', grad_fn= <DivBackward0\\>)\n",
    "    \n",
    "a: tensor([\n",
    "    \n",
    "        [-0.3441],\n",
    "        [ 0.9837],\n",
    "        [ 0.7509],\n",
    "        [-0.1064],\n",
    "        [ 0.8168],\n",
    "        [ 0.9641],\n",
    "        [-0.2327],\n",
    "        [-0.5799],\n",
    "        [ 0.2957],\n",
    "        [ 0.8394],\n",
    "        [ 0.2604],\n",
    "        [ 0.8304],\n",
    "        [ 0.1909],\n",
    "        [ 0.2147],\n",
    "        [-0.9762],\n",
    "        [-0.0619],\n",
    "        [-0.3396],\n",
    "        [ 0.3215],\n",
    "        [-0.5679],\n",
    "        [ 0.9125]], device='cuda:0', grad_fn=<TanhBackward0>)"
   ]
  },
  {
   "cell_type": "code",
   "execution_count": 70,
   "metadata": {},
   "outputs": [],
   "source": [
    "loss.backward()"
   ]
  },
  {
   "cell_type": "code",
   "execution_count": 71,
   "metadata": {},
   "outputs": [
    {
     "name": "stdout",
     "output_type": "stream",
     "text": [
      "b_yd: tensor([[ 0.0218],\n",
      "        [-0.0776],\n",
      "        [ 0.0213],\n",
      "        [ 0.0081],\n",
      "        [-0.0228],\n",
      "        [ 0.0031],\n",
      "        [-0.0077],\n",
      "        [ 0.0111],\n",
      "        [ 0.0206],\n",
      "        [ 0.0222]], device='cuda:0')\n"
     ]
    }
   ],
   "source": [
    "print('b_yd:', b_yd.grad)"
   ]
  },
  {
   "cell_type": "markdown",
   "metadata": {},
   "source": [
    "*Expected output (ignore the irregular spaces)*:\n",
    "    \n",
    "b_yd: tensor([\n",
    "    \n",
    "        [ 0.0218],\n",
    "        [-0.0776],\n",
    "        [ 0.0213],\n",
    "        [ 0.0081],\n",
    "        [-0.0228],\n",
    "        [ 0.0031],\n",
    "        [-0.0077],\n",
    "        [ 0.0111],\n",
    "        [ 0.0206],\n",
    "        [ 0.0222]], device='cuda:0')"
   ]
  },
  {
   "cell_type": "markdown",
   "metadata": {},
   "source": [
    "### 4) Training on the Dataset"
   ]
  },
  {
   "cell_type": "code",
   "execution_count": 73,
   "metadata": {},
   "outputs": [
    {
     "name": "stdout",
     "output_type": "stream",
     "text": [
      "cs1-2all_-1.csv\n",
      "cs1-2all_-2.csv\n",
      "cs2-2all_-1.csv\n",
      "cs2-2all_-2.csv\n",
      "cs2-2all_1.csv\n",
      "cs2-2all_2.csv\n",
      "cs3-5bou_-1.csv\n",
      "cs3-5bou_-2.csv\n",
      "cs3-5bou_-3.csv\n",
      "cs3-5bou_-4.csv\n",
      "cs3-5bou_1.csv\n",
      "cs3-5bou_2.csv\n",
      "cs4-1pre_part1_1.csv\n",
      "cs4-1pre_part1_2.csv\n",
      "cs4-1pre_part2_1.csv\n",
      "cs4-1pre_part2_2.csv\n",
      "cs4-1pre_part2_3.csv\n",
      "cs4-1pre_part2_4.csv\n",
      "cs4-2all_-1.csv\n",
      "cs4-2all_-2.csv\n",
      "cs4-2all_-3.csv\n",
      "cs5-2all_1.csv\n",
      "cs5-2all_2.csv\n",
      "cs1-1pre.csv\n",
      "cs1-2all.csv\n",
      "cs2-2all.csv\n",
      "cs3-2all.csv\n",
      "cs3-5bou.csv\n",
      "cs4-1pre_part1.csv\n",
      "cs4-1pre_part2.csv\n",
      "cs4-2all.csv\n",
      "cs4-5bou.csv\n",
      "cs5-2all.csv\n",
      "Number of files: 33\n"
     ]
    }
   ],
   "source": [
    "folder = Path('Selected_files').rglob('*.csv')\n",
    "num = 0\n",
    "for x in folder:\n",
    "    basename = os.path.basename(x)\n",
    "    num += 1\n",
    "    print(basename)\n",
    "print('Number of files:', num)"
   ]
  },
  {
   "cell_type": "code",
   "execution_count": 415,
   "metadata": {},
   "outputs": [
    {
     "name": "stdout",
     "output_type": "stream",
     "text": [
      "tensor([0.5806], device='cuda:0')\n",
      "tensor([0.5833], device='cuda:0')\n",
      "tensor([0.5828], device='cuda:0')\n",
      "tensor([0.5792], device='cuda:0')\n",
      "tensor([0.5755], device='cuda:0')\n",
      "tensor([0.5791], device='cuda:0')\n",
      "tensor([0.5757], device='cuda:0')\n",
      "tensor([0.5759], device='cuda:0')\n",
      "tensor([0.5722], device='cuda:0')\n",
      "tensor([0.5763], device='cuda:0')\n"
     ]
    }
   ],
   "source": [
    "w = 0.3\n",
    "lr = 0.05\n",
    "Loss = 0\n",
    "itr = 5\n",
    "\n",
    "for k in range(itr):\n",
    "    folder = Path('Selected_files').rglob('*.csv')\n",
    "    for x in folder:\n",
    "        Single = pd.read_csv(x, sep=\",\",names = [\"Note\", \"Duration_32th\", \"Structure_level\"])\n",
    "        n = len(Single)\n",
    "        a_prev = torch.zeros([20,1], device = dev)\n",
    "        window_size = np.random.randint(3,10)\n",
    "        st = 0\n",
    "        while n > 10:   # window size [3,10)\n",
    "            note = np.array(Single['Note'][st:st+window_size])\n",
    "            X_n = note_one_hot(note, dev)\n",
    "            dur = np.array(Single['Duration_32th'][st:st+window_size])\n",
    "            X_d = dur_one_hot(dur,dur_list,dev)\n",
    "            lev = np.array(Single['Structure_level'][st:st+window_size])\n",
    "            X_l = lev_one_hot(lev, dev)\n",
    "\n",
    "            loss,a_next = forward_pass(X_n, X_d, X_l, a_prev, W_ax, W_aa, b_a, W_yd, b_yd, W_yn, b_yn, window_size,w)\n",
    "            W_ax, W_aa, b_a, W_yd, b_yd, W_yn, b_yn = parameter_update(loss,lr, W_ax, W_aa, b_a, W_yd, b_yd, W_yn, b_yn)\n",
    "            Loss += loss.detach()\n",
    "\n",
    "            st = st + window_size\n",
    "            n = n - window_size\n",
    "            window_size = np.random.randint(3,10)\n",
    "            a_prev = a_next.detach()\n",
    "            ### Here we can modify the input a to the next chunk\n",
    "            ### a \\in (-1,1)\n",
    "            #a_prev = torch.clip(a_next.detach() + torch.randn(20,1)/5,-1,1)\n",
    "\n",
    "        note = np.array(Single['Note'][st:])\n",
    "        X_n = note_one_hot(note, dev)\n",
    "        dur = np.array(Single['Duration_32th'][st:])\n",
    "        X_d = dur_one_hot(dur,dur_list,dev)\n",
    "        lev = np.array(Single['Structure_level'][st:])\n",
    "        X_l = lev_one_hot(lev, dev)\n",
    "\n",
    "        loss,a_next = forward_pass(X_n, X_d, X_l, a_prev, W_ax, W_aa, b_a, W_yd, b_yd, W_yn, b_yn, n,w)\n",
    "        W_ax, W_aa, b_a, W_yd, b_yd, W_yn, b_yn = parameter_update(loss,lr, W_ax, W_aa, b_a, W_yd, b_yd, W_yn, b_yn)\n",
    "        Loss += loss.detach()\n",
    "\n",
    "    print(Loss/10000)\n",
    "    Loss = 0\n",
    "    torch.save([W_ax, W_aa, b_a, W_yd, b_yd, W_yn, b_yn],'parameters.pt')    "
   ]
  },
  {
   "cell_type": "code",
   "execution_count": 416,
   "metadata": {},
   "outputs": [
    {
     "name": "stdout",
     "output_type": "stream",
     "text": [
      "W_ax: tensor([[-7.2320e-02,  6.9126e-02, -1.0151e-01, -2.8801e-01,  5.1106e-01,\n",
      "         -1.2768e-01,  5.1141e-03, -1.4523e-01, -5.0894e-01, -3.6675e-01,\n",
      "          5.4688e-01,  9.7056e-03,  1.5399e-01, -1.1256e+00,  2.9985e-01,\n",
      "          7.5937e-01,  1.4038e-01,  9.2459e-01,  9.1128e-01, -2.3533e-01,\n",
      "         -3.0416e-01,  2.5579e-01, -8.1533e-01, -1.5772e-02, -5.9957e-03,\n",
      "         -6.5970e-01,  3.6329e-01, -5.1459e-01, -6.7873e-01, -9.8688e-02,\n",
      "          1.3879e-01, -3.9542e-01,  5.6158e-02,  1.4109e-01, -1.0052e-01,\n",
      "          2.8513e-01, -4.9112e-01,  2.7433e-01,  2.8488e-01,  1.9438e-01,\n",
      "          6.5918e-02, -3.6096e-01,  1.2960e-01, -8.9140e-02, -4.5980e-01,\n",
      "          1.3769e-01,  4.3990e-01],\n",
      "        [-4.3362e-01, -3.1094e-01, -2.8673e-01,  8.3591e-02, -6.4882e-01,\n",
      "         -6.1832e-01,  1.6836e-01,  2.9225e-01, -1.7384e-01, -6.1482e-01,\n",
      "          5.2860e-01,  5.7893e-01, -3.5133e-01,  9.9310e-01, -4.9120e-01,\n",
      "         -4.0525e-01,  1.4287e+00,  9.7593e-01, -3.0100e-01, -4.7424e-01,\n",
      "          1.0608e+00, -4.8837e-01, -6.8447e-01, -1.0482e-01, -9.7290e-01,\n",
      "         -2.0701e-01, -8.0959e-01,  1.3829e-01,  5.4505e-01,  3.8414e-02,\n",
      "         -1.9755e-01, -7.4986e-02,  3.1196e-01, -8.1042e-01,  5.6134e-01,\n",
      "          5.8230e-01,  1.8868e-01, -1.9355e-01, -4.1466e-01,  2.1764e-01,\n",
      "         -4.6924e-01,  9.6860e-02, -2.4329e-01,  4.9919e-02, -1.2039e-01,\n",
      "          3.2197e-02,  2.5939e-02],\n",
      "        [-1.0212e-01,  3.5127e-01,  6.2114e-01,  4.6841e-01,  9.3131e-01,\n",
      "          9.2967e-01,  7.0742e-01,  4.9279e-01,  5.9909e-01,  7.4657e-01,\n",
      "          5.1547e-01, -9.9460e-02,  4.1969e-01,  2.5814e-01, -5.2204e-01,\n",
      "         -7.6478e-01, -9.9715e-01,  4.3721e-02, -2.4672e-01, -1.0502e+00,\n",
      "         -1.4037e+00,  4.6141e-01, -7.9216e-01, -1.5564e+00,  1.2648e-01,\n",
      "          1.1706e-01, -7.1240e-01, -3.6787e-01,  1.0993e-01,  5.1702e-02,\n",
      "         -1.6481e-01,  4.5279e-01, -2.1882e-01, -1.2019e-02, -1.0703e-01,\n",
      "          1.0131e-01, -3.9736e-01,  1.0781e+00, -2.9704e-01, -7.3376e-01,\n",
      "         -1.6978e-01, -1.7625e-01, -1.1164e+00, -1.6819e+00,  9.2776e-01,\n",
      "          9.6557e-01,  1.3485e-01],\n",
      "        [ 6.3155e-01,  9.3838e-01,  1.1382e+00,  7.5646e-01,  7.2244e-01,\n",
      "          6.9481e-01,  5.3728e-01,  4.6168e-01,  8.1276e-01,  7.4656e-01,\n",
      "          3.9066e-01,  7.0626e-02, -3.4717e-01, -6.2451e-01, -3.1210e-01,\n",
      "         -1.2787e+00, -1.1482e+00, -1.0537e+00, -1.1029e+00, -9.3170e-01,\n",
      "         -1.7064e+00, -1.5838e+00, -2.1302e-01, -2.6362e-01, -6.4342e-01,\n",
      "          2.4750e-01,  5.5594e-01,  3.3850e-01,  6.6266e-01,  1.0868e+00,\n",
      "          9.2939e-01,  4.3719e-01, -7.6993e-01, -4.8105e-01,  1.9369e+00,\n",
      "         -1.3543e-01, -2.9088e-01,  4.1344e-01, -4.5826e-01,  4.0578e-01,\n",
      "          1.7093e-01, -2.3781e-01, -1.9532e-01, -6.8928e-04, -2.0199e-01,\n",
      "          5.6884e-01,  4.9465e-01],\n",
      "        [-1.0808e-01,  2.3175e-01, -3.3178e-01, -1.4367e-01,  5.7518e-02,\n",
      "         -3.6741e-01, -4.5443e-01, -5.5334e-01,  7.8741e-01,  4.5434e-01,\n",
      "          7.2611e-02,  1.4102e-01, -5.2074e-01, -8.5466e-02,  3.8019e-01,\n",
      "          9.0596e-01,  3.7955e-01, -2.8312e-01, -5.7983e-01, -1.4639e-01,\n",
      "          1.5133e-01, -2.5565e-01,  1.5132e-01, -4.0697e-01, -3.5086e-01,\n",
      "         -3.2184e-01,  5.4780e-02,  6.1632e-01,  9.8031e-02,  6.1632e-02,\n",
      "          1.0857e-01, -1.2664e-01,  1.0430e+00,  1.2227e-01, -1.2773e-01,\n",
      "          3.1621e-01, -6.0295e-01, -2.3088e-01, -7.2769e-02, -8.3702e-02,\n",
      "          4.0161e-01,  4.4499e-01,  8.8328e-02,  5.7573e-02, -2.5195e-01,\n",
      "          1.2402e-01, -1.2892e-01],\n",
      "        [ 4.7541e-01,  2.9214e-01,  4.7700e-01,  3.9485e-01,  1.0952e-01,\n",
      "          2.0959e-01,  4.0008e-01,  2.5528e-01, -1.4634e-01, -2.2629e-01,\n",
      "         -2.6831e-01,  8.0015e-02,  2.2791e-01,  1.4923e-01,  4.5112e-01,\n",
      "          2.5913e-01, -1.8497e-01, -1.9658e-01,  1.4946e-01, -3.0368e-01,\n",
      "          3.9186e-01,  4.4258e-01,  1.0801e-01, -2.4143e-01,  1.2956e-01,\n",
      "         -2.4534e-01,  2.4297e-01,  4.4084e-01,  2.3380e-01, -6.7377e-01,\n",
      "         -1.6637e-01,  2.9310e-01,  4.3378e-01,  3.3762e-01,  1.2073e-02,\n",
      "          1.1050e-01,  5.1774e-02, -2.8639e-01,  1.2911e-01, -2.0936e-01,\n",
      "          3.3921e-01, -1.4332e-01, -2.5620e-01,  2.0121e-01,  2.0160e-01,\n",
      "          5.7250e-01,  5.4455e-01],\n",
      "        [ 3.3638e-01,  1.6896e-01,  1.7094e-01,  8.6016e-01,  8.5963e-01,\n",
      "          1.0989e+00,  9.6867e-01,  3.4955e-01,  7.9004e-01,  5.8835e-01,\n",
      "          1.0900e-01,  6.1866e-01,  5.2776e-01,  6.9225e-01,  9.2268e-01,\n",
      "          4.2848e-01,  7.0230e-01, -1.1176e+00, -2.9460e-01,  7.8919e-01,\n",
      "         -1.7068e-01, -9.4778e-01, -1.0762e+00,  2.0046e-01, -1.1400e+00,\n",
      "         -9.6450e-01, -6.9462e-01, -8.1644e-01, -6.0025e-01, -7.8228e-01,\n",
      "         -9.6292e-02, -3.8185e-01,  3.6640e-02,  6.4214e-01, -6.8260e-01,\n",
      "          3.3206e-01, -9.1527e-02,  2.3397e-01,  3.7678e-01, -2.1581e-01,\n",
      "         -2.1324e-01, -1.0181e-01, -7.4616e-01, -9.3980e-01,  6.3578e-01,\n",
      "          9.7848e-02,  7.3172e-01],\n",
      "        [-2.1494e-01, -4.8924e-02,  3.8072e-01, -1.1399e-01, -3.0830e-02,\n",
      "          9.3449e-02, -3.4322e-02, -1.3680e-01, -9.3870e-02, -6.9798e-01,\n",
      "          4.1499e-01, -2.3933e-01, -9.4141e-01,  1.3086e+00,  5.5766e-01,\n",
      "          1.7687e-01,  2.3918e-01, -6.4930e-01, -3.9949e-01, -6.1287e-01,\n",
      "          5.3545e-01,  5.8300e-01, -1.2300e+00,  3.4664e-02, -3.3576e-01,\n",
      "          1.2485e+00,  5.2257e-02,  1.0250e-01,  1.4565e-01, -1.4656e-01,\n",
      "          1.2506e-01, -5.6787e-02, -6.3085e-01,  4.0542e-01, -6.6910e-02,\n",
      "         -5.1612e-01, -4.4103e-01,  7.2525e-01,  3.3263e-01,  1.2550e-01,\n",
      "         -3.6883e-01,  1.5228e-01, -1.9005e-01, -3.5340e-01, -1.5116e-01,\n",
      "         -1.0257e-01,  4.3562e-01],\n",
      "        [ 9.2624e-02, -1.8757e-01,  1.7630e-01,  2.7912e-01, -1.6649e-01,\n",
      "          2.1091e-01,  3.9300e-01, -2.2740e-01,  5.3651e-01, -3.1404e-01,\n",
      "          1.1280e-01,  6.6937e-01, -3.7397e-01,  1.3610e-01, -3.0608e-01,\n",
      "         -2.9402e-01, -7.6010e-02,  2.6807e-01, -2.7168e-01, -2.4922e-01,\n",
      "          1.1989e-01,  5.4092e-01,  1.6297e-01,  2.6651e-01,  2.4086e-01,\n",
      "         -6.4091e-01, -2.9622e-01, -3.4231e-01, -6.6901e-01, -2.0948e-01,\n",
      "         -3.1518e-01, -5.8033e-01, -1.0138e+00,  3.9783e-01,  6.4757e-01,\n",
      "         -4.0413e-01, -8.0199e-01, -2.8056e-01, -1.4025e-01,  2.3533e-01,\n",
      "          8.3281e-03, -4.4120e-01, -8.1020e-02, -2.5750e-01, -2.5095e-01,\n",
      "          2.6723e-01, -3.8339e-01],\n",
      "        [-5.8321e-02,  1.2241e-02,  3.5121e-01,  2.2834e-01,  1.5421e-01,\n",
      "          3.7598e-01,  5.5894e-01,  7.9570e-01,  1.1916e+00,  1.0399e+00,\n",
      "          1.6963e+00,  1.7406e+00,  6.1004e-01,  3.7109e-01,  6.2391e-01,\n",
      "         -6.5971e-03, -9.4916e-01, -3.8584e-01, -5.7155e-01, -9.9872e-01,\n",
      "          1.3443e-01, -7.1890e-01, -1.3404e+00, -1.0669e+00,  5.5042e-01,\n",
      "         -1.1526e+00, -9.7008e-01, -5.5890e-01, -9.2626e-01, -6.2567e-01,\n",
      "         -3.5307e-01, -6.1853e-01, -3.7171e-02, -3.9051e-01,  1.0408e+00,\n",
      "          1.2324e-01, -3.3544e-01, -1.3635e-01, -6.8902e-03, -1.7982e-01,\n",
      "         -5.5937e-02,  2.4811e-01,  6.3042e-01,  9.5653e-01, -4.8693e-01,\n",
      "         -4.0916e-01, -4.6794e-01],\n",
      "        [ 2.3978e-01, -4.0520e-01,  3.3559e-02,  8.4752e-02,  2.6701e-01,\n",
      "          6.6686e-01,  7.8895e-02, -2.4068e-01, -3.5866e-01,  7.7877e-01,\n",
      "          1.9147e-01,  8.5547e-01, -3.9690e-01, -7.2237e-01,  3.6781e-01,\n",
      "         -3.4093e-01,  8.5699e-01, -1.6559e-01, -2.1381e-01, -5.2423e-01,\n",
      "         -1.0500e+00,  8.1012e-01, -3.6034e-01,  6.9597e-01, -1.3495e-01,\n",
      "         -5.9935e-01, -8.2191e-01,  2.2970e-01,  4.3032e-01, -1.9798e-01,\n",
      "          8.2544e-01,  2.4322e-01,  7.7309e-01,  2.0232e-02, -1.1957e-01,\n",
      "          1.9168e-01, -2.3292e-01, -4.1946e-01, -1.3307e-01, -2.1335e-01,\n",
      "         -5.4126e-02,  2.0697e-01,  4.5145e-01,  2.5897e-01, -1.2475e-01,\n",
      "         -1.3309e-02, -1.1906e+00],\n",
      "        [ 4.5534e-01,  1.2502e-01, -8.2512e-02, -3.8575e-02, -4.4104e-01,\n",
      "          3.2338e-01,  1.3134e-01,  2.3488e-01, -5.3183e-01, -5.8081e-01,\n",
      "          3.3433e-01, -1.8007e-01,  4.5091e-01, -3.7040e-02, -2.5431e-01,\n",
      "          2.5877e-01, -1.1456e-01,  8.7423e-01, -3.9193e-01,  1.1261e+00,\n",
      "         -8.1914e-03, -5.5877e-01,  3.5457e-01, -3.6613e-01,  5.9858e-01,\n",
      "         -4.1742e-01,  3.1883e-01,  9.8076e-02, -9.2081e-01,  2.2847e-01,\n",
      "          8.7538e-02,  5.7200e-02,  9.5170e-01, -3.6592e-01, -5.2319e-01,\n",
      "          7.1579e-01, -7.3229e-02,  3.9642e-01, -4.2445e-01, -2.6834e-01,\n",
      "         -7.4661e-02,  6.3102e-02,  6.7938e-02,  9.3821e-02,  8.5222e-02,\n",
      "          1.1449e-01, -5.5639e-01],\n",
      "        [ 2.5865e-01,  9.9588e-02,  1.8934e-01, -5.0743e-01, -2.7404e-01,\n",
      "          7.8226e-01,  5.9180e-01, -1.1419e-01,  2.3108e-01,  1.3622e-01,\n",
      "          1.8656e-01,  4.9193e-01, -1.2519e+00, -5.0686e-01,  4.8389e-01,\n",
      "         -1.2809e-01,  1.6077e+00, -5.9095e-01, -9.8810e-01,  7.7786e-01,\n",
      "         -4.1792e-01,  9.3930e-01, -1.6585e+00, -1.2330e+00, -7.6631e-02,\n",
      "         -6.1928e-02,  2.4678e-01, -1.0797e-01, -1.1479e-01,  4.8002e-01,\n",
      "          7.8055e-02,  2.9111e-01,  3.6241e-02, -2.3877e-01,  3.6518e-01,\n",
      "         -1.8620e-01,  1.2705e-01,  3.6957e-01,  1.0873e-01, -1.4863e-01,\n",
      "         -2.2681e-03,  4.7672e-02, -1.7531e-01,  3.7416e-02,  6.1525e-02,\n",
      "         -1.9819e-02,  3.1549e-01],\n",
      "        [ 6.0236e-01,  4.1002e-01,  2.8063e-01,  4.5693e-01,  9.2044e-02,\n",
      "          1.0304e-01,  4.3869e-02, -4.3491e-02, -2.9550e-01, -1.2684e+00,\n",
      "         -1.4859e-01, -3.6968e-01, -1.2498e+00, -1.3040e+00, -1.3131e+00,\n",
      "         -1.5028e+00, -1.3901e+00, -8.7823e-01, -9.5558e-01, -2.1190e-01,\n",
      "          5.9622e-01,  2.3170e-01,  9.8908e-02,  9.3833e-01,  1.1925e+00,\n",
      "          7.9982e-01,  1.1193e+00,  1.2885e+00,  1.3598e+00,  1.4173e+00,\n",
      "          9.9846e-01,  7.1126e-01,  5.3768e-01,  3.3681e-01, -5.3232e-01,\n",
      "         -3.9432e-02,  6.2648e-01, -3.3686e-01,  1.4713e-01,  3.0787e-01,\n",
      "          8.0235e-01,  5.3082e-01, -2.3373e-01, -4.6887e-01,  3.5222e-01,\n",
      "          2.7763e-01,  3.1464e-01],\n",
      "        [ 2.0477e-01, -1.9163e-01, -6.5731e-01,  1.6602e-01,  1.4168e-01,\n",
      "          2.5480e-01, -6.9134e-01, -5.9893e-01,  5.4658e-01, -1.2381e-01,\n",
      "         -4.9358e-01,  7.8346e-02, -4.6498e-01,  1.6967e-01,  7.5656e-02,\n",
      "         -8.3959e-01, -3.6515e-01, -2.1093e-01,  5.4374e-01,  5.7763e-02,\n",
      "         -3.4420e-01, -2.8826e-01, -3.2882e-01, -8.2055e-01,  9.3369e-01,\n",
      "          1.1593e-01,  8.8831e-01,  6.7619e-01,  3.5901e-01, -1.2280e-01,\n",
      "         -3.1622e-01,  2.7497e-02,  7.1398e-01, -3.6957e-01,  2.6108e-02,\n",
      "          3.1875e-01,  1.0053e-01, -6.0458e-01,  2.9862e-01,  7.2190e-01,\n",
      "          8.1265e-02,  3.8529e-01,  7.4780e-02,  1.2882e-01, -7.5808e-02,\n",
      "          2.8609e-01, -3.1860e-01],\n",
      "        [ 5.3666e-01, -2.2500e-01, -6.9738e-02, -9.0255e-02, -1.3516e-01,\n",
      "         -3.7279e-01, -3.6910e-01,  1.1239e-01,  3.7098e-02, -7.6320e-01,\n",
      "         -1.7314e-01,  6.1451e-01, -2.1929e-01, -3.1819e-03, -8.0179e-01,\n",
      "          4.0103e-01,  4.5214e-01, -2.2235e-01,  5.4379e-01, -6.5447e-01,\n",
      "          3.5044e-01, -2.3190e-01, -4.6533e-02, -2.4283e-01, -7.4952e-01,\n",
      "         -3.6885e-02,  3.8017e-01, -3.4896e-01,  6.3650e-01,  4.0390e-02,\n",
      "          1.4189e-01,  2.4980e-01,  1.3540e-01, -1.7169e-02, -5.4353e-01,\n",
      "          5.4487e-01,  4.5191e-01, -1.5937e-01, -3.5197e-01,  1.8201e-01,\n",
      "          4.1614e-02,  3.5276e-01, -1.8712e-01, -1.4956e-01,  4.2469e-01,\n",
      "         -3.8645e-02,  2.9849e-02],\n",
      "        [ 2.6186e-01,  2.4912e-01,  3.1484e-01, -1.4785e-01, -2.3586e-01,\n",
      "         -1.9702e-01,  2.3697e-01,  4.1398e-01,  2.2359e-01, -7.3118e-02,\n",
      "         -2.5307e-01, -1.0644e-02,  8.1012e-01,  3.7225e-01,  5.2327e-01,\n",
      "         -2.2753e-01,  7.9619e-02, -2.6138e-01,  4.2204e-01,  1.9174e-02,\n",
      "          1.5668e-01,  2.8489e-01,  2.5430e-01,  3.3780e-01, -1.4784e-01,\n",
      "         -2.5757e-01, -3.0178e-01,  3.6388e-01,  3.4428e-01,  3.8482e-01,\n",
      "          3.9538e-03,  4.6217e-01, -2.2332e-01, -3.6506e-01, -2.8523e-01,\n",
      "         -1.4481e-01, -2.3761e-01,  2.5171e-01, -1.6805e-01, -9.2904e-02,\n",
      "          3.2292e-01,  2.4651e-01, -5.2782e-02,  8.8208e-02, -2.9592e-01,\n",
      "         -9.3076e-03,  1.8798e-01],\n",
      "        [-1.2193e-01, -3.3249e-01, -1.8790e-01, -1.3621e-01,  7.5633e-01,\n",
      "         -2.7180e-01, -2.1700e-02, -1.5555e-01,  2.5793e-01,  6.0537e-01,\n",
      "          8.1849e-03, -6.2309e-01, -2.0194e-01,  4.2208e-01,  8.7137e-01,\n",
      "         -2.5605e-02, -7.0978e-01,  3.4017e-01, -5.3091e-01,  1.1459e-01,\n",
      "          4.5895e-01, -2.2174e-01, -8.1389e-01,  1.9646e-02,  2.4470e-01,\n",
      "         -1.9567e-02, -4.3660e-01,  1.2807e-01, -1.6155e-01,  3.4362e-01,\n",
      "         -3.0483e-02,  4.4501e-01, -1.1080e-01, -3.4357e-01,  5.5837e-01,\n",
      "          3.0703e-01,  3.5392e-02,  5.2750e-02,  4.3480e-01,  1.6423e-01,\n",
      "          3.0968e-01,  6.6774e-02,  1.5928e-02, -1.4762e-01, -2.6417e-01,\n",
      "          2.6523e-02,  4.2482e-01],\n",
      "        [-5.5898e-02,  5.3886e-01,  3.1996e-01, -4.1611e-01,  7.6063e-02,\n",
      "          8.6698e-01,  1.8260e-01, -6.5438e-02, -4.3186e-02,  2.9935e-01,\n",
      "          9.3929e-01, -1.4689e-01,  3.5543e-01, -7.4173e-02, -1.5702e+00,\n",
      "          8.6112e-01,  6.6178e-01, -1.0164e+00, -8.6105e-01,  3.9698e-01,\n",
      "         -6.0319e-01, -8.3691e-01, -1.1706e-01, -8.8157e-01,  3.4689e-01,\n",
      "         -1.9208e-01, -8.8404e-01,  2.0425e-01,  3.4849e-01, -3.3138e-01,\n",
      "         -1.5117e-01,  2.8044e-01,  5.1271e-01,  4.3644e-01, -2.8479e-01,\n",
      "         -4.6720e-01,  9.1631e-03,  6.6218e-02,  6.2336e-01,  3.5004e-02,\n",
      "          5.3236e-01, -3.6325e-02,  8.2583e-01,  4.9539e-01, -3.0271e-01,\n",
      "         -4.0100e-01,  5.3864e-01],\n",
      "        [ 2.2197e-01,  2.0763e-01,  2.8978e-01,  2.0714e-01,  2.5775e-01,\n",
      "          4.4547e-01,  5.5835e-02, -4.5432e-01, -7.8044e-01, -4.6894e-01,\n",
      "         -7.5425e-01, -1.8410e-01,  1.6017e-01, -1.3579e-01, -5.9769e-01,\n",
      "          2.8549e-01,  5.3056e-02, -8.5728e-01,  7.4754e-01,  9.5857e-01,\n",
      "          5.7646e-01,  5.3316e-01,  9.0638e-02,  5.0977e-01,  6.0021e-01,\n",
      "         -3.7535e-01, -3.6684e-01, -7.4008e-01,  5.1908e-02, -6.8748e-01,\n",
      "          8.2716e-02,  1.6499e-01, -1.2488e-01, -1.2877e+00,  1.0063e+00,\n",
      "         -1.7679e-02, -5.5268e-01, -4.9684e-02, -6.1026e-01,  6.7404e-01,\n",
      "         -2.4695e-01, -3.1205e-01, -2.9078e-01, -1.0851e-01,  6.7824e-03,\n",
      "          7.4791e-01,  7.2276e-02]], device='cuda:0', requires_grad=True)\n",
      "W_aa: tensor([[-0.0840,  0.1816,  0.3892, -0.0553, -0.1369, -0.3324,  0.0590, -0.1327,\n",
      "         -0.1833, -0.1688, -0.0360, -0.1552, -0.0076, -0.0823,  0.2379, -0.1571,\n",
      "         -0.0831, -0.1261,  0.0711, -0.1911],\n",
      "        [ 0.0592, -0.1227,  0.0753,  0.1952, -0.1490,  0.3650, -0.0890, -0.0801,\n",
      "          0.1361, -0.1244, -0.2344, -0.2545,  0.0941, -0.1147, -0.0065, -0.0696,\n",
      "          0.0181, -0.4164,  0.1295, -0.0209],\n",
      "        [ 0.0515,  0.2629,  0.0135, -0.2666, -0.0056, -0.2738,  0.0072, -0.1433,\n",
      "         -0.5080, -0.2710,  0.1273,  0.0411,  0.0513,  0.1594,  0.2630,  0.0043,\n",
      "         -0.0544,  0.2367, -0.0055, -0.1342],\n",
      "        [-0.2061,  0.0196,  0.0137, -0.0392, -0.0985,  0.0587, -0.1030, -0.0851,\n",
      "          0.0109, -0.0914, -0.0127, -0.1037,  0.1193,  0.0558,  0.0969, -0.0529,\n",
      "         -0.0050, -0.0795, -0.1047,  0.2201],\n",
      "        [-0.0914,  0.1388, -0.0772,  0.0267,  0.4097, -0.2567,  0.2717,  0.0640,\n",
      "         -0.1203,  0.0813, -0.1533, -0.0852, -0.2645,  0.0189, -0.2812,  0.0024,\n",
      "         -0.4139, -0.0452, -0.1244, -0.0664],\n",
      "        [-0.4572, -0.0533, -0.1159,  0.1207, -0.2689,  0.2161,  0.5362, -0.4333,\n",
      "          0.1216,  0.3456, -0.4616,  0.1680, -0.0689,  0.2279,  0.2945, -0.3707,\n",
      "         -0.2459, -0.3429,  0.4191,  0.2662],\n",
      "        [ 0.2874,  0.0839,  0.1601, -0.0301, -0.1578,  0.1626,  0.1779,  0.1364,\n",
      "         -0.1359,  0.2941,  0.0008, -0.2970, -0.0041,  0.0218,  0.0499, -0.0286,\n",
      "          0.0440,  0.0980,  0.1789, -0.0297],\n",
      "        [-0.1725, -0.3425,  0.1602,  0.2501,  0.0770, -0.2004, -0.1002,  0.2073,\n",
      "          0.0183,  0.1622,  0.3433,  0.6285,  0.0972, -0.2397, -0.0369,  0.3410,\n",
      "          0.1461, -0.3061, -0.1272, -0.0491],\n",
      "        [-0.0133, -0.3494, -0.1022,  0.1103, -0.2753, -0.0809, -0.1509, -0.1173,\n",
      "          0.4126, -0.2114,  0.0972, -0.1846,  0.1830, -0.2320, -0.2394,  0.4610,\n",
      "          0.2074,  0.2914, -0.1060,  0.0523],\n",
      "        [ 0.0811,  0.0693, -0.1118, -0.0870, -0.0344, -0.0359,  0.1787,  0.1547,\n",
      "          0.0395,  0.0013, -0.1364,  0.1377, -0.0592, -0.2100, -0.1678, -0.1195,\n",
      "         -0.6366, -0.0542,  0.1139,  0.1978],\n",
      "        [ 0.0331,  0.0434,  0.0062, -0.0738, -0.1093, -0.0279,  0.0085, -0.1499,\n",
      "         -0.0714, -0.1038,  0.3862,  0.2886,  0.0742,  0.0098,  0.0881,  0.0981,\n",
      "         -0.1728, -0.3060, -0.1234, -0.0470],\n",
      "        [-0.1201, -0.2362,  0.0464,  0.0611, -0.2477, -0.1099,  0.0166, -0.0396,\n",
      "         -0.1002,  0.0730,  0.0401,  0.4237,  0.1868, -0.1198,  0.1362,  0.1216,\n",
      "          0.2227,  0.0914, -0.0537,  0.0353],\n",
      "        [ 0.0854, -0.0034,  0.0038,  0.0515, -0.0682,  0.0821, -0.1309, -0.1296,\n",
      "          0.1416, -0.1210, -0.3149, -0.4674,  0.1409,  0.2103, -0.2211, -0.2865,\n",
      "          0.0206, -0.3127,  0.0468,  0.0342],\n",
      "        [ 0.1732,  0.0386,  0.0575,  0.0073, -0.0189, -0.2016, -0.0353,  0.0607,\n",
      "         -0.2952, -0.1255, -0.1819,  0.0175,  0.0835,  0.0184, -0.1046,  0.2629,\n",
      "          0.3702, -0.0232,  0.1553,  0.0088],\n",
      "        [-0.0429, -0.2529, -0.0172, -0.3818, -0.4133, -0.0228,  0.1631,  0.4441,\n",
      "         -0.0472, -0.0159,  0.0430,  0.0146,  0.2759,  0.1361,  0.2943, -0.2070,\n",
      "         -0.3407,  0.0745, -0.0472, -0.0023],\n",
      "        [-0.1678, -0.1361, -0.0122,  0.2432, -0.2196,  0.1462,  0.1040,  0.2050,\n",
      "          0.1158,  0.0547,  0.4247,  0.3831,  0.0562, -0.1261,  0.0512,  0.3400,\n",
      "          0.3828,  0.1509,  0.0387, -0.0920],\n",
      "        [ 0.0701,  0.0968,  0.1077,  0.1635,  0.1244,  0.0628,  0.2284, -0.0836,\n",
      "         -0.2488,  0.1670,  0.0825, -0.1992, -0.1033, -0.1156, -0.1350,  0.0667,\n",
      "          0.4902,  0.1467, -0.0479, -0.0631],\n",
      "        [-0.0504,  0.0184, -0.0230, -0.3006, -0.4198, -0.0456,  0.1147, -0.4353,\n",
      "          0.2923, -0.1242,  0.3413, -0.3660,  0.3451,  0.1926,  0.2075,  0.8044,\n",
      "          0.5897,  0.7293,  0.1532, -0.0030],\n",
      "        [ 0.1670,  0.0166,  0.0722, -0.0558,  0.0990, -0.1368,  0.1803,  0.2460,\n",
      "          0.1657, -0.0367,  0.1913,  0.1481, -0.0149, -0.1566,  0.3320,  0.0112,\n",
      "          0.1596,  0.2517, -0.0468, -0.3823],\n",
      "        [-0.0703,  0.1399,  0.1522, -0.0521, -0.1614,  0.0403, -0.0013,  0.1029,\n",
      "         -0.0474,  0.0349, -0.1138,  0.1630,  0.2712,  0.0354, -0.0823,  0.0891,\n",
      "         -0.0702, -0.1342, -0.0670,  0.1064]], device='cuda:0',\n",
      "       requires_grad=True)\n",
      "b_a: tensor([[-3.8399e-01],\n",
      "        [-1.5952e-01],\n",
      "        [ 3.6086e-02],\n",
      "        [ 1.2297e-01],\n",
      "        [-1.2060e-01],\n",
      "        [ 7.2926e-01],\n",
      "        [-6.6125e-01],\n",
      "        [ 9.9792e-02],\n",
      "        [-2.6931e-01],\n",
      "        [-1.5056e-01],\n",
      "        [ 8.1955e-03],\n",
      "        [ 3.0497e-01],\n",
      "        [ 4.1637e-01],\n",
      "        [-4.2406e-01],\n",
      "        [ 2.8045e-01],\n",
      "        [-2.3156e-01],\n",
      "        [-3.4376e-01],\n",
      "        [-7.2128e-05],\n",
      "        [ 3.5586e-01],\n",
      "        [ 4.9292e-01]], device='cuda:0', requires_grad=True)\n",
      "W_yd: tensor([[-6.8505e-01,  3.2402e-01, -1.7521e-01, -3.8893e-01,  7.9545e-01,\n",
      "         -2.9141e-01, -6.7158e-01, -1.0806e+00, -1.8812e+00,  6.8828e-01,\n",
      "          1.1281e+00,  1.1435e+00,  2.3307e-01, -2.0243e-02,  1.0403e+00,\n",
      "          5.1003e-01,  2.4921e-01, -2.3865e-01, -2.9041e-01,  4.4814e-01],\n",
      "        [-5.0639e-01, -9.8909e-01, -1.0223e+00, -1.0112e+00, -1.8858e+00,\n",
      "          1.2321e+00, -1.8271e-01, -5.4803e-02,  3.6398e-01,  5.6242e-01,\n",
      "         -7.7629e-01, -8.5443e-01,  3.4766e-01, -3.7069e-01,  4.5073e-01,\n",
      "         -3.0205e-01, -8.8304e-01, -5.7212e-01,  1.0101e+00, -1.6524e+00],\n",
      "        [ 2.2062e-01,  1.0297e-02, -3.1354e-01,  3.7904e-01,  1.7071e-01,\n",
      "          1.2104e+00, -5.1353e-01,  3.4803e-01,  1.2201e+00,  1.5170e-01,\n",
      "         -8.0678e-01,  4.4822e-02,  2.3021e-01, -7.4285e-01,  3.3326e-01,\n",
      "         -5.0695e-01, -1.0966e-01, -3.7266e-01,  4.8341e-01,  9.0216e-01],\n",
      "        [-1.4008e-01,  1.0787e-02,  3.6113e-01, -3.1992e-01,  5.7213e-01,\n",
      "         -4.9191e-01, -5.3297e-02,  6.1236e-02,  3.9417e-01,  2.7052e-01,\n",
      "          1.5000e-01,  4.9836e-01, -1.5463e-01,  6.2930e-01,  3.2759e-02,\n",
      "          3.3828e-01,  6.6373e-01, -3.0709e-02, -2.4947e-01, -2.7780e-01],\n",
      "        [-9.5772e-02,  1.6424e-01,  9.4820e-01, -3.0225e-04, -1.3144e-01,\n",
      "          3.9324e-01,  4.4526e-01,  2.1983e-01, -5.1862e-01, -5.1316e-01,\n",
      "         -3.2826e-01,  3.9883e-01,  7.0819e-02,  7.2280e-02,  5.1187e-01,\n",
      "         -2.3085e-01, -1.3383e-01,  4.0582e-01, -1.0956e-01,  1.4662e-01],\n",
      "        [ 8.6340e-02,  1.0266e-01,  1.3857e-01,  3.1544e-01,  7.0368e-01,\n",
      "          1.0608e-01, -8.8730e-02,  9.6938e-02, -9.9453e-02, -2.0024e-01,\n",
      "          1.8549e-01,  4.6587e-01,  6.6046e-02,  1.7717e-01, -3.9194e-01,\n",
      "          2.5609e-01,  2.2173e-02,  1.8867e-02, -1.8119e-01,  4.2660e-04],\n",
      "        [-1.7670e-02, -1.7666e-01,  4.6296e-01,  7.7959e-03, -1.3615e-01,\n",
      "         -3.3918e-01,  3.3325e-01,  1.9258e-01,  1.2873e-01, -1.3269e-01,\n",
      "         -7.7459e-02,  2.2135e-01,  2.4759e-01,  3.4876e-01,  1.2773e-01,\n",
      "         -5.0651e-01,  2.8804e-01, -2.3852e-01, -1.7471e-01,  2.0808e-01],\n",
      "        [-1.0404e-01, -2.1159e-01,  4.4565e-01,  2.0283e-01, -1.0485e-01,\n",
      "          3.6418e-01,  5.5876e-01,  3.4179e-02,  1.5006e-01,  3.0927e-01,\n",
      "         -4.9270e-01, -1.4522e-01,  4.1731e-01, -4.2016e-03,  1.0016e-01,\n",
      "          3.2048e-01,  3.2190e-01, -5.2927e-02, -1.8477e-01,  3.6978e-01],\n",
      "        [-4.1572e-02, -1.3020e-01,  3.9632e-01, -1.5989e-01,  7.0852e-01,\n",
      "         -3.2998e-01,  4.4444e-01,  8.2312e-02,  4.3460e-01,  1.8478e-01,\n",
      "         -1.3342e-01, -5.9227e-02, -1.4093e-01,  2.0241e-02, -4.4433e-01,\n",
      "          8.3703e-01,  3.0395e-01,  1.1624e-01,  2.9270e-01,  2.9926e-01],\n",
      "        [ 4.9169e-01,  2.9327e-02,  2.0399e-01,  1.5817e-01,  1.8034e-01,\n",
      "         -5.2199e-01,  2.2374e-01,  3.5156e-01,  7.9509e-02,  3.3872e-01,\n",
      "         -1.5332e-01, -1.2271e-01, -4.5451e-01, -5.4472e-02, -1.7418e-01,\n",
      "          6.1469e-01,  7.5881e-01,  7.3812e-01, -1.8295e-01,  2.8920e-02]],\n",
      "       device='cuda:0', requires_grad=True)\n",
      "b_yd: tensor([[ 0.1988],\n",
      "        [ 1.6421],\n",
      "        [ 0.8619],\n",
      "        [ 0.0776],\n",
      "        [ 0.7461],\n",
      "        [-0.1897],\n",
      "        [ 0.4281],\n",
      "        [-0.4009],\n",
      "        [-0.9237],\n",
      "        [-0.4987]], device='cuda:0', requires_grad=True)\n",
      "W_yn: tensor([[ 1.6846e-01, -3.5678e-01,  6.3387e-01,  1.0619e+00,  1.5128e-01,\n",
      "         -3.6430e-01,  6.4951e-01,  6.8375e-01, -3.4179e-01,  6.3246e-01,\n",
      "          1.6139e-01,  1.0447e-01, -3.7544e-01, -1.3204e-01, -3.3849e-01,\n",
      "          4.5549e-01,  6.4658e-01, -1.5160e-01,  1.7157e-01,  8.0992e-01,\n",
      "          1.7229e-01, -5.4741e-01, -3.8564e-02, -1.9390e-01, -1.2538e-01,\n",
      "          3.2756e-01, -3.7211e-01, -2.0496e-01,  4.3361e-01,  1.4755e-01],\n",
      "        [ 2.4566e-01, -2.3017e-01,  1.0578e+00,  6.6054e-01,  6.9229e-02,\n",
      "         -5.5778e-01,  9.2001e-01, -2.1903e-01,  6.3512e-03,  3.1559e-02,\n",
      "         -5.6056e-02,  2.8082e-01,  3.2811e-01, -2.5590e-01, -3.0376e-01,\n",
      "          1.9212e-02,  8.2289e-01, -6.4464e-02,  2.1390e-01,  1.1880e-01,\n",
      "         -1.2266e-01, -4.2045e-01,  3.5492e-01,  2.3250e-01,  4.1247e-01,\n",
      "         -5.9372e-02,  7.1739e-02,  3.5827e-02,  4.5294e-01, -5.0942e-02],\n",
      "        [ 1.7931e-01, -7.8827e-03,  7.5007e-01,  8.7602e-01,  1.0194e-01,\n",
      "         -4.9990e-01,  1.2933e+00,  7.7584e-01,  1.4526e-02,  2.3431e-01,\n",
      "          6.6778e-02,  3.5181e-01, -5.1958e-01,  3.6189e-01, -3.1555e-01,\n",
      "         -2.7005e-01, -2.1986e-01,  6.8595e-01, -2.6287e-01,  5.5740e-01,\n",
      "          3.9594e-01, -1.8496e-01,  8.3216e-02,  1.6643e-01,  3.1406e-01,\n",
      "          2.9069e-01, -4.4834e-01, -1.0742e-01, -9.6367e-02,  1.5769e-01],\n",
      "        [ 2.4875e-01, -1.8802e-01,  1.3175e+00,  8.5540e-01,  2.6859e-01,\n",
      "         -3.6380e-01,  7.8941e-01,  3.3655e-01, -4.0385e-01,  4.8977e-01,\n",
      "         -2.1364e-01, -2.7977e-01,  7.0244e-01,  3.8315e-01, -3.4685e-01,\n",
      "         -3.2808e-01, -2.5223e-01, -4.9123e-01,  2.6170e-01,  5.6032e-01,\n",
      "         -9.6029e-02, -1.0229e+00,  2.6169e-01,  4.5707e-02,  3.1722e-01,\n",
      "         -1.8838e-01,  2.4773e-01, -3.3786e-01,  3.8103e-01,  3.1147e-01],\n",
      "        [-2.7523e-01, -4.1053e-01,  1.3140e+00,  9.1294e-01,  9.6881e-02,\n",
      "         -4.9801e-01,  1.1706e+00, -2.9260e-02,  8.6542e-01,  3.2465e-01,\n",
      "          3.9584e-02,  2.0424e-02,  9.0112e-01,  1.6352e-01, -8.4513e-01,\n",
      "          2.2555e-01,  4.7535e-01,  1.9690e-01,  7.6276e-01,  5.6214e-01,\n",
      "         -5.7227e-01, -5.2866e-01, -9.3312e-02,  9.8463e-02,  4.5811e-02,\n",
      "         -3.5825e-01, -1.3738e-01, -4.0288e-01,  3.6017e-02, -1.3126e-01],\n",
      "        [ 1.3873e-01,  1.3695e-01,  1.1614e+00,  1.4610e+00, -7.7744e-01,\n",
      "         -2.0487e-01,  4.3919e-01,  7.4567e-02, -4.4130e-01,  3.8632e-01,\n",
      "          1.0376e-02,  1.7376e-01, -5.0277e-01, -2.2887e-02, -7.2159e-01,\n",
      "          8.7977e-02,  4.3381e-01, -6.9053e-01,  9.9409e-02, -4.4887e-01,\n",
      "         -1.2929e-01,  4.1477e-01,  3.5164e-01,  2.9606e-02, -3.1898e-01,\n",
      "         -3.1448e-01, -1.8569e-01,  1.8312e-01, -2.8647e-02,  3.2992e-01],\n",
      "        [-1.6617e-01,  3.1069e-01,  6.1014e-01,  9.3926e-01,  2.0910e-01,\n",
      "         -3.1122e-01,  9.6318e-01, -4.9119e-01,  7.5112e-02,  4.5353e-01,\n",
      "         -5.9216e-01, -3.4669e-01,  1.2884e-01,  3.1676e-01, -2.5284e-01,\n",
      "         -1.6447e-01,  8.0919e-01,  2.1566e-01,  5.5148e-02, -9.1479e-01,\n",
      "          5.1528e-02,  1.6256e-01, -1.3627e-01,  2.7715e-01, -4.9475e-01,\n",
      "          1.3534e-01, -5.0118e-01,  3.9481e-01, -3.4173e-01,  3.2546e-01],\n",
      "        [-5.2735e-01, -4.6894e-01,  5.0548e-01,  1.0956e+00,  5.0635e-01,\n",
      "          2.9604e-04,  7.5065e-01,  2.8825e-01, -4.3254e-01,  5.5088e-01,\n",
      "          4.4633e-01,  1.4257e-02, -4.0473e-01, -4.9894e-01,  2.2093e-01,\n",
      "          2.1446e-02, -1.2371e-01,  1.9754e-01,  1.3303e-01, -1.4741e-01,\n",
      "         -5.4140e-01,  3.2824e-01,  2.1976e-01, -5.0364e-01, -1.1918e-01,\n",
      "         -3.8528e-01,  1.5485e-02,  2.9084e-01, -3.3087e-01,  3.6549e-01],\n",
      "        [ 9.6553e-01,  9.5666e-02,  5.6263e-01,  8.1301e-01,  1.3869e-01,\n",
      "          2.9902e-01,  9.4955e-01, -2.6241e-01, -9.1475e-01,  9.2566e-01,\n",
      "          2.0199e-01, -9.5307e-03,  3.8257e-01, -3.8678e-01, -7.9036e-01,\n",
      "         -1.0359e-01, -8.6008e-02,  2.2394e-01,  2.7475e-01, -4.3881e-01,\n",
      "          1.9637e-01,  2.0618e-01,  1.5211e-01,  1.9001e-01, -2.2759e-01,\n",
      "         -3.8942e-01,  2.5853e-01,  3.1216e-01, -2.9212e-01,  2.0972e-01],\n",
      "        [ 2.1279e-01,  6.0724e-01,  1.9428e-01,  2.3235e-01,  9.2610e-03,\n",
      "          7.8393e-02,  1.0852e+00, -2.6613e-01,  7.7240e-01,  1.4106e+00,\n",
      "         -2.5404e-01,  8.8471e-01,  4.5722e-01,  1.1520e-01,  1.0009e-01,\n",
      "          5.5297e-01,  3.0950e-01, -1.0437e-01,  5.8047e-01, -4.5452e-01,\n",
      "         -3.0163e-02,  1.3264e-01, -2.8848e-01, -3.2340e-01, -3.7006e-01,\n",
      "          1.6320e-01, -3.5456e-01, -2.5572e-01,  4.8083e-01,  3.2730e-01],\n",
      "        [ 1.0197e-01, -1.2057e-01,  3.5959e-01,  1.4201e-01,  3.2221e-01,\n",
      "         -2.7924e-01,  8.5650e-01, -6.3049e-01, -6.1402e-01,  1.1787e+00,\n",
      "          5.1551e-02, -2.3022e-02, -7.0049e-01, -1.2247e+00,  5.0517e-01,\n",
      "         -1.0056e-01, -2.0240e-01, -9.6052e-01, -2.3314e-01, -5.7895e-01,\n",
      "         -6.1158e-01, -5.6406e-01,  1.8238e-01,  3.0099e-01,  3.1498e-01,\n",
      "         -3.7616e-01,  3.2043e-01,  3.7880e-01,  4.2999e-01, -3.0704e-01],\n",
      "        [-3.1691e-01,  3.1688e-01,  5.3599e-01, -1.5642e-01,  6.5992e-01,\n",
      "          2.6820e-01,  7.4886e-01, -3.9268e-01,  1.6239e-01,  6.0898e-01,\n",
      "         -4.9197e-01,  1.9955e-01, -8.5574e-01, -1.6439e+00, -1.8561e-01,\n",
      "         -5.1720e-01,  1.4847e-01,  7.4494e-01,  6.0902e-01, -5.5885e-01,\n",
      "          2.2547e-01,  2.5893e-01,  4.2910e-02,  9.3342e-02, -9.8007e-02,\n",
      "          1.2918e-01,  1.1146e-01, -1.2380e-01, -1.6023e-01,  4.6234e-01],\n",
      "        [ 2.3552e-01,  4.3565e-01, -4.9035e-02, -7.9901e-01,  2.9917e-01,\n",
      "         -4.6280e-01,  1.0267e+00,  5.8631e-01,  1.9736e-01,  1.6629e+00,\n",
      "          4.0896e-01,  5.3453e-01,  7.4728e-01, -6.2658e-01,  2.9810e-01,\n",
      "         -1.0124e-01, -5.3044e-01, -1.1804e-01, -4.5338e-01, -3.9257e-01,\n",
      "          6.6136e-01,  2.0968e-01, -4.4193e-02,  1.1169e-01, -6.6711e-02,\n",
      "         -4.0969e-01, -1.8305e-01,  3.5455e-01, -3.1676e-01, -4.5106e-01],\n",
      "        [ 9.8073e-01, -1.8089e-02,  1.9689e-01, -1.2174e+00,  3.2968e-01,\n",
      "          1.8160e-01,  7.1682e-01, -1.0971e+00, -5.1832e-02,  1.0582e+00,\n",
      "          1.7769e-01, -3.6984e-01,  3.4731e-01, -5.5226e-01, -5.4246e-01,\n",
      "         -2.5900e-01,  1.1316e-02,  3.4763e-01, -5.7158e-02,  2.7372e-01,\n",
      "         -3.0549e-01,  2.9737e-01, -3.7143e-01,  3.1858e-01,  5.8589e-01,\n",
      "          4.0801e-01, -3.3936e-01,  2.4831e-01, -5.7320e-02,  7.0455e-03],\n",
      "        [-6.3402e-02,  5.1917e-01,  2.4111e-01, -1.2364e+00, -2.4528e-01,\n",
      "          2.8589e-01,  1.8811e-01,  2.1520e-01,  4.9195e-01,  1.2750e-01,\n",
      "          7.0822e-01,  4.4042e-01, -9.1935e-01, -1.4236e+00, -6.3511e-01,\n",
      "         -1.2243e-01, -5.4123e-01, -4.1033e-02,  9.6775e-01,  3.1056e-01,\n",
      "          2.9658e-01,  1.3366e-01,  4.6865e-01,  3.3845e-01, -2.2244e-01,\n",
      "          3.2207e-01,  2.4530e-01, -1.7200e-01, -3.8297e-01,  1.3167e-01],\n",
      "        [ 2.1552e-01,  8.9617e-01, -3.4156e-01, -9.4965e-01, -2.1819e-01,\n",
      "          2.8500e-01,  6.0903e-01, -2.0797e-02, -1.4052e-01, -5.1098e-02,\n",
      "          4.2760e-01,  4.0831e-01, -4.2285e-02, -1.3340e+00,  5.9927e-01,\n",
      "         -1.2850e+00,  4.6882e-01, -6.4446e-01, -1.1206e+00, -3.9059e-01,\n",
      "          4.1110e-01,  5.4523e-01, -3.8989e-01,  4.4442e-03,  8.9471e-02,\n",
      "          1.4532e-01, -3.4494e-01,  2.4228e-02,  3.7161e-01, -3.3931e-01],\n",
      "        [ 4.5921e-01, -5.5083e-01, -3.2130e-01, -1.3096e+00,  2.7584e-01,\n",
      "         -3.7696e-01, -4.1907e-01, -9.3143e-02,  2.5173e-01,  2.4516e-01,\n",
      "         -8.3777e-01,  5.0812e-01, -1.6483e-01, -1.2623e+00,  2.1180e-01,\n",
      "          1.9698e-01,  1.5193e-01,  8.2464e-01, -9.9100e-01,  7.0560e-02,\n",
      "          6.1914e-02,  8.5763e-01, -2.5377e-01,  2.5266e-01, -2.2380e-02,\n",
      "          6.5837e-02, -2.5343e-01, -3.5762e-01, -1.6228e-01,  2.7644e-01],\n",
      "        [-2.3169e-01, -5.6576e-01, -9.9766e-01, -1.3865e+00,  2.3767e-01,\n",
      "         -5.2574e-01,  3.0280e-01,  3.6160e-01, -1.4366e-01, -5.1507e-01,\n",
      "          9.4643e-02, -2.6393e-01,  4.3418e-01, -1.5091e+00,  6.9727e-01,\n",
      "         -1.2727e-02, -3.2374e-01, -6.1549e-01, -1.7577e-01,  1.2220e+00,\n",
      "          2.4762e-01,  3.5592e-01,  2.4485e-02, -2.1632e-01, -2.5786e-01,\n",
      "          2.1251e-01, -3.0781e-01, -2.7391e-01, -2.2229e-01, -4.3900e-02],\n",
      "        [-2.2442e-02,  3.9507e-01, -8.9419e-01, -1.4553e+00,  2.5685e-01,\n",
      "          1.0795e-01, -3.0094e-01, -1.8425e-01,  6.0470e-01, -7.8874e-01,\n",
      "         -5.6465e-01,  3.3237e-01,  1.0089e+00, -3.3101e-01,  2.7324e-01,\n",
      "         -5.9052e-01, -1.6232e-01,  6.4858e-01, -1.8532e-01, -2.8171e-01,\n",
      "         -1.4033e-02,  2.3091e-01, -4.3856e-01,  4.6995e-01, -3.3585e-02,\n",
      "          5.9228e-02, -8.3561e-02,  3.1198e-01, -1.8006e-02, -3.1337e-02],\n",
      "        [ 1.2105e-02,  2.5499e-01, -3.8852e-01, -1.5058e+00,  4.6160e-01,\n",
      "          2.8307e-01, -1.3010e+00,  2.2265e-01,  3.7407e-02, -2.4360e-01,\n",
      "          5.2749e-01, -3.6326e-01, -6.7005e-01, -3.3812e-01,  3.4099e-01,\n",
      "          6.7966e-01, -6.7365e-01, -3.3639e-01, -8.8740e-01,  1.7369e-01,\n",
      "          2.0441e-02,  7.8317e-01,  2.4917e-01, -3.1163e-01,  2.4490e-01,\n",
      "          8.9499e-02, -6.2017e-03, -2.9184e-01,  4.8265e-01, -1.7344e-01],\n",
      "        [-4.3090e-02, -7.1366e-01, -6.8503e-01, -9.9751e-01, -1.9123e-01,\n",
      "          3.1875e-01, -7.0267e-01, -7.3754e-01, -4.5606e-01, -1.3553e+00,\n",
      "          4.5004e-01, -3.2054e-01,  8.7241e-02, -5.6580e-01,  3.8619e-01,\n",
      "         -1.0042e+00, -4.5617e-02, -2.4066e-01, -3.4796e-01,  4.6199e-01,\n",
      "          3.5332e-01,  4.4256e-01,  2.6832e-01, -4.8821e-01,  9.5923e-02,\n",
      "         -1.6628e-02,  1.4540e-02,  4.2593e-01,  4.9156e-02, -2.2017e-01],\n",
      "        [-2.1235e-01,  1.2003e-01, -1.3280e+00, -9.9294e-01, -6.8521e-01,\n",
      "          4.9333e-01, -2.0053e-01, -5.3162e-01,  3.3111e-01, -8.8611e-01,\n",
      "          8.7037e-02,  3.5915e-01, -5.8091e-01,  5.4819e-01,  6.8240e-01,\n",
      "         -1.3034e-01, -3.9299e-01,  3.4085e-01, -4.6128e-02,  5.5995e-01,\n",
      "         -4.9262e-01,  2.5164e-01, -4.6403e-01,  7.9665e-02, -6.8490e-02,\n",
      "          1.7241e-01, -3.5559e-01, -4.1513e-01, -4.6932e-01, -1.8120e-03],\n",
      "        [ 2.0952e-01, -6.9768e-02, -6.8786e-01, -1.3593e+00, -7.1389e-01,\n",
      "          1.2167e-01, -8.0996e-01,  7.2881e-01, -1.1032e-01, -3.4448e-01,\n",
      "          2.2813e-01,  3.4905e-02,  3.2316e-01,  1.1953e+00,  4.2347e-01,\n",
      "         -8.8441e-01, -1.1812e-01, -7.5833e-01, -3.0532e-01,  7.1999e-01,\n",
      "         -4.3188e-01,  2.3738e-02,  3.5304e-01,  4.3140e-01, -2.3055e-01,\n",
      "          3.6634e-01, -1.5798e-01,  1.3963e-01, -5.4623e-03, -2.4736e-01],\n",
      "        [-7.2178e-01, -8.1706e-01, -1.9061e-01, -9.8810e-01,  2.0085e-01,\n",
      "          3.9716e-01, -1.6505e+00,  1.7450e-01,  2.4418e-01, -7.2020e-01,\n",
      "         -6.0574e-01, -2.9533e-01,  4.2592e-01,  4.4806e-01,  7.3628e-01,\n",
      "         -3.2251e-01,  1.3293e-01,  5.9515e-01,  1.2075e-01, -1.7387e-01,\n",
      "          7.8233e-02, -5.8610e-02,  3.2197e-01, -1.4313e-01,  3.0895e-01,\n",
      "          1.7839e-01,  2.3630e-01,  4.6213e-01,  4.4271e-01, -4.5491e-01],\n",
      "        [-2.4807e-01, -8.6863e-01, -1.4734e+00,  5.9766e-01, -1.2225e-01,\n",
      "          8.0230e-01, -3.0750e-01,  6.4146e-01, -5.4864e-01, -1.3708e+00,\n",
      "          3.1071e-01, -5.0000e-01, -6.1893e-01,  2.6845e-01,  9.1832e-01,\n",
      "         -1.0804e-01, -6.8845e-01,  1.9933e-01, -4.8329e-01,  2.9779e-02,\n",
      "          9.9884e-02, -3.1140e-01, -1.1271e-01,  2.5275e-01, -1.2580e-01,\n",
      "         -3.0173e-01,  4.1561e-01, -3.4404e-01, -4.7266e-01,  2.2053e-01],\n",
      "        [ 6.5905e-01, -2.6213e-01, -8.4471e-01,  2.0335e-02,  2.4568e-01,\n",
      "          3.0449e-01, -6.4764e-01, -9.9192e-01,  4.6791e-01, -5.7405e-01,\n",
      "          1.8428e-01, -4.1737e-01,  4.8807e-01,  1.9179e+00,  2.7358e-01,\n",
      "         -4.4912e-01, -4.2878e-01, -2.1018e-01,  2.0754e-01, -2.9778e-01,\n",
      "         -2.3965e-01, -1.0988e-01, -2.0143e-02,  1.2081e-01,  3.7091e-01,\n",
      "          4.1670e-01, -4.1893e-02,  2.0743e-01, -1.3575e-01, -6.9260e-02],\n",
      "        [-8.0460e-01,  2.7544e-01,  1.7609e-01,  1.9829e-01,  1.3622e-01,\n",
      "          2.0184e-01, -1.4273e+00,  5.5960e-01,  4.6594e-01, -6.3086e-01,\n",
      "          1.0460e+00,  1.4914e-01, -1.6948e-01,  1.5797e+00,  2.6185e-02,\n",
      "         -6.5402e-01, -6.7856e-01,  4.3736e-01,  7.6627e-01, -6.7692e-01,\n",
      "          1.3005e-01, -1.5252e-01,  3.2903e-01,  7.7343e-03, -1.8966e-01,\n",
      "         -8.1127e-02, -2.6450e-01,  2.0865e-01,  2.7667e-02,  4.0578e-01],\n",
      "        [ 3.0055e-01, -2.4275e-01, -3.9173e-01,  7.8855e-01, -1.9918e-01,\n",
      "         -3.6704e-02, -9.5806e-01,  1.7169e-01, -7.4688e-01, -8.8291e-01,\n",
      "          1.4590e-01, -7.7279e-02,  2.8788e-01,  1.0741e+00,  5.6245e-01,\n",
      "         -6.2862e-02, -6.9079e-02, -4.5837e-01, -8.5689e-02, -3.6673e-01,\n",
      "         -1.6516e-01, -1.6108e-01,  4.0960e-01, -1.1253e-01,  2.3588e-01,\n",
      "         -3.9146e-02, -1.3805e-01,  2.7672e-01, -2.0726e-02, -3.4029e-01],\n",
      "        [ 3.6481e-01, -4.0031e-01, -2.7838e-01,  9.4322e-01,  2.2661e-01,\n",
      "          2.0202e-01, -9.5561e-01, -1.6702e-01,  1.9332e-02, -7.0056e-01,\n",
      "         -5.1497e-03,  5.4100e-01,  5.8825e-01,  1.2599e+00,  3.3498e-02,\n",
      "          3.9582e-01,  1.7475e-01,  4.8510e-01,  1.8592e-01, -7.0862e-01,\n",
      "          6.5565e-02, -2.3251e-01,  2.6049e-01,  2.6208e-01,  1.6376e-01,\n",
      "          1.5223e-01, -6.8808e-02,  1.0782e-01,  4.2586e-01,  1.1708e-01],\n",
      "        [-1.3259e-01,  1.3080e-01, -8.7025e-02,  5.8463e-01,  8.5651e-02,\n",
      "          2.7781e-03, -7.8375e-01,  2.2147e-01, -4.2403e-01, -8.1117e-01,\n",
      "          7.5301e-01, -4.3837e-01,  3.5268e-01,  1.0309e+00,  2.1760e-01,\n",
      "          1.1935e-01,  3.2316e-01,  1.2639e-01,  5.3945e-01,  4.5093e-02,\n",
      "         -3.2203e-02, -5.2686e-01,  2.0643e-02, -2.3508e-01,  5.6194e-01,\n",
      "         -1.2361e-01,  7.9453e-02,  4.8994e-01, -4.3811e-01,  2.7530e-01],\n",
      "        [-1.1074e-01,  1.0701e-01,  3.0461e-01,  1.6013e-01,  2.1672e-01,\n",
      "         -3.3261e-02, -6.2527e-01, -1.4734e-02, -5.7761e-02, -5.3424e-01,\n",
      "          2.2636e-01, -2.3148e-01, -8.5705e-02,  1.0084e+00,  9.6091e-02,\n",
      "          4.8094e-01,  5.2481e-01,  6.7429e-01,  3.0695e-01, -2.4716e-01,\n",
      "         -4.0769e-01, -5.8498e-01,  5.3755e-01, -2.5933e-01, -7.4398e-02,\n",
      "          2.3549e-01,  3.5707e-01,  1.3880e-01, -4.0946e-01,  2.0953e-01],\n",
      "        [ 1.1676e-01, -9.7232e-02,  2.8934e-01,  5.6617e-01,  2.1102e-01,\n",
      "         -9.2348e-02, -6.2136e-01,  3.5897e-01,  4.1165e-01, -6.6960e-01,\n",
      "          1.2433e+00, -1.9751e-01, -2.7388e-01,  5.6082e-01, -2.6903e-01,\n",
      "          3.9062e-01,  5.1674e-01,  8.9982e-01, -2.1969e-01, -1.2378e-01,\n",
      "          3.3738e-01, -1.1195e-01, -2.2174e-01, -7.8822e-02, -1.5441e-01,\n",
      "          4.7315e-01,  2.5436e-01, -4.5517e-01, -4.7911e-01,  1.0436e-01]],\n"
     ]
    },
    {
     "name": "stdout",
     "output_type": "stream",
     "text": [
      "       device='cuda:0', requires_grad=True)\n",
      "b_yn: tensor([[-0.1904],\n",
      "        [-0.5926],\n",
      "        [-0.0655],\n",
      "        [-0.6613],\n",
      "        [-0.2969],\n",
      "        [-0.0134],\n",
      "        [ 0.0099],\n",
      "        [ 0.2647],\n",
      "        [-0.3417],\n",
      "        [ 0.0461],\n",
      "        [ 0.2050],\n",
      "        [-0.2397],\n",
      "        [ 0.3349],\n",
      "        [-0.1538],\n",
      "        [ 0.5390],\n",
      "        [-0.1170],\n",
      "        [ 0.5283],\n",
      "        [ 0.0935],\n",
      "        [-0.0271],\n",
      "        [ 0.5816],\n",
      "        [-0.3113],\n",
      "        [ 0.0496],\n",
      "        [ 0.2860],\n",
      "        [-0.1285],\n",
      "        [ 0.0724],\n",
      "        [-0.2795],\n",
      "        [ 0.3110],\n",
      "        [-0.1662],\n",
      "        [-0.2035],\n",
      "        [-0.2390],\n",
      "        [-0.0323],\n",
      "        [-0.6331]], device='cuda:0', requires_grad=True)\n"
     ]
    }
   ],
   "source": [
    "print('W_ax:', W_ax)\n",
    "print('W_aa:', W_aa)\n",
    "print('b_a:', b_a)\n",
    "print('W_yd:', W_yd)\n",
    "print('b_yd:', b_yd)\n",
    "print('W_yn:', W_yn)\n",
    "print('b_yn:', b_yn)"
   ]
  },
  {
   "cell_type": "code",
   "execution_count": 417,
   "metadata": {},
   "outputs": [
    {
     "name": "stdout",
     "output_type": "stream",
     "text": [
      "a_prev: tensor([[-0.5168],\n",
      "        [-0.3475],\n",
      "        [ 0.8103],\n",
      "        [ 0.8193],\n",
      "        [-0.0517],\n",
      "        [ 0.9986],\n",
      "        [-0.8447],\n",
      "        [ 0.4838],\n",
      "        [-0.4827],\n",
      "        [-0.6026],\n",
      "        [ 0.8178],\n",
      "        [ 0.6137],\n",
      "        [-0.0911],\n",
      "        [ 0.8154],\n",
      "        [ 0.9325],\n",
      "        [-0.6200],\n",
      "        [-0.8816],\n",
      "        [-0.7380],\n",
      "        [-0.2895],\n",
      "        [-0.2793]], device='cuda:0')\n"
     ]
    }
   ],
   "source": [
    "print('a_prev:', a_prev)"
   ]
  },
  {
   "cell_type": "markdown",
   "metadata": {},
   "source": [
    "### 5) Generate Music with Trained Neural Network"
   ]
  },
  {
   "cell_type": "code",
   "execution_count": 74,
   "metadata": {},
   "outputs": [
    {
     "name": "stdout",
     "output_type": "stream",
     "text": [
      "W_ax = tensor([[-7.2320e-02,  6.9126e-02, -1.0151e-01, -2.8801e-01,  5.1106e-01,\n",
      "         -1.2768e-01,  5.1141e-03, -1.4523e-01, -5.0894e-01, -3.6675e-01,\n",
      "          5.4688e-01,  9.7056e-03,  1.5399e-01, -1.1256e+00,  2.9985e-01,\n",
      "          7.5937e-01,  1.4038e-01,  9.2459e-01,  9.1128e-01, -2.3533e-01,\n",
      "         -3.0416e-01,  2.5579e-01, -8.1533e-01, -1.5772e-02, -5.9957e-03,\n",
      "         -6.5970e-01,  3.6329e-01, -5.1459e-01, -6.7873e-01, -9.8688e-02,\n",
      "          1.3879e-01, -3.9542e-01,  5.6158e-02,  1.4109e-01, -1.0052e-01,\n",
      "          2.8513e-01, -4.9112e-01,  2.7433e-01,  2.8488e-01,  1.9438e-01,\n",
      "          6.5918e-02, -3.6096e-01,  1.2960e-01, -8.9140e-02, -4.5980e-01,\n",
      "          1.3769e-01,  4.3990e-01],\n",
      "        [-4.3362e-01, -3.1094e-01, -2.8673e-01,  8.3591e-02, -6.4882e-01,\n",
      "         -6.1832e-01,  1.6836e-01,  2.9225e-01, -1.7384e-01, -6.1482e-01,\n",
      "          5.2860e-01,  5.7893e-01, -3.5133e-01,  9.9310e-01, -4.9120e-01,\n",
      "         -4.0525e-01,  1.4287e+00,  9.7593e-01, -3.0100e-01, -4.7424e-01,\n",
      "          1.0608e+00, -4.8837e-01, -6.8447e-01, -1.0482e-01, -9.7290e-01,\n",
      "         -2.0701e-01, -8.0959e-01,  1.3829e-01,  5.4505e-01,  3.8414e-02,\n",
      "         -1.9755e-01, -7.4986e-02,  3.1196e-01, -8.1042e-01,  5.6134e-01,\n",
      "          5.8230e-01,  1.8868e-01, -1.9355e-01, -4.1466e-01,  2.1764e-01,\n",
      "         -4.6924e-01,  9.6860e-02, -2.4329e-01,  4.9919e-02, -1.2039e-01,\n",
      "          3.2197e-02,  2.5939e-02],\n",
      "        [-1.0212e-01,  3.5127e-01,  6.2114e-01,  4.6841e-01,  9.3131e-01,\n",
      "          9.2967e-01,  7.0742e-01,  4.9279e-01,  5.9909e-01,  7.4657e-01,\n",
      "          5.1547e-01, -9.9460e-02,  4.1969e-01,  2.5814e-01, -5.2204e-01,\n",
      "         -7.6478e-01, -9.9715e-01,  4.3721e-02, -2.4672e-01, -1.0502e+00,\n",
      "         -1.4037e+00,  4.6141e-01, -7.9216e-01, -1.5564e+00,  1.2648e-01,\n",
      "          1.1706e-01, -7.1240e-01, -3.6787e-01,  1.0993e-01,  5.1702e-02,\n",
      "         -1.6481e-01,  4.5279e-01, -2.1882e-01, -1.2019e-02, -1.0703e-01,\n",
      "          1.0131e-01, -3.9736e-01,  1.0781e+00, -2.9704e-01, -7.3376e-01,\n",
      "         -1.6978e-01, -1.7625e-01, -1.1164e+00, -1.6819e+00,  9.2776e-01,\n",
      "          9.6557e-01,  1.3485e-01],\n",
      "        [ 6.3155e-01,  9.3838e-01,  1.1382e+00,  7.5646e-01,  7.2244e-01,\n",
      "          6.9481e-01,  5.3728e-01,  4.6168e-01,  8.1276e-01,  7.4656e-01,\n",
      "          3.9066e-01,  7.0626e-02, -3.4717e-01, -6.2451e-01, -3.1210e-01,\n",
      "         -1.2787e+00, -1.1482e+00, -1.0537e+00, -1.1029e+00, -9.3170e-01,\n",
      "         -1.7064e+00, -1.5838e+00, -2.1302e-01, -2.6362e-01, -6.4342e-01,\n",
      "          2.4750e-01,  5.5594e-01,  3.3850e-01,  6.6266e-01,  1.0868e+00,\n",
      "          9.2939e-01,  4.3719e-01, -7.6993e-01, -4.8105e-01,  1.9369e+00,\n",
      "         -1.3543e-01, -2.9088e-01,  4.1344e-01, -4.5826e-01,  4.0578e-01,\n",
      "          1.7093e-01, -2.3781e-01, -1.9532e-01, -6.8928e-04, -2.0199e-01,\n",
      "          5.6884e-01,  4.9465e-01],\n",
      "        [-1.0808e-01,  2.3175e-01, -3.3178e-01, -1.4367e-01,  5.7518e-02,\n",
      "         -3.6741e-01, -4.5443e-01, -5.5334e-01,  7.8741e-01,  4.5434e-01,\n",
      "          7.2611e-02,  1.4102e-01, -5.2074e-01, -8.5466e-02,  3.8019e-01,\n",
      "          9.0596e-01,  3.7955e-01, -2.8312e-01, -5.7983e-01, -1.4639e-01,\n",
      "          1.5133e-01, -2.5565e-01,  1.5132e-01, -4.0697e-01, -3.5086e-01,\n",
      "         -3.2184e-01,  5.4780e-02,  6.1632e-01,  9.8031e-02,  6.1632e-02,\n",
      "          1.0857e-01, -1.2664e-01,  1.0430e+00,  1.2227e-01, -1.2773e-01,\n",
      "          3.1621e-01, -6.0295e-01, -2.3088e-01, -7.2769e-02, -8.3702e-02,\n",
      "          4.0161e-01,  4.4499e-01,  8.8328e-02,  5.7573e-02, -2.5195e-01,\n",
      "          1.2402e-01, -1.2892e-01],\n",
      "        [ 4.7541e-01,  2.9214e-01,  4.7700e-01,  3.9485e-01,  1.0952e-01,\n",
      "          2.0959e-01,  4.0008e-01,  2.5528e-01, -1.4634e-01, -2.2629e-01,\n",
      "         -2.6831e-01,  8.0015e-02,  2.2791e-01,  1.4923e-01,  4.5112e-01,\n",
      "          2.5913e-01, -1.8497e-01, -1.9658e-01,  1.4946e-01, -3.0368e-01,\n",
      "          3.9186e-01,  4.4258e-01,  1.0801e-01, -2.4143e-01,  1.2956e-01,\n",
      "         -2.4534e-01,  2.4297e-01,  4.4084e-01,  2.3380e-01, -6.7377e-01,\n",
      "         -1.6637e-01,  2.9310e-01,  4.3378e-01,  3.3762e-01,  1.2073e-02,\n",
      "          1.1050e-01,  5.1774e-02, -2.8639e-01,  1.2911e-01, -2.0936e-01,\n",
      "          3.3921e-01, -1.4332e-01, -2.5620e-01,  2.0121e-01,  2.0160e-01,\n",
      "          5.7250e-01,  5.4455e-01],\n",
      "        [ 3.3638e-01,  1.6896e-01,  1.7094e-01,  8.6016e-01,  8.5963e-01,\n",
      "          1.0989e+00,  9.6867e-01,  3.4955e-01,  7.9004e-01,  5.8835e-01,\n",
      "          1.0900e-01,  6.1866e-01,  5.2776e-01,  6.9225e-01,  9.2268e-01,\n",
      "          4.2848e-01,  7.0230e-01, -1.1176e+00, -2.9460e-01,  7.8919e-01,\n",
      "         -1.7068e-01, -9.4778e-01, -1.0762e+00,  2.0046e-01, -1.1400e+00,\n",
      "         -9.6450e-01, -6.9462e-01, -8.1644e-01, -6.0025e-01, -7.8228e-01,\n",
      "         -9.6292e-02, -3.8185e-01,  3.6640e-02,  6.4214e-01, -6.8260e-01,\n",
      "          3.3206e-01, -9.1527e-02,  2.3397e-01,  3.7678e-01, -2.1581e-01,\n",
      "         -2.1324e-01, -1.0181e-01, -7.4616e-01, -9.3980e-01,  6.3578e-01,\n",
      "          9.7848e-02,  7.3172e-01],\n",
      "        [-2.1494e-01, -4.8924e-02,  3.8072e-01, -1.1399e-01, -3.0830e-02,\n",
      "          9.3449e-02, -3.4322e-02, -1.3680e-01, -9.3870e-02, -6.9798e-01,\n",
      "          4.1499e-01, -2.3933e-01, -9.4141e-01,  1.3086e+00,  5.5766e-01,\n",
      "          1.7687e-01,  2.3918e-01, -6.4930e-01, -3.9949e-01, -6.1287e-01,\n",
      "          5.3545e-01,  5.8300e-01, -1.2300e+00,  3.4664e-02, -3.3576e-01,\n",
      "          1.2485e+00,  5.2257e-02,  1.0250e-01,  1.4565e-01, -1.4656e-01,\n",
      "          1.2506e-01, -5.6787e-02, -6.3085e-01,  4.0542e-01, -6.6910e-02,\n",
      "         -5.1612e-01, -4.4103e-01,  7.2525e-01,  3.3263e-01,  1.2550e-01,\n",
      "         -3.6883e-01,  1.5228e-01, -1.9005e-01, -3.5340e-01, -1.5116e-01,\n",
      "         -1.0257e-01,  4.3562e-01],\n",
      "        [ 9.2624e-02, -1.8757e-01,  1.7630e-01,  2.7912e-01, -1.6649e-01,\n",
      "          2.1091e-01,  3.9300e-01, -2.2740e-01,  5.3651e-01, -3.1404e-01,\n",
      "          1.1280e-01,  6.6937e-01, -3.7397e-01,  1.3610e-01, -3.0608e-01,\n",
      "         -2.9402e-01, -7.6010e-02,  2.6807e-01, -2.7168e-01, -2.4922e-01,\n",
      "          1.1989e-01,  5.4092e-01,  1.6297e-01,  2.6651e-01,  2.4086e-01,\n",
      "         -6.4091e-01, -2.9622e-01, -3.4231e-01, -6.6901e-01, -2.0948e-01,\n",
      "         -3.1518e-01, -5.8033e-01, -1.0138e+00,  3.9783e-01,  6.4757e-01,\n",
      "         -4.0413e-01, -8.0199e-01, -2.8056e-01, -1.4025e-01,  2.3533e-01,\n",
      "          8.3281e-03, -4.4120e-01, -8.1020e-02, -2.5750e-01, -2.5095e-01,\n",
      "          2.6723e-01, -3.8339e-01],\n",
      "        [-5.8321e-02,  1.2241e-02,  3.5121e-01,  2.2834e-01,  1.5421e-01,\n",
      "          3.7598e-01,  5.5894e-01,  7.9570e-01,  1.1916e+00,  1.0399e+00,\n",
      "          1.6963e+00,  1.7406e+00,  6.1004e-01,  3.7109e-01,  6.2391e-01,\n",
      "         -6.5971e-03, -9.4916e-01, -3.8584e-01, -5.7155e-01, -9.9872e-01,\n",
      "          1.3443e-01, -7.1890e-01, -1.3404e+00, -1.0669e+00,  5.5042e-01,\n",
      "         -1.1526e+00, -9.7008e-01, -5.5890e-01, -9.2626e-01, -6.2567e-01,\n",
      "         -3.5307e-01, -6.1853e-01, -3.7171e-02, -3.9051e-01,  1.0408e+00,\n",
      "          1.2324e-01, -3.3544e-01, -1.3635e-01, -6.8902e-03, -1.7982e-01,\n",
      "         -5.5937e-02,  2.4811e-01,  6.3042e-01,  9.5653e-01, -4.8693e-01,\n",
      "         -4.0916e-01, -4.6794e-01],\n",
      "        [ 2.3978e-01, -4.0520e-01,  3.3559e-02,  8.4752e-02,  2.6701e-01,\n",
      "          6.6686e-01,  7.8895e-02, -2.4068e-01, -3.5866e-01,  7.7877e-01,\n",
      "          1.9147e-01,  8.5547e-01, -3.9690e-01, -7.2237e-01,  3.6781e-01,\n",
      "         -3.4093e-01,  8.5699e-01, -1.6559e-01, -2.1381e-01, -5.2423e-01,\n",
      "         -1.0500e+00,  8.1012e-01, -3.6034e-01,  6.9597e-01, -1.3495e-01,\n",
      "         -5.9935e-01, -8.2191e-01,  2.2970e-01,  4.3032e-01, -1.9798e-01,\n",
      "          8.2544e-01,  2.4322e-01,  7.7309e-01,  2.0232e-02, -1.1957e-01,\n",
      "          1.9168e-01, -2.3292e-01, -4.1946e-01, -1.3307e-01, -2.1335e-01,\n",
      "         -5.4126e-02,  2.0697e-01,  4.5145e-01,  2.5897e-01, -1.2475e-01,\n",
      "         -1.3309e-02, -1.1906e+00],\n",
      "        [ 4.5534e-01,  1.2502e-01, -8.2512e-02, -3.8575e-02, -4.4104e-01,\n",
      "          3.2338e-01,  1.3134e-01,  2.3488e-01, -5.3183e-01, -5.8081e-01,\n",
      "          3.3433e-01, -1.8007e-01,  4.5091e-01, -3.7040e-02, -2.5431e-01,\n",
      "          2.5877e-01, -1.1456e-01,  8.7423e-01, -3.9193e-01,  1.1261e+00,\n",
      "         -8.1914e-03, -5.5877e-01,  3.5457e-01, -3.6613e-01,  5.9858e-01,\n",
      "         -4.1742e-01,  3.1883e-01,  9.8076e-02, -9.2081e-01,  2.2847e-01,\n",
      "          8.7538e-02,  5.7200e-02,  9.5170e-01, -3.6592e-01, -5.2319e-01,\n",
      "          7.1579e-01, -7.3229e-02,  3.9642e-01, -4.2445e-01, -2.6834e-01,\n",
      "         -7.4661e-02,  6.3102e-02,  6.7938e-02,  9.3821e-02,  8.5222e-02,\n",
      "          1.1449e-01, -5.5639e-01],\n",
      "        [ 2.5865e-01,  9.9588e-02,  1.8934e-01, -5.0743e-01, -2.7404e-01,\n",
      "          7.8226e-01,  5.9180e-01, -1.1419e-01,  2.3108e-01,  1.3622e-01,\n",
      "          1.8656e-01,  4.9193e-01, -1.2519e+00, -5.0686e-01,  4.8389e-01,\n",
      "         -1.2809e-01,  1.6077e+00, -5.9095e-01, -9.8810e-01,  7.7786e-01,\n",
      "         -4.1792e-01,  9.3930e-01, -1.6585e+00, -1.2330e+00, -7.6631e-02,\n",
      "         -6.1928e-02,  2.4678e-01, -1.0797e-01, -1.1479e-01,  4.8002e-01,\n",
      "          7.8055e-02,  2.9111e-01,  3.6241e-02, -2.3877e-01,  3.6518e-01,\n",
      "         -1.8620e-01,  1.2705e-01,  3.6957e-01,  1.0873e-01, -1.4863e-01,\n",
      "         -2.2681e-03,  4.7672e-02, -1.7531e-01,  3.7416e-02,  6.1525e-02,\n",
      "         -1.9819e-02,  3.1549e-01],\n",
      "        [ 6.0236e-01,  4.1002e-01,  2.8063e-01,  4.5693e-01,  9.2044e-02,\n",
      "          1.0304e-01,  4.3869e-02, -4.3491e-02, -2.9550e-01, -1.2684e+00,\n",
      "         -1.4859e-01, -3.6968e-01, -1.2498e+00, -1.3040e+00, -1.3131e+00,\n",
      "         -1.5028e+00, -1.3901e+00, -8.7823e-01, -9.5558e-01, -2.1190e-01,\n",
      "          5.9622e-01,  2.3170e-01,  9.8908e-02,  9.3833e-01,  1.1925e+00,\n",
      "          7.9982e-01,  1.1193e+00,  1.2885e+00,  1.3598e+00,  1.4173e+00,\n",
      "          9.9846e-01,  7.1126e-01,  5.3768e-01,  3.3681e-01, -5.3232e-01,\n",
      "         -3.9432e-02,  6.2648e-01, -3.3686e-01,  1.4713e-01,  3.0787e-01,\n",
      "          8.0235e-01,  5.3082e-01, -2.3373e-01, -4.6887e-01,  3.5222e-01,\n",
      "          2.7763e-01,  3.1464e-01],\n",
      "        [ 2.0477e-01, -1.9163e-01, -6.5731e-01,  1.6602e-01,  1.4168e-01,\n",
      "          2.5480e-01, -6.9134e-01, -5.9893e-01,  5.4658e-01, -1.2381e-01,\n",
      "         -4.9358e-01,  7.8346e-02, -4.6498e-01,  1.6967e-01,  7.5656e-02,\n",
      "         -8.3959e-01, -3.6515e-01, -2.1093e-01,  5.4374e-01,  5.7763e-02,\n",
      "         -3.4420e-01, -2.8826e-01, -3.2882e-01, -8.2055e-01,  9.3369e-01,\n",
      "          1.1593e-01,  8.8831e-01,  6.7619e-01,  3.5901e-01, -1.2280e-01,\n",
      "         -3.1622e-01,  2.7497e-02,  7.1398e-01, -3.6957e-01,  2.6108e-02,\n",
      "          3.1875e-01,  1.0053e-01, -6.0458e-01,  2.9862e-01,  7.2190e-01,\n",
      "          8.1265e-02,  3.8529e-01,  7.4780e-02,  1.2882e-01, -7.5808e-02,\n",
      "          2.8609e-01, -3.1860e-01],\n",
      "        [ 5.3666e-01, -2.2500e-01, -6.9738e-02, -9.0255e-02, -1.3516e-01,\n",
      "         -3.7279e-01, -3.6910e-01,  1.1239e-01,  3.7098e-02, -7.6320e-01,\n",
      "         -1.7314e-01,  6.1451e-01, -2.1929e-01, -3.1819e-03, -8.0179e-01,\n",
      "          4.0103e-01,  4.5214e-01, -2.2235e-01,  5.4379e-01, -6.5447e-01,\n",
      "          3.5044e-01, -2.3190e-01, -4.6533e-02, -2.4283e-01, -7.4952e-01,\n",
      "         -3.6885e-02,  3.8017e-01, -3.4896e-01,  6.3650e-01,  4.0390e-02,\n",
      "          1.4189e-01,  2.4980e-01,  1.3540e-01, -1.7169e-02, -5.4353e-01,\n",
      "          5.4487e-01,  4.5191e-01, -1.5937e-01, -3.5197e-01,  1.8201e-01,\n",
      "          4.1614e-02,  3.5276e-01, -1.8712e-01, -1.4956e-01,  4.2469e-01,\n",
      "         -3.8645e-02,  2.9849e-02],\n",
      "        [ 2.6186e-01,  2.4912e-01,  3.1484e-01, -1.4785e-01, -2.3586e-01,\n",
      "         -1.9702e-01,  2.3697e-01,  4.1398e-01,  2.2359e-01, -7.3118e-02,\n",
      "         -2.5307e-01, -1.0644e-02,  8.1012e-01,  3.7225e-01,  5.2327e-01,\n",
      "         -2.2753e-01,  7.9619e-02, -2.6138e-01,  4.2204e-01,  1.9174e-02,\n",
      "          1.5668e-01,  2.8489e-01,  2.5430e-01,  3.3780e-01, -1.4784e-01,\n",
      "         -2.5757e-01, -3.0178e-01,  3.6388e-01,  3.4428e-01,  3.8482e-01,\n",
      "          3.9538e-03,  4.6217e-01, -2.2332e-01, -3.6506e-01, -2.8523e-01,\n",
      "         -1.4481e-01, -2.3761e-01,  2.5171e-01, -1.6805e-01, -9.2904e-02,\n",
      "          3.2292e-01,  2.4651e-01, -5.2782e-02,  8.8208e-02, -2.9592e-01,\n",
      "         -9.3076e-03,  1.8798e-01],\n",
      "        [-1.2193e-01, -3.3249e-01, -1.8790e-01, -1.3621e-01,  7.5633e-01,\n",
      "         -2.7180e-01, -2.1700e-02, -1.5555e-01,  2.5793e-01,  6.0537e-01,\n",
      "          8.1849e-03, -6.2309e-01, -2.0194e-01,  4.2208e-01,  8.7137e-01,\n",
      "         -2.5605e-02, -7.0978e-01,  3.4017e-01, -5.3091e-01,  1.1459e-01,\n",
      "          4.5895e-01, -2.2174e-01, -8.1389e-01,  1.9646e-02,  2.4470e-01,\n",
      "         -1.9567e-02, -4.3660e-01,  1.2807e-01, -1.6155e-01,  3.4362e-01,\n",
      "         -3.0483e-02,  4.4501e-01, -1.1080e-01, -3.4357e-01,  5.5837e-01,\n",
      "          3.0703e-01,  3.5392e-02,  5.2750e-02,  4.3480e-01,  1.6423e-01,\n",
      "          3.0968e-01,  6.6774e-02,  1.5928e-02, -1.4762e-01, -2.6417e-01,\n",
      "          2.6523e-02,  4.2482e-01],\n",
      "        [-5.5898e-02,  5.3886e-01,  3.1996e-01, -4.1611e-01,  7.6063e-02,\n",
      "          8.6698e-01,  1.8260e-01, -6.5438e-02, -4.3186e-02,  2.9935e-01,\n",
      "          9.3929e-01, -1.4689e-01,  3.5543e-01, -7.4173e-02, -1.5702e+00,\n",
      "          8.6112e-01,  6.6178e-01, -1.0164e+00, -8.6105e-01,  3.9698e-01,\n",
      "         -6.0319e-01, -8.3691e-01, -1.1706e-01, -8.8157e-01,  3.4689e-01,\n",
      "         -1.9208e-01, -8.8404e-01,  2.0425e-01,  3.4849e-01, -3.3138e-01,\n",
      "         -1.5117e-01,  2.8044e-01,  5.1271e-01,  4.3644e-01, -2.8479e-01,\n",
      "         -4.6720e-01,  9.1631e-03,  6.6218e-02,  6.2336e-01,  3.5004e-02,\n",
      "          5.3236e-01, -3.6325e-02,  8.2583e-01,  4.9539e-01, -3.0271e-01,\n",
      "         -4.0100e-01,  5.3864e-01],\n",
      "        [ 2.2197e-01,  2.0763e-01,  2.8978e-01,  2.0714e-01,  2.5775e-01,\n",
      "          4.4547e-01,  5.5835e-02, -4.5432e-01, -7.8044e-01, -4.6894e-01,\n",
      "         -7.5425e-01, -1.8410e-01,  1.6017e-01, -1.3579e-01, -5.9769e-01,\n",
      "          2.8549e-01,  5.3056e-02, -8.5728e-01,  7.4754e-01,  9.5857e-01,\n",
      "          5.7646e-01,  5.3316e-01,  9.0638e-02,  5.0977e-01,  6.0021e-01,\n",
      "         -3.7535e-01, -3.6684e-01, -7.4008e-01,  5.1908e-02, -6.8748e-01,\n",
      "          8.2716e-02,  1.6499e-01, -1.2488e-01, -1.2877e+00,  1.0063e+00,\n",
      "         -1.7679e-02, -5.5268e-01, -4.9684e-02, -6.1026e-01,  6.7404e-01,\n",
      "         -2.4695e-01, -3.1205e-01, -2.9078e-01, -1.0851e-01,  6.7824e-03,\n",
      "          7.4791e-01,  7.2276e-02]], device='cuda:0', requires_grad=True),  W_aa = tensor([[-0.0840,  0.1816,  0.3892, -0.0553, -0.1369, -0.3324,  0.0590, -0.1327,\n",
      "         -0.1833, -0.1688, -0.0360, -0.1552, -0.0076, -0.0823,  0.2379, -0.1571,\n",
      "         -0.0831, -0.1261,  0.0711, -0.1911],\n",
      "        [ 0.0592, -0.1227,  0.0753,  0.1952, -0.1490,  0.3650, -0.0890, -0.0801,\n",
      "          0.1361, -0.1244, -0.2344, -0.2545,  0.0941, -0.1147, -0.0065, -0.0696,\n",
      "          0.0181, -0.4164,  0.1295, -0.0209],\n",
      "        [ 0.0515,  0.2629,  0.0135, -0.2666, -0.0056, -0.2738,  0.0072, -0.1433,\n",
      "         -0.5080, -0.2710,  0.1273,  0.0411,  0.0513,  0.1594,  0.2630,  0.0043,\n",
      "         -0.0544,  0.2367, -0.0055, -0.1342],\n",
      "        [-0.2061,  0.0196,  0.0137, -0.0392, -0.0985,  0.0587, -0.1030, -0.0851,\n",
      "          0.0109, -0.0914, -0.0127, -0.1037,  0.1193,  0.0558,  0.0969, -0.0529,\n",
      "         -0.0050, -0.0795, -0.1047,  0.2201],\n",
      "        [-0.0914,  0.1388, -0.0772,  0.0267,  0.4097, -0.2567,  0.2717,  0.0640,\n",
      "         -0.1203,  0.0813, -0.1533, -0.0852, -0.2645,  0.0189, -0.2812,  0.0024,\n",
      "         -0.4139, -0.0452, -0.1244, -0.0664],\n",
      "        [-0.4572, -0.0533, -0.1159,  0.1207, -0.2689,  0.2161,  0.5362, -0.4333,\n",
      "          0.1216,  0.3456, -0.4616,  0.1680, -0.0689,  0.2279,  0.2945, -0.3707,\n",
      "         -0.2459, -0.3429,  0.4191,  0.2662],\n",
      "        [ 0.2874,  0.0839,  0.1601, -0.0301, -0.1578,  0.1626,  0.1779,  0.1364,\n",
      "         -0.1359,  0.2941,  0.0008, -0.2970, -0.0041,  0.0218,  0.0499, -0.0286,\n",
      "          0.0440,  0.0980,  0.1789, -0.0297],\n",
      "        [-0.1725, -0.3425,  0.1602,  0.2501,  0.0770, -0.2004, -0.1002,  0.2073,\n",
      "          0.0183,  0.1622,  0.3433,  0.6285,  0.0972, -0.2397, -0.0369,  0.3410,\n",
      "          0.1461, -0.3061, -0.1272, -0.0491],\n",
      "        [-0.0133, -0.3494, -0.1022,  0.1103, -0.2753, -0.0809, -0.1509, -0.1173,\n",
      "          0.4126, -0.2114,  0.0972, -0.1846,  0.1830, -0.2320, -0.2394,  0.4610,\n",
      "          0.2074,  0.2914, -0.1060,  0.0523],\n",
      "        [ 0.0811,  0.0693, -0.1118, -0.0870, -0.0344, -0.0359,  0.1787,  0.1547,\n",
      "          0.0395,  0.0013, -0.1364,  0.1377, -0.0592, -0.2100, -0.1678, -0.1195,\n",
      "         -0.6366, -0.0542,  0.1139,  0.1978],\n",
      "        [ 0.0331,  0.0434,  0.0062, -0.0738, -0.1093, -0.0279,  0.0085, -0.1499,\n",
      "         -0.0714, -0.1038,  0.3862,  0.2886,  0.0742,  0.0098,  0.0881,  0.0981,\n",
      "         -0.1728, -0.3060, -0.1234, -0.0470],\n",
      "        [-0.1201, -0.2362,  0.0464,  0.0611, -0.2477, -0.1099,  0.0166, -0.0396,\n",
      "         -0.1002,  0.0730,  0.0401,  0.4237,  0.1868, -0.1198,  0.1362,  0.1216,\n",
      "          0.2227,  0.0914, -0.0537,  0.0353],\n",
      "        [ 0.0854, -0.0034,  0.0038,  0.0515, -0.0682,  0.0821, -0.1309, -0.1296,\n",
      "          0.1416, -0.1210, -0.3149, -0.4674,  0.1409,  0.2103, -0.2211, -0.2865,\n",
      "          0.0206, -0.3127,  0.0468,  0.0342],\n",
      "        [ 0.1732,  0.0386,  0.0575,  0.0073, -0.0189, -0.2016, -0.0353,  0.0607,\n",
      "         -0.2952, -0.1255, -0.1819,  0.0175,  0.0835,  0.0184, -0.1046,  0.2629,\n",
      "          0.3702, -0.0232,  0.1553,  0.0088],\n",
      "        [-0.0429, -0.2529, -0.0172, -0.3818, -0.4133, -0.0228,  0.1631,  0.4441,\n",
      "         -0.0472, -0.0159,  0.0430,  0.0146,  0.2759,  0.1361,  0.2943, -0.2070,\n",
      "         -0.3407,  0.0745, -0.0472, -0.0023],\n",
      "        [-0.1678, -0.1361, -0.0122,  0.2432, -0.2196,  0.1462,  0.1040,  0.2050,\n",
      "          0.1158,  0.0547,  0.4247,  0.3831,  0.0562, -0.1261,  0.0512,  0.3400,\n",
      "          0.3828,  0.1509,  0.0387, -0.0920],\n",
      "        [ 0.0701,  0.0968,  0.1077,  0.1635,  0.1244,  0.0628,  0.2284, -0.0836,\n",
      "         -0.2488,  0.1670,  0.0825, -0.1992, -0.1033, -0.1156, -0.1350,  0.0667,\n",
      "          0.4902,  0.1467, -0.0479, -0.0631],\n",
      "        [-0.0504,  0.0184, -0.0230, -0.3006, -0.4198, -0.0456,  0.1147, -0.4353,\n",
      "          0.2923, -0.1242,  0.3413, -0.3660,  0.3451,  0.1926,  0.2075,  0.8044,\n",
      "          0.5897,  0.7293,  0.1532, -0.0030],\n",
      "        [ 0.1670,  0.0166,  0.0722, -0.0558,  0.0990, -0.1368,  0.1803,  0.2460,\n",
      "          0.1657, -0.0367,  0.1913,  0.1481, -0.0149, -0.1566,  0.3320,  0.0112,\n",
      "          0.1596,  0.2517, -0.0468, -0.3823],\n",
      "        [-0.0703,  0.1399,  0.1522, -0.0521, -0.1614,  0.0403, -0.0013,  0.1029,\n",
      "         -0.0474,  0.0349, -0.1138,  0.1630,  0.2712,  0.0354, -0.0823,  0.0891,\n",
      "         -0.0702, -0.1342, -0.0670,  0.1064]], device='cuda:0',\n",
      "       requires_grad=True), b_a = tensor([[-3.8399e-01],\n",
      "        [-1.5952e-01],\n",
      "        [ 3.6086e-02],\n",
      "        [ 1.2297e-01],\n",
      "        [-1.2060e-01],\n",
      "        [ 7.2926e-01],\n",
      "        [-6.6125e-01],\n",
      "        [ 9.9792e-02],\n",
      "        [-2.6931e-01],\n",
      "        [-1.5056e-01],\n",
      "        [ 8.1955e-03],\n",
      "        [ 3.0497e-01],\n",
      "        [ 4.1637e-01],\n",
      "        [-4.2406e-01],\n",
      "        [ 2.8045e-01],\n",
      "        [-2.3156e-01],\n",
      "        [-3.4376e-01],\n",
      "        [-7.2128e-05],\n",
      "        [ 3.5586e-01],\n",
      "        [ 4.9292e-01]], device='cuda:0', requires_grad=True), W_yd = tensor([[-6.8505e-01,  3.2402e-01, -1.7521e-01, -3.8893e-01,  7.9545e-01,\n",
      "         -2.9141e-01, -6.7158e-01, -1.0806e+00, -1.8812e+00,  6.8828e-01,\n",
      "          1.1281e+00,  1.1435e+00,  2.3307e-01, -2.0243e-02,  1.0403e+00,\n",
      "          5.1003e-01,  2.4921e-01, -2.3865e-01, -2.9041e-01,  4.4814e-01],\n",
      "        [-5.0639e-01, -9.8909e-01, -1.0223e+00, -1.0112e+00, -1.8858e+00,\n",
      "          1.2321e+00, -1.8271e-01, -5.4803e-02,  3.6398e-01,  5.6242e-01,\n",
      "         -7.7629e-01, -8.5443e-01,  3.4766e-01, -3.7069e-01,  4.5073e-01,\n",
      "         -3.0205e-01, -8.8304e-01, -5.7212e-01,  1.0101e+00, -1.6524e+00],\n",
      "        [ 2.2062e-01,  1.0297e-02, -3.1354e-01,  3.7904e-01,  1.7071e-01,\n",
      "          1.2104e+00, -5.1353e-01,  3.4803e-01,  1.2201e+00,  1.5170e-01,\n",
      "         -8.0678e-01,  4.4822e-02,  2.3021e-01, -7.4285e-01,  3.3326e-01,\n",
      "         -5.0695e-01, -1.0966e-01, -3.7266e-01,  4.8341e-01,  9.0216e-01],\n",
      "        [-1.4008e-01,  1.0787e-02,  3.6113e-01, -3.1992e-01,  5.7213e-01,\n",
      "         -4.9191e-01, -5.3297e-02,  6.1236e-02,  3.9417e-01,  2.7052e-01,\n",
      "          1.5000e-01,  4.9836e-01, -1.5463e-01,  6.2930e-01,  3.2759e-02,\n",
      "          3.3828e-01,  6.6373e-01, -3.0709e-02, -2.4947e-01, -2.7780e-01],\n",
      "        [-9.5772e-02,  1.6424e-01,  9.4820e-01, -3.0225e-04, -1.3144e-01,\n",
      "          3.9324e-01,  4.4526e-01,  2.1983e-01, -5.1862e-01, -5.1316e-01,\n",
      "         -3.2826e-01,  3.9883e-01,  7.0819e-02,  7.2280e-02,  5.1187e-01,\n",
      "         -2.3085e-01, -1.3383e-01,  4.0582e-01, -1.0956e-01,  1.4662e-01],\n",
      "        [ 8.6340e-02,  1.0266e-01,  1.3857e-01,  3.1544e-01,  7.0368e-01,\n",
      "          1.0608e-01, -8.8730e-02,  9.6938e-02, -9.9453e-02, -2.0024e-01,\n",
      "          1.8549e-01,  4.6587e-01,  6.6046e-02,  1.7717e-01, -3.9194e-01,\n",
      "          2.5609e-01,  2.2173e-02,  1.8867e-02, -1.8119e-01,  4.2660e-04],\n",
      "        [-1.7670e-02, -1.7666e-01,  4.6296e-01,  7.7959e-03, -1.3615e-01,\n",
      "         -3.3918e-01,  3.3325e-01,  1.9258e-01,  1.2873e-01, -1.3269e-01,\n",
      "         -7.7459e-02,  2.2135e-01,  2.4759e-01,  3.4876e-01,  1.2773e-01,\n",
      "         -5.0651e-01,  2.8804e-01, -2.3852e-01, -1.7471e-01,  2.0808e-01],\n",
      "        [-1.0404e-01, -2.1159e-01,  4.4565e-01,  2.0283e-01, -1.0485e-01,\n",
      "          3.6418e-01,  5.5876e-01,  3.4179e-02,  1.5006e-01,  3.0927e-01,\n",
      "         -4.9270e-01, -1.4522e-01,  4.1731e-01, -4.2016e-03,  1.0016e-01,\n",
      "          3.2048e-01,  3.2190e-01, -5.2927e-02, -1.8477e-01,  3.6978e-01],\n",
      "        [-4.1572e-02, -1.3020e-01,  3.9632e-01, -1.5989e-01,  7.0852e-01,\n",
      "         -3.2998e-01,  4.4444e-01,  8.2312e-02,  4.3460e-01,  1.8478e-01,\n",
      "         -1.3342e-01, -5.9227e-02, -1.4093e-01,  2.0241e-02, -4.4433e-01,\n",
      "          8.3703e-01,  3.0395e-01,  1.1624e-01,  2.9270e-01,  2.9926e-01],\n",
      "        [ 4.9169e-01,  2.9327e-02,  2.0399e-01,  1.5817e-01,  1.8034e-01,\n",
      "         -5.2199e-01,  2.2374e-01,  3.5156e-01,  7.9509e-02,  3.3872e-01,\n",
      "         -1.5332e-01, -1.2271e-01, -4.5451e-01, -5.4472e-02, -1.7418e-01,\n",
      "          6.1469e-01,  7.5881e-01,  7.3812e-01, -1.8295e-01,  2.8920e-02]],\n",
      "       device='cuda:0', requires_grad=True), W_yn = tensor([[ 1.6846e-01, -3.5678e-01,  6.3387e-01,  1.0619e+00,  1.5128e-01,\n",
      "         -3.6430e-01,  6.4951e-01,  6.8375e-01, -3.4179e-01,  6.3246e-01,\n",
      "          1.6139e-01,  1.0447e-01, -3.7544e-01, -1.3204e-01, -3.3849e-01,\n",
      "          4.5549e-01,  6.4658e-01, -1.5160e-01,  1.7157e-01,  8.0992e-01,\n",
      "          1.7229e-01, -5.4741e-01, -3.8564e-02, -1.9390e-01, -1.2538e-01,\n",
      "          3.2756e-01, -3.7211e-01, -2.0496e-01,  4.3361e-01,  1.4755e-01],\n",
      "        [ 2.4566e-01, -2.3017e-01,  1.0578e+00,  6.6054e-01,  6.9229e-02,\n",
      "         -5.5778e-01,  9.2001e-01, -2.1903e-01,  6.3512e-03,  3.1559e-02,\n",
      "         -5.6056e-02,  2.8082e-01,  3.2811e-01, -2.5590e-01, -3.0376e-01,\n",
      "          1.9212e-02,  8.2289e-01, -6.4464e-02,  2.1390e-01,  1.1880e-01,\n",
      "         -1.2266e-01, -4.2045e-01,  3.5492e-01,  2.3250e-01,  4.1247e-01,\n",
      "         -5.9372e-02,  7.1739e-02,  3.5827e-02,  4.5294e-01, -5.0942e-02],\n",
      "        [ 1.7931e-01, -7.8827e-03,  7.5007e-01,  8.7602e-01,  1.0194e-01,\n",
      "         -4.9990e-01,  1.2933e+00,  7.7584e-01,  1.4526e-02,  2.3431e-01,\n",
      "          6.6778e-02,  3.5181e-01, -5.1958e-01,  3.6189e-01, -3.1555e-01,\n",
      "         -2.7005e-01, -2.1986e-01,  6.8595e-01, -2.6287e-01,  5.5740e-01,\n",
      "          3.9594e-01, -1.8496e-01,  8.3216e-02,  1.6643e-01,  3.1406e-01,\n",
      "          2.9069e-01, -4.4834e-01, -1.0742e-01, -9.6367e-02,  1.5769e-01],\n",
      "        [ 2.4875e-01, -1.8802e-01,  1.3175e+00,  8.5540e-01,  2.6859e-01,\n",
      "         -3.6380e-01,  7.8941e-01,  3.3655e-01, -4.0385e-01,  4.8977e-01,\n",
      "         -2.1364e-01, -2.7977e-01,  7.0244e-01,  3.8315e-01, -3.4685e-01,\n",
      "         -3.2808e-01, -2.5223e-01, -4.9123e-01,  2.6170e-01,  5.6032e-01,\n",
      "         -9.6029e-02, -1.0229e+00,  2.6169e-01,  4.5707e-02,  3.1722e-01,\n",
      "         -1.8838e-01,  2.4773e-01, -3.3786e-01,  3.8103e-01,  3.1147e-01],\n",
      "        [-2.7523e-01, -4.1053e-01,  1.3140e+00,  9.1294e-01,  9.6881e-02,\n",
      "         -4.9801e-01,  1.1706e+00, -2.9260e-02,  8.6542e-01,  3.2465e-01,\n",
      "          3.9584e-02,  2.0424e-02,  9.0112e-01,  1.6352e-01, -8.4513e-01,\n",
      "          2.2555e-01,  4.7535e-01,  1.9690e-01,  7.6276e-01,  5.6214e-01,\n",
      "         -5.7227e-01, -5.2866e-01, -9.3312e-02,  9.8463e-02,  4.5811e-02,\n",
      "         -3.5825e-01, -1.3738e-01, -4.0288e-01,  3.6017e-02, -1.3126e-01],\n",
      "        [ 1.3873e-01,  1.3695e-01,  1.1614e+00,  1.4610e+00, -7.7744e-01,\n",
      "         -2.0487e-01,  4.3919e-01,  7.4567e-02, -4.4130e-01,  3.8632e-01,\n",
      "          1.0376e-02,  1.7376e-01, -5.0277e-01, -2.2887e-02, -7.2159e-01,\n",
      "          8.7977e-02,  4.3381e-01, -6.9053e-01,  9.9409e-02, -4.4887e-01,\n",
      "         -1.2929e-01,  4.1477e-01,  3.5164e-01,  2.9606e-02, -3.1898e-01,\n",
      "         -3.1448e-01, -1.8569e-01,  1.8312e-01, -2.8647e-02,  3.2992e-01],\n",
      "        [-1.6617e-01,  3.1069e-01,  6.1014e-01,  9.3926e-01,  2.0910e-01,\n",
      "         -3.1122e-01,  9.6318e-01, -4.9119e-01,  7.5112e-02,  4.5353e-01,\n",
      "         -5.9216e-01, -3.4669e-01,  1.2884e-01,  3.1676e-01, -2.5284e-01,\n",
      "         -1.6447e-01,  8.0919e-01,  2.1566e-01,  5.5148e-02, -9.1479e-01,\n",
      "          5.1528e-02,  1.6256e-01, -1.3627e-01,  2.7715e-01, -4.9475e-01,\n",
      "          1.3534e-01, -5.0118e-01,  3.9481e-01, -3.4173e-01,  3.2546e-01],\n",
      "        [-5.2735e-01, -4.6894e-01,  5.0548e-01,  1.0956e+00,  5.0635e-01,\n",
      "          2.9604e-04,  7.5065e-01,  2.8825e-01, -4.3254e-01,  5.5088e-01,\n",
      "          4.4633e-01,  1.4257e-02, -4.0473e-01, -4.9894e-01,  2.2093e-01,\n",
      "          2.1446e-02, -1.2371e-01,  1.9754e-01,  1.3303e-01, -1.4741e-01,\n",
      "         -5.4140e-01,  3.2824e-01,  2.1976e-01, -5.0364e-01, -1.1918e-01,\n",
      "         -3.8528e-01,  1.5485e-02,  2.9084e-01, -3.3087e-01,  3.6549e-01],\n",
      "        [ 9.6553e-01,  9.5666e-02,  5.6263e-01,  8.1301e-01,  1.3869e-01,\n",
      "          2.9902e-01,  9.4955e-01, -2.6241e-01, -9.1475e-01,  9.2566e-01,\n",
      "          2.0199e-01, -9.5307e-03,  3.8257e-01, -3.8678e-01, -7.9036e-01,\n",
      "         -1.0359e-01, -8.6008e-02,  2.2394e-01,  2.7475e-01, -4.3881e-01,\n",
      "          1.9637e-01,  2.0618e-01,  1.5211e-01,  1.9001e-01, -2.2759e-01,\n",
      "         -3.8942e-01,  2.5853e-01,  3.1216e-01, -2.9212e-01,  2.0972e-01],\n",
      "        [ 2.1279e-01,  6.0724e-01,  1.9428e-01,  2.3235e-01,  9.2610e-03,\n",
      "          7.8393e-02,  1.0852e+00, -2.6613e-01,  7.7240e-01,  1.4106e+00,\n",
      "         -2.5404e-01,  8.8471e-01,  4.5722e-01,  1.1520e-01,  1.0009e-01,\n",
      "          5.5297e-01,  3.0950e-01, -1.0437e-01,  5.8047e-01, -4.5452e-01,\n",
      "         -3.0163e-02,  1.3264e-01, -2.8848e-01, -3.2340e-01, -3.7006e-01,\n",
      "          1.6320e-01, -3.5456e-01, -2.5572e-01,  4.8083e-01,  3.2730e-01],\n",
      "        [ 1.0197e-01, -1.2057e-01,  3.5959e-01,  1.4201e-01,  3.2221e-01,\n",
      "         -2.7924e-01,  8.5650e-01, -6.3049e-01, -6.1402e-01,  1.1787e+00,\n",
      "          5.1551e-02, -2.3022e-02, -7.0049e-01, -1.2247e+00,  5.0517e-01,\n",
      "         -1.0056e-01, -2.0240e-01, -9.6052e-01, -2.3314e-01, -5.7895e-01,\n",
      "         -6.1158e-01, -5.6406e-01,  1.8238e-01,  3.0099e-01,  3.1498e-01,\n",
      "         -3.7616e-01,  3.2043e-01,  3.7880e-01,  4.2999e-01, -3.0704e-01],\n",
      "        [-3.1691e-01,  3.1688e-01,  5.3599e-01, -1.5642e-01,  6.5992e-01,\n",
      "          2.6820e-01,  7.4886e-01, -3.9268e-01,  1.6239e-01,  6.0898e-01,\n",
      "         -4.9197e-01,  1.9955e-01, -8.5574e-01, -1.6439e+00, -1.8561e-01,\n",
      "         -5.1720e-01,  1.4847e-01,  7.4494e-01,  6.0902e-01, -5.5885e-01,\n",
      "          2.2547e-01,  2.5893e-01,  4.2910e-02,  9.3342e-02, -9.8007e-02,\n",
      "          1.2918e-01,  1.1146e-01, -1.2380e-01, -1.6023e-01,  4.6234e-01],\n",
      "        [ 2.3552e-01,  4.3565e-01, -4.9035e-02, -7.9901e-01,  2.9917e-01,\n",
      "         -4.6280e-01,  1.0267e+00,  5.8631e-01,  1.9736e-01,  1.6629e+00,\n",
      "          4.0896e-01,  5.3453e-01,  7.4728e-01, -6.2658e-01,  2.9810e-01,\n",
      "         -1.0124e-01, -5.3044e-01, -1.1804e-01, -4.5338e-01, -3.9257e-01,\n",
      "          6.6136e-01,  2.0968e-01, -4.4193e-02,  1.1169e-01, -6.6711e-02,\n",
      "         -4.0969e-01, -1.8305e-01,  3.5455e-01, -3.1676e-01, -4.5106e-01],\n",
      "        [ 9.8073e-01, -1.8089e-02,  1.9689e-01, -1.2174e+00,  3.2968e-01,\n",
      "          1.8160e-01,  7.1682e-01, -1.0971e+00, -5.1832e-02,  1.0582e+00,\n",
      "          1.7769e-01, -3.6984e-01,  3.4731e-01, -5.5226e-01, -5.4246e-01,\n",
      "         -2.5900e-01,  1.1316e-02,  3.4763e-01, -5.7158e-02,  2.7372e-01,\n",
      "         -3.0549e-01,  2.9737e-01, -3.7143e-01,  3.1858e-01,  5.8589e-01,\n",
      "          4.0801e-01, -3.3936e-01,  2.4831e-01, -5.7320e-02,  7.0455e-03],\n",
      "        [-6.3402e-02,  5.1917e-01,  2.4111e-01, -1.2364e+00, -2.4528e-01,\n",
      "          2.8589e-01,  1.8811e-01,  2.1520e-01,  4.9195e-01,  1.2750e-01,\n",
      "          7.0822e-01,  4.4042e-01, -9.1935e-01, -1.4236e+00, -6.3511e-01,\n",
      "         -1.2243e-01, -5.4123e-01, -4.1033e-02,  9.6775e-01,  3.1056e-01,\n",
      "          2.9658e-01,  1.3366e-01,  4.6865e-01,  3.3845e-01, -2.2244e-01,\n",
      "          3.2207e-01,  2.4530e-01, -1.7200e-01, -3.8297e-01,  1.3167e-01],\n",
      "        [ 2.1552e-01,  8.9617e-01, -3.4156e-01, -9.4965e-01, -2.1819e-01,\n",
      "          2.8500e-01,  6.0903e-01, -2.0797e-02, -1.4052e-01, -5.1098e-02,\n",
      "          4.2760e-01,  4.0831e-01, -4.2285e-02, -1.3340e+00,  5.9927e-01,\n",
      "         -1.2850e+00,  4.6882e-01, -6.4446e-01, -1.1206e+00, -3.9059e-01,\n",
      "          4.1110e-01,  5.4523e-01, -3.8989e-01,  4.4442e-03,  8.9471e-02,\n",
      "          1.4532e-01, -3.4494e-01,  2.4228e-02,  3.7161e-01, -3.3931e-01],\n",
      "        [ 4.5921e-01, -5.5083e-01, -3.2130e-01, -1.3096e+00,  2.7584e-01,\n",
      "         -3.7696e-01, -4.1907e-01, -9.3143e-02,  2.5173e-01,  2.4516e-01,\n",
      "         -8.3777e-01,  5.0812e-01, -1.6483e-01, -1.2623e+00,  2.1180e-01,\n",
      "          1.9698e-01,  1.5193e-01,  8.2464e-01, -9.9100e-01,  7.0560e-02,\n",
      "          6.1914e-02,  8.5763e-01, -2.5377e-01,  2.5266e-01, -2.2380e-02,\n",
      "          6.5837e-02, -2.5343e-01, -3.5762e-01, -1.6228e-01,  2.7644e-01],\n",
      "        [-2.3169e-01, -5.6576e-01, -9.9766e-01, -1.3865e+00,  2.3767e-01,\n",
      "         -5.2574e-01,  3.0280e-01,  3.6160e-01, -1.4366e-01, -5.1507e-01,\n",
      "          9.4643e-02, -2.6393e-01,  4.3418e-01, -1.5091e+00,  6.9727e-01,\n",
      "         -1.2727e-02, -3.2374e-01, -6.1549e-01, -1.7577e-01,  1.2220e+00,\n",
      "          2.4762e-01,  3.5592e-01,  2.4485e-02, -2.1632e-01, -2.5786e-01,\n",
      "          2.1251e-01, -3.0781e-01, -2.7391e-01, -2.2229e-01, -4.3900e-02],\n",
      "        [-2.2442e-02,  3.9507e-01, -8.9419e-01, -1.4553e+00,  2.5685e-01,\n",
      "          1.0795e-01, -3.0094e-01, -1.8425e-01,  6.0470e-01, -7.8874e-01,\n",
      "         -5.6465e-01,  3.3237e-01,  1.0089e+00, -3.3101e-01,  2.7324e-01,\n",
      "         -5.9052e-01, -1.6232e-01,  6.4858e-01, -1.8532e-01, -2.8171e-01,\n",
      "         -1.4033e-02,  2.3091e-01, -4.3856e-01,  4.6995e-01, -3.3585e-02,\n",
      "          5.9228e-02, -8.3561e-02,  3.1198e-01, -1.8006e-02, -3.1337e-02],\n",
      "        [ 1.2105e-02,  2.5499e-01, -3.8852e-01, -1.5058e+00,  4.6160e-01,\n",
      "          2.8307e-01, -1.3010e+00,  2.2265e-01,  3.7407e-02, -2.4360e-01,\n",
      "          5.2749e-01, -3.6326e-01, -6.7005e-01, -3.3812e-01,  3.4099e-01,\n",
      "          6.7966e-01, -6.7365e-01, -3.3639e-01, -8.8740e-01,  1.7369e-01,\n",
      "          2.0441e-02,  7.8317e-01,  2.4917e-01, -3.1163e-01,  2.4490e-01,\n",
      "          8.9499e-02, -6.2017e-03, -2.9184e-01,  4.8265e-01, -1.7344e-01],\n",
      "        [-4.3090e-02, -7.1366e-01, -6.8503e-01, -9.9751e-01, -1.9123e-01,\n",
      "          3.1875e-01, -7.0267e-01, -7.3754e-01, -4.5606e-01, -1.3553e+00,\n",
      "          4.5004e-01, -3.2054e-01,  8.7241e-02, -5.6580e-01,  3.8619e-01,\n",
      "         -1.0042e+00, -4.5617e-02, -2.4066e-01, -3.4796e-01,  4.6199e-01,\n",
      "          3.5332e-01,  4.4256e-01,  2.6832e-01, -4.8821e-01,  9.5923e-02,\n",
      "         -1.6628e-02,  1.4540e-02,  4.2593e-01,  4.9156e-02, -2.2017e-01],\n",
      "        [-2.1235e-01,  1.2003e-01, -1.3280e+00, -9.9294e-01, -6.8521e-01,\n",
      "          4.9333e-01, -2.0053e-01, -5.3162e-01,  3.3111e-01, -8.8611e-01,\n",
      "          8.7037e-02,  3.5915e-01, -5.8091e-01,  5.4819e-01,  6.8240e-01,\n",
      "         -1.3034e-01, -3.9299e-01,  3.4085e-01, -4.6128e-02,  5.5995e-01,\n",
      "         -4.9262e-01,  2.5164e-01, -4.6403e-01,  7.9665e-02, -6.8490e-02,\n",
      "          1.7241e-01, -3.5559e-01, -4.1513e-01, -4.6932e-01, -1.8120e-03],\n",
      "        [ 2.0952e-01, -6.9768e-02, -6.8786e-01, -1.3593e+00, -7.1389e-01,\n",
      "          1.2167e-01, -8.0996e-01,  7.2881e-01, -1.1032e-01, -3.4448e-01,\n",
      "          2.2813e-01,  3.4905e-02,  3.2316e-01,  1.1953e+00,  4.2347e-01,\n",
      "         -8.8441e-01, -1.1812e-01, -7.5833e-01, -3.0532e-01,  7.1999e-01,\n",
      "         -4.3188e-01,  2.3738e-02,  3.5304e-01,  4.3140e-01, -2.3055e-01,\n",
      "          3.6634e-01, -1.5798e-01,  1.3963e-01, -5.4623e-03, -2.4736e-01],\n",
      "        [-7.2178e-01, -8.1706e-01, -1.9061e-01, -9.8810e-01,  2.0085e-01,\n",
      "          3.9716e-01, -1.6505e+00,  1.7450e-01,  2.4418e-01, -7.2020e-01,\n",
      "         -6.0574e-01, -2.9533e-01,  4.2592e-01,  4.4806e-01,  7.3628e-01,\n",
      "         -3.2251e-01,  1.3293e-01,  5.9515e-01,  1.2075e-01, -1.7387e-01,\n",
      "          7.8233e-02, -5.8610e-02,  3.2197e-01, -1.4313e-01,  3.0895e-01,\n",
      "          1.7839e-01,  2.3630e-01,  4.6213e-01,  4.4271e-01, -4.5491e-01],\n",
      "        [-2.4807e-01, -8.6863e-01, -1.4734e+00,  5.9766e-01, -1.2225e-01,\n",
      "          8.0230e-01, -3.0750e-01,  6.4146e-01, -5.4864e-01, -1.3708e+00,\n",
      "          3.1071e-01, -5.0000e-01, -6.1893e-01,  2.6845e-01,  9.1832e-01,\n",
      "         -1.0804e-01, -6.8845e-01,  1.9933e-01, -4.8329e-01,  2.9779e-02,\n",
      "          9.9884e-02, -3.1140e-01, -1.1271e-01,  2.5275e-01, -1.2580e-01,\n",
      "         -3.0173e-01,  4.1561e-01, -3.4404e-01, -4.7266e-01,  2.2053e-01],\n",
      "        [ 6.5905e-01, -2.6213e-01, -8.4471e-01,  2.0335e-02,  2.4568e-01,\n",
      "          3.0449e-01, -6.4764e-01, -9.9192e-01,  4.6791e-01, -5.7405e-01,\n",
      "          1.8428e-01, -4.1737e-01,  4.8807e-01,  1.9179e+00,  2.7358e-01,\n",
      "         -4.4912e-01, -4.2878e-01, -2.1018e-01,  2.0754e-01, -2.9778e-01,\n",
      "         -2.3965e-01, -1.0988e-01, -2.0143e-02,  1.2081e-01,  3.7091e-01,\n",
      "          4.1670e-01, -4.1893e-02,  2.0743e-01, -1.3575e-01, -6.9260e-02],\n",
      "        [-8.0460e-01,  2.7544e-01,  1.7609e-01,  1.9829e-01,  1.3622e-01,\n",
      "          2.0184e-01, -1.4273e+00,  5.5960e-01,  4.6594e-01, -6.3086e-01,\n",
      "          1.0460e+00,  1.4914e-01, -1.6948e-01,  1.5797e+00,  2.6185e-02,\n",
      "         -6.5402e-01, -6.7856e-01,  4.3736e-01,  7.6627e-01, -6.7692e-01,\n",
      "          1.3005e-01, -1.5252e-01,  3.2903e-01,  7.7343e-03, -1.8966e-01,\n",
      "         -8.1127e-02, -2.6450e-01,  2.0865e-01,  2.7667e-02,  4.0578e-01],\n",
      "        [ 3.0055e-01, -2.4275e-01, -3.9173e-01,  7.8855e-01, -1.9918e-01,\n",
      "         -3.6704e-02, -9.5806e-01,  1.7169e-01, -7.4688e-01, -8.8291e-01,\n",
      "          1.4590e-01, -7.7279e-02,  2.8788e-01,  1.0741e+00,  5.6245e-01,\n",
      "         -6.2862e-02, -6.9079e-02, -4.5837e-01, -8.5689e-02, -3.6673e-01,\n",
      "         -1.6516e-01, -1.6108e-01,  4.0960e-01, -1.1253e-01,  2.3588e-01,\n",
      "         -3.9146e-02, -1.3805e-01,  2.7672e-01, -2.0726e-02, -3.4029e-01],\n",
      "        [ 3.6481e-01, -4.0031e-01, -2.7838e-01,  9.4322e-01,  2.2661e-01,\n",
      "          2.0202e-01, -9.5561e-01, -1.6702e-01,  1.9332e-02, -7.0056e-01,\n",
      "         -5.1497e-03,  5.4100e-01,  5.8825e-01,  1.2599e+00,  3.3498e-02,\n",
      "          3.9582e-01,  1.7475e-01,  4.8510e-01,  1.8592e-01, -7.0862e-01,\n",
      "          6.5565e-02, -2.3251e-01,  2.6049e-01,  2.6208e-01,  1.6376e-01,\n",
      "          1.5223e-01, -6.8808e-02,  1.0782e-01,  4.2586e-01,  1.1708e-01],\n",
      "        [-1.3259e-01,  1.3080e-01, -8.7025e-02,  5.8463e-01,  8.5651e-02,\n",
      "          2.7781e-03, -7.8375e-01,  2.2147e-01, -4.2403e-01, -8.1117e-01,\n",
      "          7.5301e-01, -4.3837e-01,  3.5268e-01,  1.0309e+00,  2.1760e-01,\n",
      "          1.1935e-01,  3.2316e-01,  1.2639e-01,  5.3945e-01,  4.5093e-02,\n",
      "         -3.2203e-02, -5.2686e-01,  2.0643e-02, -2.3508e-01,  5.6194e-01,\n",
      "         -1.2361e-01,  7.9453e-02,  4.8994e-01, -4.3811e-01,  2.7530e-01],\n",
      "        [-1.1074e-01,  1.0701e-01,  3.0461e-01,  1.6013e-01,  2.1672e-01,\n",
      "         -3.3261e-02, -6.2527e-01, -1.4734e-02, -5.7761e-02, -5.3424e-01,\n",
      "          2.2636e-01, -2.3148e-01, -8.5705e-02,  1.0084e+00,  9.6091e-02,\n",
      "          4.8094e-01,  5.2481e-01,  6.7429e-01,  3.0695e-01, -2.4716e-01,\n",
      "         -4.0769e-01, -5.8498e-01,  5.3755e-01, -2.5933e-01, -7.4398e-02,\n",
      "          2.3549e-01,  3.5707e-01,  1.3880e-01, -4.0946e-01,  2.0953e-01],\n",
      "        [ 1.1676e-01, -9.7232e-02,  2.8934e-01,  5.6617e-01,  2.1102e-01,\n",
      "         -9.2348e-02, -6.2136e-01,  3.5897e-01,  4.1165e-01, -6.6960e-01,\n",
      "          1.2433e+00, -1.9751e-01, -2.7388e-01,  5.6082e-01, -2.6903e-01,\n",
      "          3.9062e-01,  5.1674e-01,  8.9982e-01, -2.1969e-01, -1.2378e-01,\n",
      "          3.3738e-01, -1.1195e-01, -2.2174e-01, -7.8822e-02, -1.5441e-01,\n",
      "          4.7315e-01,  2.5436e-01, -4.5517e-01, -4.7911e-01,  1.0436e-01]],\n",
      "       device='cuda:0', requires_grad=True), b_yn = tensor([[-0.1904],\n",
      "        [-0.5926],\n",
      "        [-0.0655],\n",
      "        [-0.6613],\n",
      "        [-0.2969],\n",
      "        [-0.0134],\n",
      "        [ 0.0099],\n",
      "        [ 0.2647],\n",
      "        [-0.3417],\n",
      "        [ 0.0461],\n",
      "        [ 0.2050],\n",
      "        [-0.2397],\n",
      "        [ 0.3349],\n",
      "        [-0.1538],\n",
      "        [ 0.5390],\n",
      "        [-0.1170],\n",
      "        [ 0.5283],\n",
      "        [ 0.0935],\n",
      "        [-0.0271],\n",
      "        [ 0.5816],\n",
      "        [-0.3113],\n",
      "        [ 0.0496],\n",
      "        [ 0.2860],\n",
      "        [-0.1285],\n",
      "        [ 0.0724],\n",
      "        [-0.2795],\n",
      "        [ 0.3110],\n",
      "        [-0.1662],\n",
      "        [-0.2035],\n",
      "        [-0.2390],\n",
      "        [-0.0323],\n",
      "        [-0.6331]], device='cuda:0', requires_grad=True)\n"
     ]
    }
   ],
   "source": [
    "W_ax, W_aa, b_a, W_yd, b_yd, W_yn, b_yn = torch.load('parameters_3shot.pt')\n",
    "print(f'W_ax = {W_ax},  W_aa = { W_aa}, b_a = {b_a}, W_yd = {W_yd}, W_yn = {W_yn}, b_yn = {b_yn}')"
   ]
  },
  {
   "cell_type": "code",
   "execution_count": 75,
   "metadata": {},
   "outputs": [],
   "source": [
    "W_ax = W_ax.detach()\n",
    "W_aa = W_aa.detach()\n",
    "b_a = b_a.detach()\n",
    "W_yd = W_yd.detach()\n",
    "b_yd = b_yd.detach()\n",
    "W_yn = W_yn.detach()\n",
    "b_yn = b_yn.detach()"
   ]
  },
  {
   "cell_type": "code",
   "execution_count": 76,
   "metadata": {},
   "outputs": [
    {
     "data": {
      "text/plain": [
       "array([ 1,  2,  4,  5,  6,  8, 10, 12, 14, 20], dtype=int64)"
      ]
     },
     "execution_count": 76,
     "metadata": {},
     "output_type": "execute_result"
    }
   ],
   "source": [
    "dur_list"
   ]
  },
  {
   "cell_type": "code",
   "execution_count": 96,
   "metadata": {},
   "outputs": [],
   "source": [
    "# Start with some note\n",
    "notee = 43\n",
    "dur = 4     # 32th note\n",
    "onset = 24  # 32th note"
   ]
  },
  {
   "cell_type": "code",
   "execution_count": 97,
   "metadata": {},
   "outputs": [
    {
     "data": {
      "text/plain": [
       "tensor([[0.],\n",
       "        [0.],\n",
       "        [0.],\n",
       "        [0.],\n",
       "        [0.],\n",
       "        [0.],\n",
       "        [0.],\n",
       "        [1.],\n",
       "        [0.],\n",
       "        [0.],\n",
       "        [0.],\n",
       "        [0.],\n",
       "        [0.],\n",
       "        [0.],\n",
       "        [0.],\n",
       "        [0.],\n",
       "        [0.],\n",
       "        [0.],\n",
       "        [0.],\n",
       "        [0.],\n",
       "        [0.],\n",
       "        [0.],\n",
       "        [0.],\n",
       "        [0.],\n",
       "        [0.],\n",
       "        [0.],\n",
       "        [0.],\n",
       "        [0.],\n",
       "        [0.],\n",
       "        [0.],\n",
       "        [0.],\n",
       "        [0.]], device='cuda:0')"
      ]
     },
     "execution_count": 97,
     "metadata": {},
     "output_type": "execute_result"
    }
   ],
   "source": [
    "note_hot = torch.zeros([32,1], device = dev)\n",
    "note_hot[notee - 36,:] = 1\n",
    "note_hot"
   ]
  },
  {
   "cell_type": "code",
   "execution_count": 98,
   "metadata": {},
   "outputs": [
    {
     "data": {
      "text/plain": [
       "tensor([[0.],\n",
       "        [0.],\n",
       "        [1.],\n",
       "        [0.],\n",
       "        [0.],\n",
       "        [0.],\n",
       "        [0.],\n",
       "        [0.],\n",
       "        [0.],\n",
       "        [0.]], device='cuda:0')"
      ]
     },
     "execution_count": 98,
     "metadata": {},
     "output_type": "execute_result"
    }
   ],
   "source": [
    "dur_hot = torch.zeros([10,1], device = dev)\n",
    "dur_index = np.where(dur_list == dur)[0][0]\n",
    "dur_hot[dur_index,:] = 1\n",
    "dur_hot"
   ]
  },
  {
   "cell_type": "code",
   "execution_count": 99,
   "metadata": {},
   "outputs": [],
   "source": [
    "def str_level(onset, measure_quarterLength, beat_quarterLength):\n",
    "    onset = onset/8  # quarter length\n",
    "    \n",
    "    if onset%measure_quarterLength == 0:\n",
    "        level = 0\n",
    "    elif onset%beat_quarterLength == 0:\n",
    "        level = 1\n",
    "    else:\n",
    "        le = beat_quarterLength\n",
    "        for j in range(2,5):\n",
    "            le = le/2\n",
    "            if onset%le == 0:\n",
    "                level = j\n",
    "                break\n",
    "    return level"
   ]
  },
  {
   "cell_type": "code",
   "execution_count": 100,
   "metadata": {},
   "outputs": [
    {
     "data": {
      "text/plain": [
       "1"
      ]
     },
     "execution_count": 100,
     "metadata": {},
     "output_type": "execute_result"
    }
   ],
   "source": [
    "level = str_level(onset, 4, 1)\n",
    "level"
   ]
  },
  {
   "cell_type": "code",
   "execution_count": 101,
   "metadata": {},
   "outputs": [
    {
     "data": {
      "text/plain": [
       "tensor([[0.],\n",
       "        [1.],\n",
       "        [0.],\n",
       "        [0.],\n",
       "        [0.]], device='cuda:0')"
      ]
     },
     "execution_count": 101,
     "metadata": {},
     "output_type": "execute_result"
    }
   ],
   "source": [
    "lev_hot = torch.zeros([5,1], device = dev)\n",
    "lev_hot[level,:] = 1\n",
    "lev_hot"
   ]
  },
  {
   "cell_type": "code",
   "execution_count": 111,
   "metadata": {},
   "outputs": [],
   "source": [
    "a0 = torch.zeros([20,1], device = dev)\n",
    "Gen = pd.DataFrame(columns=['Note','Duration_32th','Structure_level'])"
   ]
  },
  {
   "cell_type": "code",
   "execution_count": 112,
   "metadata": {},
   "outputs": [],
   "source": [
    "def generate(Gen, note, dur, onset, a, W_ax, W_aa, b_a, W_yd, b_yd, W_yn, b_yn, length, dur_list, dev):\n",
    "    note_hot = torch.zeros([32,1], device = dev)\n",
    "    note_hot[notee - 36,:] = 1\n",
    "    dur_hot = torch.zeros([10,1], device = dev)\n",
    "    dur_index = np.where(dur_list == dur)[0][0]\n",
    "    dur_hot[dur_index,:] = 1\n",
    "    level = str_level(onset, 4, 1)\n",
    "    lev_hot = torch.zeros([5,1], device = dev)\n",
    "    lev_hot[level,:] = 1\n",
    "    \n",
    "    Gen = Gen.append({\n",
    "                'Note': note,\n",
    "                'Duration_32th':dur,\n",
    "               'Structure_level': level},ignore_index=True)\n",
    "    \n",
    "    for i in range(length):\n",
    "        a, y_d, y_n = forward_step(note_hot, dur_hot, lev_hot, a, W_ax, W_aa, b_a, W_yd, b_yd, W_yn, b_yn)\n",
    "        \n",
    "        onset = onset + dur\n",
    "        level = str_level(onset, 4, 1)\n",
    "        lev_hot = torch.zeros([5,1], device = dev)\n",
    "        lev_hot[level,:] = 1\n",
    "        \n",
    "        dur_index = np.random.choice(len(y_d), 1, p=y_d.to(\"cpu\").numpy().reshape(-1,))[0]\n",
    "        dur_hot = torch.zeros([10,1], device = dev)\n",
    "        dur_hot[dur_index,:] = 1\n",
    "        dur = dur_list[dur_index]\n",
    "        \n",
    "        note_index = np.random.choice(len(y_n), 1, p=y_n.to(\"cpu\").numpy().reshape(-1,))[0]\n",
    "        note_hot = torch.zeros([32,1], device = dev)\n",
    "        note_hot[note_index,:] = 1\n",
    "        note = note_index + 36\n",
    "        \n",
    "        Gen = Gen.append({\n",
    "                        'Note': note,\n",
    "                        'Duration_32th':dur,\n",
    "                       'Structure_level': level},ignore_index=True)\n",
    "        \n",
    "    Gen = Gen.astype({\n",
    "                    'Note': np.int64,\n",
    "                    'Duration_32th': np.int64,\n",
    "                    'Structure_level': np.int64\n",
    "                })   \n",
    "    return Gen        "
   ]
  },
  {
   "cell_type": "code",
   "execution_count": 113,
   "metadata": {},
   "outputs": [
    {
     "data": {
      "text/html": [
       "<div>\n",
       "<style scoped>\n",
       "    .dataframe tbody tr th:only-of-type {\n",
       "        vertical-align: middle;\n",
       "    }\n",
       "\n",
       "    .dataframe tbody tr th {\n",
       "        vertical-align: top;\n",
       "    }\n",
       "\n",
       "    .dataframe thead th {\n",
       "        text-align: right;\n",
       "    }\n",
       "</style>\n",
       "<table border=\"1\" class=\"dataframe\">\n",
       "  <thead>\n",
       "    <tr style=\"text-align: right;\">\n",
       "      <th></th>\n",
       "      <th>Note</th>\n",
       "      <th>Duration_32th</th>\n",
       "      <th>Structure_level</th>\n",
       "    </tr>\n",
       "  </thead>\n",
       "  <tbody>\n",
       "    <tr>\n",
       "      <th>0</th>\n",
       "      <td>43</td>\n",
       "      <td>4</td>\n",
       "      <td>1</td>\n",
       "    </tr>\n",
       "    <tr>\n",
       "      <th>1</th>\n",
       "      <td>50</td>\n",
       "      <td>2</td>\n",
       "      <td>2</td>\n",
       "    </tr>\n",
       "    <tr>\n",
       "      <th>2</th>\n",
       "      <td>48</td>\n",
       "      <td>2</td>\n",
       "      <td>3</td>\n",
       "    </tr>\n",
       "    <tr>\n",
       "      <th>3</th>\n",
       "      <td>50</td>\n",
       "      <td>12</td>\n",
       "      <td>0</td>\n",
       "    </tr>\n",
       "    <tr>\n",
       "      <th>4</th>\n",
       "      <td>53</td>\n",
       "      <td>8</td>\n",
       "      <td>2</td>\n",
       "    </tr>\n",
       "    <tr>\n",
       "      <th>...</th>\n",
       "      <td>...</td>\n",
       "      <td>...</td>\n",
       "      <td>...</td>\n",
       "    </tr>\n",
       "    <tr>\n",
       "      <th>96</th>\n",
       "      <td>51</td>\n",
       "      <td>2</td>\n",
       "      <td>4</td>\n",
       "    </tr>\n",
       "    <tr>\n",
       "      <th>97</th>\n",
       "      <td>47</td>\n",
       "      <td>2</td>\n",
       "      <td>4</td>\n",
       "    </tr>\n",
       "    <tr>\n",
       "      <th>98</th>\n",
       "      <td>45</td>\n",
       "      <td>2</td>\n",
       "      <td>4</td>\n",
       "    </tr>\n",
       "    <tr>\n",
       "      <th>99</th>\n",
       "      <td>48</td>\n",
       "      <td>2</td>\n",
       "      <td>4</td>\n",
       "    </tr>\n",
       "    <tr>\n",
       "      <th>100</th>\n",
       "      <td>49</td>\n",
       "      <td>2</td>\n",
       "      <td>4</td>\n",
       "    </tr>\n",
       "  </tbody>\n",
       "</table>\n",
       "<p>101 rows × 3 columns</p>\n",
       "</div>"
      ],
      "text/plain": [
       "     Note  Duration_32th  Structure_level\n",
       "0      43              4                1\n",
       "1      50              2                2\n",
       "2      48              2                3\n",
       "3      50             12                0\n",
       "4      53              8                2\n",
       "..    ...            ...              ...\n",
       "96     51              2                4\n",
       "97     47              2                4\n",
       "98     45              2                4\n",
       "99     48              2                4\n",
       "100    49              2                4\n",
       "\n",
       "[101 rows x 3 columns]"
      ]
     },
     "execution_count": 113,
     "metadata": {},
     "output_type": "execute_result"
    }
   ],
   "source": [
    "length = 100\n",
    "Gen = generate(Gen, notee, dur, onset, a0, W_ax, W_aa, b_a, W_yd, b_yd, W_yn, b_yn, length, dur_list, dev)\n",
    "Gen"
   ]
  },
  {
   "cell_type": "code",
   "execution_count": 108,
   "metadata": {},
   "outputs": [],
   "source": [
    "from music21 import *"
   ]
  },
  {
   "cell_type": "code",
   "execution_count": 114,
   "metadata": {},
   "outputs": [
    {
     "data": {
      "image/png": "[encoded data removed]",
      "text/plain": [
       "<IPython.core.display.Image object>"
      ]
     },
     "metadata": {
      "image/png": {
       "height": 456,
       "width": 708
      }
     },
     "output_type": "display_data"
    }
   ],
   "source": [
    "strm = stream.Stream()\n",
    "mm = tempo.MetronomeMark(number=80)  # BPM = 80\n",
    "strm.append(mm)  # tempo\n",
    "strm.append(instrument.Violoncello())  # instrument\n",
    "strm.append(meter.TimeSignature('4/4')) # time signature\n",
    "n = note.Rest()\n",
    "n.duration.quarterLength = onset/8\n",
    "strm.append(n)\n",
    "for i in range(len(Gen)):\n",
    "    n = note.Note()\n",
    "    n.pitch.midi = Gen['Note'][i]\n",
    "    n.duration.quarterLength = Gen['Duration_32th'][i]/8\n",
    "    strm.append(n)\n",
    "strm.show()"
   ]
  },
  {
   "cell_type": "code",
   "execution_count": 115,
   "metadata": {},
   "outputs": [],
   "source": [
    "strm.show('mid')"
   ]
  },
  {
   "cell_type": "markdown",
   "metadata": {},
   "source": [
    "We can also write it to a MIDI file. The MIDI file is unified under parameters below:\n",
    "- PPQ: 480\n",
    "- BPM: 80 (Tempo: 750000)\n",
    "- Time signature: 4/4\n",
    "- Instrument: cello (Program_c: 42)"
   ]
  },
  {
   "cell_type": "code",
   "execution_count": 116,
   "metadata": {},
   "outputs": [
    {
     "data": {
      "text/plain": [
       "60"
      ]
     },
     "execution_count": 116,
     "metadata": {},
     "output_type": "execute_result"
    }
   ],
   "source": [
    "PPQ = 480\n",
    "PP32 = int(PPQ/8)\n",
    "PP32"
   ]
  },
  {
   "cell_type": "code",
   "execution_count": 117,
   "metadata": {},
   "outputs": [
    {
     "data": {
      "text/plain": [
       "1440"
      ]
     },
     "execution_count": 117,
     "metadata": {},
     "output_type": "execute_result"
    }
   ],
   "source": [
    "time = int(onset * PP32)\n",
    "time"
   ]
  },
  {
   "cell_type": "code",
   "execution_count": 118,
   "metadata": {},
   "outputs": [],
   "source": [
    "generated_csv = open(\"midi.csv\", 'w')\n",
    "generated_csv.write(\"0,0,Header,0,1,480\\n\")\n",
    "generated_csv.write(\"1,0,Start_track\\n\")\n",
    "generated_csv.write(\"1,0,Tempo,750000\\n\")\n",
    "generated_csv.write(\"1,0,Time_signature,4,2,24,8\\n\")\n",
    "generated_csv.write(\"1,0,Program_c, 0, 42\\n\")\n",
    "\n",
    "for i in range(len(Gen)):\n",
    "    note = Gen['Note'][i]\n",
    "    level = Gen['Structure_level'][i]\n",
    "    if level == 0:\n",
    "        velocity = np.random.randint(100,115)\n",
    "    elif level == 1:\n",
    "        velocity = np.random.randint(90,105)\n",
    "    elif level == 2:\n",
    "        velocity = np.random.randint(80,95)\n",
    "    else:\n",
    "        velocity = np.random.randint(75-5*(level-3),85-5*(level-3))\n",
    "        \n",
    "    generated_csv.write(\"1,\"+str(time)+\",Note_on_c,0,\"+str(note)+\",\"+str(velocity)+\"\\n\")\n",
    "    time += int(Gen['Duration_32th'][i]*PP32)\n",
    "    generated_csv.write(\"1,\"+str(time)+\",Note_on_c,0,\"+str(note)+\",0\\n\")\n",
    "\n",
    "end_time = time + PPQ\n",
    "generated_csv.write(\"1,\" + str(end_time) +\", End_track\\n\")\n",
    "generated_csv.write(\"0, 0, End_of_file\")\n",
    "generated_csv.close()"
   ]
  },
  {
   "cell_type": "code",
   "execution_count": 119,
   "metadata": {},
   "outputs": [],
   "source": [
    "# Parse the CSV output of the previous command back into a MIDI file\n",
    "midi_object = pm.csv_to_midi(\"midi.csv\")\n",
    "\n",
    "# Save the parsed MIDI file to disk\n",
    "with open(\"C://Users/79244/Desktop/generated.mid\", \"wb\") as output_file:\n",
    "    midi_writer = pm.FileWriter(output_file)\n",
    "    midi_writer.write(midi_object)"
   ]
  },
  {
   "cell_type": "markdown",
   "metadata": {},
   "source": [
    "### 6) Comments\n",
    "\n",
    "The music generation task is overly simplified in our case. The real musical phenomenon is far more complex than concatenating single notes. Take a look at the following file,"
   ]
  },
  {
   "cell_type": "code",
   "execution_count": 116,
   "metadata": {},
   "outputs": [
    {
     "data": {
      "image/png": "[encoded data removed]",
      "text/plain": [
       "<IPython.core.display.Image object>"
      ]
     },
     "metadata": {
      "image/png": {
       "height": 912,
       "width": 708
      }
     },
     "output_type": "display_data"
    }
   ],
   "source": [
    "s = converter.parse(\"Music\\cs5-5polyphony.mid\")\n",
    "s.show()"
   ]
  },
  {
   "cell_type": "code",
   "execution_count": 117,
   "metadata": {},
   "outputs": [],
   "source": [
    "s.show('mid')"
   ]
  },
  {
   "cell_type": "markdown",
   "metadata": {},
   "source": [
    "The building blocks for music are chords rather than notes, and the interplay between different parts, the emotional convey and expressivity of music, the acoustic scene the sounds created are far way beyond what we have covered. To generate such complicated music, we need more advanced design of the systems and a better way of data processing. Do you have any inspirations or ideas? We are looking forward to reading your project and discussing your practices!"
   ]
  },
  {
   "cell_type": "code",
   "execution_count": null,
   "metadata": {},
   "outputs": [],
   "source": []
  }
 ],
 "metadata": {
  "kernelspec": {
   "display_name": "Python 3",
   "language": "python",
   "name": "python3"
  },
  "language_info": {
   "codemirror_mode": {
    "name": "ipython",
    "version": 3
   },
   "file_extension": ".py",
   "mimetype": "text/x-python",
   "name": "python",
   "nbconvert_exporter": "python",
   "pygments_lexer": "ipython3",
   "version": "3.7.6"
  }
 },
 "nbformat": 4,
 "nbformat_minor": 4
}
