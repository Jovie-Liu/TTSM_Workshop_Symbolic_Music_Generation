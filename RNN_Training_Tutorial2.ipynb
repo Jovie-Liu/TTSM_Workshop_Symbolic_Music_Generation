{
 "cells": [
  {
   "cell_type": "markdown",
   "metadata": {},
   "source": [
    "***\n",
    "*Workshop:* [TTSM (Technology & Thought in Sonic Media) summer school 2023](https://ttsm.link/) - Symbolic Music Data Processing and Generation\n",
    "\n",
    "*Instructor:* Jingwei Liu (Music department, UC San Diego)\n",
    "***\n",
    "\n",
    "# <span style=\"background-color:darkorange; color:white; padding:2px 6px\">Tutorial</span> \n",
    "\n",
    "\n",
    "# Symbolic Music Generation by RNN"
   ]
  },
  {
   "cell_type": "markdown",
   "metadata": {},
   "source": [
    "Based on the data processing techniques we developed in the first workshop, in our second workshop, we will use the processed data to train a neural network for music generation. As our input is processed as sequential monophonic pieces, the most suitable neural network model would be autoregressive model, such as RNN.\n",
    "\n",
    "In this tutorial we will build our own RNN model by writing the formulas and functions from scratch, instead of applying a pre-built library. This exercise will give you a deeper understanding of the mechanism of neural networks, and also demonstrate how to flexibly design and train neural networks rather than being constrained by the settings of other programmers."
   ]
  },
  {
   "cell_type": "code",
   "execution_count": 1,
   "metadata": {},
   "outputs": [],
   "source": [
    "import numpy as np\n",
    "import pandas as pd\n",
    "from music21 import *\n",
    "import py_midicsv as pm\n",
    "import random\n",
    "import csv\n",
    "from pathlib import Path\n",
    "import os"
   ]
  },
  {
   "cell_type": "markdown",
   "metadata": {},
   "source": [
    "We use `PyTorch` as our machine learning platform."
   ]
  },
  {
   "cell_type": "code",
   "execution_count": 2,
   "metadata": {},
   "outputs": [
    {
     "data": {
      "text/plain": [
       "True"
      ]
     },
     "execution_count": 2,
     "metadata": {},
     "output_type": "execute_result"
    }
   ],
   "source": [
    "import torch\n",
    "torch.cuda.is_available()"
   ]
  },
  {
   "cell_type": "markdown",
   "metadata": {},
   "source": [
    "*Package introduction*\n",
    "- [PyTorch](https://pytorch.org/docs/stable/index.html) is an optimized tensor library for deep learning using GPUs and CPUs."
   ]
  },
  {
   "cell_type": "code",
   "execution_count": 3,
   "metadata": {},
   "outputs": [],
   "source": [
    "dev = torch.device(\"cuda\") # operate on GPU \"cuda\" or CPU \"cpu\""
   ]
  },
  {
   "cell_type": "markdown",
   "metadata": {},
   "source": [
    "## Part 1: Statistics of Dataset\n",
    "\n",
    "We pre-processed 10 selected files from [Dave's J.S. Bach Page](http://www.jsbach.net/midi/midi_solo_cello.html) with uniform time signature (4/4) and BPM (80). The data is encoded as \"Note, Duration, Structure level\". The notes are concatenated sequentially without rest, and the pieces are monophonic, which means there are no chords or simultaneous notes."
   ]
  },
  {
   "cell_type": "code",
   "execution_count": 4,
   "metadata": {},
   "outputs": [
    {
     "name": "stdout",
     "output_type": "stream",
     "text": [
      "cs1-1pre.csv\n",
      "cs1-2all.csv\n",
      "cs2-2all.csv\n",
      "cs3-2all.csv\n",
      "cs3-5bou.csv\n",
      "cs4-1pre_part1.csv\n",
      "cs4-1pre_part2.csv\n",
      "cs4-2all.csv\n",
      "cs4-5bou.csv\n",
      "cs5-2all.csv\n"
     ]
    }
   ],
   "source": [
    "folder = Path('Selected_files/Processed').rglob('*.csv')\n",
    "file_list = []\n",
    "for x in folder:\n",
    "    file = x\n",
    "    dirname = os.path.dirname(x)\n",
    "    basename = os.path.basename(x)\n",
    "    name = os.path.splitext(basename)[0]\n",
    "    filename = os.path.join(dirname, basename)\n",
    "    file_list.append(basename)\n",
    "    print(basename)"
   ]
  },
  {
   "cell_type": "code",
   "execution_count": 5,
   "metadata": {},
   "outputs": [
    {
     "data": {
      "text/plain": [
       "['cs1-1pre.csv',\n",
       " 'cs1-2all.csv',\n",
       " 'cs2-2all.csv',\n",
       " 'cs3-2all.csv',\n",
       " 'cs3-5bou.csv',\n",
       " 'cs4-1pre_part1.csv',\n",
       " 'cs4-1pre_part2.csv',\n",
       " 'cs4-2all.csv',\n",
       " 'cs4-5bou.csv',\n",
       " 'cs5-2all.csv']"
      ]
     },
     "execution_count": 5,
     "metadata": {},
     "output_type": "execute_result"
    }
   ],
   "source": [
    "file_list"
   ]
  },
  {
   "cell_type": "markdown",
   "metadata": {},
   "source": [
    "We have 10 files in the dataset."
   ]
  },
  {
   "cell_type": "code",
   "execution_count": 6,
   "metadata": {},
   "outputs": [
    {
     "data": {
      "text/html": [
       "<div>\n",
       "<style scoped>\n",
       "    .dataframe tbody tr th:only-of-type {\n",
       "        vertical-align: middle;\n",
       "    }\n",
       "\n",
       "    .dataframe tbody tr th {\n",
       "        vertical-align: top;\n",
       "    }\n",
       "\n",
       "    .dataframe thead th {\n",
       "        text-align: right;\n",
       "    }\n",
       "</style>\n",
       "<table border=\"1\" class=\"dataframe\">\n",
       "  <thead>\n",
       "    <tr style=\"text-align: right;\">\n",
       "      <th></th>\n",
       "      <th>Note</th>\n",
       "      <th>Duration_32th</th>\n",
       "      <th>Structure_level</th>\n",
       "    </tr>\n",
       "  </thead>\n",
       "  <tbody>\n",
       "    <tr>\n",
       "      <th>0</th>\n",
       "      <td>43</td>\n",
       "      <td>2</td>\n",
       "      <td>0</td>\n",
       "    </tr>\n",
       "    <tr>\n",
       "      <th>1</th>\n",
       "      <td>50</td>\n",
       "      <td>2</td>\n",
       "      <td>3</td>\n",
       "    </tr>\n",
       "    <tr>\n",
       "      <th>2</th>\n",
       "      <td>59</td>\n",
       "      <td>2</td>\n",
       "      <td>2</td>\n",
       "    </tr>\n",
       "    <tr>\n",
       "      <th>3</th>\n",
       "      <td>57</td>\n",
       "      <td>2</td>\n",
       "      <td>3</td>\n",
       "    </tr>\n",
       "    <tr>\n",
       "      <th>4</th>\n",
       "      <td>59</td>\n",
       "      <td>2</td>\n",
       "      <td>1</td>\n",
       "    </tr>\n",
       "    <tr>\n",
       "      <th>...</th>\n",
       "      <td>...</td>\n",
       "      <td>...</td>\n",
       "      <td>...</td>\n",
       "    </tr>\n",
       "    <tr>\n",
       "      <th>7925</th>\n",
       "      <td>60</td>\n",
       "      <td>6</td>\n",
       "      <td>0</td>\n",
       "    </tr>\n",
       "    <tr>\n",
       "      <th>7926</th>\n",
       "      <td>55</td>\n",
       "      <td>2</td>\n",
       "      <td>3</td>\n",
       "    </tr>\n",
       "    <tr>\n",
       "      <th>7927</th>\n",
       "      <td>51</td>\n",
       "      <td>6</td>\n",
       "      <td>1</td>\n",
       "    </tr>\n",
       "    <tr>\n",
       "      <th>7928</th>\n",
       "      <td>48</td>\n",
       "      <td>2</td>\n",
       "      <td>3</td>\n",
       "    </tr>\n",
       "    <tr>\n",
       "      <th>7929</th>\n",
       "      <td>60</td>\n",
       "      <td>12</td>\n",
       "      <td>1</td>\n",
       "    </tr>\n",
       "  </tbody>\n",
       "</table>\n",
       "<p>7930 rows × 3 columns</p>\n",
       "</div>"
      ],
      "text/plain": [
       "      Note  Duration_32th  Structure_level\n",
       "0       43              2                0\n",
       "1       50              2                3\n",
       "2       59              2                2\n",
       "3       57              2                3\n",
       "4       59              2                1\n",
       "...    ...            ...              ...\n",
       "7925    60              6                0\n",
       "7926    55              2                3\n",
       "7927    51              6                1\n",
       "7928    48              2                3\n",
       "7929    60             12                1\n",
       "\n",
       "[7930 rows x 3 columns]"
      ]
     },
     "execution_count": 6,
     "metadata": {},
     "output_type": "execute_result"
    }
   ],
   "source": [
    "ALL = pd.DataFrame(columns=['Note','Duration_32th','Structure_level'])\n",
    "folder = Path('Selected_files/Processed').rglob('*.csv')\n",
    "for x in folder:\n",
    "    Single = pd.read_csv(x, sep=\",\",names = [\"Note\", \"Duration_32th\", \"Structure_level\"])\n",
    "    ALL = pd.concat([ALL, Single])\n",
    "ALL = ALL.reset_index(drop=True)\n",
    "ALL = ALL.astype({\n",
    "    'Note': np.int64,\n",
    "    'Duration_32th': np.int64,\n",
    "    'Structure_level': np.int64\n",
    "})\n",
    "ALL"
   ]
  },
  {
   "cell_type": "markdown",
   "metadata": {},
   "source": [
    "There are 7930 notes in the dataset in total."
   ]
  },
  {
   "cell_type": "code",
   "execution_count": 7,
   "metadata": {},
   "outputs": [
    {
     "data": {
      "text/plain": [
       "array([36, 37, 38, 39, 40, 41, 42, 43, 44, 45, 46, 47, 48, 49, 50, 51, 52,\n",
       "       53, 54, 55, 56, 57, 58, 59, 60, 61, 62, 63, 64, 65, 66, 67],\n",
       "      dtype=int64)"
      ]
     },
     "execution_count": 7,
     "metadata": {},
     "output_type": "execute_result"
    }
   ],
   "source": [
    "np.unique(ALL['Note'])"
   ]
  },
  {
   "cell_type": "code",
   "execution_count": 8,
   "metadata": {},
   "outputs": [
    {
     "data": {
      "text/plain": [
       "32"
      ]
     },
     "execution_count": 8,
     "metadata": {},
     "output_type": "execute_result"
    }
   ],
   "source": [
    "len(np.unique(ALL['Note']))"
   ]
  },
  {
   "cell_type": "code",
   "execution_count": 9,
   "metadata": {},
   "outputs": [
    {
     "data": {
      "text/plain": [
       "(32,)"
      ]
     },
     "execution_count": 9,
     "metadata": {},
     "output_type": "execute_result"
    }
   ],
   "source": [
    "np.shape(np.unique(ALL['Note']))"
   ]
  },
  {
   "cell_type": "markdown",
   "metadata": {},
   "source": [
    "The note's range is $[36, 67]$, 32 notes in total. We encode the notes as 32-dimensional vectors:"
   ]
  },
  {
   "cell_type": "code",
   "execution_count": 10,
   "metadata": {},
   "outputs": [],
   "source": [
    "def note_one_hot(note, dev):\n",
    "    \"\"\"\n",
    "    Arguments:\n",
    "    note -- numpy array of shape (n, )\n",
    "    \n",
    "    Returns:\n",
    "    note_vt -- torch tensor of shape (32, n)\n",
    "    \"\"\"\n",
    "    l = len(note)\n",
    "    note_vt = torch.zeros([32,l], device = dev)\n",
    "    note_vt[note - 36,np.arange(l)] = 1\n",
    "    \n",
    "    return note_vt"
   ]
  },
  {
   "cell_type": "code",
   "execution_count": 11,
   "metadata": {},
   "outputs": [
    {
     "data": {
      "text/plain": [
       "array([43, 50, 59, 57, 59], dtype=int64)"
      ]
     },
     "execution_count": 11,
     "metadata": {},
     "output_type": "execute_result"
    }
   ],
   "source": [
    "notes = np.array(ALL['Note'][0:5])\n",
    "notes"
   ]
  },
  {
   "cell_type": "code",
   "execution_count": 12,
   "metadata": {},
   "outputs": [
    {
     "data": {
      "text/plain": [
       "tensor([[0., 0., 0., 0., 0.],\n",
       "        [0., 0., 0., 0., 0.],\n",
       "        [0., 0., 0., 0., 0.],\n",
       "        [0., 0., 0., 0., 0.],\n",
       "        [0., 0., 0., 0., 0.],\n",
       "        [0., 0., 0., 0., 0.],\n",
       "        [0., 0., 0., 0., 0.],\n",
       "        [1., 0., 0., 0., 0.],\n",
       "        [0., 0., 0., 0., 0.],\n",
       "        [0., 0., 0., 0., 0.],\n",
       "        [0., 0., 0., 0., 0.],\n",
       "        [0., 0., 0., 0., 0.],\n",
       "        [0., 0., 0., 0., 0.],\n",
       "        [0., 0., 0., 0., 0.],\n",
       "        [0., 1., 0., 0., 0.],\n",
       "        [0., 0., 0., 0., 0.],\n",
       "        [0., 0., 0., 0., 0.],\n",
       "        [0., 0., 0., 0., 0.],\n",
       "        [0., 0., 0., 0., 0.],\n",
       "        [0., 0., 0., 0., 0.],\n",
       "        [0., 0., 0., 0., 0.],\n",
       "        [0., 0., 0., 1., 0.],\n",
       "        [0., 0., 0., 0., 0.],\n",
       "        [0., 0., 1., 0., 1.],\n",
       "        [0., 0., 0., 0., 0.],\n",
       "        [0., 0., 0., 0., 0.],\n",
       "        [0., 0., 0., 0., 0.],\n",
       "        [0., 0., 0., 0., 0.],\n",
       "        [0., 0., 0., 0., 0.],\n",
       "        [0., 0., 0., 0., 0.],\n",
       "        [0., 0., 0., 0., 0.],\n",
       "        [0., 0., 0., 0., 0.]], device='cuda:0')"
      ]
     },
     "execution_count": 12,
     "metadata": {},
     "output_type": "execute_result"
    }
   ],
   "source": [
    "note_one_hot(notes, dev)"
   ]
  },
  {
   "cell_type": "code",
   "execution_count": 13,
   "metadata": {},
   "outputs": [
    {
     "data": {
      "text/plain": [
       "array([ 1,  2,  4,  5,  6,  8, 10, 12, 14, 20], dtype=int64)"
      ]
     },
     "execution_count": 13,
     "metadata": {},
     "output_type": "execute_result"
    }
   ],
   "source": [
    "np.unique(ALL['Duration_32th'])"
   ]
  },
  {
   "cell_type": "code",
   "execution_count": 14,
   "metadata": {},
   "outputs": [
    {
     "data": {
      "text/plain": [
       "10"
      ]
     },
     "execution_count": 14,
     "metadata": {},
     "output_type": "execute_result"
    }
   ],
   "source": [
    "len(np.unique(ALL['Duration_32th']))"
   ]
  },
  {
   "cell_type": "markdown",
   "metadata": {},
   "source": [
    "There are 10 types of durations. Similarly, we encode the duration as one hot vectors of dimension 10."
   ]
  },
  {
   "cell_type": "code",
   "execution_count": 15,
   "metadata": {},
   "outputs": [
    {
     "data": {
      "text/plain": [
       "array([ 1,  2,  4,  5,  6,  8, 10, 12, 14, 20], dtype=int64)"
      ]
     },
     "execution_count": 15,
     "metadata": {},
     "output_type": "execute_result"
    }
   ],
   "source": [
    "dur_list = np.unique(ALL['Duration_32th'])\n",
    "dur_list"
   ]
  },
  {
   "cell_type": "code",
   "execution_count": 16,
   "metadata": {},
   "outputs": [
    {
     "data": {
      "text/plain": [
       "{1: 0, 2: 1, 4: 2, 5: 3, 6: 4, 8: 5, 10: 6, 12: 7, 14: 8, 20: 9}"
      ]
     },
     "execution_count": 16,
     "metadata": {},
     "output_type": "execute_result"
    }
   ],
   "source": [
    "dur_dict = dict(zip(dur_list, np.arange(len(dur_list))))\n",
    "dur_dict"
   ]
  },
  {
   "cell_type": "code",
   "execution_count": 17,
   "metadata": {},
   "outputs": [
    {
     "data": {
      "text/plain": [
       "[3, 5, 4, 3]"
      ]
     },
     "execution_count": 17,
     "metadata": {},
     "output_type": "execute_result"
    }
   ],
   "source": [
    "list(map(dur_dict.get,[5,8,6,5]))"
   ]
  },
  {
   "cell_type": "code",
   "execution_count": 18,
   "metadata": {},
   "outputs": [],
   "source": [
    "def dur_one_hot(dur,dur_list,dev):\n",
    "    \"\"\"\n",
    "    Arguments:\n",
    "    dur -- numpy array of shape (n, )\n",
    "    \n",
    "    Returns:\n",
    "    dur_vt -- torch tensor of shape (10, n)\n",
    "    \"\"\"\n",
    "    l = len(dur)\n",
    "    dur_vt = torch.zeros([10,l], device = dev)\n",
    "    dur_index = np.array(list(map(dur_dict.get,dur)))\n",
    "    dur_vt[dur_index,np.arange(l)] = 1\n",
    "    \n",
    "    return dur_vt"
   ]
  },
  {
   "cell_type": "code",
   "execution_count": 19,
   "metadata": {},
   "outputs": [
    {
     "data": {
      "text/plain": [
       "array([ 6,  2,  6,  2, 12], dtype=int64)"
      ]
     },
     "execution_count": 19,
     "metadata": {},
     "output_type": "execute_result"
    }
   ],
   "source": [
    "dur = np.array(ALL['Duration_32th'][-5:])\n",
    "dur"
   ]
  },
  {
   "cell_type": "code",
   "execution_count": 20,
   "metadata": {},
   "outputs": [
    {
     "data": {
      "text/plain": [
       "tensor([[0., 0., 0., 0., 0.],\n",
       "        [0., 1., 0., 1., 0.],\n",
       "        [0., 0., 0., 0., 0.],\n",
       "        [0., 0., 0., 0., 0.],\n",
       "        [1., 0., 1., 0., 0.],\n",
       "        [0., 0., 0., 0., 0.],\n",
       "        [0., 0., 0., 0., 0.],\n",
       "        [0., 0., 0., 0., 1.],\n",
       "        [0., 0., 0., 0., 0.],\n",
       "        [0., 0., 0., 0., 0.]], device='cuda:0')"
      ]
     },
     "execution_count": 20,
     "metadata": {},
     "output_type": "execute_result"
    }
   ],
   "source": [
    "dur_one_hot(dur,dur_list,dev)"
   ]
  },
  {
   "cell_type": "code",
   "execution_count": 21,
   "metadata": {},
   "outputs": [
    {
     "data": {
      "text/plain": [
       "array([0, 1, 2, 3, 4], dtype=int64)"
      ]
     },
     "execution_count": 21,
     "metadata": {},
     "output_type": "execute_result"
    }
   ],
   "source": [
    "np.unique(ALL['Structure_level'])"
   ]
  },
  {
   "cell_type": "code",
   "execution_count": 22,
   "metadata": {},
   "outputs": [
    {
     "data": {
      "text/plain": [
       "5"
      ]
     },
     "execution_count": 22,
     "metadata": {},
     "output_type": "execute_result"
    }
   ],
   "source": [
    "len(np.unique(ALL['Structure_level']))"
   ]
  },
  {
   "cell_type": "markdown",
   "metadata": {},
   "source": [
    "There are 5 types of structure levels. Since the structure level only indicates the relative position of the notes in time, which is determined by the duration, it works as additional information rather than a predictive term in our design."
   ]
  },
  {
   "cell_type": "code",
   "execution_count": 23,
   "metadata": {},
   "outputs": [],
   "source": [
    "def lev_one_hot(lev, dev):\n",
    "    \"\"\"\n",
    "    Arguments:\n",
    "    lev -- numpy array of shape (n, )\n",
    "    \n",
    "    Returns:\n",
    "    lev_vt -- torch tensor of shape (5, n)\n",
    "    \"\"\"\n",
    "    l = len(lev)\n",
    "    lev_vt = torch.zeros([5,l], device = dev)\n",
    "    lev_vt[lev,np.arange(l)] = 1\n",
    "    \n",
    "    return lev_vt"
   ]
  },
  {
   "cell_type": "code",
   "execution_count": 24,
   "metadata": {},
   "outputs": [
    {
     "data": {
      "text/plain": [
       "array([0, 3, 1, 3, 1], dtype=int64)"
      ]
     },
     "execution_count": 24,
     "metadata": {},
     "output_type": "execute_result"
    }
   ],
   "source": [
    "lev = np.array(ALL['Structure_level'][-5:])\n",
    "lev"
   ]
  },
  {
   "cell_type": "code",
   "execution_count": 25,
   "metadata": {},
   "outputs": [
    {
     "data": {
      "text/plain": [
       "tensor([[1., 0., 0., 0., 0.],\n",
       "        [0., 0., 1., 0., 1.],\n",
       "        [0., 0., 0., 0., 0.],\n",
       "        [0., 1., 0., 1., 0.],\n",
       "        [0., 0., 0., 0., 0.]], device='cuda:0')"
      ]
     },
     "execution_count": 25,
     "metadata": {},
     "output_type": "execute_result"
    }
   ],
   "source": [
    "lev_one_hot(lev, dev)"
   ]
  },
  {
   "cell_type": "markdown",
   "metadata": {},
   "source": [
    "There could possibly be 32 x 10 x 5 = 1600 combinations if the three factors are considered indepent. However,"
   ]
  },
  {
   "cell_type": "code",
   "execution_count": 26,
   "metadata": {},
   "outputs": [
    {
     "data": {
      "text/plain": [
       "array([[36,  1,  2],\n",
       "       [36,  2,  0],\n",
       "       [36,  2,  1],\n",
       "       ...,\n",
       "       [67,  4,  0],\n",
       "       [67,  4,  1],\n",
       "       [67,  4,  2]], dtype=int64)"
      ]
     },
     "execution_count": 26,
     "metadata": {},
     "output_type": "execute_result"
    }
   ],
   "source": [
    "np.unique(np.array(ALL),axis = 0)"
   ]
  },
  {
   "cell_type": "code",
   "execution_count": 27,
   "metadata": {},
   "outputs": [
    {
     "data": {
      "text/plain": [
       "357"
      ]
     },
     "execution_count": 27,
     "metadata": {},
     "output_type": "execute_result"
    }
   ],
   "source": [
    "len(np.unique(np.array(ALL),axis = 0))"
   ]
  },
  {
   "cell_type": "markdown",
   "metadata": {},
   "source": [
    "There are far less combinations in the dataset. Even if we only take the note and duration, it would be"
   ]
  },
  {
   "cell_type": "code",
   "execution_count": 28,
   "metadata": {},
   "outputs": [
    {
     "data": {
      "text/plain": [
       "array([[36,  1],\n",
       "       [36,  2],\n",
       "       [36,  4],\n",
       "       [36,  6],\n",
       "       [36,  8],\n",
       "       [36, 20],\n",
       "       [37,  2],\n",
       "       [37,  5],\n",
       "       [37,  8],\n",
       "       [38,  1],\n",
       "       [38,  2],\n",
       "       [38,  4],\n",
       "       [38,  6],\n",
       "       [39,  1],\n",
       "       [39,  2],\n",
       "       [39,  4],\n",
       "       [39,  8],\n",
       "       [40,  2],\n",
       "       [40,  4],\n",
       "       [40,  6],\n",
       "       [40, 12],\n",
       "       [41,  1],\n",
       "       [41,  2],\n",
       "       [41,  4],\n",
       "       [42,  2],\n",
       "       [42,  4],\n",
       "       [42, 12],\n",
       "       [43,  1],\n",
       "       [43,  2],\n",
       "       [43,  4],\n",
       "       [43,  6],\n",
       "       [43, 14],\n",
       "       [44,  1],\n",
       "       [44,  2],\n",
       "       [44,  4],\n",
       "       [44,  6],\n",
       "       [44, 10],\n",
       "       [45,  1],\n",
       "       [45,  2],\n",
       "       [45,  4],\n",
       "       [45,  6],\n",
       "       [46,  1],\n",
       "       [46,  2],\n",
       "       [46,  4],\n",
       "       [46,  6],\n",
       "       [46,  8],\n",
       "       [46, 10],\n",
       "       [46, 12],\n",
       "       [47,  1],\n",
       "       [47,  2],\n",
       "       [47,  4],\n",
       "       [47,  6],\n",
       "       [47,  8],\n",
       "       [48,  1],\n",
       "       [48,  2],\n",
       "       [48,  4],\n",
       "       [48,  6],\n",
       "       [48,  8],\n",
       "       [48, 10],\n",
       "       [48, 12],\n",
       "       [49,  2],\n",
       "       [49,  4],\n",
       "       [50,  1],\n",
       "       [50,  2],\n",
       "       [50,  4],\n",
       "       [50,  6],\n",
       "       [50, 10],\n",
       "       [50, 12],\n",
       "       [51,  1],\n",
       "       [51,  2],\n",
       "       [51,  4],\n",
       "       [51,  5],\n",
       "       [51,  6],\n",
       "       [51, 10],\n",
       "       [51, 12],\n",
       "       [52,  1],\n",
       "       [52,  2],\n",
       "       [52,  4],\n",
       "       [52,  6],\n",
       "       [52, 10],\n",
       "       [53,  1],\n",
       "       [53,  2],\n",
       "       [53,  4],\n",
       "       [53,  6],\n",
       "       [53, 10],\n",
       "       [54,  1],\n",
       "       [54,  2],\n",
       "       [54,  4],\n",
       "       [54,  6],\n",
       "       [54, 12],\n",
       "       [55,  1],\n",
       "       [55,  2],\n",
       "       [55,  4],\n",
       "       [55,  5],\n",
       "       [55,  6],\n",
       "       [55,  8],\n",
       "       [55, 10],\n",
       "       [55, 12],\n",
       "       [55, 20],\n",
       "       [56,  1],\n",
       "       [56,  2],\n",
       "       [56,  4],\n",
       "       [56,  6],\n",
       "       [56, 10],\n",
       "       [56, 12],\n",
       "       [57,  1],\n",
       "       [57,  2],\n",
       "       [57,  4],\n",
       "       [57,  6],\n",
       "       [57,  8],\n",
       "       [57, 10],\n",
       "       [57, 12],\n",
       "       [58,  1],\n",
       "       [58,  2],\n",
       "       [58,  4],\n",
       "       [58,  6],\n",
       "       [58,  8],\n",
       "       [58, 10],\n",
       "       [59,  1],\n",
       "       [59,  2],\n",
       "       [59,  4],\n",
       "       [59,  6],\n",
       "       [59, 10],\n",
       "       [59, 12],\n",
       "       [60,  1],\n",
       "       [60,  2],\n",
       "       [60,  4],\n",
       "       [60,  6],\n",
       "       [60,  8],\n",
       "       [60, 10],\n",
       "       [60, 12],\n",
       "       [60, 14],\n",
       "       [61,  1],\n",
       "       [61,  2],\n",
       "       [61,  4],\n",
       "       [61,  6],\n",
       "       [62,  1],\n",
       "       [62,  2],\n",
       "       [62,  4],\n",
       "       [62,  6],\n",
       "       [62, 10],\n",
       "       [63,  1],\n",
       "       [63,  2],\n",
       "       [63,  4],\n",
       "       [63,  6],\n",
       "       [63,  8],\n",
       "       [63, 10],\n",
       "       [63, 12],\n",
       "       [64,  2],\n",
       "       [64,  4],\n",
       "       [65,  1],\n",
       "       [65,  2],\n",
       "       [65,  4],\n",
       "       [65, 10],\n",
       "       [66,  2],\n",
       "       [66,  4],\n",
       "       [67,  1],\n",
       "       [67,  2],\n",
       "       [67,  4]], dtype=int64)"
      ]
     },
     "execution_count": 28,
     "metadata": {},
     "output_type": "execute_result"
    }
   ],
   "source": [
    "np.unique(np.array(ALL[['Note','Duration_32th']]),axis = 0)"
   ]
  },
  {
   "cell_type": "code",
   "execution_count": 29,
   "metadata": {},
   "outputs": [
    {
     "data": {
      "text/plain": [
       "159"
      ]
     },
     "execution_count": 29,
     "metadata": {},
     "output_type": "execute_result"
    }
   ],
   "source": [
    "len(np.unique(np.array(ALL[['Note','Duration_32th']]),axis = 0))"
   ]
  },
  {
   "cell_type": "markdown",
   "metadata": {},
   "source": [
    "The exaustive possibilities are 320.\n",
    "\n",
    "The problem is, if we compress [Note, Duration_32th, Structure_level] (or just [Note, Duration_32th] in the simplest case) into one token and encode it with one hot vector, we can come up with a 357-dimension vector based on the dataset. This representation is compact and clean but it lacks the ability of generalization. Such representation can only generate D2(38) with short durations but not any quarter-note D2 or half-note D2. If we expand the vector dimension to comprise all possibilities, 1600-dimension, then many of the entries won't be covered in training. Then in generating, any generation out of the dataset would possibly be treated as an error that is not trained by the neural network.\n",
    "\n",
    "One way is to augment the data to cover all keys so the dataset could cover more out of the 1600 combinations. This method also has its limitation. Obviously, translating a corpus up or down would possibly introduce notes out of the range [36,67]. If we limit ourselves inside this range, the data won't be augmented much so the previously stated problem still exists. Therefore, we may resort to new ways for the music generation."
   ]
  },
  {
   "cell_type": "markdown",
   "metadata": {},
   "source": [
    "## Part 2: Data Augmentation by Key Translation\n",
    "\n",
    "Now let's take a look at a single file."
   ]
  },
  {
   "cell_type": "code",
   "execution_count": 30,
   "metadata": {},
   "outputs": [
    {
     "data": {
      "text/plain": [
       "['cs1-1pre.csv',\n",
       " 'cs1-2all.csv',\n",
       " 'cs2-2all.csv',\n",
       " 'cs3-2all.csv',\n",
       " 'cs3-5bou.csv',\n",
       " 'cs4-1pre_part1.csv',\n",
       " 'cs4-1pre_part2.csv',\n",
       " 'cs4-2all.csv',\n",
       " 'cs4-5bou.csv',\n",
       " 'cs5-2all.csv']"
      ]
     },
     "execution_count": 30,
     "metadata": {},
     "output_type": "execute_result"
    }
   ],
   "source": [
    "file_list"
   ]
  },
  {
   "cell_type": "code",
   "execution_count": 31,
   "metadata": {},
   "outputs": [
    {
     "name": "stdout",
     "output_type": "stream",
     "text": [
      "     Note  Duration_32th  Structure_level\n",
      "0      39              4                0\n",
      "1      63              4                2\n",
      "2      58              4                1\n",
      "3      55              4                2\n",
      "4      58              4                1\n",
      "..    ...            ...              ...\n",
      "380    55              4                1\n",
      "381    46              4                2\n",
      "382    50              4                1\n",
      "383    43              4                2\n",
      "384    37              8                0\n",
      "\n",
      "[385 rows x 3 columns]\n"
     ]
    }
   ],
   "source": [
    "Single = pd.read_csv('Selected_files/Processed/'+file_list[5], sep=\",\",names = [\"Note\", \"Duration_32th\", \"Structure_level\"])\n",
    "print(Single)"
   ]
  },
  {
   "cell_type": "code",
   "execution_count": 32,
   "metadata": {},
   "outputs": [
    {
     "data": {
      "text/plain": [
       "385"
      ]
     },
     "execution_count": 32,
     "metadata": {},
     "output_type": "execute_result"
    }
   ],
   "source": [
    "n = len(Single)\n",
    "n"
   ]
  },
  {
   "cell_type": "markdown",
   "metadata": {},
   "source": [
    "In this tutorial we won't use batch and vectorization, the methods that are developed to scaling the training to large dataset and speed up computation. As we have a rather small dataset at hand and our purpose is to understand and explore the methods of machine learning, instead of industrial application, we will make the training as flexible as we can."
   ]
  },
  {
   "cell_type": "code",
   "execution_count": 33,
   "metadata": {},
   "outputs": [
    {
     "data": {
      "text/plain": [
       "array([36, 37, 38, 39, 40, 41, 42, 43, 44, 45, 46, 47, 48, 49, 50, 51, 52,\n",
       "       53, 54, 55, 56, 57, 58, 59, 60, 61, 62, 63, 64, 65], dtype=int64)"
      ]
     },
     "execution_count": 33,
     "metadata": {},
     "output_type": "execute_result"
    }
   ],
   "source": [
    "np.unique(Single['Note'])"
   ]
  },
  {
   "cell_type": "markdown",
   "metadata": {},
   "source": [
    "First, we perform data augmentation by key translation."
   ]
  },
  {
   "cell_type": "code",
   "execution_count": 34,
   "metadata": {},
   "outputs": [],
   "source": [
    "folder = Path('Selected_files/Processed').rglob('*.csv')\n",
    "for x in folder:\n",
    "    basename = os.path.basename(x)\n",
    "    name = os.path.splitext(basename)[0]\n",
    "    \n",
    "    Single = pd.read_csv(x, sep=\",\",names = [\"Note\", \"Duration_32th\", \"Structure_level\"])\n",
    "    notes = np.unique(Single['Note'])\n",
    "    low = notes[0]\n",
    "    high = notes[-1]\n",
    "    for i in range(1,low-35):\n",
    "        Single['Note'] = np.array(Single['Note'])-1\n",
    "        Single.to_csv('Selected_files/Augment/'+name+\"_\"+str(-i)+'.csv', header=False,index=False)\n",
    "    for i in range(1,68-high):\n",
    "        Single['Note'] = np.array(Single['Note'])+1\n",
    "        Single.to_csv('Selected_files/Augment/'+name+\"_\"+str(i)+'.csv', header=False,index=False)"
   ]
  },
  {
   "cell_type": "markdown",
   "metadata": {},
   "source": [
    "We augmented 23 files. The dataset consists 33 files in total.\n",
    "\n",
    "The next step is segmentation. Remember that RNN is not in fixed length. People usually use fixed-window segmentation to apply RNN to large-scale ML tasks to save computational time. However, it's not inherent for autoregressive neural networks and it's not required. We use flexible windows in our model to avoid this rigidity.\n",
    "\n",
    "We generate a window of arbitrary length within range [3,10), so that the window length is different every time."
   ]
  },
  {
   "cell_type": "code",
   "execution_count": 35,
   "metadata": {},
   "outputs": [
    {
     "data": {
      "text/plain": [
       "3"
      ]
     },
     "execution_count": 35,
     "metadata": {},
     "output_type": "execute_result"
    }
   ],
   "source": [
    "np.random.randint(3,10)"
   ]
  },
  {
   "cell_type": "markdown",
   "metadata": {},
   "source": [
    "## Part 3: Recurrent Neural Network\n",
    "\n",
    "A recurrent neural network can be seen as the repeated use of a single cell. You are first going to implement the computations for a single time-step. The following figure describes the operations for a single time-step of an RNN cell. \n",
    "\n",
    "<img src=\"Figure/rnn_step_forward.png\" style=\"width:700px;height:300px;\">\n",
    "<caption><center> Figure 1: Basic RNN cell. Takes as input $x^{\\langle t \\rangle}$ (current input) and $a^{\\langle t - 1\\rangle}$ (previous hidden state containing information from the past), and outputs $a^{\\langle t \\rangle}$ which is given to the next RNN cell and also used to predict $\\hat{y}^{\\langle t \\rangle}$ </center></caption>\n",
    "\n",
    "<img src=\"Figure/rnn.png\" style=\"width:450;height:300px;\">\n",
    "<caption><center> Figure 2: Recurrent Neural Network  </center></caption>\n",
    "\n",
    "At each time-step, the RNN tries to predict what is the index of the next (note, duration, structure) tuple given the index of the previous tuple. The dataset $X = (x^{\\langle 1 \\rangle}, x^{\\langle 2 \\rangle}, ..., x^{\\langle T_x \\rangle})$ is a list of indices in the training set, while $Y = (y^{\\langle 1 \\rangle}, y^{\\langle 2 \\rangle}, ..., y^{\\langle T_x \\rangle})$ is such that at every time-step $t$, we have $y^{\\langle t \\rangle} = x^{\\langle t+1 \\rangle}$. "
   ]
  },
  {
   "cell_type": "markdown",
   "metadata": {},
   "source": [
    "In our case, we have three inputs, note $x_n^{<t>}$, duration $x_d^{<t>}$ and additional information structural level $x_l^{<t>}$; two outputs, note distribution $y_n^{<t>}$ and duration distribution $y_d^{<t>}$. Sampling from the output distributions, we get one hot vectors $z_n^{<t>}$ and$z_d^{<t>}$, which align with the next inputs $x_n^{<t+1>}$ and $x_d^{<t+1>}$. We modify the neural network as follows:\n",
    "\n",
    "$$ \\begin{align}\n",
    "a^{<t>} &= tanh(W_{ax} x^{<t>} + W_{aa} a^{<t-1>} + b_a) \\quad \\text{where} \\ x = [x_n, x_d, x_l]^T \\\\\n",
    "y_d^{<t>} &= softmax(W_{y_da}a^{<t>} + b_{y_d}) \\\\\n",
    "z_d^{<t>} &= sample(y_d^{<t>}) \\\\\n",
    "y_n^{<t>} &= softmax(W_{y_n,a + y_d}[a^{<t>}, z_d^{<t>}]^T + b_{y_n}) \\\\\n",
    "z_n^{<t>} &= sample(y_n^{<t>})\n",
    "\\end{align}$$\n",
    "\n",
    "The nonlinear functions are [tanh](https://mathworld.wolfram.com/HyperbolicTangent.html) and [softmax](https://pytorch.org/docs/stable/generated/torch.nn.Softmax.html)."
   ]
  },
  {
   "cell_type": "markdown",
   "metadata": {},
   "source": [
    "### 1) Parameter Initialization\n",
    "\n",
    "Random initialize parameters in range [-0.5,0.5)"
   ]
  },
  {
   "cell_type": "code",
   "execution_count": 155,
   "metadata": {},
   "outputs": [],
   "source": [
    "def random_init(d_a,d_xn,d_xd,d_xl, dev):\n",
    "    \"\"\"\n",
    "    Arguments:\n",
    "    d_a -- dimension of tensor a (default: 20)\n",
    "    d_xn -- dimension of note input x_n (default: 23)\n",
    "    d_xd -- dimension of duration input x_d (default: 10)\n",
    "    d_xl -- dimension of structural level input x_l (default: 5)\n",
    "    dev -- torch.device(\"cuda\")  # operate on GPU\n",
    "    \n",
    "    Returns:\n",
    "    Parameter matrices W's and bias b's\n",
    "    \"\"\"\n",
    "    \n",
    "    W_ax = torch.rand(d_a, d_xn + d_xd + d_xl, device = dev)-0.5\n",
    "    W_ax.requires_grad_(True)\n",
    "    W_aa = torch.rand(d_a, d_a, device = dev)-0.5\n",
    "    W_aa.requires_grad_(True)\n",
    "    b_a = torch.rand(d_a, 1, device = dev)-0.5\n",
    "    b_a.requires_grad_(True)\n",
    "    W_yd = torch.rand(d_xd, d_a, device = dev)-0.5\n",
    "    W_yd.requires_grad_(True)\n",
    "    b_yd = torch.rand(d_xd, 1, device = dev)-0.5\n",
    "    b_yd.requires_grad_(True)\n",
    "    W_yn = torch.rand(d_xn, d_a+d_xd, device = dev)-0.5\n",
    "    W_yn.requires_grad_(True)\n",
    "    b_yn = torch.rand(d_xn, 1, device = dev)-0.5\n",
    "    b_yn.requires_grad_(True)\n",
    "    \n",
    "    return W_ax, W_aa, b_a, W_yd, b_yd, W_yn, b_yn"
   ]
  },
  {
   "cell_type": "code",
   "execution_count": 194,
   "metadata": {},
   "outputs": [
    {
     "name": "stdout",
     "output_type": "stream",
     "text": [
      "W_ax: torch.Size([20, 47])\n",
      "W_aa: torch.Size([20, 20])\n",
      "b_a: torch.Size([20, 1])\n",
      "W_yd: torch.Size([10, 20])\n",
      "b_yd: torch.Size([10, 1])\n",
      "W_yn: torch.Size([32, 30])\n",
      "b_yn: torch.Size([32, 1])\n",
      "b_yd: tensor([[ 0.4345],\n",
      "        [ 0.3207],\n",
      "        [-0.4836],\n",
      "        [-0.3111],\n",
      "        [ 0.4616],\n",
      "        [-0.4564],\n",
      "        [-0.0151],\n",
      "        [ 0.2817],\n",
      "        [-0.0327],\n",
      "        [-0.1629]], device='cuda:0', requires_grad=True)\n"
     ]
    }
   ],
   "source": [
    "d_a = 20\n",
    "d_xn = 32\n",
    "d_xd = 10\n",
    "d_xl = 5\n",
    "[W_ax, W_aa, b_a, W_yd, b_yd, W_yn, b_yn] = random_init(d_a,d_xn,d_xd,d_xl, dev)\n",
    "print('W_ax:', W_ax.shape)\n",
    "print('W_aa:', W_aa.shape)\n",
    "print('b_a:', b_a.shape)\n",
    "print('W_yd:', W_yd.shape)\n",
    "print('b_yd:', b_yd.shape)\n",
    "print('W_yn:', W_yn.shape)\n",
    "print('b_yn:', b_yn.shape)\n",
    "print('b_yd:', b_yd)"
   ]
  },
  {
   "cell_type": "markdown",
   "metadata": {},
   "source": [
    "### 2) Basic Functions\n",
    "\n",
    "We will design our own RNN from scratch and write our own formulas instead of using a standard package. `PyTorch` is used for its `autograd` function, which means once we write down the forward pass, the loss derivatives are automatically computed, which saves the labor for manual backpropagation."
   ]
  },
  {
   "cell_type": "code",
   "execution_count": 195,
   "metadata": {},
   "outputs": [],
   "source": [
    "def softmax(x):\n",
    "    e_x = torch.exp(x - torch.max(x))\n",
    "    return e_x / torch.sum(e_x)"
   ]
  },
  {
   "cell_type": "code",
   "execution_count": 196,
   "metadata": {},
   "outputs": [],
   "source": [
    "def forward_duration(x_n, x_d, x_l, a_prev, W_ax, W_aa, b_a, W_yd, b_yd):\n",
    "    \"\"\"\n",
    "    One step prediction in Figure 1\n",
    "    \n",
    "    Arguments:\n",
    "    x_n -- note input one-hot torch tensor of shape (32,1)\n",
    "    x_d -- duration input one-hot torch tensor of shape (10,1)\n",
    "    x_l -- structure level input one-hot torch tensor of shape (5,1)\n",
    "    a_prev -- previous memory a, torch tensor of shape (20,1)\n",
    "    Parameters -- W_ax: torch.Size([20, 47])\n",
    "                W_aa: torch.Size([20, 20])\n",
    "                b_a: torch.Size([20, 1])\n",
    "                W_yd: torch.Size([10, 20])\n",
    "                b_yd: torch.Size([10, 1])\n",
    "    \n",
    "    Returns:\n",
    "    a_next -- next memory a, torch tensor of shape (20,1)\n",
    "    y_d -- duration distribution torch tensor of shape (10,1)\n",
    "    \"\"\"\n",
    "    x = torch.cat((x_n, x_d, x_l),0)\n",
    "    x = x.type(torch.float32)\n",
    "    a_next = torch.tanh(torch.matmul(W_ax,x) + torch.matmul(W_aa,a_prev) + b_a)\n",
    "    y_d = softmax(torch.matmul(W_yd,a_next) + b_yd)\n",
    "    \n",
    "    return a_next, y_d"
   ]
  },
  {
   "cell_type": "code",
   "execution_count": 197,
   "metadata": {},
   "outputs": [],
   "source": [
    "def forward_note(z_d, a_next, W_yn, b_yn):\n",
    "    \"\"\"\n",
    "    One step prediction in Figure 1\n",
    "    \n",
    "    Arguments:\n",
    "    z_d -- sampled duration one-hot torch tensor of shape (10,1)\n",
    "    a_next -- updated memory a, torch tensor of shape (20,1)\n",
    "    Parameters -- W_yn: torch.Size([32, 30])\n",
    "                b_yn: torch.Size([32, 1])\n",
    "    \n",
    "    Returns:\n",
    "    y_n -- note distribution torch tensor of shape (32,1)\n",
    "    \"\"\"\n",
    "    \n",
    "    a_aug = torch.cat((a_next, z_d),0)\n",
    "    y_n = softmax(torch.matmul(W_yn,a_aug) + b_yn)\n",
    "    \n",
    "    return y_n"
   ]
  },
  {
   "cell_type": "code",
   "execution_count": 199,
   "metadata": {},
   "outputs": [
    {
     "name": "stdout",
     "output_type": "stream",
     "text": [
      "y_d: tensor([[0.0868],\n",
      "        [0.1498],\n",
      "        [0.1475],\n",
      "        [0.0678],\n",
      "        [0.0583],\n",
      "        [0.0188],\n",
      "        [0.1033],\n",
      "        [0.1495],\n",
      "        [0.0484],\n",
      "        [0.1697]], device='cuda:0', grad_fn=<DivBackward0>)\n",
      "y_n: tensor([[0.0403],\n",
      "        [0.0139],\n",
      "        [0.0366],\n",
      "        [0.0343],\n",
      "        [0.0209],\n",
      "        [0.0232],\n",
      "        [0.0095],\n",
      "        [0.0196],\n",
      "        [0.0360],\n",
      "        [0.0265],\n",
      "        [0.0610],\n",
      "        [0.0134],\n",
      "        [0.0139],\n",
      "        [0.0459],\n",
      "        [0.0340],\n",
      "        [0.0103],\n",
      "        [0.0166],\n",
      "        [0.0068],\n",
      "        [0.0080],\n",
      "        [0.0126],\n",
      "        [0.0482],\n",
      "        [0.0548],\n",
      "        [0.0290],\n",
      "        [0.0202],\n",
      "        [0.0359],\n",
      "        [0.0577],\n",
      "        [0.0379],\n",
      "        [0.0441],\n",
      "        [0.0142],\n",
      "        [0.0885],\n",
      "        [0.0667],\n",
      "        [0.0193]], device='cuda:0', grad_fn=<DivBackward0>)\n"
     ]
    }
   ],
   "source": [
    "x_n = torch.zeros(32,1, device = dev)\n",
    "x_n[3] = 1\n",
    "x_d = torch.zeros(10,1, device = dev)\n",
    "x_n[3] = 1\n",
    "x_l = torch.zeros(5,1, device = dev)\n",
    "x_l[3] = 1\n",
    "a_prev = torch.zeros(20,1, device = dev)\n",
    "[a_next, y_d] = forward_duration(x_n, x_d, x_l, a_prev, W_ax, W_aa, b_a, W_yd, b_yd)\n",
    "z_d = x_d\n",
    "y_n = forward_note(z_d, a_next, W_yn, b_yn)\n",
    "print(\"y_d:\", y_d)\n",
    "# print(\"y_n:\", y_n)"
   ]
  },
  {
   "cell_type": "markdown",
   "metadata": {},
   "source": [
    "We use cross-entropy loss,\n",
    "\n",
    "$$\n",
    "L = -\\sum_i p_i log(\\hat{p}_i)\n",
    "$$\n",
    "\n",
    "The target distribution $p_i$ is a one-hot vector, let's say it equals to 1 at position $k$, then\n",
    "$$ L = -log(\\hat{p}_k)$$\n",
    "\n",
    "Since we have two predictions $y_d$ and $y_n$, we assign propotion $w$ to the two cross-entropy losses $L_d$ and $L_n$ to weight them in the final expression\n",
    "\n",
    "$$\n",
    "L = wL_d + (1-w)L_n\n",
    "$$"
   ]
  },
  {
   "cell_type": "code",
   "execution_count": 200,
   "metadata": {},
   "outputs": [],
   "source": [
    "def forward_pass(X_n, X_d, X_l, a0, W_ax, W_aa, b_a, W_yd, b_yd, W_yn, b_yn, window_size,w):\n",
    "    \"\"\"\n",
    "    Arguments:\n",
    "    X_n -- note input one-hot torch tensor of shape (32, window_size)\n",
    "    X_d -- duration input one-hot torch tensor of shape (10, window_size)\n",
    "    X_l -- structure level input one-hot torch tensor of shape (5, window_size)\n",
    "    a0 -- initial memory a, torch tensor of shape (20,1)\n",
    "    Parameters -- W_ax: torch.Size([20, 47])\n",
    "                W_aa: torch.Size([20, 20])\n",
    "                b_a: torch.Size([20, 1])\n",
    "                W_yd: torch.Size([10, 20])\n",
    "                b_yd: torch.Size([10, 1])\n",
    "                W_yn: torch.Size([32, 30])\n",
    "                b_yn: torch.Size([32, 1])\n",
    "    window_size -- the size of the input chunk\n",
    "    w -- weight of duration loss in the sum of duration loss and note loss\n",
    "    \n",
    "    Returns:\n",
    "    L -- total loss\n",
    "    \"\"\"\n",
    "    a_prev = a0\n",
    "    \n",
    "    # initialize loss to 0\n",
    "    l_d = 0\n",
    "    l_n = 0\n",
    "    \n",
    "    for i in range(window_size-1):\n",
    "        x_n = X_n[:,i:i+1]  # note input one-hot torch tensor of shape (32,1)\n",
    "        x_d = X_d[:,i:i+1]  # duration input one-hot torch tensor of shape (10,1)\n",
    "        x_l = X_l[:,i:i+1]  # structure level input one-hot torch tensor of shape (5,1)\n",
    "        [a_next, y_d] = forward_duration(x_n, x_d, x_l, a_prev, W_ax, W_aa, b_a, W_yd, b_yd)\n",
    "        z_d = X_d[:,i+1:i+2]\n",
    "        y_n = forward_note(z_d, a_next, W_yn, b_yn)\n",
    "        \n",
    "        # Loss\n",
    "        x_d_next = X_d[:,i+1:i+2]\n",
    "        index = torch.where(x_d_next==1)\n",
    "        l_d -= y_d[index].log()\n",
    "        \n",
    "        x_n_next = X_n[:,i+1:i+2]\n",
    "        index = torch.where(x_n_next==1)\n",
    "        l_n -= y_n[index].log()\n",
    "        \n",
    "        a_prev = a_next\n",
    "        \n",
    "    \n",
    "    L = (w*l_d + (1-w)*l_n)/window_size\n",
    "    \n",
    "    return L,a_next"
   ]
  },
  {
   "cell_type": "code",
   "execution_count": 48,
   "metadata": {},
   "outputs": [],
   "source": [
    "def parameter_update(loss,lr, W_ax, W_aa, b_a, W_yd, b_yd, W_yn, b_yn):\n",
    "    \"\"\"\n",
    "    Arguments:\n",
    "    loss -- torch tensor of shape [1]\n",
    "    lr -- learning rate\n",
    "    Parameters -- W_ax: torch.Size([20, 47])\n",
    "                W_aa: torch.Size([20, 20])\n",
    "                b_a: torch.Size([20, 1])\n",
    "                W_yd: torch.Size([10, 20])\n",
    "                b_yd: torch.Size([10, 1])\n",
    "                W_yn: torch.Size([32, 30])\n",
    "                b_yn: torch.Size([32, 1])\n",
    "    window_size -- the size of the input chunk\n",
    "    w -- weight of duration loss in the sum of duration loss and note loss\n",
    "    \n",
    "    Returns:\n",
    "    \n",
    "    \"\"\"\n",
    "    loss.backward()\n",
    "    with torch.no_grad():\n",
    "        W_ax -= lr * W_ax.grad # W_ax = W_ax - lr * W_ax.grad\n",
    "        W_ax.grad.zero_()\n",
    "        W_aa -= lr * W_aa.grad\n",
    "        W_aa.grad.zero_()\n",
    "        b_a -= lr * b_a.grad\n",
    "        b_a.grad.zero_()\n",
    "        W_yd -= lr * W_yd.grad\n",
    "        W_yd.grad.zero_()\n",
    "        b_yd -= lr * b_yd.grad\n",
    "        b_yd.grad.zero_()\n",
    "        W_yn -= lr * W_yn.grad\n",
    "        W_yn.grad.zero_()\n",
    "        b_yn -= lr * b_yn.grad\n",
    "        b_yn.grad.zero_()\n",
    "        \n",
    "            \n",
    "    return W_ax, W_aa, b_a, W_yd, b_yd, W_yn, b_yn"
   ]
  },
  {
   "cell_type": "markdown",
   "metadata": {},
   "source": [
    "### 3) Function Test\n",
    "\n",
    "Let's test the funtions:"
   ]
  },
  {
   "cell_type": "code",
   "execution_count": 201,
   "metadata": {},
   "outputs": [
    {
     "name": "stdout",
     "output_type": "stream",
     "text": [
      "     Note  Duration_32th  Structure_level\n",
      "0      60              2                3\n",
      "1      60             10                0\n",
      "2      58              2                3\n",
      "3      56              2                2\n",
      "4      55              2                3\n",
      "..    ...            ...              ...\n",
      "681    60              6                0\n",
      "682    55              2                3\n",
      "683    51              6                1\n",
      "684    48              2                3\n",
      "685    60             12                1\n",
      "\n",
      "[686 rows x 3 columns]\n"
     ]
    }
   ],
   "source": [
    "Single = pd.read_csv('Selected_files/Processed/'+file_list[9], sep=\",\",names = [\"Note\", \"Duration_32th\", \"Structure_level\"])\n",
    "print(Single)"
   ]
  },
  {
   "cell_type": "code",
   "execution_count": 212,
   "metadata": {},
   "outputs": [
    {
     "data": {
      "text/plain": [
       "6"
      ]
     },
     "execution_count": 212,
     "metadata": {},
     "output_type": "execute_result"
    }
   ],
   "source": [
    "window_size = np.random.randint(3,10)\n",
    "window_size"
   ]
  },
  {
   "cell_type": "code",
   "execution_count": 213,
   "metadata": {},
   "outputs": [
    {
     "data": {
      "text/plain": [
       "array([60, 60, 58, 56, 55, 56], dtype=int64)"
      ]
     },
     "execution_count": 213,
     "metadata": {},
     "output_type": "execute_result"
    }
   ],
   "source": [
    "notes = np.array(Single['Note'][0:window_size])\n",
    "notes"
   ]
  },
  {
   "cell_type": "code",
   "execution_count": 214,
   "metadata": {},
   "outputs": [
    {
     "data": {
      "text/plain": [
       "tensor([[0., 0., 0., 0., 0., 0.],\n",
       "        [0., 0., 0., 0., 0., 0.],\n",
       "        [0., 0., 0., 0., 0., 0.],\n",
       "        [0., 0., 0., 0., 0., 0.],\n",
       "        [0., 0., 0., 0., 0., 0.],\n",
       "        [0., 0., 0., 0., 0., 0.],\n",
       "        [0., 0., 0., 0., 0., 0.],\n",
       "        [0., 0., 0., 0., 0., 0.],\n",
       "        [0., 0., 0., 0., 0., 0.],\n",
       "        [0., 0., 0., 0., 0., 0.],\n",
       "        [0., 0., 0., 0., 0., 0.],\n",
       "        [0., 0., 0., 0., 0., 0.],\n",
       "        [0., 0., 0., 0., 0., 0.],\n",
       "        [0., 0., 0., 0., 0., 0.],\n",
       "        [0., 0., 0., 0., 0., 0.],\n",
       "        [0., 0., 0., 0., 0., 0.],\n",
       "        [0., 0., 0., 0., 0., 0.],\n",
       "        [0., 0., 0., 0., 0., 0.],\n",
       "        [0., 0., 0., 0., 0., 0.],\n",
       "        [0., 0., 0., 0., 1., 0.],\n",
       "        [0., 0., 0., 1., 0., 1.],\n",
       "        [0., 0., 0., 0., 0., 0.],\n",
       "        [0., 0., 1., 0., 0., 0.],\n",
       "        [0., 0., 0., 0., 0., 0.],\n",
       "        [1., 1., 0., 0., 0., 0.],\n",
       "        [0., 0., 0., 0., 0., 0.],\n",
       "        [0., 0., 0., 0., 0., 0.],\n",
       "        [0., 0., 0., 0., 0., 0.],\n",
       "        [0., 0., 0., 0., 0., 0.],\n",
       "        [0., 0., 0., 0., 0., 0.],\n",
       "        [0., 0., 0., 0., 0., 0.],\n",
       "        [0., 0., 0., 0., 0., 0.]], device='cuda:0')"
      ]
     },
     "execution_count": 214,
     "metadata": {},
     "output_type": "execute_result"
    }
   ],
   "source": [
    "X_n = note_one_hot(notes, dev)\n",
    "X_n"
   ]
  },
  {
   "cell_type": "code",
   "execution_count": 215,
   "metadata": {},
   "outputs": [
    {
     "data": {
      "text/plain": [
       "array([ 2, 10,  2,  2,  2,  6], dtype=int64)"
      ]
     },
     "execution_count": 215,
     "metadata": {},
     "output_type": "execute_result"
    }
   ],
   "source": [
    "dur = np.array(Single['Duration_32th'][0:window_size])\n",
    "dur"
   ]
  },
  {
   "cell_type": "code",
   "execution_count": 216,
   "metadata": {},
   "outputs": [
    {
     "data": {
      "text/plain": [
       "tensor([[0., 0., 0., 0., 0., 0.],\n",
       "        [1., 0., 1., 1., 1., 0.],\n",
       "        [0., 0., 0., 0., 0., 0.],\n",
       "        [0., 0., 0., 0., 0., 0.],\n",
       "        [0., 0., 0., 0., 0., 1.],\n",
       "        [0., 0., 0., 0., 0., 0.],\n",
       "        [0., 1., 0., 0., 0., 0.],\n",
       "        [0., 0., 0., 0., 0., 0.],\n",
       "        [0., 0., 0., 0., 0., 0.],\n",
       "        [0., 0., 0., 0., 0., 0.]], device='cuda:0')"
      ]
     },
     "execution_count": 216,
     "metadata": {},
     "output_type": "execute_result"
    }
   ],
   "source": [
    "X_d = dur_one_hot(dur,dur_list,dev)\n",
    "X_d"
   ]
  },
  {
   "cell_type": "code",
   "execution_count": 217,
   "metadata": {},
   "outputs": [
    {
     "data": {
      "text/plain": [
       "array([3, 0, 3, 2, 3, 1], dtype=int64)"
      ]
     },
     "execution_count": 217,
     "metadata": {},
     "output_type": "execute_result"
    }
   ],
   "source": [
    "lev = np.array(Single['Structure_level'][0:window_size])\n",
    "lev"
   ]
  },
  {
   "cell_type": "code",
   "execution_count": 218,
   "metadata": {},
   "outputs": [
    {
     "data": {
      "text/plain": [
       "tensor([[0., 1., 0., 0., 0., 0.],\n",
       "        [0., 0., 0., 0., 0., 1.],\n",
       "        [0., 0., 0., 1., 0., 0.],\n",
       "        [1., 0., 1., 0., 1., 0.],\n",
       "        [0., 0., 0., 0., 0., 0.]], device='cuda:0')"
      ]
     },
     "execution_count": 218,
     "metadata": {},
     "output_type": "execute_result"
    }
   ],
   "source": [
    "X_l = lev_one_hot(lev, dev)\n",
    "X_l"
   ]
  },
  {
   "cell_type": "code",
   "execution_count": 219,
   "metadata": {},
   "outputs": [],
   "source": [
    "a = torch.zeros([20,1], device = dev)\n",
    "w = 0.3"
   ]
  },
  {
   "cell_type": "code",
   "execution_count": 220,
   "metadata": {},
   "outputs": [
    {
     "name": "stdout",
     "output_type": "stream",
     "text": [
      "X_n: torch.float32\n",
      "X_d: torch.float32\n",
      "X_l: torch.float32\n",
      "a: torch.float32\n",
      "W_ax: torch.float32\n",
      "W_aa: torch.float32\n",
      "b_a: torch.float32\n",
      "W_yd: torch.float32\n",
      "b_yd: torch.float32\n",
      "W_yn: torch.float32\n",
      "b_yn: torch.float32\n"
     ]
    }
   ],
   "source": [
    "print('X_n:', X_n.dtype)\n",
    "print('X_d:', X_d.dtype)\n",
    "print('X_l:', X_l.dtype)\n",
    "print('a:', a.dtype)\n",
    "\n",
    "print('W_ax:', W_ax.dtype)\n",
    "print('W_aa:', W_aa.dtype)\n",
    "print('b_a:', b_a.dtype)\n",
    "print('W_yd:', W_yd.dtype)\n",
    "print('b_yd:', b_yd.dtype)\n",
    "print('W_yn:', W_yn.dtype)\n",
    "print('b_yn:', b_yn.dtype)"
   ]
  },
  {
   "cell_type": "code",
   "execution_count": 221,
   "metadata": {},
   "outputs": [
    {
     "name": "stdout",
     "output_type": "stream",
     "text": [
      "loss: tensor([2.4537], device='cuda:0', grad_fn=<DivBackward0>)\n",
      "a: tensor([[-0.3441],\n",
      "        [ 0.9837],\n",
      "        [ 0.7509],\n",
      "        [-0.1064],\n",
      "        [ 0.8168],\n",
      "        [ 0.9641],\n",
      "        [-0.2327],\n",
      "        [-0.5799],\n",
      "        [ 0.2957],\n",
      "        [ 0.8394],\n",
      "        [ 0.2604],\n",
      "        [ 0.8304],\n",
      "        [ 0.1909],\n",
      "        [ 0.2147],\n",
      "        [-0.9762],\n",
      "        [-0.0619],\n",
      "        [-0.3396],\n",
      "        [ 0.3215],\n",
      "        [-0.5679],\n",
      "        [ 0.9125]], device='cuda:0', grad_fn=<TanhBackward0>)\n"
     ]
    }
   ],
   "source": [
    "loss,a = forward_pass(X_n, X_d, X_l, a, W_ax, W_aa, b_a, W_yd, b_yd, W_yn, b_yn, window_size,w)\n",
    "print('loss:',loss)\n",
    "print('a:',a)"
   ]
  },
  {
   "cell_type": "code",
   "execution_count": 222,
   "metadata": {},
   "outputs": [],
   "source": [
    "loss.backward()"
   ]
  },
  {
   "cell_type": "code",
   "execution_count": 223,
   "metadata": {},
   "outputs": [
    {
     "name": "stdout",
     "output_type": "stream",
     "text": [
      "b_yd.grad: tensor([[ 0.0163],\n",
      "        [-0.0609],\n",
      "        [ 0.0293],\n",
      "        [ 0.0091],\n",
      "        [-0.0284],\n",
      "        [ 0.0026],\n",
      "        [-0.0215],\n",
      "        [ 0.0134],\n",
      "        [ 0.0157],\n",
      "        [ 0.0244]], device='cuda:0')\n"
     ]
    }
   ],
   "source": [
    "print('b_yd.grad:', b_yd.grad)"
   ]
  },
  {
   "cell_type": "markdown",
   "metadata": {},
   "source": [
    "### 4) Training on the Dataset"
   ]
  },
  {
   "cell_type": "code",
   "execution_count": 224,
   "metadata": {},
   "outputs": [
    {
     "name": "stdout",
     "output_type": "stream",
     "text": [
      "cs1-2all_-1.csv\n",
      "cs1-2all_-2.csv\n",
      "cs2-2all_-1.csv\n",
      "cs2-2all_-2.csv\n",
      "cs2-2all_1.csv\n",
      "cs2-2all_2.csv\n",
      "cs3-5bou_-1.csv\n",
      "cs3-5bou_-2.csv\n",
      "cs3-5bou_-3.csv\n",
      "cs3-5bou_-4.csv\n",
      "cs3-5bou_1.csv\n",
      "cs3-5bou_2.csv\n",
      "cs4-1pre_part1_1.csv\n",
      "cs4-1pre_part1_2.csv\n",
      "cs4-1pre_part2_1.csv\n",
      "cs4-1pre_part2_2.csv\n",
      "cs4-1pre_part2_3.csv\n",
      "cs4-1pre_part2_4.csv\n",
      "cs4-2all_-1.csv\n",
      "cs4-2all_-2.csv\n",
      "cs4-2all_-3.csv\n",
      "cs5-2all_1.csv\n",
      "cs5-2all_2.csv\n",
      "cs1-1pre.csv\n",
      "cs1-2all.csv\n",
      "cs2-2all.csv\n",
      "cs3-2all.csv\n",
      "cs3-5bou.csv\n",
      "cs4-1pre_part1.csv\n",
      "cs4-1pre_part2.csv\n",
      "cs4-2all.csv\n",
      "cs4-5bou.csv\n",
      "cs5-2all.csv\n",
      "Number of files: 33\n"
     ]
    }
   ],
   "source": [
    "folder = Path('Selected_files').rglob('*.csv')\n",
    "num = 0\n",
    "for x in folder:\n",
    "    basename = os.path.basename(x)\n",
    "    num += 1\n",
    "    print(basename)\n",
    "print('Number of files:', num)"
   ]
  },
  {
   "cell_type": "code",
   "execution_count": 159,
   "metadata": {},
   "outputs": [
    {
     "name": "stdout",
     "output_type": "stream",
     "text": [
      "tensor([0.5775], device='cuda:0')\n",
      "tensor([0.5680], device='cuda:0')\n",
      "tensor([0.5663], device='cuda:0')\n",
      "tensor([0.5654], device='cuda:0')\n",
      "tensor([0.5683], device='cuda:0')\n",
      "tensor([0.5671], device='cuda:0')\n",
      "tensor([0.5702], device='cuda:0')\n",
      "tensor([0.5688], device='cuda:0')\n"
     ]
    },
    {
     "ename": "KeyboardInterrupt",
     "evalue": "",
     "output_type": "error",
     "traceback": [
      "\u001b[1;31m---------------------------------------------------------------------------\u001b[0m",
      "\u001b[1;31mKeyboardInterrupt\u001b[0m                         Traceback (most recent call last)",
      "\u001b[1;32m<ipython-input-159-d07bd1096d7d>\u001b[0m in \u001b[0;36m<module>\u001b[1;34m\u001b[0m\n\u001b[0;32m     21\u001b[0m \u001b[1;33m\u001b[0m\u001b[0m\n\u001b[0;32m     22\u001b[0m             \u001b[0mloss\u001b[0m\u001b[1;33m,\u001b[0m\u001b[0ma_next\u001b[0m \u001b[1;33m=\u001b[0m \u001b[0mforward_pass\u001b[0m\u001b[1;33m(\u001b[0m\u001b[0mX_n\u001b[0m\u001b[1;33m,\u001b[0m \u001b[0mX_d\u001b[0m\u001b[1;33m,\u001b[0m \u001b[0mX_l\u001b[0m\u001b[1;33m,\u001b[0m \u001b[0ma_prev\u001b[0m\u001b[1;33m,\u001b[0m \u001b[0mW_ax\u001b[0m\u001b[1;33m,\u001b[0m \u001b[0mW_aa\u001b[0m\u001b[1;33m,\u001b[0m \u001b[0mb_a\u001b[0m\u001b[1;33m,\u001b[0m \u001b[0mW_yd\u001b[0m\u001b[1;33m,\u001b[0m \u001b[0mb_yd\u001b[0m\u001b[1;33m,\u001b[0m \u001b[0mW_yn\u001b[0m\u001b[1;33m,\u001b[0m \u001b[0mb_yn\u001b[0m\u001b[1;33m,\u001b[0m \u001b[0mwindow_size\u001b[0m\u001b[1;33m,\u001b[0m\u001b[0mw\u001b[0m\u001b[1;33m)\u001b[0m\u001b[1;33m\u001b[0m\u001b[1;33m\u001b[0m\u001b[0m\n\u001b[1;32m---> 23\u001b[1;33m             \u001b[0mW_ax\u001b[0m\u001b[1;33m,\u001b[0m \u001b[0mW_aa\u001b[0m\u001b[1;33m,\u001b[0m \u001b[0mb_a\u001b[0m\u001b[1;33m,\u001b[0m \u001b[0mW_yd\u001b[0m\u001b[1;33m,\u001b[0m \u001b[0mb_yd\u001b[0m\u001b[1;33m,\u001b[0m \u001b[0mW_yn\u001b[0m\u001b[1;33m,\u001b[0m \u001b[0mb_yn\u001b[0m \u001b[1;33m=\u001b[0m \u001b[0mparameter_update\u001b[0m\u001b[1;33m(\u001b[0m\u001b[0mloss\u001b[0m\u001b[1;33m,\u001b[0m\u001b[0mlr\u001b[0m\u001b[1;33m,\u001b[0m \u001b[0mW_ax\u001b[0m\u001b[1;33m,\u001b[0m \u001b[0mW_aa\u001b[0m\u001b[1;33m,\u001b[0m \u001b[0mb_a\u001b[0m\u001b[1;33m,\u001b[0m \u001b[0mW_yd\u001b[0m\u001b[1;33m,\u001b[0m \u001b[0mb_yd\u001b[0m\u001b[1;33m,\u001b[0m \u001b[0mW_yn\u001b[0m\u001b[1;33m,\u001b[0m \u001b[0mb_yn\u001b[0m\u001b[1;33m)\u001b[0m\u001b[1;33m\u001b[0m\u001b[1;33m\u001b[0m\u001b[0m\n\u001b[0m\u001b[0;32m     24\u001b[0m             \u001b[0mLoss\u001b[0m \u001b[1;33m+=\u001b[0m \u001b[0mloss\u001b[0m\u001b[1;33m.\u001b[0m\u001b[0mdetach\u001b[0m\u001b[1;33m(\u001b[0m\u001b[1;33m)\u001b[0m\u001b[1;33m\u001b[0m\u001b[1;33m\u001b[0m\u001b[0m\n\u001b[0;32m     25\u001b[0m \u001b[1;33m\u001b[0m\u001b[0m\n",
      "\u001b[1;32m<ipython-input-48-e54e65d3224c>\u001b[0m in \u001b[0;36mparameter_update\u001b[1;34m(loss, lr, W_ax, W_aa, b_a, W_yd, b_yd, W_yn, b_yn)\u001b[0m\n\u001b[0;32m     17\u001b[0m \u001b[1;33m\u001b[0m\u001b[0m\n\u001b[0;32m     18\u001b[0m     \"\"\"\n\u001b[1;32m---> 19\u001b[1;33m     \u001b[0mloss\u001b[0m\u001b[1;33m.\u001b[0m\u001b[0mbackward\u001b[0m\u001b[1;33m(\u001b[0m\u001b[1;33m)\u001b[0m\u001b[1;33m\u001b[0m\u001b[1;33m\u001b[0m\u001b[0m\n\u001b[0m\u001b[0;32m     20\u001b[0m     \u001b[1;32mwith\u001b[0m \u001b[0mtorch\u001b[0m\u001b[1;33m.\u001b[0m\u001b[0mno_grad\u001b[0m\u001b[1;33m(\u001b[0m\u001b[1;33m)\u001b[0m\u001b[1;33m:\u001b[0m\u001b[1;33m\u001b[0m\u001b[1;33m\u001b[0m\u001b[0m\n\u001b[0;32m     21\u001b[0m         \u001b[0mW_ax\u001b[0m \u001b[1;33m-=\u001b[0m \u001b[0mlr\u001b[0m \u001b[1;33m*\u001b[0m \u001b[0mW_ax\u001b[0m\u001b[1;33m.\u001b[0m\u001b[0mgrad\u001b[0m \u001b[1;31m# W_ax = W_ax - lr * W_ax.grad\u001b[0m\u001b[1;33m\u001b[0m\u001b[1;33m\u001b[0m\u001b[0m\n",
      "\u001b[1;32mD:\\Anaconda\\lib\\site-packages\\torch\\_tensor.py\u001b[0m in \u001b[0;36mbackward\u001b[1;34m(self, gradient, retain_graph, create_graph, inputs)\u001b[0m\n\u001b[0;32m    487\u001b[0m             )\n\u001b[0;32m    488\u001b[0m         torch.autograd.backward(\n\u001b[1;32m--> 489\u001b[1;33m             \u001b[0mself\u001b[0m\u001b[1;33m,\u001b[0m \u001b[0mgradient\u001b[0m\u001b[1;33m,\u001b[0m \u001b[0mretain_graph\u001b[0m\u001b[1;33m,\u001b[0m \u001b[0mcreate_graph\u001b[0m\u001b[1;33m,\u001b[0m \u001b[0minputs\u001b[0m\u001b[1;33m=\u001b[0m\u001b[0minputs\u001b[0m\u001b[1;33m\u001b[0m\u001b[1;33m\u001b[0m\u001b[0m\n\u001b[0m\u001b[0;32m    490\u001b[0m         )\n\u001b[0;32m    491\u001b[0m \u001b[1;33m\u001b[0m\u001b[0m\n",
      "\u001b[1;32mD:\\Anaconda\\lib\\site-packages\\torch\\autograd\\__init__.py\u001b[0m in \u001b[0;36mbackward\u001b[1;34m(tensors, grad_tensors, retain_graph, create_graph, grad_variables, inputs)\u001b[0m\n\u001b[0;32m    197\u001b[0m     Variable._execution_engine.run_backward(  # Calls into the C++ engine to run the backward pass\n\u001b[0;32m    198\u001b[0m         \u001b[0mtensors\u001b[0m\u001b[1;33m,\u001b[0m \u001b[0mgrad_tensors_\u001b[0m\u001b[1;33m,\u001b[0m \u001b[0mretain_graph\u001b[0m\u001b[1;33m,\u001b[0m \u001b[0mcreate_graph\u001b[0m\u001b[1;33m,\u001b[0m \u001b[0minputs\u001b[0m\u001b[1;33m,\u001b[0m\u001b[1;33m\u001b[0m\u001b[1;33m\u001b[0m\u001b[0m\n\u001b[1;32m--> 199\u001b[1;33m         allow_unreachable=True, accumulate_grad=True)  # Calls into the C++ engine to run the backward pass\n\u001b[0m\u001b[0;32m    200\u001b[0m \u001b[1;33m\u001b[0m\u001b[0m\n\u001b[0;32m    201\u001b[0m def grad(\n",
      "\u001b[1;31mKeyboardInterrupt\u001b[0m: "
     ]
    }
   ],
   "source": [
    "w = 0.3\n",
    "lr = 0.01\n",
    "Loss = 0\n",
    "itr = 10\n",
    "\n",
    "for k in range(itr):\n",
    "    folder = Path('Selected_files').rglob('*.csv')\n",
    "    for x in folder:\n",
    "        Single = pd.read_csv(x, sep=\",\",names = [\"Note\", \"Duration_32th\", \"Structure_level\"])\n",
    "        n = len(Single)\n",
    "        a_prev = torch.zeros([20,1], device = dev)\n",
    "        window_size = np.random.randint(3,10)\n",
    "        st = 0\n",
    "        while n > 10:   # window size [3,10)\n",
    "            note = np.array(Single['Note'][st:st+window_size])\n",
    "            X_n = note_one_hot(note, dev)\n",
    "            dur = np.array(Single['Duration_32th'][st:st+window_size])\n",
    "            X_d = dur_one_hot(dur,dur_list,dev)\n",
    "            lev = np.array(Single['Structure_level'][st:st+window_size])\n",
    "            X_l = lev_one_hot(lev, dev)\n",
    "\n",
    "            loss,a_next = forward_pass(X_n, X_d, X_l, a_prev, W_ax, W_aa, b_a, W_yd, b_yd, W_yn, b_yn, window_size,w)\n",
    "            W_ax, W_aa, b_a, W_yd, b_yd, W_yn, b_yn = parameter_update(loss,lr, W_ax, W_aa, b_a, W_yd, b_yd, W_yn, b_yn)\n",
    "            Loss += loss.detach()\n",
    "\n",
    "            st = st + window_size\n",
    "            n = n - window_size\n",
    "            window_size = np.random.randint(3,10)\n",
    "            a_prev = a_next.detach()\n",
    "            ### Here we can modify the input a to the next chunk\n",
    "            ### a \\in (-1,1)\n",
    "            #a_prev = torch.clip(a_next.detach() + torch.randn(20,1)/5,-1,1)\n",
    "\n",
    "        notes = np.array(Single['Note'][st:])\n",
    "        X_n = note_one_hot(notes, dev)\n",
    "        dur = np.array(Single['Duration_32th'][st:])\n",
    "        X_d = dur_one_hot(dur,dur_list,dev)\n",
    "        lev = np.array(Single['Structure_level'][st:])\n",
    "        X_l = lev_one_hot(lev, dev)\n",
    "\n",
    "        loss,a_next = forward_pass(X_n, X_d, X_l, a_prev, W_ax, W_aa, b_a, W_yd, b_yd, W_yn, b_yn, n,w)\n",
    "        W_ax, W_aa, b_a, W_yd, b_yd, W_yn, b_yn = parameter_update(loss,lr, W_ax, W_aa, b_a, W_yd, b_yd, W_yn, b_yn)\n",
    "        Loss += loss.detach()\n",
    "\n",
    "    print(Loss/10000)\n",
    "    Loss = 0\n",
    "    torch.save([W_ax, W_aa, b_a, W_yd, b_yd, W_yn, b_yn],'parameters.pt')    "
   ]
  },
  {
   "cell_type": "code",
   "execution_count": 160,
   "metadata": {},
   "outputs": [
    {
     "name": "stdout",
     "output_type": "stream",
     "text": [
      "W_ax: tensor([[ 3.5843e-01,  4.9324e-02,  2.1504e-01, -3.3820e-01,  7.1147e-01,\n",
      "         -4.0465e-01, -2.6652e-01, -6.8323e-03, -3.9191e-01, -2.8622e-03,\n",
      "          5.3220e-01, -4.7554e-01, -4.0384e-01, -4.4967e-01,  5.0869e-01,\n",
      "          9.4682e-01, -9.3622e-01, -7.6606e-01, -2.9176e-01, -1.0644e+00,\n",
      "          1.4470e-01,  1.1977e+00, -4.9696e-02, -9.5609e-01, -3.7710e-02,\n",
      "         -3.0843e-01, -3.6255e-01, -1.2485e-01,  4.3071e-01, -1.4110e-01,\n",
      "          5.6281e-01,  2.4229e-02, -3.7790e-01,  2.8933e-01,  5.7873e-01,\n",
      "         -9.3930e-01, -6.3031e-01, -1.5799e-01,  3.1633e-01, -1.6014e-01,\n",
      "          1.0586e-01,  5.0465e-01,  1.6179e-01,  1.4642e-01, -6.3474e-02,\n",
      "         -2.1464e-01,  8.7212e-02],\n",
      "        [ 2.3319e-01,  4.3611e-01,  3.3355e-01,  5.2884e-01,  3.3130e-01,\n",
      "          7.1030e-01,  7.4646e-01,  1.2595e+00,  1.3119e+00,  1.1296e+00,\n",
      "          1.3224e+00,  6.6488e-01, -2.4951e-01, -1.0036e-01, -2.6799e-01,\n",
      "         -6.8669e-01, -1.3120e+00, -1.1621e+00, -3.7441e-01, -9.2219e-01,\n",
      "         -6.3941e-01, -1.4607e+00, -1.1874e+00,  5.4780e-01, -3.3959e-01,\n",
      "         -1.8220e-01, -6.2193e-01, -3.4715e-02,  2.8812e-01,  3.8733e-01,\n",
      "          5.9017e-01, -3.1333e-01,  2.5030e-01,  1.0202e+00, -2.1924e+00,\n",
      "          7.9005e-02,  7.9862e-01,  6.9982e-01,  3.0041e-01, -1.2956e+00,\n",
      "         -2.7253e-01,  1.4700e-01,  5.6086e-01,  2.5867e-01, -1.0528e-01,\n",
      "         -4.6198e-01, -9.4904e-02],\n",
      "        [ 4.7612e-01, -1.0941e-01,  1.8724e-01,  1.2348e-01,  6.0711e-01,\n",
      "         -3.0345e-01,  3.4992e-01,  2.0122e-01,  3.9073e-01,  8.4738e-01,\n",
      "         -8.6613e-01, -8.5904e-01,  4.3847e-01, -6.8914e-01, -3.8741e-01,\n",
      "         -9.6092e-01, -1.0966e+00,  4.1479e-01,  9.4297e-02, -4.9244e-02,\n",
      "         -1.0324e+00, -1.5040e+00, -6.2757e-01, -8.0080e-01, -1.0794e+00,\n",
      "          3.1378e-01,  2.0406e-01,  4.9695e-02,  9.0210e-01,  1.0756e+00,\n",
      "          3.0873e-01, -3.2715e-01, -3.2770e-01, -1.1070e+00,  1.3317e+00,\n",
      "          9.3590e-01,  2.2195e-01, -4.3243e-01, -8.3057e-01, -4.6043e-01,\n",
      "          2.8350e-01, -4.5913e-02, -1.9564e-01, -2.2656e-01,  1.2057e-02,\n",
      "          7.0692e-01, -2.4174e-01],\n",
      "        [ 5.5342e-01,  3.3218e-01,  2.6867e-01,  4.3178e-01,  6.1848e-01,\n",
      "          2.9098e-01, -2.7191e-01,  2.9122e-02,  1.4195e-01,  2.0296e-01,\n",
      "          9.6361e-01, -7.5027e-02,  6.9259e-01,  9.4362e-01, -5.8175e-01,\n",
      "          9.3144e-03, -3.7903e-01, -7.5212e-01, -4.0170e-01, -1.3353e-01,\n",
      "         -7.8861e-01,  4.1396e-02, -3.3931e-01,  3.0662e-02,  8.4862e-01,\n",
      "         -2.9161e-01, -8.1662e-02,  2.8246e-01, -3.0302e-01,  2.8054e-01,\n",
      "         -1.6942e-01, -3.1756e-01,  1.0093e-02, -3.7586e-01,  1.3477e+00,\n",
      "          2.9271e-02, -1.1599e+00,  6.1588e-01, -4.1000e-01,  5.8106e-01,\n",
      "          1.7094e-01,  2.7006e-01, -3.4001e-01, -3.8364e-01, -6.3747e-01,\n",
      "          5.5897e-01,  6.0899e-01],\n",
      "        [ 4.4173e-01, -4.5864e-01,  1.9258e-01,  2.8839e-01, -2.2143e-01,\n",
      "         -1.2854e-01, -4.6196e-01,  2.1610e-01,  5.2562e-01, -6.7926e-01,\n",
      "         -7.5450e-01, -1.7393e+00,  1.0199e+00,  7.4453e-01, -4.6155e-01,\n",
      "         -1.4200e-01, -1.0824e+00,  2.1826e-01,  4.9509e-02,  3.0046e-01,\n",
      "         -1.3761e-01, -4.7526e-01,  6.8877e-01,  4.3019e-01,  9.1145e-01,\n",
      "          7.3898e-01,  8.4984e-01,  3.2032e-01, -6.8775e-02,  4.4114e-02,\n",
      "         -2.4093e-01, -3.3267e-02, -1.2248e-01,  6.3896e-02, -6.0810e-01,\n",
      "         -1.1859e-01,  6.5728e-01, -1.0999e-01, -3.8410e-01, -3.1740e-01,\n",
      "          4.4577e-02,  8.5997e-02, -4.2777e-01, -6.3359e-01,  5.8011e-02,\n",
      "         -1.3080e-01, -7.2286e-03],\n",
      "        [ 2.6078e-01,  4.6871e-01,  6.3057e-01,  3.7052e-01,  5.1987e-01,\n",
      "          2.7695e-01,  3.3380e-01, -1.7132e-01,  6.5698e-01,  3.7893e-02,\n",
      "          5.2801e-01, -6.2790e-02, -3.2951e-01,  1.3856e-01,  1.3371e+00,\n",
      "         -4.7719e-01, -2.3576e-01, -2.7890e-01, -1.5692e+00,  1.6887e-01,\n",
      "         -4.8417e-01, -9.1844e-01, -5.0022e-01, -1.5344e+00, -1.1271e-01,\n",
      "          2.3201e-01,  4.8040e-01,  2.7777e-01, -2.4873e-01,  4.1045e-01,\n",
      "          2.3161e-01,  4.1728e-01, -7.7785e-01,  3.2718e-01,  1.3174e+00,\n",
      "         -7.4464e-01, -7.9279e-01,  1.0424e-01,  2.5816e-01,  4.2032e-01,\n",
      "          4.2471e-01,  4.2068e-01, -1.8100e-01,  1.2836e-01, -6.8737e-02,\n",
      "          5.6572e-02,  1.9961e-01],\n",
      "        [ 5.1833e-01,  5.8164e-03,  1.7204e-01, -1.9540e-01, -2.3498e-01,\n",
      "          1.0542e-02,  6.7558e-01,  7.4479e-01, -1.2971e-02, -1.9550e-01,\n",
      "          6.0047e-01,  2.3301e-01, -3.3087e-01, -2.5776e-01, -4.2608e-02,\n",
      "         -8.6495e-01, -7.3617e-01,  8.6045e-01, -4.4228e-01, -6.8804e-01,\n",
      "          1.2874e+00,  6.1999e-01, -1.0844e+00, -8.2145e-01,  1.1610e+00,\n",
      "          2.9662e-01, -8.5696e-01,  2.9465e-01,  5.9014e-01, -3.0412e-01,\n",
      "         -4.2509e-01,  6.3284e-01,  1.8793e-01, -1.2325e+00,  1.0030e+00,\n",
      "          2.5309e-01, -2.1415e-01, -5.4581e-01, -5.6877e-01,  3.1848e-02,\n",
      "         -1.9926e-01, -9.2167e-02, -2.7137e-01, -5.2012e-02,  2.1195e-01,\n",
      "          2.9864e-01, -3.9663e-01],\n",
      "        [ 2.1257e-01, -4.4267e-01, -3.7815e-03, -7.3351e-02, -6.2379e-01,\n",
      "         -8.7692e-01, -5.4332e-01,  9.4135e-03,  2.3794e-01, -1.3796e-01,\n",
      "         -3.4418e-01,  5.8633e-02,  4.4007e-01,  3.7279e-01,  9.7867e-01,\n",
      "          1.3447e+00,  3.1182e-01,  5.0445e-01,  1.2817e+00,  1.2609e+00,\n",
      "          1.4906e+00, -4.3095e-01, -5.8520e-02,  5.3144e-01, -2.3182e-01,\n",
      "          1.1217e-01,  1.7278e-01, -3.5573e-01, -4.5926e-01, -8.6164e-01,\n",
      "          4.3492e-02, -6.2610e-01,  4.4926e-01, -8.1015e-01,  4.6160e-01,\n",
      "          3.1997e-01, -4.7396e-01, -5.7308e-02, -2.8011e-01,  2.3141e-01,\n",
      "          1.1986e-01,  2.1538e-01,  8.4486e-01,  5.4201e-01, -3.7962e-01,\n",
      "          7.8067e-01, -4.7502e-01],\n",
      "        [ 3.6611e-03, -1.1144e-01, -2.4672e-01, -2.3601e-01,  3.3551e-01,\n",
      "          1.5236e-01, -9.7198e-02, -3.5296e-01, -5.7439e-01,  7.2520e-02,\n",
      "         -1.0720e-01,  7.2203e-02, -9.7526e-02, -2.7882e-01,  1.4191e-01,\n",
      "         -9.8604e-01, -3.4644e-01, -8.4663e-02, -2.2392e-01,  7.1075e-01,\n",
      "         -7.1474e-01,  7.0875e-02, -1.0762e-01, -2.0441e-01,  3.4819e-01,\n",
      "         -1.2781e-01, -2.5564e-01, -2.1758e-01, -4.1640e-01,  1.6941e-01,\n",
      "         -3.5483e-01, -2.3189e-01, -2.2841e-01,  5.4318e-02, -1.0668e-01,\n",
      "         -7.9401e-01,  2.8678e-01, -9.0714e-02,  4.8980e-01, -9.8734e-02,\n",
      "          9.9845e-02, -2.8390e-01,  1.8141e-01,  1.1029e-01,  1.1519e-01,\n",
      "          1.9697e-01, -3.8659e-01],\n",
      "        [ 1.5291e-01,  1.0414e-01, -3.1335e-01, -1.6840e-01, -5.5539e-01,\n",
      "         -5.9870e-01, -1.5479e-01,  1.9859e-01, -9.0558e-01, -2.8805e-01,\n",
      "          3.7931e-01, -1.3410e+00,  4.3008e-01, -8.0349e-02,  5.6324e-02,\n",
      "          7.0497e-01,  7.8438e-02,  4.1554e-01, -6.3011e-01,  7.2054e-01,\n",
      "         -4.2403e-01, -9.7660e-02, -2.3603e-02, -3.3958e-01,  5.7985e-01,\n",
      "          4.9558e-01,  3.4904e-01,  4.7161e-01,  4.8662e-01,  2.4123e-01,\n",
      "         -1.5953e-01, -5.3004e-01,  3.4499e-01, -9.7648e-02, -8.7507e-02,\n",
      "          1.0530e-01,  1.1624e-01, -4.4031e-01,  4.9041e-03,  6.4494e-02,\n",
      "         -1.5916e-01, -2.7258e-01,  1.7880e-01,  6.8816e-01,  5.2994e-03,\n",
      "         -4.9568e-01, -1.0690e-01],\n",
      "        [-1.9423e-01, -3.8825e-02, -1.7861e-01, -8.1394e-02,  2.5259e-01,\n",
      "          6.6164e-01,  5.7579e-01,  6.5364e-01,  9.8367e-01,  1.2818e+00,\n",
      "          1.0231e+00,  5.7802e-01,  1.0967e+00,  5.1768e-01, -7.5319e-02,\n",
      "          1.2707e+00,  5.5217e-01,  5.1465e-01,  7.2628e-01,  1.2577e+00,\n",
      "          3.3387e-01, -6.7234e-01, -4.4218e-01, -9.9646e-01, -3.6432e-01,\n",
      "         -1.2970e+00, -1.2282e+00, -1.6756e+00, -1.5947e+00, -1.5770e+00,\n",
      "         -1.0916e+00, -1.2521e+00, -8.0871e-01, -1.7001e-01,  8.8978e-01,\n",
      "         -3.1884e-01, -1.3496e-01,  2.6038e-01, -2.0197e-01, -6.0022e-01,\n",
      "         -7.1523e-01,  3.0529e-01,  1.0850e+00,  7.4100e-01,  1.1261e-01,\n",
      "          1.9825e-01,  2.3521e-01],\n",
      "        [ 6.6790e-01, -1.2216e-03,  2.3872e-02,  4.9861e-01,  3.9793e-01,\n",
      "          4.6557e-01,  5.1607e-01,  4.5005e-01,  1.6264e-01, -1.4274e-01,\n",
      "          4.1423e-01, -3.0438e-01, -1.4003e-01,  3.9489e-01,  1.9728e-01,\n",
      "         -6.3524e-01,  2.0409e-01, -7.3612e-01, -2.1510e-01,  1.3978e+00,\n",
      "          1.4411e-01, -7.0258e-01, -8.9199e-01, -2.2774e-02,  1.1362e+00,\n",
      "         -3.7595e-01, -1.3648e-01,  2.6507e-01,  5.4010e-03, -6.4855e-01,\n",
      "         -6.0189e-01, -1.4909e-01,  2.7929e-01, -8.3221e-01,  7.0413e-01,\n",
      "          5.8852e-01,  1.2823e-01, -1.3425e-01,  2.3846e-01,  9.9263e-02,\n",
      "          3.0693e-01, -1.3577e-01, -1.4186e+00,  2.1436e-01,  9.1431e-01,\n",
      "          7.1881e-01, -3.3322e-01],\n",
      "        [ 2.3548e-01,  4.0263e-01,  2.7162e-01,  1.1364e-01, -5.4865e-01,\n",
      "         -1.4490e-01,  9.4289e-01,  4.3468e-01, -2.2492e-01,  6.3351e-03,\n",
      "          4.3007e-01,  1.1572e+00,  1.3112e+00,  7.8668e-02, -8.1632e-01,\n",
      "          8.4627e-01,  1.0456e+00,  1.0934e+00, -8.9306e-01, -5.9055e-01,\n",
      "         -8.4590e-02, -1.4614e+00,  6.7546e-01,  5.4428e-01, -1.0618e+00,\n",
      "         -6.5849e-01, -5.6602e-01,  7.0449e-01,  3.8574e-01,  7.3302e-02,\n",
      "          3.2835e-01,  3.6550e-01, -1.4237e-01,  4.6492e-01, -6.1973e-01,\n",
      "         -1.5058e-01, -5.8520e-02,  5.9846e-01, -2.0227e-01, -2.0722e-01,\n",
      "         -4.5284e-01,  7.6756e-02, -1.0712e-01, -5.1860e-01, -3.0637e-01,\n",
      "          1.2314e-01,  1.7023e-01],\n",
      "        [ 1.2215e-01,  2.5966e-01,  8.2155e-01,  3.9301e-01,  8.8421e-02,\n",
      "          2.0368e-01,  3.4958e-01,  4.3972e-01, -3.0339e-01, -2.7340e-01,\n",
      "          3.8030e-01,  1.3521e-01,  1.4879e-01, -2.9055e-01,  1.2084e-01,\n",
      "         -2.9656e-01, -2.6637e-01, -7.9080e-01, -8.2844e-01, -1.3582e-01,\n",
      "         -1.9282e-01, -3.3916e-01, -2.8947e-01, -7.2150e-01,  3.1369e-01,\n",
      "         -4.3246e-01,  1.6509e-01,  6.2138e-01,  1.3571e-01,  9.3339e-01,\n",
      "          7.6391e-01,  5.7639e-01,  1.8373e-02, -6.5078e-01,  4.7301e-01,\n",
      "         -1.1527e-01,  6.4086e-01,  3.6815e-01, -1.1924e-01, -3.3018e-01,\n",
      "          2.0270e-02,  1.6210e-01,  1.1101e+00,  2.2939e-01,  3.1317e-01,\n",
      "          4.4347e-01, -7.0140e-01],\n",
      "        [-5.0806e-01, -3.6080e-01, -1.1846e-01,  2.0720e-01,  1.4487e-01,\n",
      "         -9.1348e-02, -3.8332e-02, -4.5647e-01,  1.0450e-01, -2.9997e-02,\n",
      "          2.1462e-01,  6.4562e-01,  3.5971e-01,  3.4807e-01,  4.8273e-01,\n",
      "          5.2507e-02, -6.3033e-01, -4.7557e-01,  6.4909e-01,  2.5015e-01,\n",
      "          7.5612e-01, -3.0069e-01, -9.9849e-02,  5.0651e-02,  2.6935e-01,\n",
      "          7.1700e-02,  1.2373e-01,  4.0399e-01,  2.2282e-01,  1.0882e-01,\n",
      "          2.7753e-02, -5.4786e-01, -5.3188e-01,  3.7788e-01,  4.4322e-01,\n",
      "         -1.9764e-03,  1.1781e-01,  2.5109e-01, -2.2348e-01,  8.5018e-02,\n",
      "          3.2978e-01,  1.1177e-01,  7.5620e-01,  7.6735e-01,  1.6989e-01,\n",
      "         -2.8149e-01, -5.8605e-01],\n",
      "        [ 1.0507e-01, -1.8784e-02, -4.4101e-01,  2.4515e-01,  4.0468e-01,\n",
      "          2.4238e-01,  1.1160e-01,  3.4723e-01,  1.9657e-01, -4.8694e-01,\n",
      "          1.3823e-02,  1.0549e+00,  6.4726e-01, -1.2385e+00,  5.1338e-01,\n",
      "          2.6234e-01, -4.4494e-01,  6.8544e-01,  8.2582e-01, -7.1970e-02,\n",
      "         -1.0562e+00, -3.0464e-02,  6.4826e-01,  7.2184e-02, -6.0205e-01,\n",
      "          7.7276e-01, -8.9525e-01, -2.8340e-01, -7.5959e-01, -3.2891e-01,\n",
      "         -3.5144e-01,  1.0030e-01,  5.6413e-01, -7.0522e-01,  6.7130e-01,\n",
      "          4.7272e-01,  3.5131e-01, -6.1355e-01,  6.7797e-02,  4.3608e-01,\n",
      "          1.2255e-01,  1.3071e-02,  3.0929e-01,  1.2540e-01, -1.4661e-01,\n",
      "          6.2579e-02,  6.2745e-03],\n",
      "        [ 3.0208e-01,  2.0429e-01, -5.3442e-03,  4.2787e-02,  7.9817e-01,\n",
      "          5.2808e-01,  1.3848e-01, -9.6548e-01, -9.1792e-01,  3.3960e-01,\n",
      "          2.6683e-01, -7.3598e-01,  1.4283e-01, -1.1144e+00, -9.5777e-01,\n",
      "         -8.8102e-01, -7.2769e-01, -4.0986e-01, -1.3022e+00,  5.8958e-01,\n",
      "          3.5413e-01,  5.8307e-01,  4.0612e-01,  5.2678e-01,  5.4208e-01,\n",
      "         -8.1481e-03,  5.0335e-01,  4.0292e-01,  8.3379e-01,  1.3319e-01,\n",
      "          2.6606e-01,  4.4712e-02, -3.6479e-01,  3.9118e-01, -1.3851e+00,\n",
      "          3.6956e-01, -2.3448e-02,  5.5927e-01, -9.8806e-03, -3.9683e-01,\n",
      "         -1.9072e-01,  4.6863e-01,  3.5017e-01,  1.5171e-01, -8.4264e-02,\n",
      "          3.1501e-01, -1.3282e-01],\n",
      "        [-1.9920e-01,  2.1849e-01, -9.1156e-01, -5.1203e-01, -8.7426e-01,\n",
      "         -2.0214e-01, -5.5600e-02, -9.5824e-01, -6.5032e-01, -9.0922e-01,\n",
      "         -3.7153e-01, -1.8126e-01, -1.3992e+00, -4.9213e-01, -1.1808e+00,\n",
      "         -7.5327e-01,  3.2901e-01,  5.5738e-01,  6.5009e-01,  6.2879e-01,\n",
      "          6.1504e-01, -9.4108e-02,  1.7312e+00,  8.5354e-01,  1.1082e+00,\n",
      "          9.4354e-01,  3.2745e-01,  7.1711e-01,  5.4597e-01,  5.0565e-02,\n",
      "          1.2728e-01,  5.8644e-02, -2.5003e-01, -2.3344e-01,  8.7010e-01,\n",
      "         -3.4389e-01,  2.8386e-01, -6.9230e-01,  2.9216e-02,  8.1388e-01,\n",
      "          5.2410e-01,  1.9589e-02,  5.9804e-01,  7.5271e-01, -5.0679e-01,\n",
      "         -7.0343e-02,  4.0434e-01],\n",
      "        [-1.2813e-01,  8.9478e-01,  3.3131e-01,  8.3286e-01,  5.9826e-01,\n",
      "          9.3835e-01,  3.3421e-01, -1.6124e-01,  1.8781e-01, -7.5042e-01,\n",
      "          7.2165e-02, -5.1916e-01, -1.2887e+00, -5.4265e-01, -1.3720e-01,\n",
      "          8.1598e-01, -4.2387e-01, -6.3188e-01, -3.0092e-02, -4.9785e-01,\n",
      "         -3.5159e-01, -2.8453e-01,  7.1353e-01, -1.1669e+00, -4.6115e-01,\n",
      "          4.7019e-01, -3.3892e-01, -1.2143e-01,  8.6588e-01,  2.0436e-01,\n",
      "          3.6370e-01, -3.0365e-02, -3.4275e-01, -1.0723e-01,  1.1785e-01,\n",
      "         -2.1042e-01, -1.0211e-01,  1.1417e-01, -1.9971e-01,  1.3169e-01,\n",
      "         -3.4543e-01, -9.2651e-03, -6.0047e-01, -7.3056e-01,  4.3522e-01,\n",
      "          3.0977e-01,  3.3684e-01],\n",
      "        [-3.7128e-01, -4.3059e-01, -5.6512e-01,  5.6770e-02,  5.3417e-01,\n",
      "         -2.5693e-01, -4.8139e-02, -4.6301e-01, -4.8703e-01, -1.9997e-01,\n",
      "          5.5143e-01, -1.8231e-01, -3.2695e-01,  1.4986e+00,  1.1442e+00,\n",
      "         -2.4086e-01, -2.1185e-01,  1.3384e+00,  7.7148e-01, -5.5500e-01,\n",
      "         -2.4535e-01,  1.8332e-02, -6.3482e-02, -9.3424e-01,  3.0223e-02,\n",
      "          1.7143e-01, -1.0741e+00,  8.3701e-01,  1.4848e-01,  1.8979e-01,\n",
      "         -9.9152e-02, -3.9719e-01,  5.4380e-01,  4.5645e-01, -2.1383e+00,\n",
      "          1.5578e-01,  1.8344e-01,  2.4414e-01, -9.9704e-02, -7.3572e-01,\n",
      "         -3.3795e-01, -3.1346e-01,  6.9148e-01,  4.0263e-01,  1.7014e-01,\n",
      "          9.8231e-02, -6.0049e-01]], device='cuda:0', requires_grad=True)\n",
      "W_aa: tensor([[ 4.4531e-01, -2.6787e-01,  3.0253e-01, -4.2073e-01, -3.1242e-02,\n",
      "          2.1706e-01, -3.4593e-01, -2.2223e-01,  2.3527e-01, -5.2784e-01,\n",
      "         -1.7042e-01,  1.8138e-01,  2.5840e-01, -2.0237e-02, -8.6097e-02,\n",
      "         -1.8275e-01,  5.0730e-02,  2.6145e-01, -6.3945e-01, -8.0110e-02],\n",
      "        [ 3.6460e-03,  1.4551e-01, -5.2199e-02, -2.0450e-01, -1.8826e-03,\n",
      "         -5.2484e-02, -2.6488e-01,  1.5752e-01,  4.1481e-02,  2.4023e-01,\n",
      "         -5.9431e-02,  1.4313e-01,  5.1047e-03,  2.0533e-01, -4.1791e-01,\n",
      "         -1.6143e-01, -1.3991e-01, -4.5261e-02,  1.7943e-01,  2.2326e-01],\n",
      "        [ 1.1072e-01, -1.5077e-01, -4.5707e-02,  1.2935e-01,  4.6672e-02,\n",
      "         -1.2938e-01,  6.7614e-02, -8.6742e-02,  1.8533e-01, -1.1408e-02,\n",
      "         -4.2294e-01,  2.5069e-01,  1.2365e-01,  3.8645e-02,  1.5298e-01,\n",
      "          9.4550e-02, -3.4743e-01, -5.9795e-02, -1.5278e-01, -1.2804e-01],\n",
      "        [-2.2691e-01, -7.3238e-02,  1.3038e-01, -1.9956e-01,  8.6583e-02,\n",
      "         -1.0635e-01,  3.0701e-01, -1.2774e-01, -5.0708e-03, -5.2704e-02,\n",
      "         -1.3366e-01,  1.0302e-01,  9.2649e-02, -1.2741e-01,  1.2837e-01,\n",
      "          1.4874e-02, -5.3854e-03, -5.7378e-02,  9.2339e-02, -1.3317e-01],\n",
      "        [ 2.1211e-01,  1.7298e-01,  1.5836e-01, -3.6826e-02,  7.4661e-02,\n",
      "         -1.8176e-01,  1.5071e-02,  1.6835e-02,  2.0515e-01, -1.6812e-01,\n",
      "         -4.0037e-02,  1.2339e-01, -2.6900e-01,  1.8426e-01, -3.9316e-01,\n",
      "         -1.6958e-01,  2.3763e-02,  9.8236e-02, -4.9348e-01,  3.6276e-02],\n",
      "        [ 1.4466e-01, -1.0294e-01,  7.2879e-02, -1.3249e-02,  6.8446e-03,\n",
      "          9.4996e-02, -1.7750e-01, -8.9495e-02, -3.2021e-01, -6.0032e-02,\n",
      "          1.4197e-02,  1.7175e-01,  8.3962e-02, -1.0577e-01,  3.6889e-01,\n",
      "         -4.9779e-02,  2.4857e-02, -6.5073e-02,  7.5621e-02,  1.4549e-01],\n",
      "        [ 1.9375e-01, -1.4484e-01,  5.8004e-02,  6.3075e-03,  9.2199e-02,\n",
      "          2.2998e-01, -5.9690e-02, -3.3417e-02,  4.2727e-01,  1.3679e-01,\n",
      "          1.0889e-01, -1.6440e-02,  1.0909e-01, -2.6565e-01,  1.5352e-01,\n",
      "          8.1083e-02,  1.5144e-01, -4.7479e-02, -1.7219e-01, -3.1192e-01],\n",
      "        [ 4.8940e-02, -1.0345e-01,  1.4370e-02, -1.1708e-01,  2.5637e-01,\n",
      "         -2.3580e-01,  7.9904e-02, -7.8130e-02,  1.9858e-01, -1.6549e-02,\n",
      "         -1.6027e-02,  4.5228e-02, -8.3359e-02,  2.6956e-01,  8.2913e-02,\n",
      "         -1.1655e-01,  1.7520e-02, -5.4421e-02,  1.6461e-01, -8.6290e-02],\n",
      "        [ 6.9050e-02, -2.1634e-02, -3.0986e-02,  2.3310e-02,  1.7415e-01,\n",
      "         -7.3910e-03,  1.6638e-01,  4.7935e-02,  9.9489e-01,  3.6074e-01,\n",
      "         -6.3390e-03,  3.6188e-02,  2.0026e-01,  1.1561e-01, -3.5585e-01,\n",
      "         -1.9086e-02,  2.2941e-03, -1.3274e-01, -3.9280e-02, -3.1122e-01],\n",
      "        [-4.6321e-02, -5.4539e-02, -2.2945e-02, -1.3471e-01, -3.6876e-02,\n",
      "          1.5530e-01,  1.4116e-02,  2.5474e-02,  1.6290e-01,  2.2763e-01,\n",
      "          1.0787e-01, -1.8868e-01,  5.2879e-02, -8.1012e-02,  2.4704e-01,\n",
      "          1.5400e-01,  2.6940e-01, -1.9052e-01,  3.3484e-01,  2.0428e-01],\n",
      "        [ 1.5202e-01,  1.0754e-01, -1.2287e-01,  1.2777e-01,  9.5565e-02,\n",
      "          7.4731e-02, -5.5839e-02, -8.5208e-03, -1.8207e-01,  6.7680e-02,\n",
      "         -3.0371e-03, -6.0095e-02,  4.1421e-02,  9.2482e-02,  2.4866e-04,\n",
      "          6.8510e-02, -6.8015e-02,  2.8366e-02,  2.0955e-02, -1.8772e-02],\n",
      "        [ 1.0379e-01, -6.6499e-02,  2.6478e-01, -1.6250e-01, -2.2528e-01,\n",
      "         -8.1293e-02, -3.0856e-01, -3.1701e-01, -1.0510e-01, -3.5600e-02,\n",
      "          1.9061e-01,  1.9779e-01,  6.0708e-02, -4.7562e-01, -4.7107e-02,\n",
      "          1.3888e-01, -1.1161e-01, -2.8559e-01, -1.3960e-01,  2.1649e-02],\n",
      "        [ 1.5746e-01,  1.9119e-02,  1.8368e-01, -2.8214e-01,  1.7035e-01,\n",
      "          6.1876e-02, -5.7313e-02,  1.8602e-02,  3.5664e-01,  8.7372e-02,\n",
      "          1.3742e-01,  1.9435e-02, -1.9135e-01,  1.9670e-01, -6.2234e-01,\n",
      "          5.9376e-02, -1.7819e-01, -6.3884e-02,  3.3060e-02,  1.4108e-01],\n",
      "        [ 5.6142e-02, -2.2766e-02,  2.1621e-01, -4.3221e-01,  1.5238e-01,\n",
      "         -3.9977e-01, -8.4691e-02,  1.0060e-01, -1.2818e-01,  2.0766e-01,\n",
      "         -4.3045e-01,  1.0604e-01, -9.7839e-02,  4.1132e-01, -3.1100e-01,\n",
      "          4.1752e-02,  8.5944e-02, -5.1497e-03, -7.6234e-02,  9.6882e-02],\n",
      "        [-7.9035e-02,  2.4379e-01, -9.8369e-02,  3.9075e-01,  1.3170e-01,\n",
      "         -2.0232e-01,  1.8792e-01,  1.3934e-01, -1.3460e-01,  4.3670e-02,\n",
      "          1.2983e-02,  1.1902e-01,  2.1152e-01, -3.0656e-01,  2.6093e-01,\n",
      "          1.9401e-01,  3.6747e-02,  4.0445e-01,  5.9690e-03, -1.2137e-02],\n",
      "        [-3.3987e-01,  1.1015e-01, -1.2693e-01,  1.1385e-01,  2.2404e-01,\n",
      "          2.5179e-01,  2.7858e-01,  1.9656e-01, -3.5142e-01,  1.9766e-01,\n",
      "          8.0803e-02, -2.5063e-01, -1.8322e-02, -2.2208e-01,  1.1268e-01,\n",
      "         -2.6533e-02,  9.5581e-02,  2.3719e-02, -1.5933e-01, -3.0486e-02],\n",
      "        [-2.4915e-01, -3.1227e-02,  1.4345e-02,  7.8291e-02, -4.7863e-02,\n",
      "          4.5313e-02, -8.9066e-02, -2.2197e-01, -5.2676e-01,  2.0742e-01,\n",
      "          2.0487e-02, -4.2860e-02, -4.2138e-02,  7.7108e-02, -1.6147e-01,\n",
      "          1.2406e-01,  1.9982e-02,  1.9905e-01,  3.4412e-01,  1.9613e-01],\n",
      "        [ 1.3665e-01, -7.8908e-02, -1.8158e-01,  4.0450e-02,  9.0895e-02,\n",
      "          7.0748e-02, -4.7560e-02, -4.2909e-03, -8.8798e-02, -2.9575e-01,\n",
      "         -2.5154e-01, -2.2560e-01,  1.4996e-01,  9.0207e-02,  1.8952e-01,\n",
      "          2.0022e-02, -3.1386e-01, -3.6287e-03, -3.9225e-02,  5.3857e-02],\n",
      "        [-1.7717e-01, -1.6959e-02, -1.9074e-01,  2.2508e-01, -2.5117e-03,\n",
      "         -1.0927e-02,  1.7228e-01,  1.4475e-01,  2.5674e-01,  4.1435e-01,\n",
      "         -1.8645e-01,  7.0999e-02,  3.4806e-01, -8.2827e-02,  2.4338e-01,\n",
      "          1.1957e-02,  7.4498e-03, -1.6262e-01,  3.3246e-01,  8.4796e-02],\n",
      "        [-3.8198e-02,  1.6642e-01,  8.6771e-02, -1.7394e-01,  8.2970e-02,\n",
      "         -3.5405e-01, -1.5983e-01, -6.1622e-02, -2.5628e-01, -2.4092e-01,\n",
      "          2.3940e-02,  2.1409e-01,  1.0714e-02,  2.8799e-01, -2.1578e-01,\n",
      "          3.1131e-02, -1.5893e-01,  1.0234e-01, -9.4351e-02,  1.5789e-02]],\n",
      "       device='cuda:0', requires_grad=True)\n",
      "b_a: tensor([[-0.0687],\n",
      "        [-0.0038],\n",
      "        [ 0.5519],\n",
      "        [ 0.3267],\n",
      "        [ 0.2537],\n",
      "        [ 0.3267],\n",
      "        [-0.2851],\n",
      "        [ 0.2797],\n",
      "        [ 0.2752],\n",
      "        [ 0.3019],\n",
      "        [ 0.4502],\n",
      "        [-0.3179],\n",
      "        [ 0.0351],\n",
      "        [ 0.0408],\n",
      "        [ 0.2897],\n",
      "        [ 0.3660],\n",
      "        [-0.1891],\n",
      "        [ 0.5117],\n",
      "        [-0.3275],\n",
      "        [ 0.1758]], device='cuda:0', requires_grad=True)\n",
      "W_yd: tensor([[-1.3558, -0.2931,  0.7152, -0.2078, -0.4233, -1.6128,  0.6769,  0.2137,\n",
      "         -0.0023,  1.2066, -0.5205,  0.3117, -0.6975,  0.6039, -0.2651,  1.3558,\n",
      "          0.0437, -0.3758, -0.3978,  0.2853],\n",
      "        [ 0.5177,  0.3665, -0.8217, -1.0687,  0.5574,  0.7349, -0.4911, -1.3316,\n",
      "          0.9926,  1.0164,  1.0940, -0.6881, -0.0860, -1.0142,  1.8128,  0.0543,\n",
      "         -0.3892,  0.8114, -0.9335, -0.4139],\n",
      "        [ 0.6821, -0.2486, -0.4477,  1.0506,  0.0953,  1.1220, -0.1230,  0.4849,\n",
      "          0.6000, -0.2508,  0.4034, -0.2890,  0.1933, -1.6552,  0.2561,  0.4068,\n",
      "          0.0848,  0.9266, -0.5467, -0.1920],\n",
      "        [-0.2021,  0.3966, -0.2868,  0.1094, -0.2435, -0.5175,  0.3010, -0.3795,\n",
      "         -0.0429, -0.5709, -0.3156,  0.4481,  0.2938,  0.3469,  0.0475, -0.6765,\n",
      "          0.3860, -0.4561,  0.4024,  0.1661],\n",
      "        [-0.4251, -0.0499,  0.2685,  0.2255,  0.2729,  0.0284, -0.3592,  0.3096,\n",
      "          0.3109, -0.0167,  0.3593, -0.1575, -0.1070,  0.2074, -0.0211, -0.3720,\n",
      "          0.2388, -0.0407,  0.0253,  0.6300],\n",
      "        [-0.1843,  0.1320,  0.1176,  0.2745,  0.2904, -0.2422, -0.0440, -0.2481,\n",
      "         -0.0381, -0.3764,  0.2004, -0.0466, -0.1101,  0.2976, -0.1693,  0.1209,\n",
      "         -0.2292, -0.1557, -0.0747,  0.0596],\n",
      "        [-0.0769, -0.3866,  0.1644, -0.0180, -0.0843,  0.0772, -0.2791, -0.1059,\n",
      "          0.1812, -0.3615, -0.0245,  0.1975,  0.1221,  0.1048,  0.0617, -0.4779,\n",
      "          0.1173,  0.0755,  0.4378,  0.0733],\n",
      "        [ 0.2331,  0.1072,  0.1108,  0.0987, -0.0700,  0.1674,  0.0776, -0.2071,\n",
      "          0.1407, -0.5321,  0.2805,  0.1729, -0.0042, -0.2662,  0.0214, -0.2838,\n",
      "          0.0816, -0.1543,  0.0683, -0.5047],\n",
      "        [-0.0155,  0.1084, -0.0043, -0.5034,  0.0234, -0.3491, -0.0206, -0.4405,\n",
      "         -0.1231, -0.4405, -0.3136,  0.2603, -0.0326,  0.5341, -0.4646, -0.2384,\n",
      "         -0.3125, -0.2545,  0.2289,  0.3789],\n",
      "        [ 0.3400, -0.1838, -0.0106, -0.1844,  0.4723,  0.2151,  0.2816, -0.4725,\n",
      "         -0.6080, -0.7407,  0.1147, -0.0108, -0.2356,  0.1149, -0.4617,  0.0556,\n",
      "         -0.0422, -0.1813,  0.2803,  0.2915]], device='cuda:0',\n",
      "       requires_grad=True)\n",
      "b_yd: tensor([[-0.2116],\n",
      "        [ 2.2624],\n",
      "        [ 0.5945],\n",
      "        [-0.8191],\n",
      "        [ 0.8177],\n",
      "        [-0.4153],\n",
      "        [ 0.0183],\n",
      "        [-0.1047],\n",
      "        [-1.0827],\n",
      "        [-1.4040]], device='cuda:0', requires_grad=True)\n",
      "W_yn: tensor([[-2.9511e-01,  4.5321e-01,  7.0406e-01,  7.4004e-01, -1.3718e-01,\n",
      "         -1.5596e-02, -1.1730e-01, -3.3467e-01,  1.7792e-01, -6.5875e-01,\n",
      "          4.9986e-01,  2.4081e-01,  6.6015e-01,  5.4643e-01, -4.6082e-01,\n",
      "          5.9096e-02, -8.4157e-02, -3.8598e-01,  5.1754e-01, -2.6841e-01,\n",
      "         -1.9330e-01, -7.3178e-01, -2.2326e-01,  1.4314e-01,  1.5720e-01,\n",
      "          3.7776e-01,  2.0765e-02, -2.6666e-01,  4.8587e-01,  1.6294e-01],\n",
      "        [-3.5323e-01, -1.6790e-02,  5.8625e-01,  5.2556e-01, -1.0790e-01,\n",
      "          6.5526e-01, -3.1285e-01, -2.6298e-01, -9.1831e-01, -4.0217e-01,\n",
      "          3.5859e-01,  7.7633e-01,  6.0197e-01,  7.7278e-01, -1.6797e-01,\n",
      "         -5.9641e-01,  6.6142e-01, -1.1968e+00,  2.1459e-01, -1.4100e-01,\n",
      "          1.6158e-01, -4.9313e-01, -1.2923e-01,  2.0615e-01,  2.9140e-01,\n",
      "          2.2671e-01, -4.3825e-01,  2.7281e-01, -1.8688e-01,  2.2823e-02],\n",
      "        [ 4.1280e-01,  4.2806e-01,  4.7731e-01,  7.1152e-01,  2.6311e-01,\n",
      "          5.5673e-01, -5.9949e-02, -1.9574e-01,  1.0542e-01, -7.0128e-01,\n",
      "         -1.8158e-02,  7.7698e-01,  1.1534e-01,  2.3055e-01, -3.8300e-01,\n",
      "         -8.2095e-02,  9.5801e-02, -7.4197e-01,  9.5711e-01,  5.0331e-01,\n",
      "         -2.4920e-02, -6.1312e-01, -2.0594e-01,  2.1840e-01,  2.3283e-01,\n",
      "          2.9665e-01,  3.4698e-01, -3.5923e-01, -3.5977e-01, -1.9812e-01],\n",
      "        [-6.2188e-02,  6.8471e-01,  3.3876e-01,  6.0102e-01, -6.8032e-01,\n",
      "         -8.3178e-02, -3.0405e-02, -6.8002e-01, -2.8428e-01, -6.8220e-01,\n",
      "          4.7808e-01,  5.5552e-01, -3.4899e-01,  4.1157e-02, -3.4501e-01,\n",
      "          3.4306e-01,  2.8534e-01, -1.1565e+00,  1.6437e+00, -5.8621e-01,\n",
      "         -3.8124e-01, -4.2008e-01,  4.1709e-02, -2.7103e-01,  6.8095e-03,\n",
      "          1.5184e-01,  2.2001e-01,  1.6590e-02, -2.1850e-01, -4.4308e-01],\n",
      "        [ 1.9475e-01,  3.9804e-01,  8.4998e-01, -2.3149e-03, -1.7146e-03,\n",
      "          8.2796e-01,  1.4861e-01, -1.6348e+00, -3.2336e-01, -1.4376e+00,\n",
      "          6.9610e-01,  9.8076e-01,  9.6747e-01, -6.6759e-02, -6.0191e-01,\n",
      "         -1.0010e-01,  5.1770e-01,  2.9293e-01,  4.4891e-01, -4.7935e-01,\n",
      "          3.1445e-01,  1.5054e-01,  1.5750e-01, -4.3313e-01,  2.3462e-01,\n",
      "          4.6302e-01, -4.1461e-01,  3.4181e-01, -6.5858e-02, -5.9575e-02],\n",
      "        [-3.6319e-01,  1.0874e+00,  5.4299e-01,  1.0023e-01,  2.4903e-01,\n",
      "          1.5816e-01,  1.0720e+00, -8.0387e-01,  2.3751e-01,  4.9829e-01,\n",
      "          5.8432e-01,  4.0131e-01,  6.7514e-01, -2.1151e-01, -6.0671e-01,\n",
      "          4.0722e-01, -6.1402e-01, -8.0355e-01,  5.5238e-01, -2.5659e-01,\n",
      "         -2.9938e-01,  8.9176e-02, -1.4676e-02,  3.7267e-01,  1.4631e-01,\n",
      "          7.2295e-03, -2.0445e-01, -5.8497e-01, -8.0032e-02, -1.1841e-01],\n",
      "        [-4.4248e-01,  1.1849e+00,  5.4873e-01, -1.1682e-01,  4.0118e-01,\n",
      "          6.1901e-01,  4.0313e-01, -5.6008e-01, -9.7422e-01, -4.6544e-01,\n",
      "          4.9566e-01,  5.4023e-01, -1.6496e-01, -2.6951e-02, -2.0301e-01,\n",
      "          6.4036e-02, -1.9210e-01, -7.1308e-01, -3.5637e-01, -3.3179e-01,\n",
      "         -5.5175e-02, -1.0632e-01, -2.9531e-01,  2.8324e-01, -2.2748e-01,\n",
      "         -7.7493e-02,  1.3453e-01,  1.5898e-01,  1.8398e-01, -3.9298e-01],\n",
      "        [ 1.1546e-01,  1.0042e+00,  9.3052e-01,  3.7198e-01, -7.9795e-02,\n",
      "          1.6277e-01, -1.2376e-01, -6.5228e-01,  6.1616e-01, -3.1946e-01,\n",
      "          1.1951e+00, -2.7214e-01, -5.4475e-01, -4.6289e-01, -8.0525e-02,\n",
      "         -2.9315e-01, -5.0590e-01, -3.9957e-01,  3.6145e-01, -2.7546e-02,\n",
      "          3.1735e-03,  6.1823e-02, -6.1459e-02, -4.8030e-01,  3.3903e-01,\n",
      "          1.3178e-01, -2.2257e-01,  5.3208e-03,  2.0354e-01, -3.2160e-01],\n",
      "        [ 2.8417e-01,  1.2250e+00,  8.6118e-01,  1.1306e-01, -1.4864e+00,\n",
      "          1.2873e-02,  2.7652e-01, -6.7964e-01, -5.7035e-01,  5.8591e-01,\n",
      "          1.1785e+00,  1.7109e-01,  1.7807e-01, -7.6092e-01, -1.2028e-01,\n",
      "          5.5338e-01, -4.1658e-03, -7.3861e-01,  7.2818e-02,  2.0570e-01,\n",
      "          1.3284e-01, -2.3969e-01, -2.3557e-01, -1.2609e-01,  6.9587e-01,\n",
      "         -3.3862e-01, -3.1375e-02,  4.7503e-01,  1.6346e-01,  4.1362e-01],\n",
      "        [ 7.3290e-02,  1.3809e+00, -6.4931e-01,  2.6283e-01,  1.1725e-01,\n",
      "          5.1098e-01,  6.4349e-01, -2.7637e-01, -1.3465e-01, -4.2982e-01,\n",
      "          1.3537e+00,  4.5552e-01,  8.5079e-01, -1.6827e-01,  1.1175e-01,\n",
      "          1.6935e-01, -1.0889e+00,  2.1100e-01,  6.6945e-02, -2.0495e-01,\n",
      "          2.9929e-01, -2.1349e-01, -4.9315e-01,  8.3096e-02,  5.0164e-01,\n",
      "          9.3437e-02, -8.9768e-02,  5.7149e-01,  1.3512e-01, -1.3659e-01],\n",
      "        [-1.0961e+00,  6.5431e-01,  4.5938e-01, -1.1075e-01, -6.9798e-01,\n",
      "          4.9398e-01, -5.2443e-01,  2.8858e-02,  2.6733e-01,  1.9677e-01,\n",
      "          6.0515e-01, -2.3591e-01,  5.5513e-02, -6.3770e-01,  1.2829e-01,\n",
      "          6.8289e-01, -8.6775e-01, -1.1637e+00, -5.3903e-01, -3.1848e-01,\n",
      "         -6.3766e-02, -2.2806e-01, -2.8986e-01, -3.0498e-01, -3.9202e-01,\n",
      "          3.8347e-01,  3.3868e-01,  5.8138e-01, -2.0674e-01,  3.6282e-01],\n",
      "        [ 4.4477e-01,  6.0303e-01,  5.4274e-01,  5.7158e-01, -4.9394e-02,\n",
      "          3.7976e-01, -5.8007e-01, -3.3236e-01, -7.6471e-01,  6.5072e-01,\n",
      "          1.2642e+00, -3.0308e-02,  6.2003e-02, -5.7127e-01, -4.3423e-01,\n",
      "         -1.9930e-01, -7.8909e-01, -7.3564e-01, -9.8718e-01,  6.8498e-02,\n",
      "          5.6627e-02, -1.2818e-02, -3.4320e-01,  1.1296e-02, -3.9857e-01,\n",
      "         -2.1688e-01, -1.1569e-01,  1.4082e-01,  3.7741e-01,  6.2240e-03],\n",
      "        [-3.2788e-01,  5.6371e-01, -9.0751e-01,  2.2047e-01, -1.1749e+00,\n",
      "          2.1054e-01,  3.9355e-01,  3.3174e-01,  7.5674e-01,  6.8872e-03,\n",
      "          5.3099e-01,  1.6146e-02, -1.3950e-01, -4.8007e-01,  1.3641e-02,\n",
      "         -3.1566e-01, -1.2274e+00, -6.3866e-01, -3.3060e-01,  3.3283e-01,\n",
      "          4.9104e-01, -7.4187e-02, -5.8675e-01,  1.7687e-01, -3.8092e-01,\n",
      "          1.1003e-01,  1.4365e-01,  1.6836e-01, -4.7917e-01, -2.8740e-01],\n",
      "        [ 3.3587e-01, -4.4484e-01, -2.1546e-01, -4.5332e-01, -8.3262e-01,\n",
      "          1.4478e-02, -6.8028e-01,  1.0742e-01, -6.3081e-01,  1.0088e-01,\n",
      "          8.2028e-01, -1.5893e-01,  7.6475e-02, -4.4709e-01,  8.1395e-02,\n",
      "          8.2995e-01,  1.1170e-01, -1.0333e+00, -6.2167e-01, -6.6927e-02,\n",
      "         -1.7950e-01,  5.3965e-01, -1.0846e-01, -1.8287e-01,  2.7345e-01,\n",
      "          3.2685e-01,  2.5865e-01, -2.6231e-01,  3.0941e-01,  3.7496e-01],\n",
      "        [ 2.9539e-01, -7.4012e-01, -5.2118e-01,  8.0017e-01, -1.4418e-01,\n",
      "         -1.1333e+00, -5.9475e-01, -7.1922e-01,  4.1099e-01,  3.4799e-01,\n",
      "          1.1209e+00, -8.7614e-02,  9.5292e-01, -3.9741e-01,  5.4004e-01,\n",
      "         -3.9326e-01, -1.1215e+00,  1.2458e-01, -4.6940e-01,  1.5031e-01,\n",
      "          6.6262e-01,  3.0410e-01, -2.0028e-01,  1.7638e-01, -4.4594e-01,\n",
      "          2.1023e-01,  2.7659e-01, -3.9639e-01, -5.0222e-01, -2.1256e-01],\n",
      "        [-1.4367e+00, -1.1036e+00, -6.9953e-01, -2.9028e-01, -3.6259e-01,\n",
      "          3.0823e-01,  1.3535e-01,  3.6404e-01,  1.9611e-01,  3.4681e-01,\n",
      "         -1.5784e-01,  1.1940e-01,  2.4572e-02, -4.5094e-01,  8.0796e-01,\n",
      "          4.7304e-01, -5.6704e-01, -5.5534e-01, -7.0404e-01,  1.1944e+00,\n",
      "         -7.9857e-02,  1.2348e-01, -2.1832e-01,  5.5050e-01, -3.1124e-01,\n",
      "         -3.3123e-01, -1.0055e-01, -1.2993e-01,  7.5045e-02,  1.3870e-01],\n",
      "        [ 6.1496e-01, -6.9799e-01, -3.7690e-01, -7.4117e-01,  9.8367e-01,\n",
      "         -3.2059e-01,  2.8149e-01,  1.1736e+00, -1.3131e-01,  3.4136e-01,\n",
      "          6.1693e-01,  1.8541e-02, -1.6542e-01, -9.6079e-01,  2.4242e-01,\n",
      "          3.7413e-01, -3.9193e-01, -3.0590e-01, -4.3290e-01,  1.0516e+00,\n",
      "         -1.7070e-01,  2.2423e-01, -2.1775e-01, -2.3410e-01, -4.1078e-02,\n",
      "         -9.5594e-02, -6.7319e-01, -5.8958e-01,  3.3015e-02, -3.3454e-02],\n",
      "        [-3.2408e-01, -1.1051e+00, -1.3955e+00, -3.6907e-01, -1.9752e-01,\n",
      "         -8.1408e-01, -9.7356e-01,  8.8713e-01,  7.0841e-01,  8.2025e-02,\n",
      "          1.2206e+00, -2.5989e-01, -1.2212e+00, -5.0230e-01, -6.1968e-01,\n",
      "         -3.6183e-01, -7.7861e-01, -4.4898e-01, -2.3603e-01, -7.5337e-01,\n",
      "          7.5840e-01,  3.7321e-01,  3.2382e-02, -3.1116e-01, -1.1526e-01,\n",
      "         -2.6986e-01, -4.8387e-01, -1.9653e-01,  3.2615e-01, -3.1134e-01],\n",
      "        [ 2.1082e-01, -1.7075e+00, -5.5819e-01, -1.2407e+00,  5.1992e-01,\n",
      "          5.2242e-01, -7.1096e-02,  4.8318e-01, -6.3271e-01,  7.1260e-01,\n",
      "          6.4559e-01, -1.2215e-01, -1.8244e-01, -1.1972e-01, -4.5464e-01,\n",
      "         -4.1604e-01,  4.3603e-01,  3.2454e-01, -3.4674e-01,  1.8173e-01,\n",
      "         -1.0593e-01,  3.8084e-01,  2.5262e-02,  3.1889e-01, -1.9729e-01,\n",
      "          3.4939e-01, -3.3139e-01, -1.3479e-01, -1.5435e-01,  4.5104e-01],\n",
      "        [ 4.2883e-01, -6.8670e-01, -2.0270e-01, -5.9225e-01, -5.1829e-01,\n",
      "         -1.2834e+00,  5.8229e-01,  4.5502e-01,  6.0437e-01,  1.4780e-01,\n",
      "          8.6062e-02, -5.3736e-01,  4.8640e-02, -6.4040e-01,  4.3294e-01,\n",
      "         -4.9740e-01, -2.4395e-01,  9.2273e-01,  4.7432e-01,  5.4389e-01,\n",
      "          6.5081e-01,  3.6797e-01, -9.3758e-02, -2.8428e-01,  5.6904e-02,\n",
      "          3.8933e-01, -5.5405e-02, -3.6962e-01, -1.4416e-01,  1.5297e-01],\n",
      "        [-1.9180e-01, -1.3878e+00, -4.7643e-01, -6.1377e-02, -3.2908e-02,\n",
      "         -9.1451e-01, -9.3471e-01, -4.0621e-02,  1.9980e-01,  1.1263e-01,\n",
      "          2.2407e-01,  4.0594e-01, -5.6410e-01, -6.6425e-01,  5.5043e-01,\n",
      "          1.1882e+00,  7.8369e-01,  6.1340e-01, -1.5752e-01,  3.2944e-01,\n",
      "         -1.0066e-01,  4.7782e-01, -5.2040e-02,  5.2469e-01, -1.4026e-02,\n",
      "          2.5249e-01, -1.1987e-01, -1.5007e-01, -1.1949e-01, -3.8825e-01],\n",
      "        [ 6.9861e-02, -6.4151e-01, -9.3307e-01, -7.3786e-01,  9.1281e-01,\n",
      "         -4.3514e-01, -6.4313e-03,  5.9368e-01,  3.4560e-01, -4.9774e-01,\n",
      "          7.2695e-02,  6.1619e-01,  3.8820e-01, -1.5347e-01,  9.0172e-01,\n",
      "          1.9694e-01,  3.2911e-01,  1.5722e+00, -3.4404e-01, -2.0303e-01,\n",
      "          1.6221e-01,  9.0148e-02, -5.6821e-01,  5.1547e-01,  1.7252e-01,\n",
      "          1.6441e-01, -3.2020e-02,  3.1476e-01,  2.8877e-01, -2.4431e-01],\n",
      "        [-4.9826e-01, -1.4160e-01, -9.3144e-01,  1.0266e-01,  2.4027e-01,\n",
      "         -6.7670e-01,  9.4596e-01,  9.2455e-01,  2.2520e-04,  7.3779e-01,\n",
      "         -7.5790e-01, -3.2528e-01, -9.8052e-01, -3.3244e-01, -1.7863e-01,\n",
      "         -1.0496e-01,  6.2407e-01, -9.5467e-02, -1.6462e-01, -4.0999e-01,\n",
      "         -5.4134e-01,  6.3736e-01,  8.9060e-02,  2.0559e-01,  2.4748e-01,\n",
      "          2.2400e-01, -4.6343e-02,  1.9568e-01, -8.2145e-02,  3.2299e-01],\n",
      "        [ 4.3929e-01, -9.7007e-01, -9.0617e-01, -4.0922e-02,  1.0771e+00,\n",
      "          5.4391e-01,  3.7322e-02,  6.3052e-02, -3.0899e-01,  1.1627e-01,\n",
      "         -6.8305e-01, -2.1974e-01, -9.5377e-01,  1.7602e-01, -6.5594e-01,\n",
      "          2.5374e-01,  1.0051e-01,  1.2461e+00, -9.5100e-02,  6.1436e-01,\n",
      "          2.9936e-01,  4.1540e-01, -6.9257e-02, -6.9449e-02,  1.6558e-02,\n",
      "          3.6629e-01,  3.8635e-01,  3.2634e-02, -4.6862e-01, -2.0392e-02],\n",
      "        [ 1.2319e-01, -4.0034e-02,  8.8152e-02, -1.4777e-01,  4.7108e-02,\n",
      "         -2.8544e-01, -7.7525e-01,  7.3255e-01,  4.9944e-01, -4.9321e-02,\n",
      "         -1.5308e+00, -4.3384e-01, -2.9642e-01, -2.8349e-01,  1.9250e-01,\n",
      "          1.4586e-01, -3.7436e-01,  9.2053e-01,  3.6361e-01, -7.8061e-01,\n",
      "          3.8052e-02,  3.2875e-01, -1.5671e-01, -3.6523e-01, -1.3341e-01,\n",
      "         -1.9223e-01,  7.1512e-02,  1.7679e-01,  6.6085e-02,  3.0174e-01],\n",
      "        [ 8.1694e-02, -1.7596e-01, -6.1560e-01,  5.2454e-01, -1.4223e-01,\n",
      "         -3.7297e-02, -4.1001e-01, -4.0466e-01, -9.1233e-01,  2.3651e-01,\n",
      "         -9.5825e-01,  1.4525e-01, -2.0423e-01,  6.8420e-01,  6.1952e-01,\n",
      "         -5.8666e-01,  8.9001e-01,  1.2371e+00,  8.9110e-02, -8.2624e-01,\n",
      "         -2.2382e-01,  7.0273e-02,  1.6751e-01,  2.2245e-01, -1.7493e-01,\n",
      "         -2.1235e-01,  8.1911e-04,  5.9776e-01, -1.2592e-01,  9.7461e-02],\n",
      "        [ 5.7120e-01,  4.4768e-01,  8.7805e-02,  4.0645e-01,  2.4858e-01,\n",
      "         -4.3159e-02,  7.5103e-01,  2.7190e-02,  4.1200e-01, -6.8226e-02,\n",
      "         -1.5703e+00, -7.3919e-02,  1.9742e-01,  2.3329e-01,  2.5533e-01,\n",
      "          1.8317e-01,  2.5996e-01,  1.7428e+00,  2.3110e-01,  7.0054e-01,\n",
      "         -1.1179e-01,  9.7451e-02,  2.8521e-02, -8.6892e-02,  1.7436e-01,\n",
      "         -4.7058e-03,  9.8640e-02, -9.2286e-02,  6.6876e-02, -3.1317e-01],\n",
      "        [-4.8025e-01,  2.5726e-01,  9.8861e-01,  3.1539e-01,  7.7118e-02,\n",
      "          1.9230e-01, -1.0871e-01, -1.2953e-01, -3.7988e-01,  8.7038e-02,\n",
      "         -1.2730e+00, -1.2580e+00, -5.8163e-01,  1.1397e-01,  1.3887e-01,\n",
      "         -1.0966e-01,  3.1372e-01,  4.2232e-01,  4.5305e-01, -3.1419e-01,\n",
      "         -2.2392e-01, -3.3758e-02,  6.9320e-02, -4.2945e-01, -1.8374e-01,\n",
      "         -1.8974e-02,  2.6183e-01,  2.8598e-01, -4.3261e-01,  4.5279e-01],\n",
      "        [ 2.6914e-01,  2.7835e-01,  4.5145e-01,  1.8975e-01,  3.4073e-01,\n",
      "          6.7955e-01, -5.2549e-01, -1.5184e-01, -3.1256e-01, -4.4770e-01,\n",
      "         -1.0898e+00, -7.0827e-01, -3.0137e-01,  1.1132e+00, -1.6270e-01,\n",
      "         -1.8939e-01,  1.9482e-01,  5.4462e-01, -1.3553e-04, -3.3729e-01,\n",
      "          3.3576e-01, -2.2696e-01,  9.2029e-02,  1.4332e-01,  8.4610e-03,\n",
      "          1.0175e-01,  2.9852e-01,  1.9698e-01,  7.2867e-02,  2.7683e-01],\n",
      "        [ 1.4931e-01,  5.3623e-01,  6.2439e-01, -3.3389e-01, -3.1151e-01,\n",
      "          5.8392e-02,  7.3142e-01,  2.6469e-01, -8.5880e-02, -3.0311e-01,\n",
      "         -9.1092e-01, -6.5939e-01,  1.9449e-01,  9.8482e-01, -2.0672e-01,\n",
      "         -1.6433e-01,  6.8746e-01,  4.5711e-01,  5.3528e-01, -3.3257e-01,\n",
      "          4.4975e-01, -1.8423e-01,  1.1224e-01, -3.9624e-01,  2.8260e-02,\n",
      "          1.5067e-01,  1.9525e-02,  3.9941e-01, -7.8267e-02, -1.2201e-01],\n",
      "        [ 4.5084e-01,  3.8937e-01,  1.8262e-01,  2.4806e-01,  2.2151e-02,\n",
      "          2.3941e-01,  7.2426e-01, -3.6773e-01, -5.3778e-01, -4.0202e-01,\n",
      "         -6.1488e-01, -5.2765e-01, -3.3595e-02,  1.2475e+00, -7.4988e-01,\n",
      "         -6.4579e-01,  3.7082e-01,  3.9275e-01,  1.0584e-01, -9.9877e-02,\n",
      "         -1.3254e-01, -3.0737e-01, -1.4738e-02,  9.9922e-02, -1.4584e-01,\n",
      "         -1.0770e-02,  3.2176e-01,  5.9137e-02,  6.9917e-02,  4.0907e-01],\n",
      "        [ 9.6562e-01,  3.5911e-01,  4.4176e-01, -8.1979e-02,  1.4142e-01,\n",
      "         -3.6944e-01,  6.4060e-02,  3.7225e-01, -1.0873e-01, -4.7056e-01,\n",
      "         -3.6056e-01, -7.7451e-01, -1.4621e-01,  9.7604e-01, -8.7864e-01,\n",
      "         -2.2901e-01,  3.4562e-01,  3.5650e-01,  5.1900e-01, -1.5144e-01,\n",
      "          2.2167e-01, -6.9484e-01, -1.6883e-01,  2.7851e-01, -6.4927e-01,\n",
      "          3.3071e-01,  4.7087e-01,  4.6068e-02,  2.6505e-01,  4.0846e-01]],\n"
     ]
    },
    {
     "name": "stdout",
     "output_type": "stream",
     "text": [
      "       device='cuda:0', requires_grad=True)\n",
      "b_yn: tensor([[-0.4844],\n",
      "        [-0.8146],\n",
      "        [-0.0103],\n",
      "        [-0.3024],\n",
      "        [-0.5148],\n",
      "        [-0.3966],\n",
      "        [-0.1507],\n",
      "        [-0.3514],\n",
      "        [-0.5436],\n",
      "        [-0.3944],\n",
      "        [-0.5189],\n",
      "        [-0.2675],\n",
      "        [ 0.1374],\n",
      "        [-0.0871],\n",
      "        [ 0.3075],\n",
      "        [-0.0359],\n",
      "        [ 0.1243],\n",
      "        [-0.0706],\n",
      "        [ 0.0731],\n",
      "        [ 0.7673],\n",
      "        [ 0.1882],\n",
      "        [ 0.5608],\n",
      "        [ 0.9470],\n",
      "        [ 0.4598],\n",
      "        [ 0.5439],\n",
      "        [ 0.1039],\n",
      "        [ 0.3008],\n",
      "        [-0.0369],\n",
      "        [-0.1164],\n",
      "        [-0.2089],\n",
      "        [-0.1641],\n",
      "        [-0.3728]], device='cuda:0', requires_grad=True)\n"
     ]
    }
   ],
   "source": [
    "print('W_ax:', W_ax)\n",
    "print('W_aa:', W_aa)\n",
    "print('b_a:', b_a)\n",
    "print('W_yd:', W_yd)\n",
    "print('b_yd:', b_yd)\n",
    "print('W_yn:', W_yn)\n",
    "print('b_yn:', b_yn)"
   ]
  },
  {
   "cell_type": "code",
   "execution_count": 161,
   "metadata": {},
   "outputs": [
    {
     "name": "stdout",
     "output_type": "stream",
     "text": [
      "a_prev: tensor([[ 0.5538],\n",
      "        [-0.5083],\n",
      "        [-0.9035],\n",
      "        [-0.5377],\n",
      "        [-0.1570],\n",
      "        [ 0.5965],\n",
      "        [ 0.4733],\n",
      "        [ 0.8225],\n",
      "        [-0.8909],\n",
      "        [-0.5769],\n",
      "        [ 0.8011],\n",
      "        [ 0.1228],\n",
      "        [-0.4856],\n",
      "        [-0.5293],\n",
      "        [ 0.9602],\n",
      "        [-0.4497],\n",
      "        [ 0.7702],\n",
      "        [ 0.6229],\n",
      "        [-0.7977],\n",
      "        [ 0.4057]], device='cuda:0')\n"
     ]
    }
   ],
   "source": [
    "print('a_prev:', a_prev)"
   ]
  },
  {
   "cell_type": "markdown",
   "metadata": {},
   "source": [
    "### 5) Generate Music with Trained Neural Network"
   ]
  },
  {
   "cell_type": "code",
   "execution_count": 253,
   "metadata": {},
   "outputs": [
    {
     "name": "stdout",
     "output_type": "stream",
     "text": [
      "W_ax = tensor([[ 3.5678e-01,  5.0505e-02,  2.1184e-01, -3.3517e-01,  7.1000e-01,\n",
      "         -4.0412e-01, -2.6170e-01, -5.2598e-03, -3.9417e-01,  5.2516e-03,\n",
      "          5.2722e-01, -4.8117e-01, -3.9672e-01, -4.6308e-01,  5.0476e-01,\n",
      "          9.3346e-01, -9.4205e-01, -7.7360e-01, -2.8602e-01, -1.0569e+00,\n",
      "          1.2684e-01,  1.1928e+00, -8.0480e-02, -9.4864e-01, -3.4318e-02,\n",
      "         -3.1011e-01, -3.6058e-01, -1.2642e-01,  4.3303e-01, -1.3959e-01,\n",
      "          5.6106e-01,  2.4229e-02, -3.7595e-01,  2.6638e-01,  5.4115e-01,\n",
      "         -9.3791e-01, -6.3579e-01, -1.5799e-01,  3.1595e-01, -1.6265e-01,\n",
      "          1.0586e-01,  5.0465e-01,  1.5162e-01,  1.4986e-01, -8.4545e-02,\n",
      "         -2.5349e-01,  8.8314e-02],\n",
      "        [ 2.3242e-01,  4.3650e-01,  3.3407e-01,  5.2776e-01,  3.3427e-01,\n",
      "          7.0821e-01,  7.5073e-01,  1.2574e+00,  1.3114e+00,  1.1309e+00,\n",
      "          1.3293e+00,  6.7179e-01, -2.2973e-01, -8.7973e-02, -2.5977e-01,\n",
      "         -6.9562e-01, -1.3301e+00, -1.1681e+00, -3.9543e-01, -9.3591e-01,\n",
      "         -6.7235e-01, -1.4685e+00, -1.1917e+00,  5.4314e-01, -3.3221e-01,\n",
      "         -1.7682e-01, -6.0799e-01, -2.6998e-02,  2.8710e-01,  3.8662e-01,\n",
      "          5.8958e-01, -3.1333e-01,  2.5159e-01,  9.8631e-01, -2.1880e+00,\n",
      "          8.2640e-02,  7.9533e-01,  6.9982e-01,  3.0021e-01, -1.2956e+00,\n",
      "         -2.7253e-01,  1.4700e-01,  5.6485e-01,  2.2485e-01, -1.0823e-01,\n",
      "         -4.6017e-01, -9.1988e-02],\n",
      "        [ 4.7586e-01, -1.0610e-01,  1.8618e-01,  1.2377e-01,  6.1440e-01,\n",
      "         -2.9020e-01,  3.5550e-01,  2.0535e-01,  3.9713e-01,  8.4953e-01,\n",
      "         -8.6354e-01, -8.6134e-01,  4.7519e-01, -6.9508e-01, -3.9095e-01,\n",
      "         -9.7130e-01, -1.0994e+00,  4.1534e-01,  1.0507e-01, -6.7045e-02,\n",
      "         -1.0296e+00, -1.4966e+00, -6.2353e-01, -7.8578e-01, -1.0762e+00,\n",
      "          3.2227e-01,  2.1152e-01,  5.3569e-02,  8.9677e-01,  1.0780e+00,\n",
      "          3.0989e-01, -3.2715e-01, -3.3275e-01, -1.0169e+00,  1.3378e+00,\n",
      "          9.3286e-01,  2.3205e-01, -4.3243e-01, -8.3164e-01, -4.5810e-01,\n",
      "          2.8350e-01, -4.5913e-02, -1.6760e-01, -2.0524e-01,  4.4271e-03,\n",
      "          7.6857e-01, -2.4564e-01],\n",
      "        [ 5.4983e-01,  3.3071e-01,  2.6970e-01,  4.3191e-01,  6.1772e-01,\n",
      "          2.9224e-01, -2.6674e-01,  3.3866e-02,  1.4245e-01,  2.0024e-01,\n",
      "          9.6402e-01, -6.6987e-02,  7.2480e-01,  9.6908e-01, -5.8170e-01,\n",
      "          2.9279e-02, -4.0710e-01, -7.4407e-01, -4.0409e-01, -1.4397e-01,\n",
      "         -7.7483e-01,  3.9372e-02, -3.3011e-01,  1.0003e-02,  8.5408e-01,\n",
      "         -2.9294e-01, -7.7261e-02,  2.9595e-01, -3.0080e-01,  2.7934e-01,\n",
      "         -1.6682e-01, -3.1756e-01,  1.6323e-02, -3.7371e-01,  1.4184e+00,\n",
      "          2.8907e-02, -1.1577e+00,  6.1588e-01, -4.0807e-01,  5.8182e-01,\n",
      "          1.7094e-01,  2.7006e-01, -3.0933e-01, -3.4799e-01, -5.8690e-01,\n",
      "          5.1866e-01,  6.1595e-01],\n",
      "        [ 4.4081e-01, -4.5660e-01,  1.8887e-01,  2.8675e-01, -2.1779e-01,\n",
      "         -1.1562e-01, -4.5490e-01,  2.2594e-01,  5.2469e-01, -6.7568e-01,\n",
      "         -7.7054e-01, -1.7420e+00,  1.0317e+00,  7.2135e-01, -4.6589e-01,\n",
      "         -1.5476e-01, -1.0705e+00,  2.1438e-01,  5.7262e-02,  3.0582e-01,\n",
      "         -1.4484e-01, -4.7258e-01,  6.6741e-01,  4.4105e-01,  9.1734e-01,\n",
      "          7.4107e-01,  8.5473e-01,  3.1771e-01, -6.9381e-02,  4.5288e-02,\n",
      "         -2.4018e-01, -3.3267e-02, -1.2037e-01,  8.0738e-02, -6.1740e-01,\n",
      "         -1.1918e-01,  6.4802e-01, -1.0999e-01, -3.8260e-01, -3.1644e-01,\n",
      "          4.4577e-02,  8.5997e-02, -4.0475e-01, -6.4974e-01,  8.8360e-02,\n",
      "         -1.6442e-01, -8.5582e-03],\n",
      "        [ 2.6101e-01,  4.6868e-01,  6.3049e-01,  3.6742e-01,  5.2019e-01,\n",
      "          2.7989e-01,  3.3257e-01, -1.7797e-01,  6.5581e-01,  3.0679e-02,\n",
      "          5.2178e-01, -6.6503e-02, -3.3447e-01,  1.3254e-01,  1.3418e+00,\n",
      "         -5.1427e-01, -2.2532e-01, -2.7554e-01, -1.6004e+00,  1.6852e-01,\n",
      "         -4.8926e-01, -9.2085e-01, -5.3893e-01, -1.5338e+00, -9.2735e-02,\n",
      "          2.3743e-01,  4.8581e-01,  2.8071e-01, -2.5000e-01,  4.0943e-01,\n",
      "          2.3166e-01,  4.1728e-01, -7.6681e-01,  2.2952e-01,  1.3111e+00,\n",
      "         -7.4054e-01, -8.0910e-01,  1.0424e-01,  2.6155e-01,  4.2075e-01,\n",
      "          4.2471e-01,  4.2068e-01, -1.7877e-01,  1.3043e-01, -9.8108e-02,\n",
      "         -2.5076e-02,  2.0511e-01],\n",
      "        [ 5.1949e-01,  5.7244e-03,  1.7177e-01, -1.9116e-01, -2.3520e-01,\n",
      "          9.7062e-03,  6.8183e-01,  7.3123e-01, -1.8356e-02, -2.0439e-01,\n",
      "          6.0929e-01,  2.4418e-01, -3.4221e-01, -2.4255e-01, -3.8214e-02,\n",
      "         -8.8007e-01, -7.2523e-01,  8.7695e-01, -4.3426e-01, -7.0025e-01,\n",
      "          1.2941e+00,  6.4222e-01, -1.0801e+00, -8.2144e-01,  1.1654e+00,\n",
      "          3.0087e-01, -8.5402e-01,  2.9763e-01,  5.9130e-01, -3.0301e-01,\n",
      "         -4.2224e-01,  6.3284e-01,  1.8058e-01, -1.1799e+00,  1.0262e+00,\n",
      "          2.5264e-01, -2.0830e-01, -5.4581e-01, -5.6983e-01,  3.0707e-02,\n",
      "         -1.9926e-01, -9.2167e-02, -2.5500e-01, -2.9851e-02,  2.2841e-01,\n",
      "          3.1842e-01, -3.9981e-01],\n",
      "        [ 2.1531e-01, -4.4180e-01, -2.3890e-03, -7.0925e-02, -6.2212e-01,\n",
      "         -8.7887e-01, -5.4494e-01,  1.2969e-03,  2.3598e-01, -1.3577e-01,\n",
      "         -3.5008e-01,  7.4583e-02,  4.2644e-01,  3.7674e-01,  9.9831e-01,\n",
      "          1.3465e+00,  3.2782e-01,  5.1073e-01,  1.2924e+00,  1.2709e+00,\n",
      "          1.4887e+00, -4.4452e-01, -5.8043e-02,  5.4022e-01, -2.3793e-01,\n",
      "          1.0401e-01,  1.7032e-01, -3.5305e-01, -4.5903e-01, -8.6015e-01,\n",
      "          4.5378e-02, -6.2610e-01,  4.4468e-01, -7.8530e-01,  4.7998e-01,\n",
      "          3.2009e-01, -4.6746e-01, -5.7308e-02, -2.8117e-01,  2.3305e-01,\n",
      "          1.1986e-01,  2.1538e-01,  8.2760e-01,  5.6756e-01, -3.2366e-01,\n",
      "          7.6492e-01, -4.7766e-01],\n",
      "        [ 2.4712e-03, -1.0522e-01, -2.4581e-01, -2.4028e-01,  3.3461e-01,\n",
      "          1.4649e-01, -8.8306e-02, -3.5657e-01, -5.6728e-01,  7.8711e-02,\n",
      "         -9.0073e-02,  7.8813e-02, -1.1169e-01, -2.5517e-01,  1.4407e-01,\n",
      "         -9.7734e-01, -3.3298e-01, -7.5542e-02, -2.1886e-01,  6.9851e-01,\n",
      "         -6.9207e-01,  9.0795e-02, -9.8199e-02, -1.7558e-01,  3.4284e-01,\n",
      "         -1.3020e-01, -2.5911e-01, -2.1147e-01, -4.1804e-01,  1.7497e-01,\n",
      "         -3.5278e-01, -2.3189e-01, -2.2312e-01,  1.9195e-01, -9.2742e-02,\n",
      "         -7.9322e-01,  2.8551e-01, -9.0714e-02,  4.8967e-01, -1.0031e-01,\n",
      "          9.9845e-02, -2.8390e-01,  1.9819e-01,  1.4885e-01,  1.4968e-01,\n",
      "          2.5553e-01, -3.8030e-01],\n",
      "        [ 1.5367e-01,  1.0798e-01, -3.1409e-01, -1.6490e-01, -5.6071e-01,\n",
      "         -6.0414e-01, -1.6139e-01,  1.9522e-01, -9.0756e-01, -2.8054e-01,\n",
      "          3.7882e-01, -1.3331e+00,  4.2747e-01, -6.7912e-02,  5.4772e-02,\n",
      "          7.0316e-01,  8.4557e-02,  4.1542e-01, -6.3725e-01,  7.1858e-01,\n",
      "         -4.0607e-01, -8.7661e-02, -6.4445e-03, -3.5718e-01,  5.7864e-01,\n",
      "          5.0357e-01,  3.4541e-01,  4.7148e-01,  4.8667e-01,  2.4064e-01,\n",
      "         -1.6062e-01, -5.3004e-01,  3.3932e-01, -5.3750e-02, -9.5788e-02,\n",
      "          1.0523e-01,  1.1770e-01, -4.4031e-01,  5.7839e-03,  6.4100e-02,\n",
      "         -1.5916e-01, -2.7258e-01,  1.8127e-01,  6.7481e-01,  2.2466e-02,\n",
      "         -4.6603e-01, -1.1102e-01],\n",
      "        [-1.9535e-01, -3.8367e-02, -1.8102e-01, -8.7006e-02,  2.4984e-01,\n",
      "          6.6422e-01,  5.7560e-01,  6.4552e-01,  9.7996e-01,  1.2829e+00,\n",
      "          1.0190e+00,  5.8033e-01,  1.1037e+00,  5.0871e-01, -8.1848e-02,\n",
      "          1.2770e+00,  5.5598e-01,  5.0295e-01,  7.0980e-01,  1.2665e+00,\n",
      "          3.4604e-01, -6.9084e-01, -4.4372e-01, -1.0190e+00, -3.7746e-01,\n",
      "         -1.3013e+00, -1.2381e+00, -1.6835e+00, -1.5918e+00, -1.5788e+00,\n",
      "         -1.0965e+00, -1.2521e+00, -7.9575e-01, -2.6173e-01,  8.8018e-01,\n",
      "         -3.1742e-01, -1.5520e-01,  2.6038e-01, -2.0318e-01, -6.0066e-01,\n",
      "         -7.1523e-01,  3.0529e-01,  1.0580e+00,  7.0887e-01,  4.7712e-02,\n",
      "          2.1000e-01,  2.3871e-01],\n",
      "        [ 6.6669e-01, -4.8963e-03,  2.0138e-02,  4.9922e-01,  3.9881e-01,\n",
      "          4.6498e-01,  5.2012e-01,  4.5503e-01,  1.6301e-01, -1.5890e-01,\n",
      "          4.1816e-01, -2.9569e-01, -1.5412e-01,  3.9560e-01,  2.0042e-01,\n",
      "         -6.3679e-01,  1.9631e-01, -7.2595e-01, -2.1575e-01,  1.3827e+00,\n",
      "          1.2562e-01, -7.0180e-01, -8.8470e-01, -1.4645e-02,  1.1307e+00,\n",
      "         -3.8213e-01, -1.3944e-01,  2.6311e-01,  8.5385e-03, -6.4903e-01,\n",
      "         -6.0195e-01, -1.4909e-01,  2.8086e-01, -8.8390e-01,  7.1070e-01,\n",
      "          5.8582e-01,  1.3035e-01, -1.3425e-01,  2.3958e-01,  9.8962e-02,\n",
      "          3.0693e-01, -1.3577e-01, -1.4224e+00,  2.2642e-01,  8.8621e-01,\n",
      "          6.9678e-01, -3.3464e-01],\n",
      "        [ 2.3717e-01,  3.9853e-01,  2.6839e-01,  1.1655e-01, -5.4805e-01,\n",
      "         -1.4190e-01,  9.4501e-01,  4.3311e-01, -2.2752e-01, -1.8444e-02,\n",
      "          4.4614e-01,  1.1626e+00,  1.3096e+00,  7.9312e-02, -8.2710e-01,\n",
      "          8.6473e-01,  1.0212e+00,  1.0891e+00, -8.9187e-01, -6.2644e-01,\n",
      "         -8.5125e-02, -1.4540e+00,  6.8098e-01,  5.6317e-01, -1.0694e+00,\n",
      "         -6.5589e-01, -5.6331e-01,  7.1141e-01,  3.8743e-01,  7.2751e-02,\n",
      "          3.2781e-01,  3.6550e-01, -1.3550e-01,  4.3893e-01, -6.2686e-01,\n",
      "         -1.5040e-01, -6.0943e-02,  5.9846e-01, -2.0000e-01, -2.0570e-01,\n",
      "         -4.5284e-01,  7.6756e-02, -1.0584e-01, -5.2709e-01, -2.9647e-01,\n",
      "          9.1263e-02,  1.7471e-01],\n",
      "        [ 1.2165e-01,  2.5796e-01,  8.2086e-01,  3.9812e-01,  9.4865e-02,\n",
      "          2.0611e-01,  3.5411e-01,  4.5489e-01, -2.9975e-01, -2.7812e-01,\n",
      "          3.7434e-01,  1.3174e-01,  1.4739e-01, -2.8753e-01,  1.2717e-01,\n",
      "         -2.8793e-01, -2.5608e-01, -7.9037e-01, -8.1091e-01, -1.2165e-01,\n",
      "         -1.7431e-01, -3.4117e-01, -2.9944e-01, -7.1274e-01,  3.1811e-01,\n",
      "         -4.2254e-01,  1.7250e-01,  6.3270e-01,  1.3756e-01,  9.3271e-01,\n",
      "          7.6415e-01,  5.7639e-01,  9.0420e-03, -5.6792e-01,  5.1418e-01,\n",
      "         -1.1831e-01,  6.5527e-01,  3.6815e-01, -1.1645e-01, -3.3000e-01,\n",
      "          2.0270e-02,  1.6210e-01,  1.1457e+00,  2.7918e-01,  3.1729e-01,\n",
      "          4.8807e-01, -7.0651e-01],\n",
      "        [-5.0762e-01, -3.6003e-01, -1.1649e-01,  2.0889e-01,  1.4379e-01,\n",
      "         -9.4271e-02, -4.0292e-02, -4.5516e-01,  1.0522e-01, -2.5534e-02,\n",
      "          2.1112e-01,  6.4000e-01,  3.4367e-01,  3.4911e-01,  4.8243e-01,\n",
      "          4.9075e-02, -6.5132e-01, -4.4352e-01,  6.5732e-01,  2.4609e-01,\n",
      "          7.5455e-01, -3.0218e-01, -7.2644e-02,  5.2788e-02,  2.5925e-01,\n",
      "          6.9317e-02,  1.2212e-01,  3.9963e-01,  2.2159e-01,  1.0832e-01,\n",
      "          2.5583e-02, -5.4786e-01, -5.2641e-01,  3.8789e-01,  4.3623e-01,\n",
      "         -6.2283e-04,  1.1109e-01,  2.5109e-01, -2.2813e-01,  8.3224e-02,\n",
      "          3.2978e-01,  1.1177e-01,  7.4841e-01,  7.5387e-01,  1.7592e-01,\n",
      "         -2.7519e-01, -5.8042e-01],\n",
      "        [ 1.0633e-01, -1.6343e-02, -4.4051e-01,  2.4762e-01,  4.0448e-01,\n",
      "          2.4671e-01,  1.0668e-01,  3.4121e-01,  1.9687e-01, -4.9088e-01,\n",
      "          2.4030e-02,  1.0478e+00,  6.2390e-01, -1.2283e+00,  5.0884e-01,\n",
      "          2.5201e-01, -4.7118e-01,  6.9845e-01,  8.1810e-01, -9.3536e-02,\n",
      "         -1.0648e+00, -4.2741e-02,  6.8069e-01,  7.3834e-02, -6.0385e-01,\n",
      "          7.6582e-01, -8.8593e-01, -2.8757e-01, -7.5941e-01, -3.2778e-01,\n",
      "         -3.5169e-01,  1.0030e-01,  5.5938e-01, -7.6314e-01,  6.7642e-01,\n",
      "          4.7199e-01,  3.5130e-01, -6.1355e-01,  6.6046e-02,  4.3563e-01,\n",
      "          1.2255e-01,  1.3071e-02,  3.1516e-01,  1.1512e-01, -1.5097e-01,\n",
      "          1.5444e-02,  1.6967e-03],\n",
      "        [ 3.0136e-01,  2.0221e-01, -2.0357e-03,  4.5741e-02,  8.0137e-01,\n",
      "          5.3977e-01,  1.3164e-01, -9.7063e-01, -9.2239e-01,  3.3231e-01,\n",
      "          2.6179e-01, -7.4073e-01,  9.7931e-02, -1.1270e+00, -9.5705e-01,\n",
      "         -8.9341e-01, -7.2854e-01, -4.3145e-01, -1.2862e+00,  5.7878e-01,\n",
      "          3.7122e-01,  5.9110e-01,  4.2555e-01,  5.2323e-01,  5.4307e-01,\n",
      "         -7.6115e-03,  4.9928e-01,  4.0293e-01,  8.3425e-01,  1.3340e-01,\n",
      "          2.6631e-01,  4.4712e-02, -3.6365e-01,  3.1955e-01, -1.3814e+00,\n",
      "          3.6969e-01, -1.2519e-02,  5.5927e-01, -1.3110e-02, -4.0010e-01,\n",
      "         -1.9072e-01,  4.6863e-01,  3.3524e-01,  1.5465e-01, -7.3977e-02,\n",
      "          2.4992e-01, -1.2826e-01],\n",
      "        [-1.9685e-01,  2.1936e-01, -9.0715e-01, -5.0833e-01, -8.7480e-01,\n",
      "         -1.9083e-01, -5.0907e-02, -9.5345e-01, -6.5159e-01, -9.2023e-01,\n",
      "         -3.7837e-01, -1.8752e-01, -1.3983e+00, -5.1760e-01, -1.1802e+00,\n",
      "         -7.6747e-01,  3.3719e-01,  5.3910e-01,  6.5424e-01,  6.1218e-01,\n",
      "          6.3716e-01, -6.1923e-02,  1.7282e+00,  8.7089e-01,  1.1072e+00,\n",
      "          9.4804e-01,  3.3600e-01,  7.1773e-01,  5.4537e-01,  5.0662e-02,\n",
      "          1.2831e-01,  5.8644e-02, -2.5052e-01, -2.2837e-01,  8.8895e-01,\n",
      "         -3.4137e-01,  2.8800e-01, -6.9230e-01,  2.9488e-02,  8.1070e-01,\n",
      "          5.2410e-01,  1.9589e-02,  6.0113e-01,  7.5269e-01, -4.4325e-01,\n",
      "         -1.1339e-01,  4.0795e-01],\n",
      "        [-1.3287e-01,  8.9283e-01,  3.3177e-01,  8.3392e-01,  6.0056e-01,\n",
      "          9.4531e-01,  3.4422e-01, -1.6734e-01,  1.8497e-01, -7.5621e-01,\n",
      "          8.2616e-02, -5.1551e-01, -1.2996e+00, -5.5151e-01, -1.4213e-01,\n",
      "          8.1961e-01, -4.2034e-01, -6.2784e-01, -2.1663e-02, -5.0256e-01,\n",
      "         -3.2965e-01, -2.6495e-01,  7.2991e-01, -1.1627e+00, -4.5983e-01,\n",
      "          4.8375e-01, -3.3604e-01, -1.1538e-01,  8.6652e-01,  2.0437e-01,\n",
      "          3.6407e-01, -3.0365e-02, -3.4281e-01, -7.0819e-02,  1.6075e-01,\n",
      "         -2.0987e-01, -9.1781e-02,  1.1417e-01, -2.0016e-01,  1.3257e-01,\n",
      "         -3.4543e-01, -9.2651e-03, -5.8400e-01, -6.9017e-01,  4.4013e-01,\n",
      "          3.3722e-01,  3.3817e-01],\n",
      "        [-3.6811e-01, -4.3102e-01, -5.6555e-01,  5.0706e-02,  5.3273e-01,\n",
      "         -2.6168e-01, -5.6131e-02, -4.6302e-01, -4.8148e-01, -1.8441e-01,\n",
      "          5.5208e-01, -1.8904e-01, -3.2594e-01,  1.5097e+00,  1.1436e+00,\n",
      "         -2.6648e-01, -2.2532e-01,  1.3558e+00,  7.7778e-01, -5.8230e-01,\n",
      "         -2.5039e-01,  3.8782e-02, -6.1010e-02, -9.4351e-01,  3.5871e-02,\n",
      "          1.6868e-01, -1.0687e+00,  8.3577e-01,  1.5150e-01,  1.9059e-01,\n",
      "         -9.8962e-02, -3.9719e-01,  5.4229e-01,  4.4991e-01, -2.1327e+00,\n",
      "          1.5341e-01,  1.7494e-01,  2.4414e-01, -1.0291e-01, -7.3381e-01,\n",
      "         -3.3795e-01, -3.1346e-01,  6.8117e-01,  3.8739e-01,  1.9122e-01,\n",
      "          9.1981e-02, -6.0433e-01]], device='cuda:0', requires_grad=True),  W_aa = tensor([[ 4.7667e-01, -2.3390e-01,  3.2553e-01, -4.4052e-01,  1.5817e-02,\n",
      "          1.4922e-01, -3.4300e-01, -2.2280e-01,  2.9707e-01, -5.8785e-01,\n",
      "         -1.8989e-01,  1.9536e-01,  2.8435e-01, -1.4131e-02, -1.5057e-01,\n",
      "         -2.2640e-01,  1.6678e-02,  2.3203e-01, -6.3972e-01, -8.7498e-02],\n",
      "        [ 6.0579e-02,  9.1735e-02, -2.3811e-03, -1.7232e-01, -9.8309e-03,\n",
      "         -8.3640e-02, -2.3107e-01,  1.6745e-01,  9.5609e-03,  2.1744e-01,\n",
      "         -1.1508e-01,  1.0547e-01, -1.3391e-02,  2.4123e-01, -4.4025e-01,\n",
      "         -1.0035e-01, -1.4175e-01,  3.7242e-02,  1.4714e-01,  1.5323e-01],\n",
      "        [ 4.6403e-02, -8.5320e-02, -8.6061e-02,  8.8071e-02,  1.6403e-02,\n",
      "         -1.2863e-01,  1.2276e-02, -8.5962e-02,  2.2108e-01,  3.8084e-02,\n",
      "         -3.9012e-01,  2.4019e-01,  1.2588e-01,  3.4352e-02,  2.0750e-01,\n",
      "          7.6197e-02, -3.5280e-01, -2.6773e-02, -1.6428e-01, -1.2474e-01],\n",
      "        [-2.1815e-01, -7.7466e-02,  1.5329e-01, -1.3952e-01,  5.5839e-02,\n",
      "         -8.8782e-02,  2.6714e-01, -6.2079e-02,  4.1986e-02, -2.0139e-02,\n",
      "         -9.4925e-02,  5.8022e-02,  1.1040e-01, -1.0067e-01,  1.6017e-01,\n",
      "          4.5722e-02, -4.2789e-02, -3.2410e-02,  8.1905e-02, -1.3623e-01],\n",
      "        [ 1.9736e-01,  1.9796e-01,  1.3392e-01, -2.9794e-02,  9.2414e-02,\n",
      "         -1.3745e-01,  1.1682e-02, -7.0800e-03,  2.3058e-01, -1.9339e-01,\n",
      "         -4.4454e-02,  1.7679e-01, -2.5184e-01,  1.3777e-01, -4.0497e-01,\n",
      "         -1.7353e-01,  2.2122e-02,  3.9870e-02, -4.8013e-01,  3.1247e-02],\n",
      "        [ 2.1872e-01, -1.1224e-01,  1.6130e-01,  2.9824e-02,  4.2790e-02,\n",
      "          6.3710e-02, -1.3616e-01, -7.6052e-02, -3.0893e-01, -1.3889e-01,\n",
      "         -2.7113e-02,  2.1167e-01,  5.8760e-02, -8.2952e-02,  2.8627e-01,\n",
      "         -6.6044e-02, -1.7738e-02, -6.1921e-02,  4.4269e-02,  1.3541e-01],\n",
      "        [ 2.0543e-01, -1.4375e-01,  2.3515e-02,  1.0153e-02,  6.6392e-02,\n",
      "          2.6567e-01, -8.4061e-02, -5.0082e-02,  3.9199e-01,  1.5664e-01,\n",
      "          9.9549e-02, -6.3367e-02,  1.0233e-01, -3.2196e-01,  2.0096e-01,\n",
      "          7.6221e-02,  1.9133e-01, -1.2031e-02, -1.7175e-01, -3.2576e-01],\n",
      "        [ 3.3509e-02, -1.3628e-01, -6.1241e-03, -1.2158e-01,  2.4316e-01,\n",
      "         -1.8215e-01,  5.4978e-02, -7.7913e-02,  1.3238e-01, -8.5260e-03,\n",
      "         -1.1126e-02,  8.2301e-03, -9.6532e-02,  2.3073e-01,  1.1035e-01,\n",
      "         -7.5572e-02,  2.5746e-02, -6.3331e-02,  1.4332e-01, -5.4246e-02],\n",
      "        [ 4.8659e-02, -5.6526e-02, -6.6807e-02,  5.5012e-02,  1.0554e-01,\n",
      "          4.2066e-02,  1.4126e-01,  6.9821e-02,  9.5760e-01,  3.9241e-01,\n",
      "          6.6279e-02, -3.9519e-03,  1.6447e-01,  1.0132e-01, -2.4887e-01,\n",
      "          1.2690e-02, -3.6975e-02, -6.3169e-02, -6.8403e-02, -2.6649e-01],\n",
      "        [-2.3492e-02, -1.0797e-01, -4.1193e-03, -1.2113e-01,  3.0648e-04,\n",
      "          1.7951e-01,  1.5956e-02,  5.5454e-02,  1.3463e-01,  2.8361e-01,\n",
      "          1.1254e-01, -2.0132e-01,  6.3957e-02, -9.5429e-02,  2.5962e-01,\n",
      "          1.5917e-01,  2.4446e-01, -1.4409e-01,  3.2104e-01,  1.7712e-01],\n",
      "        [ 1.2663e-01,  9.9076e-02, -7.2991e-02,  1.0735e-01,  8.5731e-02,\n",
      "          3.1277e-02, -2.9792e-03,  8.8149e-03, -2.1361e-01,  4.3414e-02,\n",
      "         -4.6707e-03, -3.5711e-02,  8.7674e-02,  1.3178e-01, -7.9706e-02,\n",
      "          1.0257e-01, -1.1750e-01,  2.4370e-02,  4.4117e-02, -3.2456e-03],\n",
      "        [ 8.0637e-02, -8.7273e-02,  2.5231e-01, -1.8062e-01, -2.3757e-01,\n",
      "         -1.0853e-01, -2.8330e-01, -3.3854e-01, -1.3714e-01, -3.9803e-02,\n",
      "          1.6307e-01,  2.0306e-01,  6.0066e-02, -4.3995e-01, -8.3532e-02,\n",
      "          1.3835e-01, -9.2616e-02, -3.0909e-01, -1.3003e-01,  5.5267e-02],\n",
      "        [ 8.8250e-02,  3.4685e-02,  1.7616e-01, -2.5532e-01,  1.7522e-01,\n",
      "          3.0187e-02, -9.9015e-02,  1.6768e-02,  3.2795e-01,  9.3709e-02,\n",
      "          1.0802e-01, -1.1126e-02, -2.0229e-01,  2.1560e-01, -6.3913e-01,\n",
      "          5.6937e-02, -1.2112e-01, -8.1681e-02,  5.3000e-02,  1.5546e-01],\n",
      "        [ 2.1961e-02,  1.0394e-02,  1.6995e-01, -4.5394e-01,  1.2623e-01,\n",
      "         -3.5615e-01, -1.5493e-01,  1.3363e-01, -1.7050e-01,  2.3652e-01,\n",
      "         -3.5482e-01,  9.5226e-02, -1.4032e-01,  3.6718e-01, -2.1733e-01,\n",
      "          5.8995e-02,  8.1701e-02,  3.5060e-02, -1.3696e-01,  1.3351e-01],\n",
      "        [-8.3236e-02,  2.0368e-01, -1.1698e-01,  4.0486e-01,  1.3475e-01,\n",
      "         -2.1701e-01,  1.8478e-01,  1.1625e-01, -1.3932e-01,  5.0568e-02,\n",
      "         -3.6954e-03,  1.0235e-01,  2.0328e-01, -3.3999e-01,  2.5895e-01,\n",
      "          1.8993e-01,  8.6109e-02,  4.2471e-01,  3.1977e-02, -1.8862e-02],\n",
      "        [-3.8033e-01,  1.1357e-01, -1.1654e-01,  1.1313e-01,  2.5958e-01,\n",
      "          2.3608e-01,  2.9941e-01,  1.7943e-01, -3.7819e-01,  1.8660e-01,\n",
      "          4.9479e-02, -2.6010e-01, -1.3156e-02, -1.8016e-01,  6.6860e-02,\n",
      "         -1.6057e-02,  1.3498e-01, -8.8787e-03, -1.2689e-01, -1.2524e-02],\n",
      "        [-2.3121e-01, -5.0049e-02,  5.5300e-02,  9.0144e-02,  2.8193e-02,\n",
      "          2.4623e-03, -4.0229e-02, -2.3748e-01, -5.1581e-01,  1.9075e-01,\n",
      "         -6.7290e-02, -4.6912e-02, -3.0817e-02,  1.2704e-01, -2.2289e-01,\n",
      "          9.1922e-02,  4.3641e-02,  1.9489e-01,  3.5820e-01,  1.8409e-01],\n",
      "        [ 1.0799e-01, -7.8631e-02, -2.0004e-01,  7.8194e-02,  1.1919e-01,\n",
      "          7.1551e-02, -5.3606e-02,  5.5463e-03, -3.9674e-02, -2.8219e-01,\n",
      "         -2.6166e-01, -1.7427e-01,  1.2584e-01,  6.2077e-02,  1.9356e-01,\n",
      "         -1.0449e-02, -2.9432e-01,  7.8240e-03, -1.2641e-02, -4.0957e-03],\n",
      "        [-2.0029e-01, -6.1202e-02, -2.0570e-01,  2.2063e-01, -2.9497e-02,\n",
      "          1.3839e-03,  1.6216e-01,  1.4310e-01,  2.1524e-01,  4.4976e-01,\n",
      "         -1.8065e-01,  6.8506e-02,  3.1926e-01, -7.2778e-02,  3.0342e-01,\n",
      "          6.0969e-02,  3.6055e-02, -8.1897e-02,  3.1208e-01,  7.4978e-02],\n",
      "        [-7.1339e-02,  1.5374e-01,  1.0423e-01, -1.6449e-01,  9.5578e-02,\n",
      "         -3.5948e-01, -1.5344e-01, -4.5001e-02, -2.6936e-01, -2.5708e-01,\n",
      "          5.4213e-02,  2.2350e-01,  5.0041e-03,  3.0964e-01, -2.1775e-01,\n",
      "          1.1867e-02, -1.4280e-01,  1.1547e-01, -1.3924e-01,  3.1506e-03]],\n",
      "       device='cuda:0', requires_grad=True), b_a = tensor([[-0.1342],\n",
      "        [-0.0318],\n",
      "        [ 0.6514],\n",
      "        [ 0.4102],\n",
      "        [ 0.2559],\n",
      "        [ 0.2255],\n",
      "        [-0.2135],\n",
      "        [ 0.3255],\n",
      "        [ 0.4299],\n",
      "        [ 0.3337],\n",
      "        [ 0.3413],\n",
      "        [-0.3612],\n",
      "        [ 0.0104],\n",
      "        [ 0.1698],\n",
      "        [ 0.2864],\n",
      "        [ 0.3055],\n",
      "        [-0.2513],\n",
      "        [ 0.5389],\n",
      "        [-0.2370],\n",
      "        [ 0.1612]], device='cuda:0', requires_grad=True), W_yd = tensor([[-1.3748, -0.3059,  0.7298, -0.2042, -0.4418, -1.5985,  0.6839,  0.2321,\n",
      "         -0.0062,  1.2237, -0.4919,  0.3141, -0.7165,  0.6080, -0.2358,  1.3781,\n",
      "          0.0343, -0.3559, -0.4021,  0.2729],\n",
      "        [ 0.5312,  0.4179, -0.8592, -1.1102,  0.6113,  0.6929, -0.5197, -1.3926,\n",
      "          1.0080,  0.9617,  1.0217, -0.7015, -0.0352, -1.0199,  1.7404, -0.0092,\n",
      "         -0.3332,  0.7621, -0.9128, -0.3584],\n",
      "        [ 0.7074, -0.2971, -0.4094,  1.0864,  0.0670,  1.1369, -0.0731,  0.5061,\n",
      "          0.6062, -0.2243,  0.4216, -0.2657,  0.1616, -1.6452,  0.2732,  0.4413,\n",
      "          0.0272,  0.9478, -0.5594, -0.2569],\n",
      "        [-0.2037,  0.3988, -0.2861,  0.1109, -0.2444, -0.5148,  0.2997, -0.3807,\n",
      "         -0.0441, -0.5698, -0.3149,  0.4506,  0.2955,  0.3445,  0.0477, -0.6753,\n",
      "          0.3856, -0.4575,  0.4040,  0.1655],\n",
      "        [-0.4333, -0.0444,  0.2572,  0.2270,  0.2695,  0.0301, -0.3752,  0.3183,\n",
      "          0.2996, -0.0135,  0.3727, -0.1660, -0.1054,  0.2029, -0.0103, -0.3705,\n",
      "          0.2471, -0.0418,  0.0209,  0.6489],\n",
      "        [-0.1878,  0.1324,  0.1165,  0.2764,  0.2893, -0.2387, -0.0476, -0.2443,\n",
      "         -0.0402, -0.3739,  0.2056, -0.0473, -0.1111,  0.2966, -0.1641,  0.1228,\n",
      "         -0.2298, -0.1542, -0.0761,  0.0611],\n",
      "        [-0.0811, -0.3859,  0.1654, -0.0168, -0.0872,  0.0824, -0.2803, -0.1023,\n",
      "          0.1801, -0.3585, -0.0196,  0.1983,  0.1192,  0.1029,  0.0674, -0.4768,\n",
      "          0.1171,  0.0791,  0.4385,  0.0719],\n",
      "        [ 0.2320,  0.1079,  0.1077,  0.0947, -0.0680,  0.1650,  0.0736, -0.2021,\n",
      "          0.1404, -0.5317,  0.2792,  0.1669, -0.0030, -0.2642,  0.0231, -0.2832,\n",
      "          0.0851, -0.1495,  0.0689, -0.5030],\n",
      "        [-0.0163,  0.1089, -0.0052, -0.5034,  0.0231, -0.3483, -0.0219, -0.4397,\n",
      "         -0.1236, -0.4399, -0.3126,  0.2599, -0.0327,  0.5338, -0.4635, -0.2384,\n",
      "         -0.3122, -0.2542,  0.2286,  0.3798],\n",
      "        [ 0.3395, -0.1839, -0.0112, -0.1842,  0.4718,  0.2164,  0.2806, -0.4717,\n",
      "         -0.6093, -0.7403,  0.1161, -0.0109, -0.2362,  0.1144, -0.4602,  0.0560,\n",
      "         -0.0420, -0.1809,  0.2798,  0.2922]], device='cuda:0',\n",
      "       requires_grad=True), W_yn = tensor([[-2.9146e-01,  4.4937e-01,  7.0258e-01,  7.3444e-01, -1.3331e-01,\n",
      "         -1.7024e-02, -1.1739e-01, -3.3367e-01,  1.7036e-01, -6.5571e-01,\n",
      "          4.9862e-01,  2.3989e-01,  6.5538e-01,  5.4564e-01, -4.5816e-01,\n",
      "          5.9810e-02, -8.4521e-02, -3.8358e-01,  5.1193e-01, -2.6570e-01,\n",
      "         -1.9323e-01, -7.3330e-01, -2.2135e-01,  1.4315e-01,  1.5464e-01,\n",
      "          3.7776e-01,  2.0816e-02, -2.6647e-01,  4.8587e-01,  1.6294e-01],\n",
      "        [-3.4753e-01, -1.6746e-02,  5.8079e-01,  5.2131e-01, -1.0547e-01,\n",
      "          6.4947e-01, -3.1074e-01, -2.6035e-01, -9.0801e-01, -3.9893e-01,\n",
      "          3.5486e-01,  7.7025e-01,  6.0096e-01,  7.7118e-01, -1.6862e-01,\n",
      "         -5.9548e-01,  6.6038e-01, -1.1921e+00,  2.2204e-01, -1.4138e-01,\n",
      "          1.6166e-01, -4.9228e-01, -1.2992e-01,  2.0618e-01,  2.8664e-01,\n",
      "          2.2671e-01, -4.3816e-01,  2.7327e-01, -1.8688e-01,  2.2823e-02],\n",
      "        [ 4.1119e-01,  4.2859e-01,  4.7808e-01,  7.1395e-01,  2.6017e-01,\n",
      "          5.5941e-01, -6.2007e-02, -1.9286e-01,  1.0135e-01, -7.0030e-01,\n",
      "         -1.1707e-02,  7.7500e-01,  1.1518e-01,  2.2961e-01, -3.8060e-01,\n",
      "         -8.1290e-02,  9.6283e-02, -7.3866e-01,  9.5065e-01,  5.0424e-01,\n",
      "         -2.4850e-02, -6.1039e-01, -2.0386e-01,  2.1842e-01,  2.3314e-01,\n",
      "          2.9665e-01,  3.4712e-01, -3.5889e-01, -3.5977e-01, -1.9812e-01],\n",
      "        [-6.2657e-02,  6.8261e-01,  3.3426e-01,  5.9374e-01, -6.7501e-01,\n",
      "         -8.8445e-02, -3.1086e-02, -6.7134e-01, -2.9577e-01, -6.8572e-01,\n",
      "          4.7062e-01,  5.4782e-01, -3.4700e-01,  4.7643e-02, -3.4947e-01,\n",
      "          3.3774e-01,  2.8569e-01, -1.1506e+00,  1.6295e+00, -5.7980e-01,\n",
      "         -3.8121e-01, -4.2870e-01,  4.0710e-02, -2.7103e-01,  7.6272e-03,\n",
      "          1.5184e-01,  2.2007e-01,  1.7654e-02, -2.1850e-01, -4.4308e-01],\n",
      "        [ 1.9464e-01,  3.9455e-01,  8.3713e-01, -1.0192e-03,  9.4104e-04,\n",
      "          8.2283e-01,  1.5490e-01, -1.6247e+00, -3.0994e-01, -1.4283e+00,\n",
      "          6.8741e-01,  9.8021e-01,  9.6865e-01, -6.1784e-02, -6.0810e-01,\n",
      "         -9.4840e-02,  5.1587e-01,  2.9574e-01,  4.6554e-01, -4.8041e-01,\n",
      "          3.1446e-01,  1.4380e-01,  1.5691e-01, -4.3313e-01,  2.3562e-01,\n",
      "          4.6302e-01, -4.1459e-01,  3.4277e-01, -6.5858e-02, -5.9575e-02],\n",
      "        [-3.6483e-01,  1.0731e+00,  5.4676e-01,  1.0584e-01,  2.4373e-01,\n",
      "          1.5421e-01,  1.0793e+00, -8.0241e-01,  2.3209e-01,  4.9201e-01,\n",
      "          5.7584e-01,  4.0418e-01,  6.6444e-01, -2.1170e-01, -6.0369e-01,\n",
      "          4.2163e-01, -6.0980e-01, -7.9198e-01,  5.6561e-01, -2.6340e-01,\n",
      "         -2.9932e-01,  7.5536e-02, -1.1949e-02,  3.7267e-01,  1.4368e-01,\n",
      "          7.2295e-03, -2.0443e-01, -5.8451e-01, -8.0032e-02, -1.1841e-01],\n",
      "        [-4.2695e-01,  1.1875e+00,  5.5392e-01, -1.1634e-01,  4.0991e-01,\n",
      "          6.1979e-01,  4.0977e-01, -5.6731e-01, -9.7310e-01, -4.6646e-01,\n",
      "          4.8134e-01,  5.5318e-01, -1.6713e-01, -3.1522e-02, -2.1386e-01,\n",
      "          5.1760e-02, -1.8645e-01, -7.1195e-01, -3.5033e-01, -3.3862e-01,\n",
      "         -5.5010e-02, -1.1264e-01, -2.9623e-01,  2.8326e-01, -2.3205e-01,\n",
      "         -7.7493e-02,  1.3464e-01,  1.6044e-01,  1.8398e-01, -3.9298e-01],\n",
      "        [ 1.3925e-01,  1.0207e+00,  9.4475e-01,  3.7753e-01, -7.7410e-02,\n",
      "          1.6704e-01, -1.3717e-01, -6.4905e-01,  6.3784e-01, -3.2828e-01,\n",
      "          1.2043e+00, -2.7817e-01, -5.4273e-01, -4.5116e-01, -6.3543e-02,\n",
      "         -3.0622e-01, -5.0546e-01, -4.0622e-01,  3.3950e-01, -2.6992e-02,\n",
      "          3.2909e-03,  7.4215e-02, -5.9225e-02, -4.8028e-01,  3.3873e-01,\n",
      "          1.3178e-01, -2.2249e-01,  6.6380e-03,  2.0354e-01, -3.2160e-01],\n",
      "        [ 2.7948e-01,  1.2364e+00,  8.4419e-01,  1.3114e-01, -1.4930e+00,\n",
      "          1.6165e-02,  2.8126e-01, -6.9020e-01, -5.6897e-01,  5.9006e-01,\n",
      "          1.1692e+00,  1.7012e-01,  1.8074e-01, -7.4248e-01, -1.2307e-01,\n",
      "          5.4132e-01,  1.8163e-02, -7.4098e-01,  9.6539e-02,  2.2102e-01,\n",
      "          1.3316e-01, -2.4311e-01, -2.4044e-01, -1.2608e-01,  6.9624e-01,\n",
      "         -3.3862e-01, -3.1154e-02,  4.7257e-01,  1.6346e-01,  4.1362e-01],\n",
      "        [ 6.0326e-02,  1.3915e+00, -6.6541e-01,  2.4904e-01,  1.0265e-01,\n",
      "          5.1493e-01,  6.3665e-01, -2.8522e-01, -1.5012e-01, -4.3932e-01,\n",
      "          1.3551e+00,  4.5580e-01,  8.6743e-01, -1.7390e-01,  1.1011e-01,\n",
      "          1.7690e-01, -1.0761e+00,  2.1156e-01,  5.8737e-02, -1.9996e-01,\n",
      "          2.9948e-01, -2.0886e-01, -4.9039e-01,  8.3115e-02,  5.0262e-01,\n",
      "          9.3437e-02, -8.9536e-02,  5.6887e-01,  1.3512e-01, -1.3659e-01],\n",
      "        [-1.1203e+00,  6.5092e-01,  4.7139e-01, -9.1890e-02, -6.8749e-01,\n",
      "          4.8887e-01, -5.2421e-01,  3.4655e-02,  2.6574e-01,  2.1689e-01,\n",
      "          6.1075e-01, -2.3065e-01,  6.4178e-02, -6.4638e-01,  1.2229e-01,\n",
      "          6.8442e-01, -8.4133e-01, -1.1735e+00, -5.4273e-01, -3.3216e-01,\n",
      "         -6.2667e-02, -2.3723e-01, -2.8450e-01, -3.0496e-01, -3.8921e-01,\n",
      "          3.8347e-01,  3.3925e-01,  5.7943e-01, -2.0674e-01,  3.6282e-01],\n",
      "        [ 4.4422e-01,  6.2010e-01,  5.7209e-01,  5.6721e-01,  1.9369e-03,\n",
      "          3.7730e-01, -5.9206e-01, -3.2825e-01, -7.2933e-01,  6.4423e-01,\n",
      "          1.2877e+00, -4.9749e-02,  1.0356e-01, -5.7077e-01, -4.3089e-01,\n",
      "         -2.1893e-01, -8.0541e-01, -7.6352e-01, -1.0240e+00,  6.1067e-02,\n",
      "          5.7188e-02,  1.0889e-02, -3.4649e-01,  1.1318e-02, -3.9391e-01,\n",
      "         -2.1688e-01, -1.1505e-01,  1.3604e-01,  3.7741e-01,  6.2240e-03],\n",
      "        [-3.0502e-01,  5.8528e-01, -9.3605e-01,  2.2461e-01, -1.1916e+00,\n",
      "          2.3712e-01,  3.8090e-01,  3.0441e-01,  7.0916e-01, -2.2777e-02,\n",
      "          5.0988e-01,  3.8530e-02, -1.8006e-01, -4.7969e-01,  2.3168e-02,\n",
      "         -3.0890e-01, -1.2201e+00, -6.6647e-01, -3.6652e-01,  3.9148e-01,\n",
      "          4.9252e-01, -8.4414e-02, -5.9831e-01,  1.7701e-01, -3.7752e-01,\n",
      "          1.1003e-01,  1.4464e-01,  1.7015e-01, -4.7917e-01, -2.8740e-01],\n",
      "        [ 3.5530e-01, -4.2120e-01, -2.0760e-01, -4.4642e-01, -8.0862e-01,\n",
      "         -2.0259e-02, -6.6622e-01,  9.4469e-02, -6.1223e-01,  7.1166e-02,\n",
      "          7.7496e-01, -1.3813e-01,  9.3831e-02, -4.0729e-01,  2.8484e-02,\n",
      "          8.1325e-01,  1.1462e-01, -1.0398e+00, -5.9598e-01, -6.9408e-02,\n",
      "         -1.7849e-01,  4.9811e-01, -1.3402e-01, -1.8393e-01,  2.7424e-01,\n",
      "          3.2685e-01,  2.5994e-01, -2.6173e-01,  3.0941e-01,  3.7496e-01],\n",
      "        [ 2.8055e-01, -7.5197e-01, -5.1734e-01,  8.2330e-01, -1.4190e-01,\n",
      "         -1.1315e+00, -6.0531e-01, -6.9662e-01,  4.2648e-01,  3.8602e-01,\n",
      "          1.1589e+00, -1.2937e-01,  9.8126e-01, -4.0992e-01,  5.5882e-01,\n",
      "         -3.7501e-01, -1.1496e+00,  9.5602e-02, -4.5437e-01,  1.2413e-01,\n",
      "          6.6219e-01,  3.4070e-01, -1.9772e-01,  1.7238e-01, -4.4784e-01,\n",
      "          2.1023e-01,  2.7819e-01, -3.9833e-01, -5.0222e-01, -2.1256e-01],\n",
      "        [-1.4623e+00, -1.1372e+00, -6.8286e-01, -2.8922e-01, -3.8041e-01,\n",
      "          3.2806e-01,  1.5870e-01,  3.6359e-01,  1.8690e-01,  3.6150e-01,\n",
      "         -1.4905e-01,  9.1531e-02,  2.9589e-02, -4.9108e-01,  8.1016e-01,\n",
      "          4.9447e-01, -6.1714e-01, -5.6075e-01, -6.9370e-01,  1.2307e+00,\n",
      "         -7.4910e-02,  1.3648e-01, -2.2152e-01,  5.4758e-01, -3.1017e-01,\n",
      "         -3.3123e-01, -9.8759e-02, -1.2844e-01,  7.5045e-02,  1.3870e-01],\n",
      "        [ 6.1858e-01, -6.8486e-01, -3.8168e-01, -7.5084e-01,  9.8271e-01,\n",
      "         -3.2722e-01,  2.6702e-01,  1.1334e+00, -1.0863e-01,  3.3687e-01,\n",
      "          5.8379e-01,  2.8465e-02, -1.4973e-01, -9.6142e-01,  2.1197e-01,\n",
      "          3.8600e-01, -3.8428e-01, -3.0836e-01, -4.3572e-01,  1.0669e+00,\n",
      "         -1.7372e-01,  2.1138e-01, -2.3274e-01, -2.3386e-01, -4.1337e-02,\n",
      "         -9.5594e-02, -6.7269e-01, -5.8931e-01,  3.3015e-02, -3.3454e-02],\n",
      "        [-3.5033e-01, -1.1087e+00, -1.3928e+00, -3.6391e-01, -2.1257e-01,\n",
      "         -7.7899e-01, -9.9497e-01,  9.2570e-01,  6.9139e-01,  1.0611e-01,\n",
      "          1.2713e+00, -2.2684e-01, -1.2028e+00, -5.1323e-01, -6.0779e-01,\n",
      "         -3.7435e-01, -7.7775e-01, -4.3922e-01, -2.2502e-01, -7.9353e-01,\n",
      "          7.6242e-01,  3.8098e-01,  3.3832e-02, -3.1076e-01, -1.1109e-01,\n",
      "         -2.6986e-01, -4.8318e-01, -1.9584e-01,  3.2615e-01, -3.1134e-01],\n",
      "        [ 2.0252e-01, -1.7171e+00, -6.0633e-01, -1.2647e+00,  4.8929e-01,\n",
      "          5.3273e-01, -8.1265e-02,  5.2902e-01, -6.2968e-01,  6.9674e-01,\n",
      "          6.8230e-01, -9.5964e-02, -2.1323e-01, -1.3352e-01, -4.4427e-01,\n",
      "         -4.6166e-01,  4.4845e-01,  3.4695e-01, -3.7366e-01,  1.7101e-01,\n",
      "         -1.0535e-01,  4.0621e-01,  2.0976e-02,  3.2021e-01, -1.9513e-01,\n",
      "          3.4939e-01, -3.3007e-01, -1.3440e-01, -1.5435e-01,  4.5104e-01],\n",
      "        [ 4.3955e-01, -6.9873e-01, -2.1321e-01, -6.0837e-01, -5.2148e-01,\n",
      "         -1.3338e+00,  6.0365e-01,  4.5050e-01,  6.0037e-01,  1.1285e-01,\n",
      "          7.1442e-02, -5.5082e-01,  4.5832e-02, -6.7086e-01,  4.3770e-01,\n",
      "         -5.1530e-01, -2.2525e-01,  9.0922e-01,  4.8759e-01,  5.6598e-01,\n",
      "          6.4711e-01,  3.7000e-01, -9.0983e-02, -2.8337e-01,  5.3620e-02,\n",
      "          3.8933e-01, -5.6619e-02, -3.6949e-01, -1.4416e-01,  1.5297e-01],\n",
      "        [-2.0349e-01, -1.3960e+00, -4.7910e-01, -6.9009e-02, -3.3708e-02,\n",
      "         -9.3224e-01, -9.6069e-01, -3.8453e-02,  1.7067e-01,  1.1011e-01,\n",
      "          2.1908e-01,  3.8324e-01, -5.8456e-01, -6.6824e-01,  5.5166e-01,\n",
      "          1.2120e+00,  7.9961e-01,  6.3218e-01, -1.1791e-01,  3.4476e-01,\n",
      "         -9.6707e-02,  4.7049e-01, -4.1063e-02,  5.2529e-01, -1.3788e-02,\n",
      "          2.5249e-01, -1.2051e-01, -1.4982e-01, -1.1949e-01, -3.8825e-01],\n",
      "        [ 3.6504e-02, -6.1649e-01, -9.3275e-01, -7.5307e-01,  9.0847e-01,\n",
      "         -4.8179e-01, -3.3474e-02,  5.5584e-01,  3.1195e-01, -5.0423e-01,\n",
      "          1.9788e-02,  6.0950e-01,  4.2143e-01, -1.3980e-01,  8.5939e-01,\n",
      "          2.1826e-01,  3.5984e-01,  1.5384e+00, -3.0429e-01, -2.0535e-01,\n",
      "          1.6043e-01,  3.7137e-02, -5.6713e-01,  5.1679e-01,  1.7049e-01,\n",
      "          1.6441e-01, -3.3146e-02,  3.1512e-01,  2.8877e-01, -2.4431e-01],\n",
      "        [-4.7138e-01, -1.4794e-01, -9.1177e-01,  1.1172e-01,  2.3670e-01,\n",
      "         -6.7808e-01,  9.8193e-01,  9.1031e-01,  9.0003e-03,  7.1410e-01,\n",
      "         -7.5174e-01, -3.0054e-01, -9.6183e-01, -3.1454e-01, -2.1167e-01,\n",
      "         -1.1906e-01,  6.0155e-01, -1.1942e-01, -1.2686e-01, -4.1779e-01,\n",
      "         -5.4650e-01,  5.8891e-01,  9.2933e-02,  2.0650e-01,  2.4301e-01,\n",
      "          2.2400e-01, -5.0093e-02,  1.9591e-01, -8.2145e-02,  3.2299e-01],\n",
      "        [ 4.7213e-01, -9.5400e-01, -9.0572e-01, -5.4548e-02,  1.0862e+00,\n",
      "          5.5770e-01,  5.3383e-02,  4.7916e-02, -2.9131e-01,  1.3834e-01,\n",
      "         -6.7695e-01, -2.1644e-01, -9.8790e-01,  1.7882e-01, -6.2922e-01,\n",
      "          2.4131e-01,  8.7974e-02,  1.2668e+00, -1.5212e-01,  6.0560e-01,\n",
      "          2.9348e-01,  4.3193e-01, -6.3518e-02, -6.8710e-02,  1.8275e-02,\n",
      "          3.6629e-01,  3.8656e-01,  3.2844e-02, -4.6862e-01, -2.0392e-02],\n",
      "        [ 1.2090e-01, -4.3802e-02,  9.6119e-02, -1.4826e-01,  5.5049e-02,\n",
      "         -2.7805e-01, -7.7691e-01,  7.4238e-01,  5.0382e-01, -4.2043e-02,\n",
      "         -1.5213e+00, -4.3211e-01, -3.0645e-01, -2.8097e-01,  2.1875e-01,\n",
      "          1.6548e-01, -3.8954e-01,  9.5384e-01,  3.3167e-01, -7.9912e-01,\n",
      "          3.5548e-02,  3.5869e-01, -1.5594e-01, -3.6510e-01, -1.3102e-01,\n",
      "         -1.9223e-01,  6.8812e-02,  1.7690e-01,  6.6085e-02,  3.0174e-01],\n",
      "        [ 8.9250e-02, -1.8154e-01, -6.0095e-01,  5.1993e-01, -1.4089e-01,\n",
      "         -1.8810e-02, -3.8878e-01, -4.0307e-01, -8.9692e-01,  2.3891e-01,\n",
      "         -9.5740e-01,  1.5343e-01, -2.1571e-01,  6.8982e-01,  6.2646e-01,\n",
      "         -5.8562e-01,  8.7856e-01,  1.2439e+00,  9.1971e-02, -8.4411e-01,\n",
      "         -2.2382e-01,  7.2807e-02,  1.7634e-01,  2.2290e-01, -1.8166e-01,\n",
      "         -2.1235e-01, -1.3409e-03,  5.9843e-01, -1.2592e-01,  9.7461e-02],\n",
      "        [ 5.6430e-01,  4.3319e-01,  9.0240e-02,  4.1744e-01,  2.4420e-01,\n",
      "         -2.9210e-02,  7.5150e-01,  2.8079e-02,  4.0678e-01, -4.7555e-02,\n",
      "         -1.5648e+00, -7.8186e-02,  1.8198e-01,  2.4624e-01,  2.7101e-01,\n",
      "          1.8316e-01,  2.6381e-01,  1.7566e+00,  2.2633e-01,  7.0030e-01,\n",
      "         -1.1240e-01,  1.1762e-01,  3.2229e-02, -8.6629e-02,  1.7348e-01,\n",
      "         -4.7058e-03,  9.8997e-02, -9.2220e-02,  6.6876e-02, -3.1317e-01],\n",
      "        [-4.8221e-01,  2.3998e-01,  1.0039e+00,  3.3110e-01,  8.0285e-02,\n",
      "          2.0231e-01, -1.0730e-01, -1.1908e-01, -3.6991e-01,  9.1237e-02,\n",
      "         -1.2731e+00, -1.2632e+00, -5.8928e-01,  1.1690e-01,  1.4574e-01,\n",
      "         -1.0076e-01,  3.0241e-01,  4.3899e-01,  4.5690e-01, -3.2210e-01,\n",
      "         -2.2165e-01, -2.7788e-02,  7.4176e-02, -4.2941e-01, -1.8049e-01,\n",
      "         -1.8974e-02,  2.6199e-01,  2.8607e-01, -4.3261e-01,  4.5279e-01],\n",
      "        [ 2.6972e-01,  2.7524e-01,  4.5215e-01,  1.8994e-01,  3.3554e-01,\n",
      "          6.8671e-01, -5.2776e-01, -1.4769e-01, -3.2348e-01, -4.4625e-01,\n",
      "         -1.0821e+00, -7.1333e-01, -3.1311e-01,  1.1108e+00, -1.5352e-01,\n",
      "         -1.7820e-01,  1.9703e-01,  5.4972e-01, -4.8069e-03, -3.3626e-01,\n",
      "          3.3687e-01, -2.2340e-01,  9.7947e-02,  1.4341e-01,  1.1099e-02,\n",
      "          1.0175e-01,  2.9868e-01,  1.9704e-01,  7.2867e-02,  2.7683e-01],\n",
      "        [ 1.4908e-01,  5.3372e-01,  6.1952e-01, -3.3648e-01, -3.1671e-01,\n",
      "          6.1101e-02,  7.3408e-01,  2.6653e-01, -8.7738e-02, -3.0107e-01,\n",
      "         -9.0455e-01, -6.5891e-01,  1.8869e-01,  9.8233e-01, -2.0098e-01,\n",
      "         -1.6032e-01,  6.8473e-01,  4.6131e-01,  5.3322e-01, -3.3441e-01,\n",
      "          4.5024e-01, -1.8021e-01,  1.1325e-01, -3.9620e-01,  2.9133e-02,\n",
      "          1.5067e-01,  1.9583e-02,  3.9944e-01, -7.8267e-02, -1.2201e-01],\n",
      "        [ 4.5438e-01,  3.8976e-01,  1.8291e-01,  2.4914e-01,  2.4006e-02,\n",
      "          2.4225e-01,  7.2411e-01, -3.6888e-01, -5.3444e-01, -3.9956e-01,\n",
      "         -6.1423e-01, -5.2563e-01, -3.4235e-02,  1.2459e+00, -7.4729e-01,\n",
      "         -6.4373e-01,  3.6861e-01,  3.9508e-01,  1.0381e-01, -9.9880e-02,\n",
      "         -1.3239e-01, -3.0143e-01, -1.5915e-02,  1.0001e-01, -1.4537e-01,\n",
      "         -1.0770e-02,  3.2184e-01,  5.9184e-02,  6.9917e-02,  4.0907e-01],\n",
      "        [ 9.6652e-01,  3.5975e-01,  4.4044e-01, -8.2468e-02,  1.4178e-01,\n",
      "         -3.6772e-01,  6.1574e-02,  3.7488e-01, -1.0718e-01, -4.6784e-01,\n",
      "         -3.5834e-01, -7.7805e-01, -1.4726e-01,  9.7664e-01, -8.7448e-01,\n",
      "         -2.2891e-01,  3.4591e-01,  3.5960e-01,  5.1780e-01, -1.5004e-01,\n",
      "          2.2190e-01, -6.8978e-01, -1.6733e-01,  2.7865e-01, -6.4900e-01,\n",
      "          3.3071e-01,  4.7101e-01,  4.6085e-02,  2.6505e-01,  4.0846e-01]],\n",
      "       device='cuda:0', requires_grad=True), b_yn = tensor([[-0.4862],\n",
      "        [-0.8185],\n",
      "        [-0.0046],\n",
      "        [-0.3101],\n",
      "        [-0.5201],\n",
      "        [-0.4096],\n",
      "        [-0.1608],\n",
      "        [-0.3355],\n",
      "        [-0.5534],\n",
      "        [-0.3882],\n",
      "        [-0.5202],\n",
      "        [-0.2460],\n",
      "        [ 0.1234],\n",
      "        [-0.1516],\n",
      "        [ 0.3400],\n",
      "        [-0.0198],\n",
      "        [ 0.0942],\n",
      "        [-0.0514],\n",
      "        [ 0.0999],\n",
      "        [ 0.7650],\n",
      "        [ 0.1963],\n",
      "        [ 0.5057],\n",
      "        [ 0.8902],\n",
      "        [ 0.4791],\n",
      "        [ 0.5720],\n",
      "        [ 0.1075],\n",
      "        [ 0.3239],\n",
      "        [-0.0203],\n",
      "        [-0.1029],\n",
      "        [-0.2024],\n",
      "        [-0.1584],\n",
      "        [-0.3655]], device='cuda:0', requires_grad=True)\n"
     ]
    }
   ],
   "source": [
    "W_ax, W_aa, b_a, W_yd, b_yd, W_yn, b_yn = torch.load('parameters_trained.pt')\n",
    "print(f'W_ax = {W_ax},  W_aa = { W_aa}, b_a = {b_a}, W_yd = {W_yd}, W_yn = {W_yn}, b_yn = {b_yn}')"
   ]
  },
  {
   "cell_type": "code",
   "execution_count": 254,
   "metadata": {},
   "outputs": [],
   "source": [
    "W_ax = W_ax.detach()\n",
    "W_aa = W_aa.detach()\n",
    "b_a = b_a.detach()\n",
    "W_yd = W_yd.detach()\n",
    "b_yd = b_yd.detach()\n",
    "W_yn = W_yn.detach()\n",
    "b_yn = b_yn.detach()"
   ]
  },
  {
   "cell_type": "code",
   "execution_count": 255,
   "metadata": {},
   "outputs": [
    {
     "data": {
      "text/plain": [
       "array([ 1,  2,  4,  5,  6,  8, 10, 12, 14, 20], dtype=int64)"
      ]
     },
     "execution_count": 255,
     "metadata": {},
     "output_type": "execute_result"
    }
   ],
   "source": [
    "dur_list"
   ]
  },
  {
   "cell_type": "code",
   "execution_count": 256,
   "metadata": {},
   "outputs": [],
   "source": [
    "# Start with some note\n",
    "notee = 43\n",
    "dur = 2     # 32th note\n",
    "onset = 0  # 32th note"
   ]
  },
  {
   "cell_type": "code",
   "execution_count": 257,
   "metadata": {},
   "outputs": [],
   "source": [
    "# Start with some note\n",
    "notee = 64\n",
    "dur = 4     # 32th note\n",
    "onset = 24  # 32th note"
   ]
  },
  {
   "cell_type": "code",
   "execution_count": 258,
   "metadata": {},
   "outputs": [
    {
     "data": {
      "text/plain": [
       "tensor([[0.],\n",
       "        [0.],\n",
       "        [0.],\n",
       "        [0.],\n",
       "        [0.],\n",
       "        [0.],\n",
       "        [0.],\n",
       "        [0.],\n",
       "        [0.],\n",
       "        [0.],\n",
       "        [0.],\n",
       "        [0.],\n",
       "        [0.],\n",
       "        [0.],\n",
       "        [0.],\n",
       "        [0.],\n",
       "        [0.],\n",
       "        [0.],\n",
       "        [0.],\n",
       "        [0.],\n",
       "        [0.],\n",
       "        [0.],\n",
       "        [0.],\n",
       "        [0.],\n",
       "        [0.],\n",
       "        [0.],\n",
       "        [0.],\n",
       "        [0.],\n",
       "        [1.],\n",
       "        [0.],\n",
       "        [0.],\n",
       "        [0.]], device='cuda:0')"
      ]
     },
     "execution_count": 258,
     "metadata": {},
     "output_type": "execute_result"
    }
   ],
   "source": [
    "note_hot = torch.zeros([32,1], device = dev)\n",
    "note_hot[notee - 36,:] = 1\n",
    "note_hot"
   ]
  },
  {
   "cell_type": "code",
   "execution_count": 259,
   "metadata": {},
   "outputs": [
    {
     "data": {
      "text/plain": [
       "tensor([[0.],\n",
       "        [0.],\n",
       "        [1.],\n",
       "        [0.],\n",
       "        [0.],\n",
       "        [0.],\n",
       "        [0.],\n",
       "        [0.],\n",
       "        [0.],\n",
       "        [0.]], device='cuda:0')"
      ]
     },
     "execution_count": 259,
     "metadata": {},
     "output_type": "execute_result"
    }
   ],
   "source": [
    "dur_hot = torch.zeros([10,1], device = dev)\n",
    "dur_index = np.where(dur_list == dur)[0][0]\n",
    "dur_hot[dur_index,:] = 1\n",
    "dur_hot"
   ]
  },
  {
   "cell_type": "code",
   "execution_count": 260,
   "metadata": {},
   "outputs": [],
   "source": [
    "def str_level(onset, measure_quarterLength, beat_quarterLength):\n",
    "    onset = onset/8  # quarter length\n",
    "    \n",
    "    if onset%measure_quarterLength == 0:\n",
    "        level = 0\n",
    "    elif onset%beat_quarterLength == 0:\n",
    "        level = 1\n",
    "    else:\n",
    "        le = beat_quarterLength\n",
    "        for j in range(2,5):\n",
    "            le = le/2\n",
    "            if onset%le == 0:\n",
    "                level = j\n",
    "                break\n",
    "    return level"
   ]
  },
  {
   "cell_type": "code",
   "execution_count": 261,
   "metadata": {},
   "outputs": [
    {
     "data": {
      "text/plain": [
       "1"
      ]
     },
     "execution_count": 261,
     "metadata": {},
     "output_type": "execute_result"
    }
   ],
   "source": [
    "level = str_level(onset, 4, 1)\n",
    "level"
   ]
  },
  {
   "cell_type": "code",
   "execution_count": 262,
   "metadata": {},
   "outputs": [
    {
     "data": {
      "text/plain": [
       "tensor([[0.],\n",
       "        [1.],\n",
       "        [0.],\n",
       "        [0.],\n",
       "        [0.]], device='cuda:0')"
      ]
     },
     "execution_count": 262,
     "metadata": {},
     "output_type": "execute_result"
    }
   ],
   "source": [
    "lev_hot = torch.zeros([5,1], device = dev)\n",
    "lev_hot[level,:] = 1\n",
    "lev_hot"
   ]
  },
  {
   "cell_type": "code",
   "execution_count": 263,
   "metadata": {},
   "outputs": [],
   "source": [
    "def forward_step_duration(x_n, x_d, x_l, a_prev, W_ax, W_aa, b_a, W_yd, b_yd, dur_list,dev):\n",
    "    \"\"\"\n",
    "    One step prediction in Figure 1\n",
    "    \n",
    "    Arguments:\n",
    "    x_n -- note input one-hot torch tensor of shape (32,1)\n",
    "    x_d -- duration input one-hot torch tensor of shape (10,1)\n",
    "    x_l -- structure level input one-hot torch tensor of shape (5,1)\n",
    "    a_prev -- previous memory a, torch tensor of shape (20,1)\n",
    "    Parameters -- W_ax: torch.Size([20, 47])\n",
    "                W_aa: torch.Size([20, 20])\n",
    "                b_a: torch.Size([20, 1])\n",
    "                W_yd: torch.Size([10, 20])\n",
    "                b_yd: torch.Size([10, 1])\n",
    "    dur_list -- list of duarations, numpy array of shape (10,)\n",
    "    dev -- PyTorch device\n",
    "                \n",
    "    \n",
    "    Returns:\n",
    "    a_next -- next memory a, torch tensor of shape (20,1)\n",
    "    y_d -- duration distribution torch tensor of shape (10,1)\n",
    "    z_d -- sampled duration one-hot torch tensor of shape (10,1)\n",
    "    dur -- sampled duration value, an integer\n",
    "    \"\"\"\n",
    "    x = torch.cat((x_n, x_d, x_l),0)\n",
    "    x = x.type(torch.float32)\n",
    "    a_next = torch.tanh(torch.matmul(W_ax,x) + torch.matmul(W_aa,a_prev) + b_a)\n",
    "    y_d = softmax(torch.matmul(W_yd,a_next) + b_yd)\n",
    "\n",
    "    dur_index = np.random.choice(len(y_d), 1, p=y_d.to(\"cpu\").numpy().reshape(-1,))[0]\n",
    "    z_d = torch.zeros([10,1], device = dev)\n",
    "    z_d[dur_index,:] = 1\n",
    "    dur = dur_list[dur_index]\n",
    "    \n",
    "    return a_next, y_d, z_d, dur"
   ]
  },
  {
   "cell_type": "code",
   "execution_count": 264,
   "metadata": {},
   "outputs": [],
   "source": [
    "def forward_step_note(z_d, a_next, W_yn, b_yn, dev):\n",
    "    \"\"\"\n",
    "    One step prediction in Figure 1\n",
    "    \n",
    "    Arguments:\n",
    "    z_d -- sampled duration one-hot torch tensor of shape (10,1)\n",
    "    a_next -- updated memory a, torch tensor of shape (20,1)\n",
    "    Parameters -- W_yn: torch.Size([32, 30])\n",
    "                b_yn: torch.Size([32, 1])\n",
    "    dev -- PyTorch device\n",
    "    \n",
    "    Returns:\n",
    "    y_n -- note distribution torch tensor of shape (32,1)\n",
    "    z_n -- sampled note one-hot torch tensor of shape (32,1)\n",
    "    note -- sampled note value, an integer within [36,67]\n",
    "    \"\"\"\n",
    "    \n",
    "    a_aug = torch.cat((a_next, z_d),0)\n",
    "    y_n = softmax(torch.matmul(W_yn,a_aug) + b_yn)\n",
    "    \n",
    "    note_index = np.random.choice(len(y_n), 1, p=y_n.to(\"cpu\").numpy().reshape(-1,))[0]\n",
    "    z_n = torch.zeros([32,1], device = dev)\n",
    "    z_n[note_index,:] = 1\n",
    "    note = note_index + 36\n",
    "        \n",
    "    return y_n, z_n, note"
   ]
  },
  {
   "cell_type": "code",
   "execution_count": 265,
   "metadata": {
    "scrolled": true
   },
   "outputs": [
    {
     "name": "stdout",
     "output_type": "stream",
     "text": [
      "y_d: tensor([[0.0718],\n",
      "        [0.2050],\n",
      "        [0.6221],\n",
      "        [0.0013],\n",
      "        [0.0312],\n",
      "        [0.0089],\n",
      "        [0.0285],\n",
      "        [0.0278],\n",
      "        [0.0013],\n",
      "        [0.0020]], device='cuda:0')\n",
      "z_d: tensor([[0.],\n",
      "        [0.],\n",
      "        [1.],\n",
      "        [0.],\n",
      "        [0.],\n",
      "        [0.],\n",
      "        [0.],\n",
      "        [0.],\n",
      "        [0.],\n",
      "        [0.]], device='cuda:0')\n",
      "dur_test: 4\n",
      "note_test: 60\n"
     ]
    }
   ],
   "source": [
    "a = torch.zeros([20,1], device = dev)\n",
    "[a_next, y_d, z_d, dur_test] = forward_step_duration(note_hot, dur_hot, lev_hot, a, W_ax, W_aa, b_a, W_yd, b_yd, dur_list,dev)\n",
    "[y_n, z_n, note_test] = forward_step_note(z_d, a_next, W_yn, b_yn, dev)\n",
    "print(\"y_d:\", y_d)\n",
    "print(\"z_d:\", z_d)\n",
    "print(\"dur_test:\", dur_test)\n",
    "#print(\"\\n\")\n",
    "#print(\"y_n:\", y_n)\n",
    "#print(\"z_n:\", z_n)\n",
    "print(\"note_test:\",note_test)"
   ]
  },
  {
   "cell_type": "code",
   "execution_count": 266,
   "metadata": {},
   "outputs": [],
   "source": [
    "a0 = torch.zeros([20,1], device = dev)\n",
    "Gen = pd.DataFrame(columns=['Note','Duration_32th','Structure_level'])"
   ]
  },
  {
   "cell_type": "code",
   "execution_count": 267,
   "metadata": {},
   "outputs": [],
   "source": [
    "def generate(Gen, note, dur, onset, a_prev, W_ax, W_aa, b_a, W_yd, b_yd, W_yn, b_yn, length, dur_list, dev):\n",
    "    x_n = torch.zeros([32,1], device = dev)\n",
    "    x_n[notee - 36,:] = 1\n",
    "    x_d = torch.zeros([10,1], device = dev)\n",
    "    dur_index = np.where(dur_list == dur)[0][0]\n",
    "    x_d[dur_index,:] = 1\n",
    "    level = str_level(onset, 4, 1)\n",
    "    x_l = torch.zeros([5,1], device = dev)\n",
    "    x_l[level,:] = 1\n",
    "    \n",
    "    Gen = Gen.append({\n",
    "                'Note': note,\n",
    "                'Duration_32th':dur,\n",
    "               'Structure_level': level},ignore_index=True)\n",
    "    \n",
    "    for i in range(length):\n",
    "        [a_next, y_d, z_d, dur] = forward_step_duration(x_n, x_d, x_l, a_prev, W_ax, W_aa, b_a, W_yd, b_yd, dur_list,dev)\n",
    "        [y_n, z_n, note] = forward_step_note(z_d, a_next, W_yn, b_yn, dev)\n",
    "        \n",
    "        onset = onset + dur\n",
    "        level = str_level(onset, 4, 1)\n",
    "        lev_hot = torch.zeros([5,1], device = dev)\n",
    "        lev_hot[level,:] = 1\n",
    "        \n",
    "        Gen = Gen.append({\n",
    "                        'Note': note,\n",
    "                        'Duration_32th':dur,\n",
    "                       'Structure_level': level},ignore_index=True)\n",
    "        x_d = z_d\n",
    "        x_n = z_n\n",
    "        x_l = lev_hot\n",
    "        a_prev = a_next\n",
    "        \n",
    "    Gen = Gen.astype({\n",
    "                    'Note': np.int64,\n",
    "                    'Duration_32th': np.int64,\n",
    "                    'Structure_level': np.int64\n",
    "                })   \n",
    "    return Gen"
   ]
  },
  {
   "cell_type": "code",
   "execution_count": 268,
   "metadata": {},
   "outputs": [
    {
     "data": {
      "text/html": [
       "<div>\n",
       "<style scoped>\n",
       "    .dataframe tbody tr th:only-of-type {\n",
       "        vertical-align: middle;\n",
       "    }\n",
       "\n",
       "    .dataframe tbody tr th {\n",
       "        vertical-align: top;\n",
       "    }\n",
       "\n",
       "    .dataframe thead th {\n",
       "        text-align: right;\n",
       "    }\n",
       "</style>\n",
       "<table border=\"1\" class=\"dataframe\">\n",
       "  <thead>\n",
       "    <tr style=\"text-align: right;\">\n",
       "      <th></th>\n",
       "      <th>Note</th>\n",
       "      <th>Duration_32th</th>\n",
       "      <th>Structure_level</th>\n",
       "    </tr>\n",
       "  </thead>\n",
       "  <tbody>\n",
       "    <tr>\n",
       "      <th>0</th>\n",
       "      <td>64</td>\n",
       "      <td>4</td>\n",
       "      <td>1</td>\n",
       "    </tr>\n",
       "    <tr>\n",
       "      <th>1</th>\n",
       "      <td>67</td>\n",
       "      <td>4</td>\n",
       "      <td>2</td>\n",
       "    </tr>\n",
       "    <tr>\n",
       "      <th>2</th>\n",
       "      <td>62</td>\n",
       "      <td>8</td>\n",
       "      <td>2</td>\n",
       "    </tr>\n",
       "    <tr>\n",
       "      <th>3</th>\n",
       "      <td>64</td>\n",
       "      <td>5</td>\n",
       "      <td>4</td>\n",
       "    </tr>\n",
       "    <tr>\n",
       "      <th>4</th>\n",
       "      <td>62</td>\n",
       "      <td>1</td>\n",
       "      <td>3</td>\n",
       "    </tr>\n",
       "    <tr>\n",
       "      <th>...</th>\n",
       "      <td>...</td>\n",
       "      <td>...</td>\n",
       "      <td>...</td>\n",
       "    </tr>\n",
       "    <tr>\n",
       "      <th>96</th>\n",
       "      <td>61</td>\n",
       "      <td>4</td>\n",
       "      <td>4</td>\n",
       "    </tr>\n",
       "    <tr>\n",
       "      <th>97</th>\n",
       "      <td>58</td>\n",
       "      <td>4</td>\n",
       "      <td>4</td>\n",
       "    </tr>\n",
       "    <tr>\n",
       "      <th>98</th>\n",
       "      <td>63</td>\n",
       "      <td>4</td>\n",
       "      <td>4</td>\n",
       "    </tr>\n",
       "    <tr>\n",
       "      <th>99</th>\n",
       "      <td>53</td>\n",
       "      <td>2</td>\n",
       "      <td>4</td>\n",
       "    </tr>\n",
       "    <tr>\n",
       "      <th>100</th>\n",
       "      <td>56</td>\n",
       "      <td>2</td>\n",
       "      <td>4</td>\n",
       "    </tr>\n",
       "  </tbody>\n",
       "</table>\n",
       "<p>101 rows × 3 columns</p>\n",
       "</div>"
      ],
      "text/plain": [
       "     Note  Duration_32th  Structure_level\n",
       "0      64              4                1\n",
       "1      67              4                2\n",
       "2      62              8                2\n",
       "3      64              5                4\n",
       "4      62              1                3\n",
       "..    ...            ...              ...\n",
       "96     61              4                4\n",
       "97     58              4                4\n",
       "98     63              4                4\n",
       "99     53              2                4\n",
       "100    56              2                4\n",
       "\n",
       "[101 rows x 3 columns]"
      ]
     },
     "execution_count": 268,
     "metadata": {},
     "output_type": "execute_result"
    }
   ],
   "source": [
    "length = 100\n",
    "Gen = generate(Gen, notee, dur, onset, a0, W_ax, W_aa, b_a, W_yd, b_yd, W_yn, b_yn, length, dur_list, dev)\n",
    "Gen"
   ]
  },
  {
   "cell_type": "code",
   "execution_count": 269,
   "metadata": {},
   "outputs": [],
   "source": [
    "from music21 import *"
   ]
  },
  {
   "cell_type": "code",
   "execution_count": 270,
   "metadata": {},
   "outputs": [
    {
     "data": {
      "image/png": "[encoded data removed]",
      "text/plain": [
       "<IPython.core.display.Image object>"
      ]
     },
     "metadata": {
      "image/png": {
       "height": 467,
       "width": 708
      }
     },
     "output_type": "display_data"
    }
   ],
   "source": [
    "strm = stream.Stream()\n",
    "mm = tempo.MetronomeMark(number=80)  # BPM = 80\n",
    "strm.append(mm)  # tempo\n",
    "strm.append(instrument.Violoncello())  # instrument\n",
    "strm.append(meter.TimeSignature('4/4')) # time signature\n",
    "n = note.Rest()\n",
    "n.duration.quarterLength = onset/8\n",
    "strm.append(n)\n",
    "for i in range(len(Gen)):\n",
    "    n = note.Note()\n",
    "    n.pitch.midi = Gen['Note'][i]\n",
    "    n.duration.quarterLength = Gen['Duration_32th'][i]/8\n",
    "    strm.append(n)\n",
    "strm.show()"
   ]
  },
  {
   "cell_type": "code",
   "execution_count": 271,
   "metadata": {},
   "outputs": [],
   "source": [
    "strm.show('mid')"
   ]
  },
  {
   "cell_type": "markdown",
   "metadata": {},
   "source": [
    "We can also write it to a MIDI file. The MIDI file is unified under parameters below:\n",
    "- PPQ: 480\n",
    "- BPM: 80 (Tempo: 750000)\n",
    "- Time signature: 4/4\n",
    "- Instrument: cello (Program_c: 42)"
   ]
  },
  {
   "cell_type": "code",
   "execution_count": 111,
   "metadata": {},
   "outputs": [
    {
     "data": {
      "text/plain": [
       "60"
      ]
     },
     "execution_count": 111,
     "metadata": {},
     "output_type": "execute_result"
    }
   ],
   "source": [
    "PPQ = 480\n",
    "PP32 = int(PPQ/8)\n",
    "PP32"
   ]
  },
  {
   "cell_type": "code",
   "execution_count": 112,
   "metadata": {},
   "outputs": [
    {
     "data": {
      "text/plain": [
       "240"
      ]
     },
     "execution_count": 112,
     "metadata": {},
     "output_type": "execute_result"
    }
   ],
   "source": [
    "time = int(onset * PP32)\n",
    "time"
   ]
  },
  {
   "cell_type": "code",
   "execution_count": 265,
   "metadata": {},
   "outputs": [],
   "source": [
    "generated_csv = open(\"midi.csv\", 'w')\n",
    "generated_csv.write(\"0,0,Header,0,1,480\\n\")\n",
    "generated_csv.write(\"1,0,Start_track\\n\")\n",
    "generated_csv.write(\"1,0,Tempo,750000\\n\")\n",
    "generated_csv.write(\"1,0,Time_signature,4,2,24,8\\n\")\n",
    "generated_csv.write(\"1,0,Program_c, 0, 42\\n\")\n",
    "\n",
    "for i in range(len(Gen)):\n",
    "    note = Gen['Note'][i]\n",
    "    level = Gen['Structure_level'][i]\n",
    "    if level == 0:\n",
    "        velocity = np.random.randint(100,115)\n",
    "    elif level == 1:\n",
    "        velocity = np.random.randint(90,105)\n",
    "    elif level == 2:\n",
    "        velocity = np.random.randint(80,95)\n",
    "    else:\n",
    "        velocity = np.random.randint(75-5*(level-3),85-5*(level-3))\n",
    "        \n",
    "    generated_csv.write(\"1,\"+str(time)+\",Note_on_c,0,\"+str(note)+\",\"+str(velocity)+\"\\n\")\n",
    "    time += int(Gen['Duration_32th'][i]*PP32)\n",
    "    generated_csv.write(\"1,\"+str(time)+\",Note_on_c,0,\"+str(note)+\",0\\n\")\n",
    "\n",
    "end_time = time + PPQ\n",
    "generated_csv.write(\"1,\" + str(end_time) +\", End_track\\n\")\n",
    "generated_csv.write(\"0, 0, End_of_file\")\n",
    "generated_csv.close()"
   ]
  },
  {
   "cell_type": "code",
   "execution_count": 266,
   "metadata": {},
   "outputs": [],
   "source": [
    "# Parse the CSV output of the previous command back into a MIDI file\n",
    "midi_object = pm.csv_to_midi(\"midi.csv\")\n",
    "\n",
    "# Save the parsed MIDI file to disk\n",
    "with open(\"C://Users/79244/Desktop/generated.mid\", \"wb\") as output_file:\n",
    "    midi_writer = pm.FileWriter(output_file)\n",
    "    midi_writer.write(midi_object)"
   ]
  },
  {
   "cell_type": "markdown",
   "metadata": {},
   "source": [
    "### 6) Comments\n",
    "\n",
    "The music generation task is overly simplified in our case. The real musical phenomenon is far more complex than concatenating single notes. Take a look at the following file,"
   ]
  },
  {
   "cell_type": "code",
   "execution_count": 114,
   "metadata": {},
   "outputs": [
    {
     "data": {
      "image/png": "[encoded data removed]",
      "text/plain": [
       "<IPython.core.display.Image object>"
      ]
     },
     "metadata": {
      "image/png": {
       "height": 912,
       "width": 708
      }
     },
     "output_type": "display_data"
    }
   ],
   "source": [
    "s = converter.parse(\"Music\\cs5-5polyphony.mid\")\n",
    "s.show()"
   ]
  },
  {
   "cell_type": "code",
   "execution_count": 115,
   "metadata": {},
   "outputs": [],
   "source": [
    "s.show('mid')"
   ]
  },
  {
   "cell_type": "markdown",
   "metadata": {},
   "source": [
    "The building blocks for music are chords rather than notes, and the interplay between different parts, the emotional convey and expressivity of music, the acoustic scene the sounds created are far way beyond what we have covered. To generate such complicated music, we need more advanced design of the systems and a better way of data processing. Do you have any inspirations or ideas? We are looking forward to reading your project and discussing your practices!"
   ]
  },
  {
   "cell_type": "code",
   "execution_count": null,
   "metadata": {},
   "outputs": [],
   "source": []
  }
 ],
 "metadata": {
  "kernelspec": {
   "display_name": "Python 3",
   "language": "python",
   "name": "python3"
  },
  "language_info": {
   "codemirror_mode": {
    "name": "ipython",
    "version": 3
   },
   "file_extension": ".py",
   "mimetype": "text/x-python",
   "name": "python",
   "nbconvert_exporter": "python",
   "pygments_lexer": "ipython3",
   "version": "3.7.6"
  }
 },
 "nbformat": 4,
 "nbformat_minor": 4
}
